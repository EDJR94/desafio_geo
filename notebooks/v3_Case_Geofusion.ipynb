{
 "cells": [
  {
   "cell_type": "markdown",
   "id": "b1fa8908",
   "metadata": {},
   "source": [
    "# 0.0 IMPORTS"
   ]
  },
  {
   "cell_type": "code",
   "execution_count": 167,
   "id": "bd5ab082",
   "metadata": {
    "ExecuteTime": {
     "end_time": "2023-07-05T17:14:38.211688Z",
     "start_time": "2023-07-05T17:14:38.199101Z"
    }
   },
   "outputs": [],
   "source": [
    "import pandas                  as pd\n",
    "import numpy                   as np\n",
    "import seaborn                 as sns\n",
    "import matplotlib.pyplot       as plt\n",
    "import sklearn.preprocessing   as pp\n",
    "\n",
    "import umap.umap_              as umap\n",
    "\n",
    "import sklearn.metrics         as mt\n",
    "import sklearn.model_selection as ms \n",
    "\n",
    "from sklearn.impute        import SimpleImputer\n",
    "from sklearn.linear_model  import LinearRegression, LogisticRegression\n",
    "from sklearn.svm           import SVR, SVC\n",
    "from sklearn.neighbors     import KNeighborsRegressor\n",
    "from sklearn.tree          import DecisionTreeRegressor\n",
    "from sklearn.ensemble      import RandomForestRegressor, RandomForestClassifier\n",
    "from sklearn.neighbors     import KNeighborsClassifier\n",
    "from sklearn.mixture       import GaussianMixture\n",
    "from sklearn.decomposition import PCA\n",
    "from sklearn.manifold      import TSNE\n",
    "\n",
    "from scipy.cluster         import hierarchy as hc\n",
    "\n",
    "from xgboost               import XGBRegressor, XGBClassifier\n",
    "from lightgbm              import LGBMRegressor, LGBMClassifier\n",
    "from catboost              import CatBoostRegressor, CatBoostClassifier\n",
    "from sklearn.cluster       import KMeans\n",
    "from yellowbrick.cluster   import SilhouetteVisualizer\n",
    "\n",
    "import inflection\n",
    "import skopt\n",
    "import warnings\n",
    "\n",
    "warnings.filterwarnings('ignore')"
   ]
  },
  {
   "cell_type": "markdown",
   "id": "69748940",
   "metadata": {},
   "source": [
    "## 0.1 Loading Data"
   ]
  },
  {
   "cell_type": "code",
   "execution_count": 2,
   "id": "73883394",
   "metadata": {
    "ExecuteTime": {
     "end_time": "2023-07-05T15:21:53.059601Z",
     "start_time": "2023-07-05T15:21:53.046419Z"
    }
   },
   "outputs": [],
   "source": [
    "path = 'C://Users/edils/repos/desafio_geo/data/'\n",
    "df_raw = pd.read_csv(path + 'X_train.csv', encoding='ISO-8859-1', sep=';')"
   ]
  },
  {
   "cell_type": "code",
   "execution_count": 4,
   "id": "af38af3b",
   "metadata": {
    "ExecuteTime": {
     "end_time": "2023-07-05T15:21:53.137431Z",
     "start_time": "2023-07-05T15:21:53.123263Z"
    }
   },
   "outputs": [],
   "source": [
    "df_train = df_raw.loc[df_raw['cidade'] == 'Rio de Janeiro']"
   ]
  },
  {
   "cell_type": "code",
   "execution_count": 5,
   "id": "c2cfe2c6",
   "metadata": {
    "ExecuteTime": {
     "end_time": "2023-07-05T15:21:53.153390Z",
     "start_time": "2023-07-05T15:21:53.139478Z"
    }
   },
   "outputs": [],
   "source": [
    "X_test = df_raw.loc[df_raw['cidade'] == 'São Paulo']"
   ]
  },
  {
   "cell_type": "markdown",
   "id": "f539150f",
   "metadata": {},
   "source": [
    "## 0.2 Helper Functions"
   ]
  },
  {
   "cell_type": "code",
   "execution_count": 261,
   "id": "c9d37e14",
   "metadata": {
    "ExecuteTime": {
     "end_time": "2023-07-05T18:38:03.038414Z",
     "start_time": "2023-07-05T18:38:03.019296Z"
    },
    "code_folding": []
   },
   "outputs": [],
   "source": [
    "def rename_columns(df1):\n",
    "    cols_new = df1.columns.map(lambda x: inflection.underscore(x))\n",
    "    df1.columns = cols_new\n",
    "    \n",
    "    return df1\n",
    "\n",
    "def replace_strings(valor):\n",
    "    if isinstance(valor, str):\n",
    "        return np.nan\n",
    "    return valor\n",
    "\n",
    "\n",
    "def change_types(df1):\n",
    "    \n",
    "    df1['renda_media'] = df1['renda_media'].astype(float)\n",
    "\n",
    "\n",
    "def pre_processing(df4):\n",
    "    #minmax\n",
    "    columns_minmax = ['população', 'pop_ate9', 'pop_de10a14', 'pop_de15a19',\n",
    "       'pop_de20a24', 'pop_de25a34', 'pop_de35a49', 'pop_de50a59',\n",
    "       'pop_mais_de60', 'domicilios_a1', 'domicilios_a2', 'domicilios_b1',\n",
    "       'domicilios_b2', 'domicilios_c1', 'domicilios_c2', 'domicilios_d',\n",
    "       'domicilios_e', 'renda_media']\n",
    "\n",
    "    mms = pp.MinMaxScaler()\n",
    "\n",
    "    for col in columns_minmax:\n",
    "        df4[col] = mms.transform(df4[col].values.reshape(-1,1))\n",
    "    \n",
    "    #standard\n",
    "    ss = pp.StandardScaler()\n",
    "\n",
    "    df4['faturamento'] = ss.transform(df4['faturamento'].values.reshape(-1,1))\n",
    "    \n",
    "    return df4\n",
    "\n",
    "def regression_error(model, y, yhat):\n",
    "    \n",
    "    mae = mt.mean_absolute_error(y, yhat)\n",
    "    mape = mt.mean_absolute_percentage_error(y, yhat)\n",
    "    rmse = np.sqrt(mt.mean_squared_error(y, yhat))\n",
    "        \n",
    "    df = pd.DataFrame({\n",
    "        'Modelo':model.__name__,\n",
    "        'MAE':mae,\n",
    "        'MAPE':mape,\n",
    "        'RMSE':rmse\n",
    "        \n",
    "    }, index=[0])\n",
    "    \n",
    "    return df\n",
    "\n",
    "def classification_metrics(model, y_true, y_pred):\n",
    "    accuracy = mt.accuracy_score(y_true, y_pred)\n",
    "    precision_micro = mt.precision_score(y_true, y_pred, average='micro')\n",
    "    recall_micro = mt.recall_score(y_true, y_pred, average='micro')\n",
    "    f1_micro = mt.f1_score(y_true, y_pred, average='micro')\n",
    "    precision_macro = mt.precision_score(y_true, y_pred, average='macro')\n",
    "    recall_macro = mt.recall_score(y_true, y_pred, average='macro')\n",
    "    f1_macro = mt.f1_score(y_true, y_pred, average='macro')\n",
    "    \n",
    "    df = pd.DataFrame({\n",
    "        'Modelo': [model.__name__],\n",
    "        'Accuracy': [accuracy],\n",
    "        'Precision (micro)': [precision_micro],\n",
    "        'Recall (micro)': [recall_micro],\n",
    "        'F1 Score (micro)': [f1_micro],\n",
    "        'Precision (macro)': [precision_macro],\n",
    "        'Recall (macro)': [recall_macro],\n",
    "        'F1 Score (macro)': [f1_macro]\n",
    "    })\n",
    "    \n",
    "    return df\n",
    "\n",
    "palette = [\"#00BFFF\", \"#DC143C\", \"#FFA07A\", \"#FFD700\", \"#8B008B\", \"#7CFC00\", \"#FF69B4\", \"#00CED1\", \"#FF6347\", \"#9400D3\"]\n",
    "def jupyter_settings(palette):\n",
    "    %matplotlib inline\n",
    "    plt.style.use( 'seaborn-v0_8' )\n",
    "    plt.rcParams['figure.figsize'] = [12, 6]\n",
    "    pd.options.display.max_columns = None\n",
    "    pd.options.display.max_rows = 50\n",
    "    pd.set_option( 'display.expand_frame_repr', False )\n",
    "    sns.set(font_scale=2)\n",
    "    sns.set_theme()\n",
    "    warnings.simplefilter(\"ignore\")\n",
    "    # plt.rcParams.update({'font.size': 10})\n",
    "    sns.set_style(\"darkgrid\")\n",
    "\n",
    "    \n",
    "jupyter_settings(palette)   "
   ]
  },
  {
   "cell_type": "markdown",
   "id": "dc17bac1",
   "metadata": {},
   "source": [
    "# 1.0 DATA DESCRIPTION"
   ]
  },
  {
   "cell_type": "code",
   "execution_count": 7,
   "id": "1fc92c5a",
   "metadata": {
    "ExecuteTime": {
     "end_time": "2023-07-05T15:21:53.183581Z",
     "start_time": "2023-07-05T15:21:53.169517Z"
    }
   },
   "outputs": [],
   "source": [
    "df1 = df_train.copy()"
   ]
  },
  {
   "cell_type": "code",
   "execution_count": 111,
   "id": "8489d792",
   "metadata": {
    "ExecuteTime": {
     "end_time": "2023-07-05T16:06:25.747552Z",
     "start_time": "2023-07-05T16:06:25.724412Z"
    }
   },
   "outputs": [
    {
     "data": {
      "text/html": [
       "<div>\n",
       "<style scoped>\n",
       "    .dataframe tbody tr th:only-of-type {\n",
       "        vertical-align: middle;\n",
       "    }\n",
       "\n",
       "    .dataframe tbody tr th {\n",
       "        vertical-align: top;\n",
       "    }\n",
       "\n",
       "    .dataframe thead th {\n",
       "        text-align: right;\n",
       "    }\n",
       "</style>\n",
       "<table border=\"1\" class=\"dataframe\">\n",
       "  <thead>\n",
       "    <tr style=\"text-align: right;\">\n",
       "      <th></th>\n",
       "      <th>codigo</th>\n",
       "      <th>nome</th>\n",
       "      <th>cidade</th>\n",
       "      <th>estado</th>\n",
       "      <th>população</th>\n",
       "      <th>pop_ate9</th>\n",
       "      <th>pop_de10a14</th>\n",
       "      <th>pop_de15a19</th>\n",
       "      <th>pop_de20a24</th>\n",
       "      <th>pop_de25a34</th>\n",
       "      <th>...</th>\n",
       "      <th>domicilios_a2</th>\n",
       "      <th>domicilios_b1</th>\n",
       "      <th>domicilios_b2</th>\n",
       "      <th>domicilios_c1</th>\n",
       "      <th>domicilios_c2</th>\n",
       "      <th>domicilios_d</th>\n",
       "      <th>domicilios_e</th>\n",
       "      <th>renda_media</th>\n",
       "      <th>faturamento</th>\n",
       "      <th>potencial</th>\n",
       "    </tr>\n",
       "  </thead>\n",
       "  <tbody>\n",
       "    <tr>\n",
       "      <th>0</th>\n",
       "      <td>3304557060</td>\n",
       "      <td>Abolição</td>\n",
       "      <td>Rio de Janeiro</td>\n",
       "      <td>RJ</td>\n",
       "      <td>11676</td>\n",
       "      <td>1027</td>\n",
       "      <td>483</td>\n",
       "      <td>688</td>\n",
       "      <td>800</td>\n",
       "      <td>1675</td>\n",
       "      <td>...</td>\n",
       "      <td>145</td>\n",
       "      <td>715</td>\n",
       "      <td>1242</td>\n",
       "      <td>1093</td>\n",
       "      <td>758</td>\n",
       "      <td>92</td>\n",
       "      <td>304</td>\n",
       "      <td>2501.0</td>\n",
       "      <td>932515.0</td>\n",
       "      <td>Médio</td>\n",
       "    </tr>\n",
       "    <tr>\n",
       "      <th>1</th>\n",
       "      <td>3304557138</td>\n",
       "      <td>Acari</td>\n",
       "      <td>Rio de Janeiro</td>\n",
       "      <td>RJ</td>\n",
       "      <td>27564</td>\n",
       "      <td>5131</td>\n",
       "      <td>2188</td>\n",
       "      <td>2697</td>\n",
       "      <td>2630</td>\n",
       "      <td>4810</td>\n",
       "      <td>...</td>\n",
       "      <td>0</td>\n",
       "      <td>82</td>\n",
       "      <td>506</td>\n",
       "      <td>2040</td>\n",
       "      <td>2490</td>\n",
       "      <td>827</td>\n",
       "      <td>2506</td>\n",
       "      <td>931.0</td>\n",
       "      <td>588833.0</td>\n",
       "      <td>Baixo</td>\n",
       "    </tr>\n",
       "    <tr>\n",
       "      <th>2</th>\n",
       "      <td>3304557057</td>\n",
       "      <td>Água Santa</td>\n",
       "      <td>Rio de Janeiro</td>\n",
       "      <td>RJ</td>\n",
       "      <td>9003</td>\n",
       "      <td>883</td>\n",
       "      <td>399</td>\n",
       "      <td>597</td>\n",
       "      <td>762</td>\n",
       "      <td>1755</td>\n",
       "      <td>...</td>\n",
       "      <td>96</td>\n",
       "      <td>404</td>\n",
       "      <td>652</td>\n",
       "      <td>644</td>\n",
       "      <td>522</td>\n",
       "      <td>77</td>\n",
       "      <td>254</td>\n",
       "      <td>2391.0</td>\n",
       "      <td>874200.0</td>\n",
       "      <td>Baixo</td>\n",
       "    </tr>\n",
       "    <tr>\n",
       "      <th>3</th>\n",
       "      <td>3304557031</td>\n",
       "      <td>Alto Da Boa Vista</td>\n",
       "      <td>Rio de Janeiro</td>\n",
       "      <td>RJ</td>\n",
       "      <td>9606</td>\n",
       "      <td>1072</td>\n",
       "      <td>538</td>\n",
       "      <td>660</td>\n",
       "      <td>685</td>\n",
       "      <td>1317</td>\n",
       "      <td>...</td>\n",
       "      <td>178</td>\n",
       "      <td>393</td>\n",
       "      <td>517</td>\n",
       "      <td>945</td>\n",
       "      <td>584</td>\n",
       "      <td>137</td>\n",
       "      <td>286</td>\n",
       "      <td>3727.0</td>\n",
       "      <td>912226.0</td>\n",
       "      <td>Médio</td>\n",
       "    </tr>\n",
       "    <tr>\n",
       "      <th>4</th>\n",
       "      <td>3304557125</td>\n",
       "      <td>Anchieta</td>\n",
       "      <td>Rio de Janeiro</td>\n",
       "      <td>RJ</td>\n",
       "      <td>57222</td>\n",
       "      <td>7677</td>\n",
       "      <td>3774</td>\n",
       "      <td>4892</td>\n",
       "      <td>4600</td>\n",
       "      <td>8660</td>\n",
       "      <td>...</td>\n",
       "      <td>0</td>\n",
       "      <td>1089</td>\n",
       "      <td>2821</td>\n",
       "      <td>5110</td>\n",
       "      <td>5422</td>\n",
       "      <td>1073</td>\n",
       "      <td>3261</td>\n",
       "      <td>1380.0</td>\n",
       "      <td>553020.0</td>\n",
       "      <td>Médio</td>\n",
       "    </tr>\n",
       "  </tbody>\n",
       "</table>\n",
       "<p>5 rows × 24 columns</p>\n",
       "</div>"
      ],
      "text/plain": [
       "       codigo               nome          cidade estado  população  pop_ate9  \\\n",
       "0  3304557060           Abolição  Rio de Janeiro     RJ      11676      1027   \n",
       "1  3304557138              Acari  Rio de Janeiro     RJ      27564      5131   \n",
       "2  3304557057         Água Santa  Rio de Janeiro     RJ       9003       883   \n",
       "3  3304557031  Alto Da Boa Vista  Rio de Janeiro     RJ       9606      1072   \n",
       "4  3304557125           Anchieta  Rio de Janeiro     RJ      57222      7677   \n",
       "\n",
       "   pop_de10a14  pop_de15a19  pop_de20a24  pop_de25a34  ...  domicilios_a2  \\\n",
       "0          483          688          800         1675  ...            145   \n",
       "1         2188         2697         2630         4810  ...              0   \n",
       "2          399          597          762         1755  ...             96   \n",
       "3          538          660          685         1317  ...            178   \n",
       "4         3774         4892         4600         8660  ...              0   \n",
       "\n",
       "   domicilios_b1  domicilios_b2  domicilios_c1  domicilios_c2  domicilios_d  \\\n",
       "0            715           1242           1093            758            92   \n",
       "1             82            506           2040           2490           827   \n",
       "2            404            652            644            522            77   \n",
       "3            393            517            945            584           137   \n",
       "4           1089           2821           5110           5422          1073   \n",
       "\n",
       "   domicilios_e  renda_media  faturamento  potencial  \n",
       "0           304       2501.0     932515.0      Médio  \n",
       "1          2506        931.0     588833.0      Baixo  \n",
       "2           254       2391.0     874200.0      Baixo  \n",
       "3           286       3727.0     912226.0      Médio  \n",
       "4          3261       1380.0     553020.0      Médio  \n",
       "\n",
       "[5 rows x 24 columns]"
      ]
     },
     "execution_count": 111,
     "metadata": {},
     "output_type": "execute_result"
    }
   ],
   "source": [
    "df1.head()"
   ]
  },
  {
   "cell_type": "markdown",
   "id": "60aee131",
   "metadata": {},
   "source": [
    "## 1.1 Rename Columns"
   ]
  },
  {
   "cell_type": "code",
   "execution_count": 10,
   "id": "d2156afe",
   "metadata": {
    "ExecuteTime": {
     "end_time": "2023-07-05T15:21:53.244838Z",
     "start_time": "2023-07-05T15:21:53.231082Z"
    }
   },
   "outputs": [],
   "source": [
    "cols_new = df1.columns.map(lambda x: inflection.underscore(x))\n",
    "df1.columns = cols_new"
   ]
  },
  {
   "cell_type": "markdown",
   "id": "2df251b8",
   "metadata": {},
   "source": [
    "## 1.2 Data Shape"
   ]
  },
  {
   "cell_type": "code",
   "execution_count": 11,
   "id": "c965eeb6",
   "metadata": {
    "ExecuteTime": {
     "end_time": "2023-07-05T15:21:53.261362Z",
     "start_time": "2023-07-05T15:21:53.246342Z"
    }
   },
   "outputs": [
    {
     "data": {
      "text/plain": [
       "(160, 24)"
      ]
     },
     "execution_count": 11,
     "metadata": {},
     "output_type": "execute_result"
    }
   ],
   "source": [
    "df1.shape"
   ]
  },
  {
   "cell_type": "markdown",
   "id": "c244e8b3",
   "metadata": {},
   "source": [
    "## 1.3 Data Types"
   ]
  },
  {
   "cell_type": "code",
   "execution_count": 12,
   "id": "8038859e",
   "metadata": {
    "ExecuteTime": {
     "end_time": "2023-07-05T15:21:53.277395Z",
     "start_time": "2023-07-05T15:21:53.262867Z"
    }
   },
   "outputs": [
    {
     "data": {
      "text/plain": [
       "codigo             int64\n",
       "nome              object\n",
       "cidade            object\n",
       "estado            object\n",
       "população          int64\n",
       "pop_ate9           int64\n",
       "pop_de10a14        int64\n",
       "pop_de15a19        int64\n",
       "pop_de20a24        int64\n",
       "pop_de25a34        int64\n",
       "pop_de35a49        int64\n",
       "pop_de50a59        int64\n",
       "pop_mais_de60      int64\n",
       "domicilios_a1      int64\n",
       "domicilios_a2      int64\n",
       "domicilios_b1      int64\n",
       "domicilios_b2      int64\n",
       "domicilios_c1      int64\n",
       "domicilios_c2      int64\n",
       "domicilios_d       int64\n",
       "domicilios_e       int64\n",
       "renda_media       object\n",
       "faturamento      float64\n",
       "potencial         object\n",
       "dtype: object"
      ]
     },
     "execution_count": 12,
     "metadata": {},
     "output_type": "execute_result"
    }
   ],
   "source": [
    "df1.dtypes"
   ]
  },
  {
   "cell_type": "code",
   "execution_count": 13,
   "id": "79ae71e2",
   "metadata": {
    "ExecuteTime": {
     "end_time": "2023-07-05T15:21:53.293140Z",
     "start_time": "2023-07-05T15:21:53.278898Z"
    }
   },
   "outputs": [],
   "source": [
    "df1['renda_media'] = df1['renda_media'].astype(float)"
   ]
  },
  {
   "cell_type": "markdown",
   "id": "f4b5c3a9",
   "metadata": {},
   "source": [
    "## 1.3 Check NaN"
   ]
  },
  {
   "cell_type": "code",
   "execution_count": 14,
   "id": "f781dcce",
   "metadata": {
    "ExecuteTime": {
     "end_time": "2023-07-05T15:21:53.308670Z",
     "start_time": "2023-07-05T15:21:53.294141Z"
    }
   },
   "outputs": [
    {
     "data": {
      "text/plain": [
       "codigo           0\n",
       "nome             0\n",
       "cidade           0\n",
       "estado           0\n",
       "população        0\n",
       "pop_ate9         0\n",
       "pop_de10a14      0\n",
       "pop_de15a19      0\n",
       "pop_de20a24      0\n",
       "pop_de25a34      0\n",
       "pop_de35a49      0\n",
       "pop_de50a59      0\n",
       "pop_mais_de60    0\n",
       "domicilios_a1    0\n",
       "domicilios_a2    0\n",
       "domicilios_b1    0\n",
       "domicilios_b2    0\n",
       "domicilios_c1    0\n",
       "domicilios_c2    0\n",
       "domicilios_d     0\n",
       "domicilios_e     0\n",
       "renda_media      6\n",
       "faturamento      0\n",
       "potencial        0\n",
       "dtype: int64"
      ]
     },
     "execution_count": 14,
     "metadata": {},
     "output_type": "execute_result"
    }
   ],
   "source": [
    "df1.isna().sum()"
   ]
  },
  {
   "cell_type": "code",
   "execution_count": 15,
   "id": "4289a787",
   "metadata": {
    "ExecuteTime": {
     "end_time": "2023-07-05T15:21:53.323989Z",
     "start_time": "2023-07-05T15:21:53.309672Z"
    }
   },
   "outputs": [],
   "source": [
    "df1['renda_media'] = df1['renda_media'].fillna(df1['renda_media'].mean())"
   ]
  },
  {
   "cell_type": "markdown",
   "id": "8c49ca66",
   "metadata": {},
   "source": [
    "## 1.5 Descriptive Statistics"
   ]
  },
  {
   "cell_type": "markdown",
   "id": "d5f40a40",
   "metadata": {},
   "source": [
    "### 1.5.1 Numerical Statistics"
   ]
  },
  {
   "cell_type": "code",
   "execution_count": 16,
   "id": "5c709808",
   "metadata": {
    "ExecuteTime": {
     "end_time": "2023-07-05T15:21:53.339106Z",
     "start_time": "2023-07-05T15:21:53.325026Z"
    }
   },
   "outputs": [],
   "source": [
    "num_attributes = df1.select_dtypes(include=['int64','float64'])"
   ]
  },
  {
   "cell_type": "code",
   "execution_count": 113,
   "id": "6fd003d8",
   "metadata": {
    "ExecuteTime": {
     "end_time": "2023-07-05T16:07:47.157899Z",
     "start_time": "2023-07-05T16:07:47.121009Z"
    }
   },
   "outputs": [],
   "source": [
    "disp = num_attributes.agg(['min', 'max', lambda x: max(x)-min(x), 'mean','median','std','skew','kurtosis']).T\n",
    "disp = disp.rename(columns={'<lambda>':'range'})"
   ]
  },
  {
   "cell_type": "code",
   "execution_count": 114,
   "id": "17c8a627",
   "metadata": {
    "ExecuteTime": {
     "end_time": "2023-07-05T16:07:47.687272Z",
     "start_time": "2023-07-05T16:07:47.663547Z"
    }
   },
   "outputs": [
    {
     "data": {
      "text/html": [
       "<div>\n",
       "<style scoped>\n",
       "    .dataframe tbody tr th:only-of-type {\n",
       "        vertical-align: middle;\n",
       "    }\n",
       "\n",
       "    .dataframe tbody tr th {\n",
       "        vertical-align: top;\n",
       "    }\n",
       "\n",
       "    .dataframe thead th {\n",
       "        text-align: right;\n",
       "    }\n",
       "</style>\n",
       "<table border=\"1\" class=\"dataframe\">\n",
       "  <thead>\n",
       "    <tr style=\"text-align: right;\">\n",
       "      <th></th>\n",
       "      <th>min</th>\n",
       "      <th>max</th>\n",
       "      <th>range</th>\n",
       "      <th>mean</th>\n",
       "      <th>median</th>\n",
       "      <th>std</th>\n",
       "      <th>skew</th>\n",
       "      <th>kurtosis</th>\n",
       "    </tr>\n",
       "  </thead>\n",
       "  <tbody>\n",
       "    <tr>\n",
       "      <th>codigo</th>\n",
       "      <td>3.304557e+09</td>\n",
       "      <td>3.304557e+09</td>\n",
       "      <td>159.0</td>\n",
       "      <td>3.304557e+09</td>\n",
       "      <td>3.304557e+09</td>\n",
       "      <td>46.332134</td>\n",
       "      <td>0.000000</td>\n",
       "      <td>-1.200000</td>\n",
       "    </tr>\n",
       "    <tr>\n",
       "      <th>população</th>\n",
       "      <td>1.730000e+02</td>\n",
       "      <td>6.676030e+05</td>\n",
       "      <td>667430.0</td>\n",
       "      <td>4.265435e+04</td>\n",
       "      <td>2.607600e+04</td>\n",
       "      <td>64262.949072</td>\n",
       "      <td>6.430261</td>\n",
       "      <td>56.987523</td>\n",
       "    </tr>\n",
       "    <tr>\n",
       "      <th>pop_ate9</th>\n",
       "      <td>3.300000e+01</td>\n",
       "      <td>1.225780e+05</td>\n",
       "      <td>122545.0</td>\n",
       "      <td>5.329062e+03</td>\n",
       "      <td>3.111500e+03</td>\n",
       "      <td>10816.199770</td>\n",
       "      <td>8.455441</td>\n",
       "      <td>87.995016</td>\n",
       "    </tr>\n",
       "    <tr>\n",
       "      <th>pop_de10a14</th>\n",
       "      <td>1.300000e+01</td>\n",
       "      <td>5.593500e+04</td>\n",
       "      <td>55922.0</td>\n",
       "      <td>2.484444e+03</td>\n",
       "      <td>1.434000e+03</td>\n",
       "      <td>4948.827166</td>\n",
       "      <td>8.385443</td>\n",
       "      <td>86.769750</td>\n",
       "    </tr>\n",
       "    <tr>\n",
       "      <th>pop_de15a19</th>\n",
       "      <td>2.200000e+01</td>\n",
       "      <td>6.234200e+04</td>\n",
       "      <td>62320.0</td>\n",
       "      <td>3.272156e+03</td>\n",
       "      <td>2.015000e+03</td>\n",
       "      <td>5752.156303</td>\n",
       "      <td>7.401606</td>\n",
       "      <td>71.038687</td>\n",
       "    </tr>\n",
       "    <tr>\n",
       "      <th>pop_de20a24</th>\n",
       "      <td>1.700000e+01</td>\n",
       "      <td>6.056700e+04</td>\n",
       "      <td>60550.0</td>\n",
       "      <td>3.349381e+03</td>\n",
       "      <td>2.142500e+03</td>\n",
       "      <td>5601.893201</td>\n",
       "      <td>7.253694</td>\n",
       "      <td>69.287685</td>\n",
       "    </tr>\n",
       "    <tr>\n",
       "      <th>pop_de25a34</th>\n",
       "      <td>2.800000e+01</td>\n",
       "      <td>8.611600e+04</td>\n",
       "      <td>86088.0</td>\n",
       "      <td>6.584475e+03</td>\n",
       "      <td>4.170500e+03</td>\n",
       "      <td>9049.895783</td>\n",
       "      <td>5.159097</td>\n",
       "      <td>38.471855</td>\n",
       "    </tr>\n",
       "    <tr>\n",
       "      <th>pop_de35a49</th>\n",
       "      <td>3.800000e+01</td>\n",
       "      <td>1.053160e+05</td>\n",
       "      <td>105278.0</td>\n",
       "      <td>8.826862e+03</td>\n",
       "      <td>5.657000e+03</td>\n",
       "      <td>11536.276416</td>\n",
       "      <td>4.691357</td>\n",
       "      <td>32.096439</td>\n",
       "    </tr>\n",
       "    <tr>\n",
       "      <th>pop_de50a59</th>\n",
       "      <td>1.000000e+01</td>\n",
       "      <td>8.334100e+04</td>\n",
       "      <td>83331.0</td>\n",
       "      <td>5.332262e+03</td>\n",
       "      <td>3.371500e+03</td>\n",
       "      <td>7986.261929</td>\n",
       "      <td>6.495919</td>\n",
       "      <td>57.988745</td>\n",
       "    </tr>\n",
       "    <tr>\n",
       "      <th>pop_mais_de60</th>\n",
       "      <td>1.200000e+01</td>\n",
       "      <td>9.140800e+04</td>\n",
       "      <td>91396.0</td>\n",
       "      <td>7.475706e+03</td>\n",
       "      <td>4.575500e+03</td>\n",
       "      <td>10258.307743</td>\n",
       "      <td>4.725239</td>\n",
       "      <td>30.969842</td>\n",
       "    </tr>\n",
       "    <tr>\n",
       "      <th>domicilios_a1</th>\n",
       "      <td>0.000000e+00</td>\n",
       "      <td>1.340800e+04</td>\n",
       "      <td>13408.0</td>\n",
       "      <td>3.884750e+02</td>\n",
       "      <td>0.000000e+00</td>\n",
       "      <td>1403.605232</td>\n",
       "      <td>6.220032</td>\n",
       "      <td>49.004836</td>\n",
       "    </tr>\n",
       "    <tr>\n",
       "      <th>domicilios_a2</th>\n",
       "      <td>0.000000e+00</td>\n",
       "      <td>1.166800e+04</td>\n",
       "      <td>11668.0</td>\n",
       "      <td>6.082687e+02</td>\n",
       "      <td>1.075000e+02</td>\n",
       "      <td>1535.237669</td>\n",
       "      <td>4.739400</td>\n",
       "      <td>26.227077</td>\n",
       "    </tr>\n",
       "    <tr>\n",
       "      <th>domicilios_b1</th>\n",
       "      <td>0.000000e+00</td>\n",
       "      <td>1.935000e+04</td>\n",
       "      <td>19350.0</td>\n",
       "      <td>1.871562e+03</td>\n",
       "      <td>8.480000e+02</td>\n",
       "      <td>2973.530791</td>\n",
       "      <td>3.698927</td>\n",
       "      <td>16.429617</td>\n",
       "    </tr>\n",
       "    <tr>\n",
       "      <th>domicilios_b2</th>\n",
       "      <td>0.000000e+00</td>\n",
       "      <td>2.123700e+04</td>\n",
       "      <td>21237.0</td>\n",
       "      <td>2.385075e+03</td>\n",
       "      <td>1.536000e+03</td>\n",
       "      <td>2779.071565</td>\n",
       "      <td>3.362580</td>\n",
       "      <td>15.884475</td>\n",
       "    </tr>\n",
       "    <tr>\n",
       "      <th>domicilios_c1</th>\n",
       "      <td>5.000000e+00</td>\n",
       "      <td>3.311100e+04</td>\n",
       "      <td>33106.0</td>\n",
       "      <td>3.539850e+03</td>\n",
       "      <td>2.394500e+03</td>\n",
       "      <td>4324.539462</td>\n",
       "      <td>3.600450</td>\n",
       "      <td>17.620849</td>\n",
       "    </tr>\n",
       "    <tr>\n",
       "      <th>domicilios_c2</th>\n",
       "      <td>3.000000e+00</td>\n",
       "      <td>2.577900e+04</td>\n",
       "      <td>25776.0</td>\n",
       "      <td>3.030806e+03</td>\n",
       "      <td>1.861500e+03</td>\n",
       "      <td>4003.047836</td>\n",
       "      <td>3.322379</td>\n",
       "      <td>13.224391</td>\n",
       "    </tr>\n",
       "    <tr>\n",
       "      <th>domicilios_d</th>\n",
       "      <td>0.000000e+00</td>\n",
       "      <td>4.956000e+03</td>\n",
       "      <td>4956.0</td>\n",
       "      <td>5.683750e+02</td>\n",
       "      <td>3.275000e+02</td>\n",
       "      <td>823.920340</td>\n",
       "      <td>3.273737</td>\n",
       "      <td>12.356773</td>\n",
       "    </tr>\n",
       "    <tr>\n",
       "      <th>domicilios_e</th>\n",
       "      <td>2.000000e+00</td>\n",
       "      <td>1.483300e+04</td>\n",
       "      <td>14831.0</td>\n",
       "      <td>1.821612e+03</td>\n",
       "      <td>1.042500e+03</td>\n",
       "      <td>2292.079295</td>\n",
       "      <td>2.944783</td>\n",
       "      <td>10.983002</td>\n",
       "    </tr>\n",
       "    <tr>\n",
       "      <th>renda_media</th>\n",
       "      <td>6.540000e+02</td>\n",
       "      <td>6.388700e+04</td>\n",
       "      <td>63233.0</td>\n",
       "      <td>3.608071e+03</td>\n",
       "      <td>1.944000e+03</td>\n",
       "      <td>5975.819147</td>\n",
       "      <td>7.083664</td>\n",
       "      <td>65.856014</td>\n",
       "    </tr>\n",
       "    <tr>\n",
       "      <th>faturamento</th>\n",
       "      <td>2.465100e+04</td>\n",
       "      <td>2.915612e+06</td>\n",
       "      <td>2890961.0</td>\n",
       "      <td>8.761600e+05</td>\n",
       "      <td>8.242285e+05</td>\n",
       "      <td>438210.595559</td>\n",
       "      <td>1.356720</td>\n",
       "      <td>4.271948</td>\n",
       "    </tr>\n",
       "  </tbody>\n",
       "</table>\n",
       "</div>"
      ],
      "text/plain": [
       "                        min           max      range          mean  \\\n",
       "codigo         3.304557e+09  3.304557e+09      159.0  3.304557e+09   \n",
       "população      1.730000e+02  6.676030e+05   667430.0  4.265435e+04   \n",
       "pop_ate9       3.300000e+01  1.225780e+05   122545.0  5.329062e+03   \n",
       "pop_de10a14    1.300000e+01  5.593500e+04    55922.0  2.484444e+03   \n",
       "pop_de15a19    2.200000e+01  6.234200e+04    62320.0  3.272156e+03   \n",
       "pop_de20a24    1.700000e+01  6.056700e+04    60550.0  3.349381e+03   \n",
       "pop_de25a34    2.800000e+01  8.611600e+04    86088.0  6.584475e+03   \n",
       "pop_de35a49    3.800000e+01  1.053160e+05   105278.0  8.826862e+03   \n",
       "pop_de50a59    1.000000e+01  8.334100e+04    83331.0  5.332262e+03   \n",
       "pop_mais_de60  1.200000e+01  9.140800e+04    91396.0  7.475706e+03   \n",
       "domicilios_a1  0.000000e+00  1.340800e+04    13408.0  3.884750e+02   \n",
       "domicilios_a2  0.000000e+00  1.166800e+04    11668.0  6.082687e+02   \n",
       "domicilios_b1  0.000000e+00  1.935000e+04    19350.0  1.871562e+03   \n",
       "domicilios_b2  0.000000e+00  2.123700e+04    21237.0  2.385075e+03   \n",
       "domicilios_c1  5.000000e+00  3.311100e+04    33106.0  3.539850e+03   \n",
       "domicilios_c2  3.000000e+00  2.577900e+04    25776.0  3.030806e+03   \n",
       "domicilios_d   0.000000e+00  4.956000e+03     4956.0  5.683750e+02   \n",
       "domicilios_e   2.000000e+00  1.483300e+04    14831.0  1.821612e+03   \n",
       "renda_media    6.540000e+02  6.388700e+04    63233.0  3.608071e+03   \n",
       "faturamento    2.465100e+04  2.915612e+06  2890961.0  8.761600e+05   \n",
       "\n",
       "                     median            std      skew   kurtosis  \n",
       "codigo         3.304557e+09      46.332134  0.000000  -1.200000  \n",
       "população      2.607600e+04   64262.949072  6.430261  56.987523  \n",
       "pop_ate9       3.111500e+03   10816.199770  8.455441  87.995016  \n",
       "pop_de10a14    1.434000e+03    4948.827166  8.385443  86.769750  \n",
       "pop_de15a19    2.015000e+03    5752.156303  7.401606  71.038687  \n",
       "pop_de20a24    2.142500e+03    5601.893201  7.253694  69.287685  \n",
       "pop_de25a34    4.170500e+03    9049.895783  5.159097  38.471855  \n",
       "pop_de35a49    5.657000e+03   11536.276416  4.691357  32.096439  \n",
       "pop_de50a59    3.371500e+03    7986.261929  6.495919  57.988745  \n",
       "pop_mais_de60  4.575500e+03   10258.307743  4.725239  30.969842  \n",
       "domicilios_a1  0.000000e+00    1403.605232  6.220032  49.004836  \n",
       "domicilios_a2  1.075000e+02    1535.237669  4.739400  26.227077  \n",
       "domicilios_b1  8.480000e+02    2973.530791  3.698927  16.429617  \n",
       "domicilios_b2  1.536000e+03    2779.071565  3.362580  15.884475  \n",
       "domicilios_c1  2.394500e+03    4324.539462  3.600450  17.620849  \n",
       "domicilios_c2  1.861500e+03    4003.047836  3.322379  13.224391  \n",
       "domicilios_d   3.275000e+02     823.920340  3.273737  12.356773  \n",
       "domicilios_e   1.042500e+03    2292.079295  2.944783  10.983002  \n",
       "renda_media    1.944000e+03    5975.819147  7.083664  65.856014  \n",
       "faturamento    8.242285e+05  438210.595559  1.356720   4.271948  "
      ]
     },
     "execution_count": 114,
     "metadata": {},
     "output_type": "execute_result"
    }
   ],
   "source": [
    "disp"
   ]
  },
  {
   "cell_type": "markdown",
   "id": "b9ba45a5",
   "metadata": {},
   "source": [
    "Aparentemente os dados são regulares, não há indícios de outliers ou valores fora do normal."
   ]
  },
  {
   "cell_type": "markdown",
   "id": "19fb5269",
   "metadata": {},
   "source": [
    "### 1.5.2 Categorical Attributes"
   ]
  },
  {
   "cell_type": "code",
   "execution_count": 19,
   "id": "58638fc5",
   "metadata": {
    "ExecuteTime": {
     "end_time": "2023-07-05T15:21:53.401389Z",
     "start_time": "2023-07-05T15:21:53.387368Z"
    }
   },
   "outputs": [],
   "source": [
    "cat_attributes = df1.select_dtypes(exclude=['int64','float64'])"
   ]
  },
  {
   "cell_type": "code",
   "execution_count": 20,
   "id": "f6857bee",
   "metadata": {
    "ExecuteTime": {
     "end_time": "2023-07-05T15:21:53.416443Z",
     "start_time": "2023-07-05T15:21:53.402414Z"
    }
   },
   "outputs": [
    {
     "data": {
      "text/html": [
       "<div>\n",
       "<style scoped>\n",
       "    .dataframe tbody tr th:only-of-type {\n",
       "        vertical-align: middle;\n",
       "    }\n",
       "\n",
       "    .dataframe tbody tr th {\n",
       "        vertical-align: top;\n",
       "    }\n",
       "\n",
       "    .dataframe thead th {\n",
       "        text-align: right;\n",
       "    }\n",
       "</style>\n",
       "<table border=\"1\" class=\"dataframe\">\n",
       "  <thead>\n",
       "    <tr style=\"text-align: right;\">\n",
       "      <th></th>\n",
       "      <th>nome</th>\n",
       "      <th>cidade</th>\n",
       "      <th>estado</th>\n",
       "      <th>potencial</th>\n",
       "    </tr>\n",
       "  </thead>\n",
       "  <tbody>\n",
       "    <tr>\n",
       "      <th>0</th>\n",
       "      <td>Abolição</td>\n",
       "      <td>Rio de Janeiro</td>\n",
       "      <td>RJ</td>\n",
       "      <td>Médio</td>\n",
       "    </tr>\n",
       "    <tr>\n",
       "      <th>1</th>\n",
       "      <td>Acari</td>\n",
       "      <td>Rio de Janeiro</td>\n",
       "      <td>RJ</td>\n",
       "      <td>Baixo</td>\n",
       "    </tr>\n",
       "    <tr>\n",
       "      <th>2</th>\n",
       "      <td>Água Santa</td>\n",
       "      <td>Rio de Janeiro</td>\n",
       "      <td>RJ</td>\n",
       "      <td>Baixo</td>\n",
       "    </tr>\n",
       "    <tr>\n",
       "      <th>3</th>\n",
       "      <td>Alto Da Boa Vista</td>\n",
       "      <td>Rio de Janeiro</td>\n",
       "      <td>RJ</td>\n",
       "      <td>Médio</td>\n",
       "    </tr>\n",
       "    <tr>\n",
       "      <th>4</th>\n",
       "      <td>Anchieta</td>\n",
       "      <td>Rio de Janeiro</td>\n",
       "      <td>RJ</td>\n",
       "      <td>Médio</td>\n",
       "    </tr>\n",
       "    <tr>\n",
       "      <th>...</th>\n",
       "      <td>...</td>\n",
       "      <td>...</td>\n",
       "      <td>...</td>\n",
       "      <td>...</td>\n",
       "    </tr>\n",
       "    <tr>\n",
       "      <th>155</th>\n",
       "      <td>Vila Kosmos</td>\n",
       "      <td>Rio de Janeiro</td>\n",
       "      <td>RJ</td>\n",
       "      <td>Médio</td>\n",
       "    </tr>\n",
       "    <tr>\n",
       "      <th>156</th>\n",
       "      <td>Vila Militar</td>\n",
       "      <td>Rio de Janeiro</td>\n",
       "      <td>RJ</td>\n",
       "      <td>Médio</td>\n",
       "    </tr>\n",
       "    <tr>\n",
       "      <th>157</th>\n",
       "      <td>Vila Valqueire</td>\n",
       "      <td>Rio de Janeiro</td>\n",
       "      <td>RJ</td>\n",
       "      <td>Alto</td>\n",
       "    </tr>\n",
       "    <tr>\n",
       "      <th>158</th>\n",
       "      <td>Vista Alegre</td>\n",
       "      <td>Rio de Janeiro</td>\n",
       "      <td>RJ</td>\n",
       "      <td>Baixo</td>\n",
       "    </tr>\n",
       "    <tr>\n",
       "      <th>159</th>\n",
       "      <td>Zumbi</td>\n",
       "      <td>Rio de Janeiro</td>\n",
       "      <td>RJ</td>\n",
       "      <td>Baixo</td>\n",
       "    </tr>\n",
       "  </tbody>\n",
       "</table>\n",
       "<p>160 rows × 4 columns</p>\n",
       "</div>"
      ],
      "text/plain": [
       "                  nome          cidade estado potencial\n",
       "0             Abolição  Rio de Janeiro     RJ     Médio\n",
       "1                Acari  Rio de Janeiro     RJ     Baixo\n",
       "2           Água Santa  Rio de Janeiro     RJ     Baixo\n",
       "3    Alto Da Boa Vista  Rio de Janeiro     RJ     Médio\n",
       "4             Anchieta  Rio de Janeiro     RJ     Médio\n",
       "..                 ...             ...    ...       ...\n",
       "155        Vila Kosmos  Rio de Janeiro     RJ     Médio\n",
       "156       Vila Militar  Rio de Janeiro     RJ     Médio\n",
       "157     Vila Valqueire  Rio de Janeiro     RJ      Alto\n",
       "158       Vista Alegre  Rio de Janeiro     RJ     Baixo\n",
       "159              Zumbi  Rio de Janeiro     RJ     Baixo\n",
       "\n",
       "[160 rows x 4 columns]"
      ]
     },
     "execution_count": 20,
     "metadata": {},
     "output_type": "execute_result"
    }
   ],
   "source": [
    "cat_attributes"
   ]
  },
  {
   "cell_type": "code",
   "execution_count": 21,
   "id": "375a80e6",
   "metadata": {
    "ExecuteTime": {
     "end_time": "2023-07-05T15:21:53.557869Z",
     "start_time": "2023-07-05T15:21:53.418445Z"
    }
   },
   "outputs": [
    {
     "data": {
      "text/plain": [
       "<Axes: xlabel='potencial', ylabel='count'>"
      ]
     },
     "execution_count": 21,
     "metadata": {},
     "output_type": "execute_result"
    },
    {
     "data": {
      "image/png": "[encoded data removed]",
      "text/plain": [
       "<Figure size 800x550 with 1 Axes>"
      ]
     },
     "metadata": {},
     "output_type": "display_data"
    }
   ],
   "source": [
    "#name \n",
    "sns.countplot(cat_attributes, x='potencial')"
   ]
  },
  {
   "cell_type": "markdown",
   "id": "64fdc969",
   "metadata": {},
   "source": [
    "Os dados de potencial são bem balanceados."
   ]
  },
  {
   "cell_type": "markdown",
   "id": "b845cce4",
   "metadata": {},
   "source": [
    "# 2.0 FEATURE ENGINEERING"
   ]
  },
  {
   "cell_type": "code",
   "execution_count": 22,
   "id": "b5eec645",
   "metadata": {
    "ExecuteTime": {
     "end_time": "2023-07-05T15:21:53.572995Z",
     "start_time": "2023-07-05T15:21:53.558887Z"
    }
   },
   "outputs": [],
   "source": [
    "df2 = df1.copy()"
   ]
  },
  {
   "cell_type": "code",
   "execution_count": 23,
   "id": "595576e8",
   "metadata": {
    "ExecuteTime": {
     "end_time": "2023-07-05T15:21:53.588788Z",
     "start_time": "2023-07-05T15:21:53.574024Z"
    }
   },
   "outputs": [],
   "source": [
    "#remove city, state, ID\n",
    "df2 = df2.drop(['cidade', 'estado', 'codigo'], axis=1)"
   ]
  },
  {
   "cell_type": "markdown",
   "id": "fdb95ba7",
   "metadata": {},
   "source": [
    "# 3.0 EDA"
   ]
  },
  {
   "cell_type": "code",
   "execution_count": null,
   "id": "95cf66e2",
   "metadata": {
    "ExecuteTime": {
     "end_time": "2023-07-05T15:21:53.604305Z",
     "start_time": "2023-07-05T15:21:53.589812Z"
    }
   },
   "outputs": [],
   "source": [
    "df3 = df2.copy()"
   ]
  },
  {
   "cell_type": "markdown",
   "id": "266bcfe1",
   "metadata": {},
   "source": [
    "## 3.1 Lista de Hipóteses"
   ]
  },
  {
   "cell_type": "markdown",
   "id": "d919fdb1",
   "metadata": {},
   "source": [
    "1. Hipótese de correlação entre população e faturamento: Bairros com maior população têm maior potencial de faturamento, uma vez que têm um público maior para atrair.\n",
    "\n",
    "2. Hipótese de correlação entre renda média e faturamento: Bairros com maior renda média tendem a ter maior potencial de faturamento, pois as pessoas com renda mais alta têm mais poder de compra.\n",
    "\n",
    "3. Hipótese de correlação entre faixa etária e faturamento: A distribuição da população em diferentes faixas etárias pode afetar o faturamento. Por exemplo, bairros com uma proporção maior de adultos de 25 a 50 anos (público-alvo) podem ter maior potencial de faturamento.\n",
    "\n",
    "4. Hipótese de classificação de potencial: A partir das informações sobre os bairros do Rio de Janeiro e as características socioeconômicas, é possível estabelecer critérios para classificar o potencial de cada bairro de São Paulo como alto, médio ou baixo. Por exemplo, bairros com alta renda média e população jovem podem ser classificados como de alto potencial.\n",
    "\n",
    "5. Hipótese de segmentação de acordo com a renda e idade: Os bairros podem ser segmentados com base na distribuição da renda e idade da população. Isso pode ajudar a identificar quais bairros têm maior aderência ao público-alvo (adultos de 25 a 50 anos das classes A e B).\n",
    "\n",
    "6. Hipótese de considerar dados externos: É possível explorar dados externos de fontes públicas ou privadas para agregar mais valor à análise. Por exemplo, dados demográficos, informações sobre concorrência ou até mesmo dados de mobilidade urbana podem ser úteis para entender melhor o potencial de cada bairro."
   ]
  },
  {
   "cell_type": "markdown",
   "id": "a5b6dcd5",
   "metadata": {},
   "source": [
    "## 3.2 H1 - Hipótese de correlação entre população e faturamento."
   ]
  },
  {
   "cell_type": "code",
   "execution_count": 270,
   "id": "1d592a6e",
   "metadata": {
    "ExecuteTime": {
     "end_time": "2023-07-05T18:44:43.575593Z",
     "start_time": "2023-07-05T18:44:41.183119Z"
    }
   },
   "outputs": [
    {
     "data": {
      "text/plain": [
       "([], [])"
      ]
     },
     "execution_count": 270,
     "metadata": {},
     "output_type": "execute_result"
    },
    {
     "data": {
      "image/png": "[encoded data removed]",
      "text/plain": [
       "<Figure size 1200x600 with 2 Axes>"
      ]
     },
     "metadata": {},
     "output_type": "display_data"
    }
   ],
   "source": [
    "plt.scatter(df3['nome'], df3['população'], s=100, linewidths=1, c=df3['faturamento'], cmap='Blues', edgecolors='black')\n",
    "plt.colorbar()\n",
    "plt.xlabel('Bairros')\n",
    "plt.ylabel('População')\n",
    "plt.title('Relação entre População e Faturamento')\n",
    "\n",
    "plt.xticks([])"
   ]
  },
  {
   "cell_type": "markdown",
   "id": "5ad42c2e",
   "metadata": {},
   "source": [
    "FALSO. Alguns dos bairros com maior faturamento não possuem uma população entre as maiores"
   ]
  },
  {
   "cell_type": "markdown",
   "id": "3ed4034a",
   "metadata": {},
   "source": [
    "## 3.3 H2 - Hipótese de correlação entre renda média e faturamento."
   ]
  },
  {
   "cell_type": "code",
   "execution_count": 264,
   "id": "0473593d",
   "metadata": {
    "ExecuteTime": {
     "end_time": "2023-07-05T18:41:34.194505Z",
     "start_time": "2023-07-05T18:41:33.994075Z"
    }
   },
   "outputs": [
    {
     "data": {
      "text/plain": [
       "([], [])"
      ]
     },
     "execution_count": 264,
     "metadata": {},
     "output_type": "execute_result"
    },
    {
     "data": {
      "image/png": "[encoded data removed]",
      "text/plain": [
       "<Figure size 1200x600 with 2 Axes>"
      ]
     },
     "metadata": {},
     "output_type": "display_data"
    }
   ],
   "source": [
    "plt.scatter(df3['nome'], df3['renda_media'], s=100, linewidths=1, c=df3['faturamento'], cmap='Blues', edgecolors='black')\n",
    "plt.colorbar()\n",
    "plt.xlabel('Bairros')\n",
    "plt.ylabel('Renda Média')\n",
    "plt.title('Relação entre Renda Média e Faturamento')\n",
    "\n",
    "plt.xticks([])"
   ]
  },
  {
   "cell_type": "markdown",
   "id": "3964ed1b",
   "metadata": {},
   "source": [
    "VERDADEIRO - Os bairros mais claros estão na parte de baixos enquantos os mais escuros na parte de cima"
   ]
  },
  {
   "cell_type": "markdown",
   "id": "4df61eca",
   "metadata": {},
   "source": [
    "## 3.4 H3 - Hipótese de correlação entre faixa etária e potencial."
   ]
  },
  {
   "cell_type": "markdown",
   "id": "9de9ed05",
   "metadata": {},
   "source": [
    "## 3.5 H4 - Relação entre Potencial e Faturamento."
   ]
  },
  {
   "cell_type": "code",
   "execution_count": 285,
   "id": "b0a585af",
   "metadata": {
    "ExecuteTime": {
     "end_time": "2023-07-05T19:46:26.132882Z",
     "start_time": "2023-07-05T19:46:25.993343Z"
    }
   },
   "outputs": [
    {
     "data": {
      "text/plain": [
       "<matplotlib.collections.PathCollection at 0x2d08cdcdd50>"
      ]
     },
     "execution_count": 285,
     "metadata": {},
     "output_type": "execute_result"
    },
    {
     "data": {
      "image/png": "[encoded data removed]",
      "text/plain": [
       "<Figure size 1200x600 with 1 Axes>"
      ]
     },
     "metadata": {},
     "output_type": "display_data"
    }
   ],
   "source": [
    "plt.scatter(df3['potencial'], df3['faturamento'], s=100, linewidths=1, edgecolors='black')"
   ]
  },
  {
   "cell_type": "markdown",
   "id": "7036fbf8",
   "metadata": {},
   "source": [
    "## 3.6 H5 - Relação entre Potencial e renda média"
   ]
  },
  {
   "cell_type": "code",
   "execution_count": 286,
   "id": "f81c5333",
   "metadata": {
    "ExecuteTime": {
     "end_time": "2023-07-05T19:48:44.797060Z",
     "start_time": "2023-07-05T19:48:44.654020Z"
    }
   },
   "outputs": [
    {
     "data": {
      "text/plain": [
       "<matplotlib.collections.PathCollection at 0x2d08c833910>"
      ]
     },
     "execution_count": 286,
     "metadata": {},
     "output_type": "execute_result"
    },
    {
     "data": {
      "image/png": "[encoded data removed]",
      "text/plain": [
       "<Figure size 1200x600 with 1 Axes>"
      ]
     },
     "metadata": {},
     "output_type": "display_data"
    }
   ],
   "source": [
    "plt.scatter(df3['potencial'], df3['renda_media'], s=100, linewidths=1, edgecolors='black')"
   ]
  },
  {
   "cell_type": "markdown",
   "id": "6d93fd82",
   "metadata": {},
   "source": [
    "# 4.0 DATA PREPARATION"
   ]
  },
  {
   "cell_type": "code",
   "execution_count": 25,
   "id": "312938bb",
   "metadata": {
    "ExecuteTime": {
     "end_time": "2023-07-05T15:21:53.620255Z",
     "start_time": "2023-07-05T15:21:53.605323Z"
    }
   },
   "outputs": [],
   "source": [
    "df4 = df3.copy()"
   ]
  },
  {
   "cell_type": "code",
   "execution_count": 26,
   "id": "1ee3bd72",
   "metadata": {
    "ExecuteTime": {
     "end_time": "2023-07-05T15:21:53.651136Z",
     "start_time": "2023-07-05T15:21:53.625776Z"
    }
   },
   "outputs": [
    {
     "data": {
      "text/html": [
       "<div>\n",
       "<style scoped>\n",
       "    .dataframe tbody tr th:only-of-type {\n",
       "        vertical-align: middle;\n",
       "    }\n",
       "\n",
       "    .dataframe tbody tr th {\n",
       "        vertical-align: top;\n",
       "    }\n",
       "\n",
       "    .dataframe thead th {\n",
       "        text-align: right;\n",
       "    }\n",
       "</style>\n",
       "<table border=\"1\" class=\"dataframe\">\n",
       "  <thead>\n",
       "    <tr style=\"text-align: right;\">\n",
       "      <th></th>\n",
       "      <th>nome</th>\n",
       "      <th>população</th>\n",
       "      <th>pop_ate9</th>\n",
       "      <th>pop_de10a14</th>\n",
       "      <th>pop_de15a19</th>\n",
       "      <th>pop_de20a24</th>\n",
       "      <th>pop_de25a34</th>\n",
       "      <th>pop_de35a49</th>\n",
       "      <th>pop_de50a59</th>\n",
       "      <th>pop_mais_de60</th>\n",
       "      <th>...</th>\n",
       "      <th>domicilios_a2</th>\n",
       "      <th>domicilios_b1</th>\n",
       "      <th>domicilios_b2</th>\n",
       "      <th>domicilios_c1</th>\n",
       "      <th>domicilios_c2</th>\n",
       "      <th>domicilios_d</th>\n",
       "      <th>domicilios_e</th>\n",
       "      <th>renda_media</th>\n",
       "      <th>faturamento</th>\n",
       "      <th>potencial</th>\n",
       "    </tr>\n",
       "  </thead>\n",
       "  <tbody>\n",
       "    <tr>\n",
       "      <th>0</th>\n",
       "      <td>Abolição</td>\n",
       "      <td>11676</td>\n",
       "      <td>1027</td>\n",
       "      <td>483</td>\n",
       "      <td>688</td>\n",
       "      <td>800</td>\n",
       "      <td>1675</td>\n",
       "      <td>2300</td>\n",
       "      <td>1784</td>\n",
       "      <td>2919</td>\n",
       "      <td>...</td>\n",
       "      <td>145</td>\n",
       "      <td>715</td>\n",
       "      <td>1242</td>\n",
       "      <td>1093</td>\n",
       "      <td>758</td>\n",
       "      <td>92</td>\n",
       "      <td>304</td>\n",
       "      <td>2501.0</td>\n",
       "      <td>932515.0</td>\n",
       "      <td>Médio</td>\n",
       "    </tr>\n",
       "    <tr>\n",
       "      <th>1</th>\n",
       "      <td>Acari</td>\n",
       "      <td>27564</td>\n",
       "      <td>5131</td>\n",
       "      <td>2188</td>\n",
       "      <td>2697</td>\n",
       "      <td>2630</td>\n",
       "      <td>4810</td>\n",
       "      <td>5308</td>\n",
       "      <td>2403</td>\n",
       "      <td>2397</td>\n",
       "      <td>...</td>\n",
       "      <td>0</td>\n",
       "      <td>82</td>\n",
       "      <td>506</td>\n",
       "      <td>2040</td>\n",
       "      <td>2490</td>\n",
       "      <td>827</td>\n",
       "      <td>2506</td>\n",
       "      <td>931.0</td>\n",
       "      <td>588833.0</td>\n",
       "      <td>Baixo</td>\n",
       "    </tr>\n",
       "    <tr>\n",
       "      <th>2</th>\n",
       "      <td>Água Santa</td>\n",
       "      <td>9003</td>\n",
       "      <td>883</td>\n",
       "      <td>399</td>\n",
       "      <td>597</td>\n",
       "      <td>762</td>\n",
       "      <td>1755</td>\n",
       "      <td>2076</td>\n",
       "      <td>1112</td>\n",
       "      <td>1419</td>\n",
       "      <td>...</td>\n",
       "      <td>96</td>\n",
       "      <td>404</td>\n",
       "      <td>652</td>\n",
       "      <td>644</td>\n",
       "      <td>522</td>\n",
       "      <td>77</td>\n",
       "      <td>254</td>\n",
       "      <td>2391.0</td>\n",
       "      <td>874200.0</td>\n",
       "      <td>Baixo</td>\n",
       "    </tr>\n",
       "    <tr>\n",
       "      <th>3</th>\n",
       "      <td>Alto Da Boa Vista</td>\n",
       "      <td>9606</td>\n",
       "      <td>1072</td>\n",
       "      <td>538</td>\n",
       "      <td>660</td>\n",
       "      <td>685</td>\n",
       "      <td>1317</td>\n",
       "      <td>2007</td>\n",
       "      <td>1341</td>\n",
       "      <td>1986</td>\n",
       "      <td>...</td>\n",
       "      <td>178</td>\n",
       "      <td>393</td>\n",
       "      <td>517</td>\n",
       "      <td>945</td>\n",
       "      <td>584</td>\n",
       "      <td>137</td>\n",
       "      <td>286</td>\n",
       "      <td>3727.0</td>\n",
       "      <td>912226.0</td>\n",
       "      <td>Médio</td>\n",
       "    </tr>\n",
       "    <tr>\n",
       "      <th>4</th>\n",
       "      <td>Anchieta</td>\n",
       "      <td>57222</td>\n",
       "      <td>7677</td>\n",
       "      <td>3774</td>\n",
       "      <td>4892</td>\n",
       "      <td>4600</td>\n",
       "      <td>8660</td>\n",
       "      <td>12272</td>\n",
       "      <td>7157</td>\n",
       "      <td>8190</td>\n",
       "      <td>...</td>\n",
       "      <td>0</td>\n",
       "      <td>1089</td>\n",
       "      <td>2821</td>\n",
       "      <td>5110</td>\n",
       "      <td>5422</td>\n",
       "      <td>1073</td>\n",
       "      <td>3261</td>\n",
       "      <td>1380.0</td>\n",
       "      <td>553020.0</td>\n",
       "      <td>Médio</td>\n",
       "    </tr>\n",
       "  </tbody>\n",
       "</table>\n",
       "<p>5 rows × 21 columns</p>\n",
       "</div>"
      ],
      "text/plain": [
       "                nome  população  pop_ate9  pop_de10a14  pop_de15a19  \\\n",
       "0           Abolição      11676      1027          483          688   \n",
       "1              Acari      27564      5131         2188         2697   \n",
       "2         Água Santa       9003       883          399          597   \n",
       "3  Alto Da Boa Vista       9606      1072          538          660   \n",
       "4           Anchieta      57222      7677         3774         4892   \n",
       "\n",
       "   pop_de20a24  pop_de25a34  pop_de35a49  pop_de50a59  pop_mais_de60  ...  \\\n",
       "0          800         1675         2300         1784           2919  ...   \n",
       "1         2630         4810         5308         2403           2397  ...   \n",
       "2          762         1755         2076         1112           1419  ...   \n",
       "3          685         1317         2007         1341           1986  ...   \n",
       "4         4600         8660        12272         7157           8190  ...   \n",
       "\n",
       "   domicilios_a2  domicilios_b1  domicilios_b2  domicilios_c1  domicilios_c2  \\\n",
       "0            145            715           1242           1093            758   \n",
       "1              0             82            506           2040           2490   \n",
       "2             96            404            652            644            522   \n",
       "3            178            393            517            945            584   \n",
       "4              0           1089           2821           5110           5422   \n",
       "\n",
       "   domicilios_d  domicilios_e  renda_media  faturamento  potencial  \n",
       "0            92           304       2501.0     932515.0      Médio  \n",
       "1           827          2506        931.0     588833.0      Baixo  \n",
       "2            77           254       2391.0     874200.0      Baixo  \n",
       "3           137           286       3727.0     912226.0      Médio  \n",
       "4          1073          3261       1380.0     553020.0      Médio  \n",
       "\n",
       "[5 rows x 21 columns]"
      ]
     },
     "execution_count": 26,
     "metadata": {},
     "output_type": "execute_result"
    }
   ],
   "source": [
    "df4.head()"
   ]
  },
  {
   "cell_type": "code",
   "execution_count": 27,
   "id": "d7d19957",
   "metadata": {
    "ExecuteTime": {
     "end_time": "2023-07-05T15:21:53.666687Z",
     "start_time": "2023-07-05T15:21:53.653171Z"
    }
   },
   "outputs": [],
   "source": [
    "#potencial\n",
    "df4['potencial'] = df4['potencial'].apply(lambda x: 0 if x == 'Baixo' else 1 if x == 'Médio' else 2)"
   ]
  },
  {
   "cell_type": "code",
   "execution_count": 28,
   "id": "41cc64b6",
   "metadata": {
    "ExecuteTime": {
     "end_time": "2023-07-05T15:21:53.853496Z",
     "start_time": "2023-07-05T15:21:53.668689Z"
    }
   },
   "outputs": [
    {
     "data": {
      "text/plain": [
       "<Axes: xlabel='faturamento', ylabel='Count'>"
      ]
     },
     "execution_count": 28,
     "metadata": {},
     "output_type": "execute_result"
    },
    {
     "data": {
      "image/png": "[encoded data removed]",
      "text/plain": [
       "<Figure size 800x550 with 1 Axes>"
      ]
     },
     "metadata": {},
     "output_type": "display_data"
    }
   ],
   "source": [
    "sns.histplot(df4, x='faturamento', kde=True)"
   ]
  },
  {
   "cell_type": "markdown",
   "id": "e9cc1030",
   "metadata": {},
   "source": [
    "## 4.1 MinMaxScaler"
   ]
  },
  {
   "cell_type": "code",
   "execution_count": 29,
   "id": "977efe31",
   "metadata": {
    "ExecuteTime": {
     "end_time": "2023-07-05T15:21:53.869081Z",
     "start_time": "2023-07-05T15:21:53.854498Z"
    }
   },
   "outputs": [
    {
     "data": {
      "text/plain": [
       "Index(['nome', 'população', 'pop_ate9', 'pop_de10a14', 'pop_de15a19',\n",
       "       'pop_de20a24', 'pop_de25a34', 'pop_de35a49', 'pop_de50a59',\n",
       "       'pop_mais_de60', 'domicilios_a1', 'domicilios_a2', 'domicilios_b1',\n",
       "       'domicilios_b2', 'domicilios_c1', 'domicilios_c2', 'domicilios_d',\n",
       "       'domicilios_e', 'renda_media', 'faturamento', 'potencial'],\n",
       "      dtype='object')"
      ]
     },
     "execution_count": 29,
     "metadata": {},
     "output_type": "execute_result"
    }
   ],
   "source": [
    "df4.columns"
   ]
  },
  {
   "cell_type": "code",
   "execution_count": 30,
   "id": "9ae44ea9",
   "metadata": {
    "ExecuteTime": {
     "end_time": "2023-07-05T15:21:53.885201Z",
     "start_time": "2023-07-05T15:21:53.870217Z"
    }
   },
   "outputs": [],
   "source": [
    "columns_minmax = ['população', 'pop_ate9', 'pop_de10a14', 'pop_de15a19',\n",
    "       'pop_de20a24', 'pop_de25a34', 'pop_de35a49', 'pop_de50a59',\n",
    "       'pop_mais_de60', 'domicilios_a1', 'domicilios_a2', 'domicilios_b1',\n",
    "       'domicilios_b2', 'domicilios_c1', 'domicilios_c2', 'domicilios_d',\n",
    "       'domicilios_e', 'renda_media']\n",
    "\n",
    "mms = pp.MinMaxScaler()\n",
    "\n",
    "for col in columns_minmax:\n",
    "    df4[col] = mms.fit_transform(df4[col].values.reshape(-1,1))"
   ]
  },
  {
   "cell_type": "markdown",
   "id": "caa77707",
   "metadata": {},
   "source": [
    "## 4.2 StandScaler"
   ]
  },
  {
   "cell_type": "code",
   "execution_count": 31,
   "id": "9d4ba9c5",
   "metadata": {
    "ExecuteTime": {
     "end_time": "2023-07-05T15:21:53.900330Z",
     "start_time": "2023-07-05T15:21:53.886221Z"
    }
   },
   "outputs": [],
   "source": [
    "ss = pp.StandardScaler()\n",
    "\n",
    "df4['faturamento'] = ss.fit_transform(df4['faturamento'].values.reshape(-1,1))"
   ]
  },
  {
   "cell_type": "markdown",
   "id": "da4781f6",
   "metadata": {},
   "source": [
    "# 5.0 FEATURE SELECTION"
   ]
  },
  {
   "cell_type": "code",
   "execution_count": 32,
   "id": "a422da58",
   "metadata": {
    "ExecuteTime": {
     "end_time": "2023-07-05T15:21:53.915857Z",
     "start_time": "2023-07-05T15:21:53.901331Z"
    }
   },
   "outputs": [],
   "source": [
    "df5 = df4.copy()"
   ]
  },
  {
   "cell_type": "code",
   "execution_count": 33,
   "id": "d876cbab",
   "metadata": {
    "ExecuteTime": {
     "end_time": "2023-07-05T15:21:53.931251Z",
     "start_time": "2023-07-05T15:21:53.917237Z"
    }
   },
   "outputs": [
    {
     "data": {
      "text/html": [
       "<div>\n",
       "<style scoped>\n",
       "    .dataframe tbody tr th:only-of-type {\n",
       "        vertical-align: middle;\n",
       "    }\n",
       "\n",
       "    .dataframe tbody tr th {\n",
       "        vertical-align: top;\n",
       "    }\n",
       "\n",
       "    .dataframe thead th {\n",
       "        text-align: right;\n",
       "    }\n",
       "</style>\n",
       "<table border=\"1\" class=\"dataframe\">\n",
       "  <thead>\n",
       "    <tr style=\"text-align: right;\">\n",
       "      <th></th>\n",
       "      <th>nome</th>\n",
       "      <th>população</th>\n",
       "      <th>pop_ate9</th>\n",
       "      <th>pop_de10a14</th>\n",
       "      <th>pop_de15a19</th>\n",
       "      <th>pop_de20a24</th>\n",
       "      <th>pop_de25a34</th>\n",
       "      <th>pop_de35a49</th>\n",
       "      <th>pop_de50a59</th>\n",
       "      <th>pop_mais_de60</th>\n",
       "      <th>...</th>\n",
       "      <th>domicilios_a2</th>\n",
       "      <th>domicilios_b1</th>\n",
       "      <th>domicilios_b2</th>\n",
       "      <th>domicilios_c1</th>\n",
       "      <th>domicilios_c2</th>\n",
       "      <th>domicilios_d</th>\n",
       "      <th>domicilios_e</th>\n",
       "      <th>renda_media</th>\n",
       "      <th>faturamento</th>\n",
       "      <th>potencial</th>\n",
       "    </tr>\n",
       "  </thead>\n",
       "  <tbody>\n",
       "    <tr>\n",
       "      <th>0</th>\n",
       "      <td>Abolição</td>\n",
       "      <td>0.017235</td>\n",
       "      <td>0.008111</td>\n",
       "      <td>0.008405</td>\n",
       "      <td>0.010687</td>\n",
       "      <td>0.012931</td>\n",
       "      <td>0.019132</td>\n",
       "      <td>0.021486</td>\n",
       "      <td>0.021289</td>\n",
       "      <td>0.031807</td>\n",
       "      <td>...</td>\n",
       "      <td>0.012427</td>\n",
       "      <td>0.036951</td>\n",
       "      <td>0.058483</td>\n",
       "      <td>0.032864</td>\n",
       "      <td>0.029291</td>\n",
       "      <td>0.018563</td>\n",
       "      <td>0.020363</td>\n",
       "      <td>0.029209</td>\n",
       "      <td>0.129006</td>\n",
       "      <td>1</td>\n",
       "    </tr>\n",
       "    <tr>\n",
       "      <th>1</th>\n",
       "      <td>Acari</td>\n",
       "      <td>0.041040</td>\n",
       "      <td>0.041601</td>\n",
       "      <td>0.038893</td>\n",
       "      <td>0.042924</td>\n",
       "      <td>0.043154</td>\n",
       "      <td>0.055548</td>\n",
       "      <td>0.050058</td>\n",
       "      <td>0.028717</td>\n",
       "      <td>0.026095</td>\n",
       "      <td>...</td>\n",
       "      <td>0.000000</td>\n",
       "      <td>0.004238</td>\n",
       "      <td>0.023826</td>\n",
       "      <td>0.061469</td>\n",
       "      <td>0.096485</td>\n",
       "      <td>0.166868</td>\n",
       "      <td>0.168836</td>\n",
       "      <td>0.004381</td>\n",
       "      <td>-0.657741</td>\n",
       "      <td>0</td>\n",
       "    </tr>\n",
       "    <tr>\n",
       "      <th>2</th>\n",
       "      <td>Água Santa</td>\n",
       "      <td>0.013230</td>\n",
       "      <td>0.006936</td>\n",
       "      <td>0.006902</td>\n",
       "      <td>0.009227</td>\n",
       "      <td>0.012304</td>\n",
       "      <td>0.020061</td>\n",
       "      <td>0.019358</td>\n",
       "      <td>0.013224</td>\n",
       "      <td>0.015395</td>\n",
       "      <td>...</td>\n",
       "      <td>0.008228</td>\n",
       "      <td>0.020879</td>\n",
       "      <td>0.030701</td>\n",
       "      <td>0.019302</td>\n",
       "      <td>0.020135</td>\n",
       "      <td>0.015537</td>\n",
       "      <td>0.016991</td>\n",
       "      <td>0.027470</td>\n",
       "      <td>-0.004487</td>\n",
       "      <td>0</td>\n",
       "    </tr>\n",
       "    <tr>\n",
       "      <th>3</th>\n",
       "      <td>Alto Da Boa Vista</td>\n",
       "      <td>0.014133</td>\n",
       "      <td>0.008479</td>\n",
       "      <td>0.009388</td>\n",
       "      <td>0.010237</td>\n",
       "      <td>0.011032</td>\n",
       "      <td>0.014973</td>\n",
       "      <td>0.018703</td>\n",
       "      <td>0.015972</td>\n",
       "      <td>0.021598</td>\n",
       "      <td>...</td>\n",
       "      <td>0.015255</td>\n",
       "      <td>0.020310</td>\n",
       "      <td>0.024344</td>\n",
       "      <td>0.028394</td>\n",
       "      <td>0.022540</td>\n",
       "      <td>0.027643</td>\n",
       "      <td>0.019149</td>\n",
       "      <td>0.048598</td>\n",
       "      <td>0.082561</td>\n",
       "      <td>1</td>\n",
       "    </tr>\n",
       "    <tr>\n",
       "      <th>4</th>\n",
       "      <td>Anchieta</td>\n",
       "      <td>0.085476</td>\n",
       "      <td>0.062377</td>\n",
       "      <td>0.067254</td>\n",
       "      <td>0.078145</td>\n",
       "      <td>0.075690</td>\n",
       "      <td>0.100269</td>\n",
       "      <td>0.116207</td>\n",
       "      <td>0.085766</td>\n",
       "      <td>0.089479</td>\n",
       "      <td>...</td>\n",
       "      <td>0.000000</td>\n",
       "      <td>0.056279</td>\n",
       "      <td>0.132834</td>\n",
       "      <td>0.154202</td>\n",
       "      <td>0.210234</td>\n",
       "      <td>0.216505</td>\n",
       "      <td>0.219742</td>\n",
       "      <td>0.011481</td>\n",
       "      <td>-0.739723</td>\n",
       "      <td>1</td>\n",
       "    </tr>\n",
       "  </tbody>\n",
       "</table>\n",
       "<p>5 rows × 21 columns</p>\n",
       "</div>"
      ],
      "text/plain": [
       "                nome  população  pop_ate9  pop_de10a14  pop_de15a19  \\\n",
       "0           Abolição   0.017235  0.008111     0.008405     0.010687   \n",
       "1              Acari   0.041040  0.041601     0.038893     0.042924   \n",
       "2         Água Santa   0.013230  0.006936     0.006902     0.009227   \n",
       "3  Alto Da Boa Vista   0.014133  0.008479     0.009388     0.010237   \n",
       "4           Anchieta   0.085476  0.062377     0.067254     0.078145   \n",
       "\n",
       "   pop_de20a24  pop_de25a34  pop_de35a49  pop_de50a59  pop_mais_de60  ...  \\\n",
       "0     0.012931     0.019132     0.021486     0.021289       0.031807  ...   \n",
       "1     0.043154     0.055548     0.050058     0.028717       0.026095  ...   \n",
       "2     0.012304     0.020061     0.019358     0.013224       0.015395  ...   \n",
       "3     0.011032     0.014973     0.018703     0.015972       0.021598  ...   \n",
       "4     0.075690     0.100269     0.116207     0.085766       0.089479  ...   \n",
       "\n",
       "   domicilios_a2  domicilios_b1  domicilios_b2  domicilios_c1  domicilios_c2  \\\n",
       "0       0.012427       0.036951       0.058483       0.032864       0.029291   \n",
       "1       0.000000       0.004238       0.023826       0.061469       0.096485   \n",
       "2       0.008228       0.020879       0.030701       0.019302       0.020135   \n",
       "3       0.015255       0.020310       0.024344       0.028394       0.022540   \n",
       "4       0.000000       0.056279       0.132834       0.154202       0.210234   \n",
       "\n",
       "   domicilios_d  domicilios_e  renda_media  faturamento  potencial  \n",
       "0      0.018563      0.020363     0.029209     0.129006          1  \n",
       "1      0.166868      0.168836     0.004381    -0.657741          0  \n",
       "2      0.015537      0.016991     0.027470    -0.004487          0  \n",
       "3      0.027643      0.019149     0.048598     0.082561          1  \n",
       "4      0.216505      0.219742     0.011481    -0.739723          1  \n",
       "\n",
       "[5 rows x 21 columns]"
      ]
     },
     "execution_count": 33,
     "metadata": {},
     "output_type": "execute_result"
    }
   ],
   "source": [
    "df5.head()"
   ]
  },
  {
   "cell_type": "markdown",
   "id": "12ae3aa1",
   "metadata": {},
   "source": [
    "## 5.1 Random Forest Selection"
   ]
  },
  {
   "cell_type": "code",
   "execution_count": 34,
   "id": "97a33b09",
   "metadata": {
    "ExecuteTime": {
     "end_time": "2023-07-05T15:21:53.947258Z",
     "start_time": "2023-07-05T15:21:53.932341Z"
    }
   },
   "outputs": [],
   "source": [
    "X_train = df5.drop(['nome','faturamento','potencial'], axis=1).copy()\n",
    "y_train = df5['faturamento'].copy()"
   ]
  },
  {
   "cell_type": "code",
   "execution_count": 35,
   "id": "0946655e",
   "metadata": {
    "ExecuteTime": {
     "end_time": "2023-07-05T15:21:54.087305Z",
     "start_time": "2023-07-05T15:21:53.949293Z"
    }
   },
   "outputs": [
    {
     "data": {
      "text/html": [
       "<style>#sk-container-id-1 {color: black;}#sk-container-id-1 pre{padding: 0;}#sk-container-id-1 div.sk-toggleable {background-color: white;}#sk-container-id-1 label.sk-toggleable__label {cursor: pointer;display: block;width: 100%;margin-bottom: 0;padding: 0.3em;box-sizing: border-box;text-align: center;}#sk-container-id-1 label.sk-toggleable__label-arrow:before {content: \"▸\";float: left;margin-right: 0.25em;color: #696969;}#sk-container-id-1 label.sk-toggleable__label-arrow:hover:before {color: black;}#sk-container-id-1 div.sk-estimator:hover label.sk-toggleable__label-arrow:before {color: black;}#sk-container-id-1 div.sk-toggleable__content {max-height: 0;max-width: 0;overflow: hidden;text-align: left;background-color: #f0f8ff;}#sk-container-id-1 div.sk-toggleable__content pre {margin: 0.2em;color: black;border-radius: 0.25em;background-color: #f0f8ff;}#sk-container-id-1 input.sk-toggleable__control:checked~div.sk-toggleable__content {max-height: 200px;max-width: 100%;overflow: auto;}#sk-container-id-1 input.sk-toggleable__control:checked~label.sk-toggleable__label-arrow:before {content: \"▾\";}#sk-container-id-1 div.sk-estimator input.sk-toggleable__control:checked~label.sk-toggleable__label {background-color: #d4ebff;}#sk-container-id-1 div.sk-label input.sk-toggleable__control:checked~label.sk-toggleable__label {background-color: #d4ebff;}#sk-container-id-1 input.sk-hidden--visually {border: 0;clip: rect(1px 1px 1px 1px);clip: rect(1px, 1px, 1px, 1px);height: 1px;margin: -1px;overflow: hidden;padding: 0;position: absolute;width: 1px;}#sk-container-id-1 div.sk-estimator {font-family: monospace;background-color: #f0f8ff;border: 1px dotted black;border-radius: 0.25em;box-sizing: border-box;margin-bottom: 0.5em;}#sk-container-id-1 div.sk-estimator:hover {background-color: #d4ebff;}#sk-container-id-1 div.sk-parallel-item::after {content: \"\";width: 100%;border-bottom: 1px solid gray;flex-grow: 1;}#sk-container-id-1 div.sk-label:hover label.sk-toggleable__label {background-color: #d4ebff;}#sk-container-id-1 div.sk-serial::before {content: \"\";position: absolute;border-left: 1px solid gray;box-sizing: border-box;top: 0;bottom: 0;left: 50%;z-index: 0;}#sk-container-id-1 div.sk-serial {display: flex;flex-direction: column;align-items: center;background-color: white;padding-right: 0.2em;padding-left: 0.2em;position: relative;}#sk-container-id-1 div.sk-item {position: relative;z-index: 1;}#sk-container-id-1 div.sk-parallel {display: flex;align-items: stretch;justify-content: center;background-color: white;position: relative;}#sk-container-id-1 div.sk-item::before, #sk-container-id-1 div.sk-parallel-item::before {content: \"\";position: absolute;border-left: 1px solid gray;box-sizing: border-box;top: 0;bottom: 0;left: 50%;z-index: -1;}#sk-container-id-1 div.sk-parallel-item {display: flex;flex-direction: column;z-index: 1;position: relative;background-color: white;}#sk-container-id-1 div.sk-parallel-item:first-child::after {align-self: flex-end;width: 50%;}#sk-container-id-1 div.sk-parallel-item:last-child::after {align-self: flex-start;width: 50%;}#sk-container-id-1 div.sk-parallel-item:only-child::after {width: 0;}#sk-container-id-1 div.sk-dashed-wrapped {border: 1px dashed gray;margin: 0 0.4em 0.5em 0.4em;box-sizing: border-box;padding-bottom: 0.4em;background-color: white;}#sk-container-id-1 div.sk-label label {font-family: monospace;font-weight: bold;display: inline-block;line-height: 1.2em;}#sk-container-id-1 div.sk-label-container {text-align: center;}#sk-container-id-1 div.sk-container {/* jupyter's `normalize.less` sets `[hidden] { display: none; }` but bootstrap.min.css set `[hidden] { display: none !important; }` so we also need the `!important` here to be able to override the default hidden behavior on the sphinx rendered scikit-learn.org. See: https://github.com/scikit-learn/scikit-learn/issues/21755 */display: inline-block !important;position: relative;}#sk-container-id-1 div.sk-text-repr-fallback {display: none;}</style><div id=\"sk-container-id-1\" class=\"sk-top-container\"><div class=\"sk-text-repr-fallback\"><pre>RandomForestRegressor(n_jobs=-1)</pre><b>In a Jupyter environment, please rerun this cell to show the HTML representation or trust the notebook. <br />On GitHub, the HTML representation is unable to render, please try loading this page with nbviewer.org.</b></div><div class=\"sk-container\" hidden><div class=\"sk-item\"><div class=\"sk-estimator sk-toggleable\"><input class=\"sk-toggleable__control sk-hidden--visually\" id=\"sk-estimator-id-1\" type=\"checkbox\" checked><label for=\"sk-estimator-id-1\" class=\"sk-toggleable__label sk-toggleable__label-arrow\">RandomForestRegressor</label><div class=\"sk-toggleable__content\"><pre>RandomForestRegressor(n_jobs=-1)</pre></div></div></div></div></div>"
      ],
      "text/plain": [
       "RandomForestRegressor(n_jobs=-1)"
      ]
     },
     "execution_count": 35,
     "metadata": {},
     "output_type": "execute_result"
    }
   ],
   "source": [
    "rf = RandomForestRegressor(n_jobs=-1)\n",
    "\n",
    "rf.fit(X_train, y_train)"
   ]
  },
  {
   "cell_type": "code",
   "execution_count": 36,
   "id": "d45db052",
   "metadata": {
    "ExecuteTime": {
     "end_time": "2023-07-05T15:21:54.133383Z",
     "start_time": "2023-07-05T15:21:54.089902Z"
    }
   },
   "outputs": [],
   "source": [
    "importances = rf.feature_importances_\n",
    "columns_importances = X_train.columns"
   ]
  },
  {
   "cell_type": "code",
   "execution_count": 37,
   "id": "4b44bd23",
   "metadata": {
    "ExecuteTime": {
     "end_time": "2023-07-05T15:21:54.148640Z",
     "start_time": "2023-07-05T15:21:54.135457Z"
    }
   },
   "outputs": [],
   "source": [
    "importance_dict = {}\n",
    "for key, value in zip(columns_importances, importances):\n",
    "    importance_dict[key] = value\n",
    "    \n",
    "df_importance = pd.DataFrame(importance_dict, index=[0]).T.rename(columns={0:'Ranking'})"
   ]
  },
  {
   "cell_type": "code",
   "execution_count": 38,
   "id": "d304cfca",
   "metadata": {
    "ExecuteTime": {
     "end_time": "2023-07-05T15:21:54.164315Z",
     "start_time": "2023-07-05T15:21:54.149674Z"
    }
   },
   "outputs": [
    {
     "data": {
      "text/html": [
       "<div>\n",
       "<style scoped>\n",
       "    .dataframe tbody tr th:only-of-type {\n",
       "        vertical-align: middle;\n",
       "    }\n",
       "\n",
       "    .dataframe tbody tr th {\n",
       "        vertical-align: top;\n",
       "    }\n",
       "\n",
       "    .dataframe thead th {\n",
       "        text-align: right;\n",
       "    }\n",
       "</style>\n",
       "<table border=\"1\" class=\"dataframe\">\n",
       "  <thead>\n",
       "    <tr style=\"text-align: right;\">\n",
       "      <th></th>\n",
       "      <th>Ranking</th>\n",
       "    </tr>\n",
       "  </thead>\n",
       "  <tbody>\n",
       "    <tr>\n",
       "      <th>domicilios_a1</th>\n",
       "      <td>0.555250</td>\n",
       "    </tr>\n",
       "    <tr>\n",
       "      <th>domicilios_e</th>\n",
       "      <td>0.140612</td>\n",
       "    </tr>\n",
       "    <tr>\n",
       "      <th>domicilios_a2</th>\n",
       "      <td>0.130013</td>\n",
       "    </tr>\n",
       "    <tr>\n",
       "      <th>domicilios_d</th>\n",
       "      <td>0.065572</td>\n",
       "    </tr>\n",
       "    <tr>\n",
       "      <th>renda_media</th>\n",
       "      <td>0.049172</td>\n",
       "    </tr>\n",
       "    <tr>\n",
       "      <th>domicilios_c2</th>\n",
       "      <td>0.013818</td>\n",
       "    </tr>\n",
       "    <tr>\n",
       "      <th>pop_ate9</th>\n",
       "      <td>0.011189</td>\n",
       "    </tr>\n",
       "    <tr>\n",
       "      <th>pop_mais_de60</th>\n",
       "      <td>0.009133</td>\n",
       "    </tr>\n",
       "    <tr>\n",
       "      <th>pop_de15a19</th>\n",
       "      <td>0.004251</td>\n",
       "    </tr>\n",
       "    <tr>\n",
       "      <th>domicilios_b1</th>\n",
       "      <td>0.004026</td>\n",
       "    </tr>\n",
       "    <tr>\n",
       "      <th>pop_de10a14</th>\n",
       "      <td>0.003461</td>\n",
       "    </tr>\n",
       "    <tr>\n",
       "      <th>pop_de25a34</th>\n",
       "      <td>0.003026</td>\n",
       "    </tr>\n",
       "    <tr>\n",
       "      <th>domicilios_b2</th>\n",
       "      <td>0.002714</td>\n",
       "    </tr>\n",
       "    <tr>\n",
       "      <th>pop_de20a24</th>\n",
       "      <td>0.002525</td>\n",
       "    </tr>\n",
       "    <tr>\n",
       "      <th>domicilios_c1</th>\n",
       "      <td>0.001848</td>\n",
       "    </tr>\n",
       "    <tr>\n",
       "      <th>pop_de35a49</th>\n",
       "      <td>0.001326</td>\n",
       "    </tr>\n",
       "    <tr>\n",
       "      <th>pop_de50a59</th>\n",
       "      <td>0.001175</td>\n",
       "    </tr>\n",
       "    <tr>\n",
       "      <th>população</th>\n",
       "      <td>0.000888</td>\n",
       "    </tr>\n",
       "  </tbody>\n",
       "</table>\n",
       "</div>"
      ],
      "text/plain": [
       "                Ranking\n",
       "domicilios_a1  0.555250\n",
       "domicilios_e   0.140612\n",
       "domicilios_a2  0.130013\n",
       "domicilios_d   0.065572\n",
       "renda_media    0.049172\n",
       "domicilios_c2  0.013818\n",
       "pop_ate9       0.011189\n",
       "pop_mais_de60  0.009133\n",
       "pop_de15a19    0.004251\n",
       "domicilios_b1  0.004026\n",
       "pop_de10a14    0.003461\n",
       "pop_de25a34    0.003026\n",
       "domicilios_b2  0.002714\n",
       "pop_de20a24    0.002525\n",
       "domicilios_c1  0.001848\n",
       "pop_de35a49    0.001326\n",
       "pop_de50a59    0.001175\n",
       "população      0.000888"
      ]
     },
     "execution_count": 38,
     "metadata": {},
     "output_type": "execute_result"
    }
   ],
   "source": [
    "df_importance.sort_values(by='Ranking', ascending=False)"
   ]
  },
  {
   "cell_type": "markdown",
   "id": "88a8aaeb",
   "metadata": {},
   "source": [
    "# 6.0 Machine Learning Regression"
   ]
  },
  {
   "cell_type": "markdown",
   "id": "7a587836",
   "metadata": {},
   "source": [
    "## 6.1 Split Test and Training"
   ]
  },
  {
   "cell_type": "code",
   "execution_count": 119,
   "id": "11327055",
   "metadata": {
    "ExecuteTime": {
     "end_time": "2023-07-05T16:27:10.916990Z",
     "start_time": "2023-07-05T16:27:10.900529Z"
    }
   },
   "outputs": [],
   "source": [
    "X_train = df5.drop(['nome','faturamento','potencial', 'população'], axis=1).copy()\n",
    "y_train = df5['faturamento'].copy()"
   ]
  },
  {
   "cell_type": "code",
   "execution_count": 121,
   "id": "6734e0df",
   "metadata": {
    "ExecuteTime": {
     "end_time": "2023-07-05T16:27:11.229427Z",
     "start_time": "2023-07-05T16:27:11.213456Z"
    }
   },
   "outputs": [],
   "source": [
    "model_list = [LinearRegression, \n",
    "              SVR,  \n",
    "              RandomForestRegressor, \n",
    "              XGBRegressor, \n",
    "              LGBMRegressor,\n",
    "              CatBoostRegressor]"
   ]
  },
  {
   "cell_type": "code",
   "execution_count": 122,
   "id": "10b24003",
   "metadata": {
    "ExecuteTime": {
     "end_time": "2023-07-05T16:27:21.997427Z",
     "start_time": "2023-07-05T16:27:11.364578Z"
    }
   },
   "outputs": [
    {
     "name": "stdout",
     "output_type": "stream",
     "text": [
      "LinearRegression       R2 Score: 0.018 +/- 2.374 \n",
      "SVR                    R2 Score: 0.694 +/- 0.346 \n",
      "RandomForestRegressor  R2 Score: 0.891 +/- 0.065 \n",
      "XGBRegressor           R2 Score: 0.909 +/- 0.054 \n",
      "LGBMRegressor          R2 Score: 0.682 +/- 0.312 \n",
      "CatBoostRegressor      R2 Score: 0.915 +/- 0.064 \n"
     ]
    }
   ],
   "source": [
    "for model in model_list:\n",
    "    if model.__name__ == 'CatBoostRegressor':\n",
    "        mds = model(verbose=False)\n",
    "    else:\n",
    "        mds = model()\n",
    "    kfold = ms.KFold(n_splits=10)\n",
    "    s = ms.cross_val_score(mds, X_train, y_train, scoring='r2', cv=kfold)\n",
    "    print(f\"{model.__name__:22} R2 Score: {s.mean():.3f} +/- {s.std():.3f} \")"
   ]
  },
  {
   "cell_type": "markdown",
   "id": "657535ef",
   "metadata": {},
   "source": [
    "## 6.2 Split Training Validation"
   ]
  },
  {
   "cell_type": "code",
   "execution_count": 123,
   "id": "149ce6bb",
   "metadata": {
    "ExecuteTime": {
     "end_time": "2023-07-05T16:27:22.013156Z",
     "start_time": "2023-07-05T16:27:21.998883Z"
    }
   },
   "outputs": [],
   "source": [
    "X_train = df3.drop(['nome','faturamento','potencial','população'], axis=1).copy()\n",
    "y_train = df3['faturamento'].copy()\n",
    "X_train_reg, X_val, y_train_reg, y_val = ms.train_test_split(X_train, y_train, test_size=0.2, random_state=42)"
   ]
  },
  {
   "cell_type": "markdown",
   "id": "4969565e",
   "metadata": {},
   "source": [
    "## 6.3 Random Forest Regressor"
   ]
  },
  {
   "cell_type": "code",
   "execution_count": 124,
   "id": "0e9a1eef",
   "metadata": {
    "ExecuteTime": {
     "end_time": "2023-07-05T16:27:22.168642Z",
     "start_time": "2023-07-05T16:27:22.014647Z"
    }
   },
   "outputs": [],
   "source": [
    "model_rf = RandomForestRegressor(n_jobs=-1, random_state=42)\n",
    "\n",
    "model_rf.fit(X_train_reg, y_train_reg)\n",
    "\n",
    "yhat_rf = model_rf.predict(X_val)"
   ]
  },
  {
   "cell_type": "code",
   "execution_count": 125,
   "id": "900d195a",
   "metadata": {
    "ExecuteTime": {
     "end_time": "2023-07-05T16:27:22.184145Z",
     "start_time": "2023-07-05T16:27:22.171026Z"
    }
   },
   "outputs": [],
   "source": [
    "rf_error = regression_error(RandomForestRegressor, y_val, yhat_rf)"
   ]
  },
  {
   "cell_type": "markdown",
   "id": "d17733bc",
   "metadata": {},
   "source": [
    "## 6.4 XGBoost Regressor"
   ]
  },
  {
   "cell_type": "code",
   "execution_count": 126,
   "id": "0de7f4dd",
   "metadata": {
    "ExecuteTime": {
     "end_time": "2023-07-05T16:27:22.231761Z",
     "start_time": "2023-07-05T16:27:22.185165Z"
    }
   },
   "outputs": [],
   "source": [
    "model_xgb = XGBRegressor(random_state=42)\n",
    "\n",
    "model_xgb.fit(X_train_reg, y_train_reg)\n",
    "\n",
    "yhat_xgb = model_xgb.predict(X_val)"
   ]
  },
  {
   "cell_type": "code",
   "execution_count": 127,
   "id": "30ce7c96",
   "metadata": {
    "ExecuteTime": {
     "end_time": "2023-07-05T16:27:22.247294Z",
     "start_time": "2023-07-05T16:27:22.233263Z"
    }
   },
   "outputs": [],
   "source": [
    "xgb_error = regression_error(XGBRegressor, y_val, yhat_xgb)"
   ]
  },
  {
   "cell_type": "markdown",
   "id": "49ce84ff",
   "metadata": {},
   "source": [
    "## 6.5 CatboostRegressor"
   ]
  },
  {
   "cell_type": "code",
   "execution_count": 128,
   "id": "a33096f3",
   "metadata": {
    "ExecuteTime": {
     "end_time": "2023-07-05T16:27:22.948529Z",
     "start_time": "2023-07-05T16:27:22.248796Z"
    }
   },
   "outputs": [],
   "source": [
    "model_cat = CatBoostRegressor(random_state=42, verbose=False)\n",
    "\n",
    "model_cat.fit(X_train_reg, y_train_reg)\n",
    "\n",
    "cat_error = yhat_cat = model_cat.predict(X_val)"
   ]
  },
  {
   "cell_type": "code",
   "execution_count": 129,
   "id": "081d92fe",
   "metadata": {
    "ExecuteTime": {
     "end_time": "2023-07-05T16:27:22.964362Z",
     "start_time": "2023-07-05T16:27:22.950035Z"
    }
   },
   "outputs": [],
   "source": [
    "cat_error = regression_error(CatBoostRegressor, y_val, yhat_cat)"
   ]
  },
  {
   "cell_type": "markdown",
   "id": "f912bc6b",
   "metadata": {},
   "source": [
    "## 6.6 Compare Models"
   ]
  },
  {
   "cell_type": "code",
   "execution_count": 130,
   "id": "e384b2dc",
   "metadata": {
    "ExecuteTime": {
     "end_time": "2023-07-05T16:27:22.979735Z",
     "start_time": "2023-07-05T16:27:22.966397Z"
    }
   },
   "outputs": [
    {
     "data": {
      "text/html": [
       "<div>\n",
       "<style scoped>\n",
       "    .dataframe tbody tr th:only-of-type {\n",
       "        vertical-align: middle;\n",
       "    }\n",
       "\n",
       "    .dataframe tbody tr th {\n",
       "        vertical-align: top;\n",
       "    }\n",
       "\n",
       "    .dataframe thead th {\n",
       "        text-align: right;\n",
       "    }\n",
       "</style>\n",
       "<table border=\"1\" class=\"dataframe\">\n",
       "  <thead>\n",
       "    <tr style=\"text-align: right;\">\n",
       "      <th></th>\n",
       "      <th>Modelo</th>\n",
       "      <th>MAE</th>\n",
       "      <th>MAPE</th>\n",
       "      <th>RMSE</th>\n",
       "    </tr>\n",
       "  </thead>\n",
       "  <tbody>\n",
       "    <tr>\n",
       "      <th>0</th>\n",
       "      <td>XGBRegressor</td>\n",
       "      <td>89615.654297</td>\n",
       "      <td>0.084388</td>\n",
       "      <td>144950.063939</td>\n",
       "    </tr>\n",
       "    <tr>\n",
       "      <th>0</th>\n",
       "      <td>RandomForestRegressor</td>\n",
       "      <td>98732.970937</td>\n",
       "      <td>0.098346</td>\n",
       "      <td>179665.377563</td>\n",
       "    </tr>\n",
       "    <tr>\n",
       "      <th>0</th>\n",
       "      <td>CatBoostRegressor</td>\n",
       "      <td>110693.850146</td>\n",
       "      <td>0.086367</td>\n",
       "      <td>266895.013831</td>\n",
       "    </tr>\n",
       "  </tbody>\n",
       "</table>\n",
       "</div>"
      ],
      "text/plain": [
       "                  Modelo            MAE      MAPE           RMSE\n",
       "0           XGBRegressor   89615.654297  0.084388  144950.063939\n",
       "0  RandomForestRegressor   98732.970937  0.098346  179665.377563\n",
       "0      CatBoostRegressor  110693.850146  0.086367  266895.013831"
      ]
     },
     "execution_count": 130,
     "metadata": {},
     "output_type": "execute_result"
    }
   ],
   "source": [
    "df_compare = pd.DataFrame()\n",
    "df_compare = pd.concat([rf_error, xgb_error, cat_error])\n",
    "df_compare.sort_values(by='RMSE')"
   ]
  },
  {
   "cell_type": "markdown",
   "id": "1665e039",
   "metadata": {},
   "source": [
    "## 6.5 Cross Validation"
   ]
  },
  {
   "cell_type": "code",
   "execution_count": 131,
   "id": "764cfe6b",
   "metadata": {
    "ExecuteTime": {
     "end_time": "2023-07-05T16:27:33.174290Z",
     "start_time": "2023-07-05T16:27:22.981799Z"
    }
   },
   "outputs": [
    {
     "name": "stdout",
     "output_type": "stream",
     "text": [
      "RandomForestRegressor  MAPE: -0.196 +/- 0.102 \n",
      "XGBRegressor           MAPE: -0.175 +/- 0.104 \n",
      "CatBoostRegressor      MAPE: -0.174 +/- 0.106 \n"
     ]
    }
   ],
   "source": [
    "model_cross_list = [RandomForestRegressor, \n",
    "                    XGBRegressor, \n",
    "                    CatBoostRegressor]\n",
    "\n",
    "for model in model_cross_list:\n",
    "    if model == CatBoostRegressor:\n",
    "        mds = model(verbose=False)\n",
    "    else:\n",
    "        mds = model()\n",
    "    kfold = ms.KFold(n_splits=10)\n",
    "    s = ms.cross_val_score(mds, X_train, y_train, scoring='neg_mean_absolute_percentage_error', cv=kfold)\n",
    "    print(f\"{model.__name__:22} MAPE: {s.mean():.3f} +/- {s.std():.3f} \")"
   ]
  },
  {
   "cell_type": "markdown",
   "id": "5cf56c06",
   "metadata": {},
   "source": [
    "# 7.0 Modelo Escolhido XGBoost"
   ]
  },
  {
   "cell_type": "markdown",
   "id": "6d2c1677",
   "metadata": {},
   "source": [
    "## 7.1 Fine Tunning"
   ]
  },
  {
   "cell_type": "code",
   "execution_count": 139,
   "id": "447dcca8",
   "metadata": {
    "ExecuteTime": {
     "end_time": "2023-07-05T16:51:47.243163Z",
     "start_time": "2023-07-05T16:51:47.229822Z"
    }
   },
   "outputs": [],
   "source": [
    "# param_space = {\n",
    "#     'learning_rate': (0.01, 0.2),\n",
    "#     'n_estimators': (50, 1000),\n",
    "#     'max_depth': (3, 10),\n",
    "#     'subsample': (0.5, 1),\n",
    "#     'colsample_bytree': (0.5, 1),\n",
    "#     'gamma': (0, 10),\n",
    "#     'min_child_weight': (1, 10),\n",
    "#     'reg_alpha': (0, 1),\n",
    "#     'reg_lambda': (0, 1)\n",
    "# }\n",
    "\n",
    "# bayes_search = skopt.BayesSearchCV(estimator=XGBRegressor(), search_spaces=param_space, scoring='neg_mean_absolute_percentage_error', n_iter=50, random_state=42)\n",
    "# random_search = ms.RandomizedSearchCV(estimator=XGBRegressor(), param_distributions=param_space, scoring='neg_mean_absolute_percentage_error', n_iter=50, random_state=42)"
   ]
  },
  {
   "cell_type": "code",
   "execution_count": 142,
   "id": "18bdc887",
   "metadata": {
    "ExecuteTime": {
     "end_time": "2023-07-05T16:58:10.638656Z",
     "start_time": "2023-07-05T16:56:19.157787Z"
    }
   },
   "outputs": [
    {
     "data": {
      "text/html": [
       "<div>\n",
       "<style scoped>\n",
       "    .dataframe tbody tr th:only-of-type {\n",
       "        vertical-align: middle;\n",
       "    }\n",
       "\n",
       "    .dataframe tbody tr th {\n",
       "        vertical-align: top;\n",
       "    }\n",
       "\n",
       "    .dataframe thead th {\n",
       "        text-align: right;\n",
       "    }\n",
       "</style>\n",
       "<table border=\"1\" class=\"dataframe\">\n",
       "  <thead>\n",
       "    <tr style=\"text-align: right;\">\n",
       "      <th></th>\n",
       "      <th>Modelo</th>\n",
       "      <th>MAE</th>\n",
       "      <th>MAPE</th>\n",
       "      <th>RMSE</th>\n",
       "    </tr>\n",
       "  </thead>\n",
       "  <tbody>\n",
       "    <tr>\n",
       "      <th>0</th>\n",
       "      <td>XGBRegressor</td>\n",
       "      <td>77923.543457</td>\n",
       "      <td>0.077828</td>\n",
       "      <td>126806.089788</td>\n",
       "    </tr>\n",
       "  </tbody>\n",
       "</table>\n",
       "</div>"
      ],
      "text/plain": [
       "         Modelo           MAE      MAPE           RMSE\n",
       "0  XGBRegressor  77923.543457  0.077828  126806.089788"
      ]
     },
     "execution_count": 142,
     "metadata": {},
     "output_type": "execute_result"
    }
   ],
   "source": [
    "# bayes_search.fit(X_train, y_train)\n",
    "# best_params = bayes_search.best_params_\n",
    "# final_model = XGBRegressor(**best_params, random_state=42)\n",
    "\n",
    "# final_model.fit(X_train_reg, y_train_reg)\n",
    "\n",
    "# yhat_final_xgb = final_model.predict(X_val)\n",
    "# regression_error(XGBRegressor, y_val, yhat_final_xgb)"
   ]
  },
  {
   "cell_type": "code",
   "execution_count": 140,
   "id": "16562cfd",
   "metadata": {
    "ExecuteTime": {
     "end_time": "2023-07-05T16:53:05.712065Z",
     "start_time": "2023-07-05T16:52:28.108336Z"
    }
   },
   "outputs": [
    {
     "data": {
      "text/html": [
       "<div>\n",
       "<style scoped>\n",
       "    .dataframe tbody tr th:only-of-type {\n",
       "        vertical-align: middle;\n",
       "    }\n",
       "\n",
       "    .dataframe tbody tr th {\n",
       "        vertical-align: top;\n",
       "    }\n",
       "\n",
       "    .dataframe thead th {\n",
       "        text-align: right;\n",
       "    }\n",
       "</style>\n",
       "<table border=\"1\" class=\"dataframe\">\n",
       "  <thead>\n",
       "    <tr style=\"text-align: right;\">\n",
       "      <th></th>\n",
       "      <th>Modelo</th>\n",
       "      <th>MAE</th>\n",
       "      <th>MAPE</th>\n",
       "      <th>RMSE</th>\n",
       "    </tr>\n",
       "  </thead>\n",
       "  <tbody>\n",
       "    <tr>\n",
       "      <th>0</th>\n",
       "      <td>XGBRegressor</td>\n",
       "      <td>108359.260254</td>\n",
       "      <td>0.110697</td>\n",
       "      <td>155935.239584</td>\n",
       "    </tr>\n",
       "  </tbody>\n",
       "</table>\n",
       "</div>"
      ],
      "text/plain": [
       "         Modelo            MAE      MAPE           RMSE\n",
       "0  XGBRegressor  108359.260254  0.110697  155935.239584"
      ]
     },
     "execution_count": 140,
     "metadata": {},
     "output_type": "execute_result"
    }
   ],
   "source": [
    "# random_search.fit(X_train, y_train)\n",
    "# best_params_random = random_search.6best_params_\n",
    "# final_model_random = XGBRegressor(**best_params_random, random_state=42)\n",
    "\n",
    "# final_model_random.fit(X_train_reg, y_train_reg)\n",
    "\n",
    "# yhat_final_xgb_random = final_model_random.predict(X_val)\n",
    "# regression_error(XGBRegressor, y_val, yhat_final_xgb_random)"
   ]
  },
  {
   "cell_type": "markdown",
   "id": "5344670c",
   "metadata": {},
   "source": [
    "## 7.2 Final Model"
   ]
  },
  {
   "cell_type": "code",
   "execution_count": 148,
   "id": "c15b7f6b",
   "metadata": {
    "ExecuteTime": {
     "end_time": "2023-07-05T17:02:47.430589Z",
     "start_time": "2023-07-05T17:02:47.418194Z"
    }
   },
   "outputs": [],
   "source": [
    "best_params_xgb = {\n",
    "    'colsample_bytree': 1.0,\n",
    "    'gamma': 10,\n",
    "    'learning_rate': 0.16310823419508239,\n",
    "    'max_depth': 10,\n",
    "    'min_child_weight': 4,\n",
    "    'n_estimators': 1000,\n",
    "    'reg_alpha': 0,\n",
    "    'reg_lambda': 0,\n",
    "    'subsample': 1.0\n",
    "}"
   ]
  },
  {
   "cell_type": "code",
   "execution_count": 149,
   "id": "8ed79502",
   "metadata": {
    "ExecuteTime": {
     "end_time": "2023-07-05T17:02:48.319704Z",
     "start_time": "2023-07-05T17:02:48.314196Z"
    }
   },
   "outputs": [],
   "source": [
    "xgb_final = XGBRegressor(**best_params_xgb, random_state=42)"
   ]
  },
  {
   "cell_type": "code",
   "execution_count": 152,
   "id": "afd61557",
   "metadata": {
    "ExecuteTime": {
     "end_time": "2023-07-05T17:05:23.798254Z",
     "start_time": "2023-07-05T17:05:23.337616Z"
    }
   },
   "outputs": [
    {
     "data": {
      "text/html": [
       "<style>#sk-container-id-3 {color: black;}#sk-container-id-3 pre{padding: 0;}#sk-container-id-3 div.sk-toggleable {background-color: white;}#sk-container-id-3 label.sk-toggleable__label {cursor: pointer;display: block;width: 100%;margin-bottom: 0;padding: 0.3em;box-sizing: border-box;text-align: center;}#sk-container-id-3 label.sk-toggleable__label-arrow:before {content: \"▸\";float: left;margin-right: 0.25em;color: #696969;}#sk-container-id-3 label.sk-toggleable__label-arrow:hover:before {color: black;}#sk-container-id-3 div.sk-estimator:hover label.sk-toggleable__label-arrow:before {color: black;}#sk-container-id-3 div.sk-toggleable__content {max-height: 0;max-width: 0;overflow: hidden;text-align: left;background-color: #f0f8ff;}#sk-container-id-3 div.sk-toggleable__content pre {margin: 0.2em;color: black;border-radius: 0.25em;background-color: #f0f8ff;}#sk-container-id-3 input.sk-toggleable__control:checked~div.sk-toggleable__content {max-height: 200px;max-width: 100%;overflow: auto;}#sk-container-id-3 input.sk-toggleable__control:checked~label.sk-toggleable__label-arrow:before {content: \"▾\";}#sk-container-id-3 div.sk-estimator input.sk-toggleable__control:checked~label.sk-toggleable__label {background-color: #d4ebff;}#sk-container-id-3 div.sk-label input.sk-toggleable__control:checked~label.sk-toggleable__label {background-color: #d4ebff;}#sk-container-id-3 input.sk-hidden--visually {border: 0;clip: rect(1px 1px 1px 1px);clip: rect(1px, 1px, 1px, 1px);height: 1px;margin: -1px;overflow: hidden;padding: 0;position: absolute;width: 1px;}#sk-container-id-3 div.sk-estimator {font-family: monospace;background-color: #f0f8ff;border: 1px dotted black;border-radius: 0.25em;box-sizing: border-box;margin-bottom: 0.5em;}#sk-container-id-3 div.sk-estimator:hover {background-color: #d4ebff;}#sk-container-id-3 div.sk-parallel-item::after {content: \"\";width: 100%;border-bottom: 1px solid gray;flex-grow: 1;}#sk-container-id-3 div.sk-label:hover label.sk-toggleable__label {background-color: #d4ebff;}#sk-container-id-3 div.sk-serial::before {content: \"\";position: absolute;border-left: 1px solid gray;box-sizing: border-box;top: 0;bottom: 0;left: 50%;z-index: 0;}#sk-container-id-3 div.sk-serial {display: flex;flex-direction: column;align-items: center;background-color: white;padding-right: 0.2em;padding-left: 0.2em;position: relative;}#sk-container-id-3 div.sk-item {position: relative;z-index: 1;}#sk-container-id-3 div.sk-parallel {display: flex;align-items: stretch;justify-content: center;background-color: white;position: relative;}#sk-container-id-3 div.sk-item::before, #sk-container-id-3 div.sk-parallel-item::before {content: \"\";position: absolute;border-left: 1px solid gray;box-sizing: border-box;top: 0;bottom: 0;left: 50%;z-index: -1;}#sk-container-id-3 div.sk-parallel-item {display: flex;flex-direction: column;z-index: 1;position: relative;background-color: white;}#sk-container-id-3 div.sk-parallel-item:first-child::after {align-self: flex-end;width: 50%;}#sk-container-id-3 div.sk-parallel-item:last-child::after {align-self: flex-start;width: 50%;}#sk-container-id-3 div.sk-parallel-item:only-child::after {width: 0;}#sk-container-id-3 div.sk-dashed-wrapped {border: 1px dashed gray;margin: 0 0.4em 0.5em 0.4em;box-sizing: border-box;padding-bottom: 0.4em;background-color: white;}#sk-container-id-3 div.sk-label label {font-family: monospace;font-weight: bold;display: inline-block;line-height: 1.2em;}#sk-container-id-3 div.sk-label-container {text-align: center;}#sk-container-id-3 div.sk-container {/* jupyter's `normalize.less` sets `[hidden] { display: none; }` but bootstrap.min.css set `[hidden] { display: none !important; }` so we also need the `!important` here to be able to override the default hidden behavior on the sphinx rendered scikit-learn.org. See: https://github.com/scikit-learn/scikit-learn/issues/21755 */display: inline-block !important;position: relative;}#sk-container-id-3 div.sk-text-repr-fallback {display: none;}</style><div id=\"sk-container-id-3\" class=\"sk-top-container\"><div class=\"sk-text-repr-fallback\"><pre>XGBRegressor(base_score=None, booster=None, callbacks=None,\n",
       "             colsample_bylevel=None, colsample_bynode=None,\n",
       "             colsample_bytree=1.0, early_stopping_rounds=None,\n",
       "             enable_categorical=False, eval_metric=None, feature_types=None,\n",
       "             gamma=10, gpu_id=None, grow_policy=None, importance_type=None,\n",
       "             interaction_constraints=None, learning_rate=0.16310823419508239,\n",
       "             max_bin=None, max_cat_threshold=None, max_cat_to_onehot=None,\n",
       "             max_delta_step=None, max_depth=10, max_leaves=None,\n",
       "             min_child_weight=4, missing=nan, monotone_constraints=None,\n",
       "             n_estimators=1000, n_jobs=None, num_parallel_tree=None,\n",
       "             predictor=None, random_state=42, ...)</pre><b>In a Jupyter environment, please rerun this cell to show the HTML representation or trust the notebook. <br />On GitHub, the HTML representation is unable to render, please try loading this page with nbviewer.org.</b></div><div class=\"sk-container\" hidden><div class=\"sk-item\"><div class=\"sk-estimator sk-toggleable\"><input class=\"sk-toggleable__control sk-hidden--visually\" id=\"sk-estimator-id-3\" type=\"checkbox\" checked><label for=\"sk-estimator-id-3\" class=\"sk-toggleable__label sk-toggleable__label-arrow\">XGBRegressor</label><div class=\"sk-toggleable__content\"><pre>XGBRegressor(base_score=None, booster=None, callbacks=None,\n",
       "             colsample_bylevel=None, colsample_bynode=None,\n",
       "             colsample_bytree=1.0, early_stopping_rounds=None,\n",
       "             enable_categorical=False, eval_metric=None, feature_types=None,\n",
       "             gamma=10, gpu_id=None, grow_policy=None, importance_type=None,\n",
       "             interaction_constraints=None, learning_rate=0.16310823419508239,\n",
       "             max_bin=None, max_cat_threshold=None, max_cat_to_onehot=None,\n",
       "             max_delta_step=None, max_depth=10, max_leaves=None,\n",
       "             min_child_weight=4, missing=nan, monotone_constraints=None,\n",
       "             n_estimators=1000, n_jobs=None, num_parallel_tree=None,\n",
       "             predictor=None, random_state=42, ...)</pre></div></div></div></div></div>"
      ],
      "text/plain": [
       "XGBRegressor(base_score=None, booster=None, callbacks=None,\n",
       "             colsample_bylevel=None, colsample_bynode=None,\n",
       "             colsample_bytree=1.0, early_stopping_rounds=None,\n",
       "             enable_categorical=False, eval_metric=None, feature_types=None,\n",
       "             gamma=10, gpu_id=None, grow_policy=None, importance_type=None,\n",
       "             interaction_constraints=None, learning_rate=0.16310823419508239,\n",
       "             max_bin=None, max_cat_threshold=None, max_cat_to_onehot=None,\n",
       "             max_delta_step=None, max_depth=10, max_leaves=None,\n",
       "             min_child_weight=4, missing=nan, monotone_constraints=None,\n",
       "             n_estimators=1000, n_jobs=None, num_parallel_tree=None,\n",
       "             predictor=None, random_state=42, ...)"
      ]
     },
     "execution_count": 152,
     "metadata": {},
     "output_type": "execute_result"
    }
   ],
   "source": [
    "xgb_final.fit(X_train, y_train)"
   ]
  },
  {
   "cell_type": "markdown",
   "id": "1da9e161",
   "metadata": {},
   "source": [
    "# 8.0 Predict on Test"
   ]
  },
  {
   "cell_type": "code",
   "execution_count": 156,
   "id": "82fe5e5e",
   "metadata": {
    "ExecuteTime": {
     "end_time": "2023-07-05T17:06:30.522067Z",
     "start_time": "2023-07-05T17:06:30.515499Z"
    }
   },
   "outputs": [],
   "source": [
    "X_test_reg = rename_columns(X_test)\n",
    "X_test_reg['renda_media'] = X_test_reg['renda_media'].replace('-', np.nan)\n",
    "X_test_reg['renda_media'] = X_test_reg['renda_media'].astype(float)\n",
    "X_test_reg['renda_media'] = X_test_reg['renda_media'].fillna(X_test_reg['renda_media'].mean())"
   ]
  },
  {
   "cell_type": "code",
   "execution_count": 157,
   "id": "851d0d59",
   "metadata": {
    "ExecuteTime": {
     "end_time": "2023-07-05T17:06:31.966232Z",
     "start_time": "2023-07-05T17:06:31.951488Z"
    }
   },
   "outputs": [],
   "source": [
    "X_test_reg = X_test_reg.drop(['codigo','nome','cidade','estado','faturamento','potencial', 'população'], axis=1)"
   ]
  },
  {
   "cell_type": "code",
   "execution_count": 158,
   "id": "29402b9e",
   "metadata": {
    "ExecuteTime": {
     "end_time": "2023-07-05T17:06:33.153343Z",
     "start_time": "2023-07-05T17:06:33.134942Z"
    }
   },
   "outputs": [],
   "source": [
    "yhat_test = xgb_final.predict(X_test_reg)\n",
    "faturamentos_sp = yhat_test"
   ]
  },
  {
   "cell_type": "code",
   "execution_count": 159,
   "id": "19857dff",
   "metadata": {
    "ExecuteTime": {
     "end_time": "2023-07-05T17:06:34.383667Z",
     "start_time": "2023-07-05T17:06:34.366406Z"
    }
   },
   "outputs": [],
   "source": [
    "X_test_reg_result = X_test.copy()\n",
    "X_test_reg_result['faturamento'] = faturamentos_sp"
   ]
  },
  {
   "cell_type": "code",
   "execution_count": 160,
   "id": "0dcca36c",
   "metadata": {
    "ExecuteTime": {
     "end_time": "2023-07-05T17:07:19.525948Z",
     "start_time": "2023-07-05T17:07:19.508753Z"
    }
   },
   "outputs": [],
   "source": [
    "X_test_reg_result"
   ]
  },
  {
   "cell_type": "markdown",
   "id": "bb061aca",
   "metadata": {},
   "source": [
    "# 9.0 Machine Learning - Classification"
   ]
  },
  {
   "cell_type": "markdown",
   "id": "cec4a864",
   "metadata": {},
   "source": [
    "## 9.1 Random Forest Importances"
   ]
  },
  {
   "cell_type": "code",
   "execution_count": 61,
   "id": "5b93b4c6",
   "metadata": {
    "ExecuteTime": {
     "end_time": "2023-07-05T15:22:19.971363Z",
     "start_time": "2023-07-05T15:22:19.691701Z"
    }
   },
   "outputs": [
    {
     "data": {
      "text/html": [
       "<div>\n",
       "<style scoped>\n",
       "    .dataframe tbody tr th:only-of-type {\n",
       "        vertical-align: middle;\n",
       "    }\n",
       "\n",
       "    .dataframe tbody tr th {\n",
       "        vertical-align: top;\n",
       "    }\n",
       "\n",
       "    .dataframe thead th {\n",
       "        text-align: right;\n",
       "    }\n",
       "</style>\n",
       "<table border=\"1\" class=\"dataframe\">\n",
       "  <thead>\n",
       "    <tr style=\"text-align: right;\">\n",
       "      <th></th>\n",
       "      <th>Ranking</th>\n",
       "    </tr>\n",
       "  </thead>\n",
       "  <tbody>\n",
       "    <tr>\n",
       "      <th>domicilios_b1</th>\n",
       "      <td>0.193144</td>\n",
       "    </tr>\n",
       "    <tr>\n",
       "      <th>domicilios_a2</th>\n",
       "      <td>0.180004</td>\n",
       "    </tr>\n",
       "    <tr>\n",
       "      <th>renda_media</th>\n",
       "      <td>0.077045</td>\n",
       "    </tr>\n",
       "    <tr>\n",
       "      <th>domicilios_b2</th>\n",
       "      <td>0.073250</td>\n",
       "    </tr>\n",
       "    <tr>\n",
       "      <th>faturamento</th>\n",
       "      <td>0.068459</td>\n",
       "    </tr>\n",
       "    <tr>\n",
       "      <th>pop_mais_de60</th>\n",
       "      <td>0.065987</td>\n",
       "    </tr>\n",
       "    <tr>\n",
       "      <th>pop_de50a59</th>\n",
       "      <td>0.058223</td>\n",
       "    </tr>\n",
       "    <tr>\n",
       "      <th>pop_de35a49</th>\n",
       "      <td>0.053555</td>\n",
       "    </tr>\n",
       "    <tr>\n",
       "      <th>domicilios_c1</th>\n",
       "      <td>0.035421</td>\n",
       "    </tr>\n",
       "    <tr>\n",
       "      <th>pop_de25a34</th>\n",
       "      <td>0.029611</td>\n",
       "    </tr>\n",
       "    <tr>\n",
       "      <th>população</th>\n",
       "      <td>0.025242</td>\n",
       "    </tr>\n",
       "    <tr>\n",
       "      <th>domicilios_a1</th>\n",
       "      <td>0.022058</td>\n",
       "    </tr>\n",
       "    <tr>\n",
       "      <th>domicilios_e</th>\n",
       "      <td>0.021987</td>\n",
       "    </tr>\n",
       "    <tr>\n",
       "      <th>domicilios_d</th>\n",
       "      <td>0.020254</td>\n",
       "    </tr>\n",
       "    <tr>\n",
       "      <th>domicilios_c2</th>\n",
       "      <td>0.018282</td>\n",
       "    </tr>\n",
       "    <tr>\n",
       "      <th>pop_de20a24</th>\n",
       "      <td>0.015907</td>\n",
       "    </tr>\n",
       "    <tr>\n",
       "      <th>pop_de15a19</th>\n",
       "      <td>0.014367</td>\n",
       "    </tr>\n",
       "    <tr>\n",
       "      <th>pop_ate9</th>\n",
       "      <td>0.014192</td>\n",
       "    </tr>\n",
       "    <tr>\n",
       "      <th>pop_de10a14</th>\n",
       "      <td>0.013012</td>\n",
       "    </tr>\n",
       "  </tbody>\n",
       "</table>\n",
       "</div>"
      ],
      "text/plain": [
       "                Ranking\n",
       "domicilios_b1  0.193144\n",
       "domicilios_a2  0.180004\n",
       "renda_media    0.077045\n",
       "domicilios_b2  0.073250\n",
       "faturamento    0.068459\n",
       "pop_mais_de60  0.065987\n",
       "pop_de50a59    0.058223\n",
       "pop_de35a49    0.053555\n",
       "domicilios_c1  0.035421\n",
       "pop_de25a34    0.029611\n",
       "população      0.025242\n",
       "domicilios_a1  0.022058\n",
       "domicilios_e   0.021987\n",
       "domicilios_d   0.020254\n",
       "domicilios_c2  0.018282\n",
       "pop_de20a24    0.015907\n",
       "pop_de15a19    0.014367\n",
       "pop_ate9       0.014192\n",
       "pop_de10a14    0.013012"
      ]
     },
     "execution_count": 61,
     "metadata": {},
     "output_type": "execute_result"
    }
   ],
   "source": [
    "X_train_class = df5.drop(['nome','potencial'], axis=1).copy()\n",
    "y_train_class = df5['potencial'].copy()\n",
    "\n",
    "rf = RandomForestClassifier(n_jobs=-1)\n",
    "\n",
    "rf.fit(X_train_class, y_train_class)\n",
    "\n",
    "importances = rf.feature_importances_\n",
    "columns_importances = X_train_class.columns\n",
    "\n",
    "importance_dict = {}\n",
    "for key, value in zip(columns_importances, importances):\n",
    "    importance_dict[key] = value\n",
    "    \n",
    "df_importance = pd.DataFrame(importance_dict, index=[0]).T.rename(columns={0:'Ranking'})\n",
    "\n",
    "df_importance.sort_values(by='Ranking', ascending=False)"
   ]
  },
  {
   "cell_type": "markdown",
   "id": "6b261da6",
   "metadata": {},
   "source": [
    "\n",
    "## 9.2 Model Selection"
   ]
  },
  {
   "cell_type": "code",
   "execution_count": 168,
   "id": "7c4ad2ca",
   "metadata": {
    "ExecuteTime": {
     "end_time": "2023-07-05T17:14:49.311033Z",
     "start_time": "2023-07-05T17:14:49.297556Z"
    }
   },
   "outputs": [],
   "source": [
    "X_train = df5.drop(['nome','potencial'], axis=1).copy()\n",
    "y_train = df5['potencial'].copy()\n",
    "\n",
    "\n",
    "model_list = [KNeighborsClassifier, \n",
    "              LogisticRegression,\n",
    "              SVC,\n",
    "              RandomForestClassifier, \n",
    "              XGBClassifier, \n",
    "              LGBMClassifier,\n",
    "              CatBoostClassifier]"
   ]
  },
  {
   "cell_type": "code",
   "execution_count": 169,
   "id": "ed59520f",
   "metadata": {
    "ExecuteTime": {
     "end_time": "2023-07-05T17:15:08.349247Z",
     "start_time": "2023-07-05T17:14:49.716075Z"
    }
   },
   "outputs": [
    {
     "name": "stdout",
     "output_type": "stream",
     "text": [
      "KNeighborsClassifier   ACC score: nan +/- nan \n",
      "LogisticRegression     ACC score: 0.688 +/- 0.079 \n",
      "SVC                    ACC score: 0.688 +/- 0.062 \n",
      "RandomForestClassifier ACC score: 0.894 +/- 0.040 \n",
      "XGBClassifier          ACC score: 0.856 +/- 0.069 \n",
      "LGBMClassifier         ACC score: 0.856 +/- 0.063 \n",
      "CatBoostClassifier     ACC score: 0.869 +/- 0.081 \n"
     ]
    }
   ],
   "source": [
    "for model in model_list:\n",
    "    if model.__name__ == 'CatBoostClassifier':\n",
    "        mds = model(verbose=False)\n",
    "    else:\n",
    "        mds=model()\n",
    "    kfold = ms.KFold(n_splits=10)\n",
    "    s = ms.cross_val_score(mds, X_train, y_train, scoring='accuracy', cv=kfold)\n",
    "    print(f\"{model.__name__:22} ACC score: {s.mean():.3f} +/- {s.std():.3f} \")"
   ]
  },
  {
   "cell_type": "markdown",
   "id": "006c259f",
   "metadata": {},
   "source": [
    "# 10.0 Classification Models"
   ]
  },
  {
   "cell_type": "code",
   "execution_count": 170,
   "id": "d3c1f7b6",
   "metadata": {
    "ExecuteTime": {
     "end_time": "2023-07-05T17:16:31.379696Z",
     "start_time": "2023-07-05T17:16:31.362143Z"
    }
   },
   "outputs": [],
   "source": [
    "df10 = df3.copy()"
   ]
  },
  {
   "cell_type": "code",
   "execution_count": 171,
   "id": "4f8db885",
   "metadata": {
    "ExecuteTime": {
     "end_time": "2023-07-05T17:16:31.566323Z",
     "start_time": "2023-07-05T17:16:31.552954Z"
    }
   },
   "outputs": [],
   "source": [
    "df10['potencial'] = df10['potencial'].apply(lambda x: 0 if x == 'Baixo' else 1 if x == 'Médio' else 2)"
   ]
  },
  {
   "cell_type": "code",
   "execution_count": 172,
   "id": "2753acea",
   "metadata": {
    "ExecuteTime": {
     "end_time": "2023-07-05T17:16:31.830395Z",
     "start_time": "2023-07-05T17:16:31.816227Z"
    }
   },
   "outputs": [],
   "source": [
    "X_train = df10.drop(['nome','potencial'], axis=1).copy()\n",
    "y_train = df10['potencial'].copy()\n",
    "X_train_class, X_val_class, y_train_class, y_val_class = ms.train_test_split(X_train, y_train, test_size=0.2, random_state=42)"
   ]
  },
  {
   "cell_type": "markdown",
   "id": "554ab3e7",
   "metadata": {},
   "source": [
    "## 10.1 RandomForestClassifier"
   ]
  },
  {
   "cell_type": "code",
   "execution_count": 173,
   "id": "22d25be9",
   "metadata": {
    "ExecuteTime": {
     "end_time": "2023-07-05T17:16:32.782752Z",
     "start_time": "2023-07-05T17:16:32.609906Z"
    }
   },
   "outputs": [],
   "source": [
    "model_rf_class = RandomForestClassifier(n_jobs=-1, random_state=42)\n",
    "\n",
    "model_rf_class.fit(X_train_class, y_train_class)\n",
    "\n",
    "yhat_rf_class = model_rf_class.predict(X_val_class)"
   ]
  },
  {
   "cell_type": "code",
   "execution_count": 174,
   "id": "f3823946",
   "metadata": {
    "ExecuteTime": {
     "end_time": "2023-07-05T17:16:32.798380Z",
     "start_time": "2023-07-05T17:16:32.784789Z"
    }
   },
   "outputs": [],
   "source": [
    "metrics_rf = classification_metrics(RandomForestClassifier, y_val_class, yhat_rf_class)"
   ]
  },
  {
   "cell_type": "markdown",
   "id": "7e08c88d",
   "metadata": {},
   "source": [
    "## 10.2 XGBoost"
   ]
  },
  {
   "cell_type": "code",
   "execution_count": 175,
   "id": "a3483563",
   "metadata": {
    "ExecuteTime": {
     "end_time": "2023-07-05T17:16:33.172310Z",
     "start_time": "2023-07-05T17:16:33.112261Z"
    }
   },
   "outputs": [],
   "source": [
    "model_xgb_class = XGBClassifier(random_state=42)\n",
    "\n",
    "model_xgb_class.fit(X_train_class, y_train_class)\n",
    "\n",
    "yhat_xgb_class = model_xgb_class.predict(X_val_class)"
   ]
  },
  {
   "cell_type": "code",
   "execution_count": 176,
   "id": "22b0f3a1",
   "metadata": {
    "ExecuteTime": {
     "end_time": "2023-07-05T17:16:33.283980Z",
     "start_time": "2023-07-05T17:16:33.268172Z"
    }
   },
   "outputs": [],
   "source": [
    "metrics_xgb = classification_metrics(XGBClassifier, y_val_class, yhat_xgb_class)"
   ]
  },
  {
   "cell_type": "markdown",
   "id": "8962cee3",
   "metadata": {},
   "source": [
    "## 10.3 LGBM"
   ]
  },
  {
   "cell_type": "code",
   "execution_count": 177,
   "id": "3f623213",
   "metadata": {
    "ExecuteTime": {
     "end_time": "2023-07-05T17:16:33.642498Z",
     "start_time": "2023-07-05T17:16:33.595603Z"
    }
   },
   "outputs": [],
   "source": [
    "model_lgb_class = LGBMClassifier(random_state=42)\n",
    "\n",
    "model_lgb_class.fit(X_train_class, y_train_class)\n",
    "\n",
    "yhat_lgb_class = model_lgb_class.predict(X_val_class)"
   ]
  },
  {
   "cell_type": "code",
   "execution_count": 178,
   "id": "78f26d28",
   "metadata": {
    "ExecuteTime": {
     "end_time": "2023-07-05T17:16:33.783920Z",
     "start_time": "2023-07-05T17:16:33.761539Z"
    }
   },
   "outputs": [],
   "source": [
    "metrics_lgb = classification_metrics(LGBMClassifier, y_val_class, yhat_lgb_class)"
   ]
  },
  {
   "cell_type": "markdown",
   "id": "a328d0d9",
   "metadata": {},
   "source": [
    "## 10.4 Catboost"
   ]
  },
  {
   "cell_type": "code",
   "execution_count": 179,
   "id": "c0d3d098",
   "metadata": {
    "ExecuteTime": {
     "end_time": "2023-07-05T17:16:35.612326Z",
     "start_time": "2023-07-05T17:16:34.105660Z"
    }
   },
   "outputs": [],
   "source": [
    "model_cat_class = CatBoostClassifier(verbose=False, random_state=42)\n",
    "\n",
    "model_cat_class.fit(X_train_class, y_train_class)\n",
    "\n",
    "yhat_cat_class = model_cat_class.predict(X_val_class)"
   ]
  },
  {
   "cell_type": "code",
   "execution_count": 180,
   "id": "19f140e4",
   "metadata": {
    "ExecuteTime": {
     "end_time": "2023-07-05T17:16:35.628437Z",
     "start_time": "2023-07-05T17:16:35.613360Z"
    }
   },
   "outputs": [],
   "source": [
    "metrics_cat = classification_metrics(CatBoostClassifier, y_val_class, yhat_cat_class)"
   ]
  },
  {
   "cell_type": "markdown",
   "id": "155030bd",
   "metadata": {},
   "source": [
    "## 10.5 Compare Models"
   ]
  },
  {
   "cell_type": "code",
   "execution_count": 181,
   "id": "b1ab872f",
   "metadata": {
    "ExecuteTime": {
     "end_time": "2023-07-05T17:16:35.844914Z",
     "start_time": "2023-07-05T17:16:35.827754Z"
    }
   },
   "outputs": [
    {
     "data": {
      "text/html": [
       "<div>\n",
       "<style scoped>\n",
       "    .dataframe tbody tr th:only-of-type {\n",
       "        vertical-align: middle;\n",
       "    }\n",
       "\n",
       "    .dataframe tbody tr th {\n",
       "        vertical-align: top;\n",
       "    }\n",
       "\n",
       "    .dataframe thead th {\n",
       "        text-align: right;\n",
       "    }\n",
       "</style>\n",
       "<table border=\"1\" class=\"dataframe\">\n",
       "  <thead>\n",
       "    <tr style=\"text-align: right;\">\n",
       "      <th></th>\n",
       "      <th>Modelo</th>\n",
       "      <th>Accuracy</th>\n",
       "      <th>Precision (micro)</th>\n",
       "      <th>Recall (micro)</th>\n",
       "      <th>F1 Score (micro)</th>\n",
       "      <th>Precision (macro)</th>\n",
       "      <th>Recall (macro)</th>\n",
       "      <th>F1 Score (macro)</th>\n",
       "    </tr>\n",
       "  </thead>\n",
       "  <tbody>\n",
       "    <tr>\n",
       "      <th>0</th>\n",
       "      <td>LGBMClassifier</td>\n",
       "      <td>0.96875</td>\n",
       "      <td>0.96875</td>\n",
       "      <td>0.96875</td>\n",
       "      <td>0.96875</td>\n",
       "      <td>0.966667</td>\n",
       "      <td>0.972222</td>\n",
       "      <td>0.967963</td>\n",
       "    </tr>\n",
       "    <tr>\n",
       "      <th>0</th>\n",
       "      <td>XGBClassifier</td>\n",
       "      <td>0.93750</td>\n",
       "      <td>0.93750</td>\n",
       "      <td>0.93750</td>\n",
       "      <td>0.93750</td>\n",
       "      <td>0.939394</td>\n",
       "      <td>0.944444</td>\n",
       "      <td>0.936364</td>\n",
       "    </tr>\n",
       "    <tr>\n",
       "      <th>0</th>\n",
       "      <td>CatBoostClassifier</td>\n",
       "      <td>0.93750</td>\n",
       "      <td>0.93750</td>\n",
       "      <td>0.93750</td>\n",
       "      <td>0.93750</td>\n",
       "      <td>0.935185</td>\n",
       "      <td>0.935185</td>\n",
       "      <td>0.935185</td>\n",
       "    </tr>\n",
       "    <tr>\n",
       "      <th>0</th>\n",
       "      <td>RandomForestClassifier</td>\n",
       "      <td>0.93750</td>\n",
       "      <td>0.93750</td>\n",
       "      <td>0.93750</td>\n",
       "      <td>0.93750</td>\n",
       "      <td>0.935185</td>\n",
       "      <td>0.935185</td>\n",
       "      <td>0.933977</td>\n",
       "    </tr>\n",
       "  </tbody>\n",
       "</table>\n",
       "</div>"
      ],
      "text/plain": [
       "                   Modelo  Accuracy  Precision (micro)  Recall (micro)  \\\n",
       "0          LGBMClassifier   0.96875            0.96875         0.96875   \n",
       "0           XGBClassifier   0.93750            0.93750         0.93750   \n",
       "0      CatBoostClassifier   0.93750            0.93750         0.93750   \n",
       "0  RandomForestClassifier   0.93750            0.93750         0.93750   \n",
       "\n",
       "   F1 Score (micro)  Precision (macro)  Recall (macro)  F1 Score (macro)  \n",
       "0           0.96875           0.966667        0.972222          0.967963  \n",
       "0           0.93750           0.939394        0.944444          0.936364  \n",
       "0           0.93750           0.935185        0.935185          0.935185  \n",
       "0           0.93750           0.935185        0.935185          0.933977  "
      ]
     },
     "execution_count": 181,
     "metadata": {},
     "output_type": "execute_result"
    }
   ],
   "source": [
    "compare_class = pd.concat([metrics_rf, metrics_xgb, metrics_lgb, metrics_cat])\n",
    "compare_class.sort_values(by='F1 Score (macro)', ascending=False)"
   ]
  },
  {
   "cell_type": "markdown",
   "id": "a1e7af47",
   "metadata": {},
   "source": [
    "# 11.0 Classification Model - LGBM"
   ]
  },
  {
   "cell_type": "markdown",
   "id": "e93ea7d7",
   "metadata": {},
   "source": [
    "## 11.1 Fine Tunning"
   ]
  },
  {
   "cell_type": "code",
   "execution_count": 194,
   "id": "439c2b52",
   "metadata": {
    "ExecuteTime": {
     "end_time": "2023-07-05T17:30:44.840717Z",
     "start_time": "2023-07-05T17:30:44.828378Z"
    }
   },
   "outputs": [],
   "source": [
    "# param_space = {\n",
    "#     'learning_rate': (0.01, 0.2),\n",
    "#     'n_estimators': (200, 1500),\n",
    "#     'max_depth': (3, 10),\n",
    "#     'num_leaves': (10, 100),\n",
    "#     'subsample': (0.5, 1.0),\n",
    "#     'colsample_bytree': (0.5, 1.0),\n",
    "#     'reg_alpha': (0, 1),\n",
    "#     'reg_lambda': (0, 1)\n",
    "# }\n",
    "\n",
    "# bayes_search = skopt.BayesSearchCV(estimator=LGBMClassifier(), search_spaces=param_space, scoring='f1_macro', n_iter=50, random_state=42)\n",
    "# random_search = ms.RandomizedSearchCV(estimator=LGBMClassifier(), param_distributions=param_space, scoring='f1_macro', n_iter=50, random_state=42)"
   ]
  },
  {
   "cell_type": "code",
   "execution_count": 198,
   "id": "81d80beb",
   "metadata": {
    "ExecuteTime": {
     "end_time": "2023-07-05T17:34:54.073274Z",
     "start_time": "2023-07-05T17:33:36.071684Z"
    }
   },
   "outputs": [
    {
     "data": {
      "text/html": [
       "<div>\n",
       "<style scoped>\n",
       "    .dataframe tbody tr th:only-of-type {\n",
       "        vertical-align: middle;\n",
       "    }\n",
       "\n",
       "    .dataframe tbody tr th {\n",
       "        vertical-align: top;\n",
       "    }\n",
       "\n",
       "    .dataframe thead th {\n",
       "        text-align: right;\n",
       "    }\n",
       "</style>\n",
       "<table border=\"1\" class=\"dataframe\">\n",
       "  <thead>\n",
       "    <tr style=\"text-align: right;\">\n",
       "      <th></th>\n",
       "      <th>Modelo</th>\n",
       "      <th>Accuracy</th>\n",
       "      <th>Precision (micro)</th>\n",
       "      <th>Recall (micro)</th>\n",
       "      <th>F1 Score (micro)</th>\n",
       "      <th>Precision (macro)</th>\n",
       "      <th>Recall (macro)</th>\n",
       "      <th>F1 Score (macro)</th>\n",
       "    </tr>\n",
       "  </thead>\n",
       "  <tbody>\n",
       "    <tr>\n",
       "      <th>0</th>\n",
       "      <td>LGBMClassifier</td>\n",
       "      <td>0.90625</td>\n",
       "      <td>0.90625</td>\n",
       "      <td>0.90625</td>\n",
       "      <td>0.90625</td>\n",
       "      <td>0.905556</td>\n",
       "      <td>0.907407</td>\n",
       "      <td>0.902573</td>\n",
       "    </tr>\n",
       "  </tbody>\n",
       "</table>\n",
       "</div>"
      ],
      "text/plain": [
       "           Modelo  Accuracy  Precision (micro)  Recall (micro)  \\\n",
       "0  LGBMClassifier   0.90625            0.90625         0.90625   \n",
       "\n",
       "   F1 Score (micro)  Precision (macro)  Recall (macro)  F1 Score (macro)  \n",
       "0           0.90625           0.905556        0.907407          0.902573  "
      ]
     },
     "execution_count": 198,
     "metadata": {},
     "output_type": "execute_result"
    }
   ],
   "source": [
    "# bayes_search.fit(X_train, y_train)\n",
    "# best_params = bayes_search.best_params_\n",
    "# final_model = LGBMClassifier(**best_params, random_state=42)\n",
    "\n",
    "# final_model.fit(X_train_class, y_train_class)\n",
    "\n",
    "# yhat_final_lgb = final_model.predict(X_val_class)\n",
    "# classification_metrics(LGBMClassifier, y_val_class, yhat_final_lgb)"
   ]
  },
  {
   "cell_type": "code",
   "execution_count": 199,
   "id": "f6defb2b",
   "metadata": {
    "ExecuteTime": {
     "end_time": "2023-07-05T17:35:35.387005Z",
     "start_time": "2023-07-05T17:34:54.075276Z"
    }
   },
   "outputs": [
    {
     "data": {
      "text/html": [
       "<div>\n",
       "<style scoped>\n",
       "    .dataframe tbody tr th:only-of-type {\n",
       "        vertical-align: middle;\n",
       "    }\n",
       "\n",
       "    .dataframe tbody tr th {\n",
       "        vertical-align: top;\n",
       "    }\n",
       "\n",
       "    .dataframe thead th {\n",
       "        text-align: right;\n",
       "    }\n",
       "</style>\n",
       "<table border=\"1\" class=\"dataframe\">\n",
       "  <thead>\n",
       "    <tr style=\"text-align: right;\">\n",
       "      <th></th>\n",
       "      <th>Modelo</th>\n",
       "      <th>Accuracy</th>\n",
       "      <th>Precision (micro)</th>\n",
       "      <th>Recall (micro)</th>\n",
       "      <th>F1 Score (micro)</th>\n",
       "      <th>Precision (macro)</th>\n",
       "      <th>Recall (macro)</th>\n",
       "      <th>F1 Score (macro)</th>\n",
       "    </tr>\n",
       "  </thead>\n",
       "  <tbody>\n",
       "    <tr>\n",
       "      <th>0</th>\n",
       "      <td>XGBRegressor</td>\n",
       "      <td>0.9375</td>\n",
       "      <td>0.9375</td>\n",
       "      <td>0.9375</td>\n",
       "      <td>0.9375</td>\n",
       "      <td>0.939394</td>\n",
       "      <td>0.944444</td>\n",
       "      <td>0.936364</td>\n",
       "    </tr>\n",
       "  </tbody>\n",
       "</table>\n",
       "</div>"
      ],
      "text/plain": [
       "         Modelo  Accuracy  Precision (micro)  Recall (micro)  \\\n",
       "0  XGBRegressor    0.9375             0.9375          0.9375   \n",
       "\n",
       "   F1 Score (micro)  Precision (macro)  Recall (macro)  F1 Score (macro)  \n",
       "0            0.9375           0.939394        0.944444          0.936364  "
      ]
     },
     "execution_count": 199,
     "metadata": {},
     "output_type": "execute_result"
    }
   ],
   "source": [
    "# random_search.fit(X_train, y_train)\n",
    "# best_params_random = random_search.best_params_\n",
    "# final_model_random = LGBMClassifier(**best_params_random, random_state=42)\n",
    "\n",
    "# final_model_random.fit(X_train_class, y_train_class)\n",
    "\n",
    "# yhat_final_lgb_random = final_model_random.predict(X_val_class)\n",
    "# classification_metrics(LGBMClassifier, y_val_class, yhat_final_lgb_random)"
   ]
  },
  {
   "cell_type": "markdown",
   "id": "858ca80b",
   "metadata": {},
   "source": [
    "## 11.2 Predict on Test Data"
   ]
  },
  {
   "cell_type": "code",
   "execution_count": 202,
   "id": "3bc1ec2c",
   "metadata": {
    "ExecuteTime": {
     "end_time": "2023-07-05T17:48:26.547074Z",
     "start_time": "2023-07-05T17:48:26.537459Z"
    }
   },
   "outputs": [],
   "source": [
    "X_test_class = X_test_reg_result.drop(['codigo', 'nome','cidade','estado','potencial'], axis=1)"
   ]
  },
  {
   "cell_type": "code",
   "execution_count": 203,
   "id": "a987827c",
   "metadata": {
    "ExecuteTime": {
     "end_time": "2023-07-05T17:48:27.247686Z",
     "start_time": "2023-07-05T17:48:27.227725Z"
    }
   },
   "outputs": [],
   "source": [
    "X_test_class = rename_columns(X_test_class)\n",
    "X_test_class['renda_media'] = X_test_class['renda_media'].replace('-', np.nan)\n",
    "X_test_class['renda_media'] = X_test_class['renda_media'].astype(float)\n",
    "X_test_class['renda_media'] = X_test_class['renda_media'].fillna(X_test_class['renda_media'].mean())"
   ]
  },
  {
   "cell_type": "code",
   "execution_count": 204,
   "id": "f5f8571e",
   "metadata": {
    "ExecuteTime": {
     "end_time": "2023-07-05T17:48:28.601910Z",
     "start_time": "2023-07-05T17:48:28.596186Z"
    }
   },
   "outputs": [],
   "source": [
    "#predict\n",
    "yhat_lgb_class_final = model_lgb_class.predict(X_test_class)"
   ]
  },
  {
   "cell_type": "code",
   "execution_count": 205,
   "id": "fb2735a7",
   "metadata": {
    "ExecuteTime": {
     "end_time": "2023-07-05T17:48:28.883003Z",
     "start_time": "2023-07-05T17:48:28.868918Z"
    }
   },
   "outputs": [
    {
     "data": {
      "text/plain": [
       "array([2, 2, 1, 2, 2, 2, 2, 2, 2, 2, 1, 2, 0, 2, 0, 1, 2, 0, 2, 2, 1, 2,\n",
       "       2, 0, 2, 0, 2, 1, 2, 0, 2, 2, 2, 1, 1, 2, 2, 2, 0, 0, 2, 0, 1, 2,\n",
       "       2, 0, 0, 1, 1, 1, 2, 2, 1, 2, 2, 2, 1, 1, 1, 1, 1, 2, 2, 1, 0, 1,\n",
       "       2, 0, 0, 0, 1, 0, 1, 1, 0, 1, 1, 1, 2, 0, 0, 2, 2, 2, 1, 1, 1, 2,\n",
       "       0, 1, 2, 1, 2, 1, 1, 1, 2, 2, 0, 1, 2, 2, 2, 1, 2, 1, 2, 2, 1, 1,\n",
       "       2, 1, 2, 1, 1, 1, 2, 2, 1, 1, 0, 2, 1, 2, 2, 1, 1, 0, 2, 1, 2, 1,\n",
       "       1, 1, 0, 2, 2, 2, 1, 1, 1, 2, 0, 2, 1, 2, 1, 2, 0, 1, 1, 2, 1, 0,\n",
       "       2, 2, 1, 2, 2, 2, 2, 2, 2, 2, 2, 0, 1, 1, 2, 1, 2, 2, 2, 1, 1, 1,\n",
       "       1, 2, 1, 2, 2, 2, 0, 0, 0, 0, 1, 1, 1, 2, 1, 1, 2, 1, 2, 1, 1, 1,\n",
       "       2, 2, 1, 1, 2, 2, 2, 2, 2, 2, 1, 1, 0, 2, 0, 1, 1, 2, 1, 0, 2, 1,\n",
       "       0, 1, 2, 2, 2, 2, 1, 1, 0, 1, 2, 2, 2, 1, 0, 2, 0, 2, 2, 1, 2, 2,\n",
       "       2, 2, 2, 0, 2, 2, 1, 2, 2, 2, 2, 0, 2, 2, 1, 1, 1, 2, 2, 2, 0, 2,\n",
       "       2, 2, 2, 0, 2, 2, 1, 1, 2, 2, 1, 2, 2, 2, 2, 1, 2, 2, 1, 2, 0, 2,\n",
       "       2, 1, 2, 1, 1, 2, 2, 1, 2, 0], dtype=int64)"
      ]
     },
     "execution_count": 205,
     "metadata": {},
     "output_type": "execute_result"
    }
   ],
   "source": [
    "yhat_lgb_class_final"
   ]
  },
  {
   "cell_type": "code",
   "execution_count": 206,
   "id": "ef8e7a3c",
   "metadata": {
    "ExecuteTime": {
     "end_time": "2023-07-05T17:49:06.963006Z",
     "start_time": "2023-07-05T17:49:06.953262Z"
    }
   },
   "outputs": [],
   "source": [
    "X_test_class_result = X_test_reg_result.copy()\n",
    "X_test_class_result['potencial'] = yhat_lgb_class_final"
   ]
  },
  {
   "cell_type": "markdown",
   "id": "d287c4f7",
   "metadata": {},
   "source": [
    "# 12.0 EMBEDDING"
   ]
  },
  {
   "cell_type": "code",
   "execution_count": 211,
   "id": "3388b467",
   "metadata": {
    "ExecuteTime": {
     "end_time": "2023-07-05T17:50:50.525293Z",
     "start_time": "2023-07-05T17:50:50.519268Z"
    }
   },
   "outputs": [],
   "source": [
    "X_train_embedding = X_test_class_result.copy()"
   ]
  },
  {
   "cell_type": "code",
   "execution_count": 212,
   "id": "4c21f183",
   "metadata": {
    "ExecuteTime": {
     "end_time": "2023-07-05T17:50:50.882401Z",
     "start_time": "2023-07-05T17:50:50.870608Z"
    }
   },
   "outputs": [],
   "source": [
    "X_train_emb_alvo = X_train_embedding.drop(['codigo','nome','cidade','estado'], axis=1)"
   ]
  },
  {
   "cell_type": "markdown",
   "id": "8c5887cb",
   "metadata": {},
   "source": [
    "## PCA"
   ]
  },
  {
   "cell_type": "code",
   "execution_count": 214,
   "id": "1e1e2f47",
   "metadata": {
    "ExecuteTime": {
     "end_time": "2023-07-05T17:50:58.902704Z",
     "start_time": "2023-07-05T17:50:58.898253Z"
    }
   },
   "outputs": [],
   "source": [
    "X = X_train_emb_alvo.copy()"
   ]
  },
  {
   "cell_type": "code",
   "execution_count": 215,
   "id": "8eba5837",
   "metadata": {
    "ExecuteTime": {
     "end_time": "2023-07-05T17:50:59.276109Z",
     "start_time": "2023-07-05T17:50:59.258545Z"
    }
   },
   "outputs": [],
   "source": [
    "#Transform\n",
    "mms = pp.MinMaxScaler()\n",
    "transf_list = X.columns\n",
    "\n",
    "for i in transf_list:\n",
    "    X[i] = mms.fit_transform(X[i].values.reshape(-1,1)) "
   ]
  },
  {
   "cell_type": "code",
   "execution_count": 216,
   "id": "81c1bc3d",
   "metadata": {
    "ExecuteTime": {
     "end_time": "2023-07-05T17:50:59.821713Z",
     "start_time": "2023-07-05T17:50:59.658515Z"
    }
   },
   "outputs": [
    {
     "data": {
      "image/png": "[encoded data removed]",
      "text/plain": [
       "<Figure size 800x550 with 1 Axes>"
      ]
     },
     "metadata": {},
     "output_type": "display_data"
    }
   ],
   "source": [
    "pca = PCA(n_components=X.shape[1])\n",
    "\n",
    "principal_components = pca.fit_transform(X)\n",
    "\n",
    "features = range(pca.n_components_)\n",
    "\n",
    "plt.bar(features, pca.explained_variance_ratio_, color='black')\n",
    "\n",
    "df_pca = pd.DataFrame(principal_components)"
   ]
  },
  {
   "cell_type": "code",
   "execution_count": 217,
   "id": "ef67eb16",
   "metadata": {
    "ExecuteTime": {
     "end_time": "2023-07-05T17:51:00.759529Z",
     "start_time": "2023-07-05T17:51:00.600889Z"
    }
   },
   "outputs": [
    {
     "data": {
      "text/plain": [
       "<Axes: xlabel='0', ylabel='1'>"
      ]
     },
     "execution_count": 217,
     "metadata": {},
     "output_type": "execute_result"
    },
    {
     "data": {
      "image/png": "[encoded data removed]",
      "text/plain": [
       "<Figure size 800x550 with 1 Axes>"
      ]
     },
     "metadata": {},
     "output_type": "display_data"
    }
   ],
   "source": [
    "sns.scatterplot(x=0, y=1, data=df_pca)"
   ]
  },
  {
   "cell_type": "markdown",
   "id": "aa999553",
   "metadata": {},
   "source": [
    "## UMAP"
   ]
  },
  {
   "cell_type": "code",
   "execution_count": 218,
   "id": "e57b960a",
   "metadata": {
    "ExecuteTime": {
     "end_time": "2023-07-05T17:51:08.606206Z",
     "start_time": "2023-07-05T17:51:07.465686Z"
    }
   },
   "outputs": [
    {
     "data": {
      "text/plain": [
       "<Axes: xlabel='embedding_x', ylabel='embedding_y'>"
      ]
     },
     "execution_count": 218,
     "metadata": {},
     "output_type": "execute_result"
    },
    {
     "data": {
      "image/png": "[encoded data removed]",
      "text/plain": [
       "<Figure size 800x550 with 1 Axes>"
      ]
     },
     "metadata": {},
     "output_type": "display_data"
    }
   ],
   "source": [
    "reducer = umap.UMAP(random_state=42, n_neighbors=15, min_dist=0.1)\n",
    "embedding = reducer.fit_transform(X)\n",
    "\n",
    "#embedding\n",
    "df_umap = pd.DataFrame()\n",
    "df_umap['embedding_x'] = embedding[:,0]\n",
    "df_umap['embedding_y'] = embedding[:,1]\n",
    "\n",
    "#plot UMAP\n",
    "sns.scatterplot(x='embedding_x', \n",
    "                y='embedding_y',\n",
    "                data=df_umap)"
   ]
  },
  {
   "cell_type": "markdown",
   "id": "9579fece",
   "metadata": {},
   "source": [
    "## t-SNE"
   ]
  },
  {
   "cell_type": "code",
   "execution_count": 219,
   "id": "e280f7ae",
   "metadata": {
    "ExecuteTime": {
     "end_time": "2023-07-05T17:51:14.832956Z",
     "start_time": "2023-07-05T17:51:14.263621Z"
    }
   },
   "outputs": [
    {
     "data": {
      "text/plain": [
       "<Axes: xlabel='embedding_x', ylabel='embedding_y'>"
      ]
     },
     "execution_count": 219,
     "metadata": {},
     "output_type": "execute_result"
    },
    {
     "data": {
      "image/png": "[encoded data removed]",
      "text/plain": [
       "<Figure size 800x550 with 1 Axes>"
      ]
     },
     "metadata": {},
     "output_type": "display_data"
    }
   ],
   "source": [
    "reducer = TSNE(n_components=2, random_state=42, n_jobs=-1)\n",
    "embedding = reducer.fit_transform(X)\n",
    "\n",
    "#embedding\n",
    "df_tsne = pd.DataFrame()\n",
    "df_tsne['embedding_x'] = embedding[:,0]\n",
    "df_tsne['embedding_y'] = embedding[:,1]\n",
    "\n",
    "#plot UMAP\n",
    "sns.scatterplot(x='embedding_x', \n",
    "                y='embedding_y',\n",
    "                data=df_tsne)"
   ]
  },
  {
   "cell_type": "markdown",
   "id": "48e18b83",
   "metadata": {},
   "source": [
    "## Tree-Embedding"
   ]
  },
  {
   "cell_type": "code",
   "execution_count": 220,
   "id": "4d94838e",
   "metadata": {
    "ExecuteTime": {
     "end_time": "2023-07-05T17:51:17.194063Z",
     "start_time": "2023-07-05T17:51:17.184492Z"
    }
   },
   "outputs": [],
   "source": [
    "X = X_train_emb_alvo.drop('faturamento', axis=1).copy()\n",
    "y= X_train_emb_alvo['faturamento'].copy()"
   ]
  },
  {
   "cell_type": "code",
   "execution_count": 221,
   "id": "65862b73",
   "metadata": {
    "ExecuteTime": {
     "end_time": "2023-07-05T17:51:20.828557Z",
     "start_time": "2023-07-05T17:51:20.397967Z"
    }
   },
   "outputs": [
    {
     "data": {
      "text/html": [
       "<style>#sk-container-id-4 {color: black;}#sk-container-id-4 pre{padding: 0;}#sk-container-id-4 div.sk-toggleable {background-color: white;}#sk-container-id-4 label.sk-toggleable__label {cursor: pointer;display: block;width: 100%;margin-bottom: 0;padding: 0.3em;box-sizing: border-box;text-align: center;}#sk-container-id-4 label.sk-toggleable__label-arrow:before {content: \"▸\";float: left;margin-right: 0.25em;color: #696969;}#sk-container-id-4 label.sk-toggleable__label-arrow:hover:before {color: black;}#sk-container-id-4 div.sk-estimator:hover label.sk-toggleable__label-arrow:before {color: black;}#sk-container-id-4 div.sk-toggleable__content {max-height: 0;max-width: 0;overflow: hidden;text-align: left;background-color: #f0f8ff;}#sk-container-id-4 div.sk-toggleable__content pre {margin: 0.2em;color: black;border-radius: 0.25em;background-color: #f0f8ff;}#sk-container-id-4 input.sk-toggleable__control:checked~div.sk-toggleable__content {max-height: 200px;max-width: 100%;overflow: auto;}#sk-container-id-4 input.sk-toggleable__control:checked~label.sk-toggleable__label-arrow:before {content: \"▾\";}#sk-container-id-4 div.sk-estimator input.sk-toggleable__control:checked~label.sk-toggleable__label {background-color: #d4ebff;}#sk-container-id-4 div.sk-label input.sk-toggleable__control:checked~label.sk-toggleable__label {background-color: #d4ebff;}#sk-container-id-4 input.sk-hidden--visually {border: 0;clip: rect(1px 1px 1px 1px);clip: rect(1px, 1px, 1px, 1px);height: 1px;margin: -1px;overflow: hidden;padding: 0;position: absolute;width: 1px;}#sk-container-id-4 div.sk-estimator {font-family: monospace;background-color: #f0f8ff;border: 1px dotted black;border-radius: 0.25em;box-sizing: border-box;margin-bottom: 0.5em;}#sk-container-id-4 div.sk-estimator:hover {background-color: #d4ebff;}#sk-container-id-4 div.sk-parallel-item::after {content: \"\";width: 100%;border-bottom: 1px solid gray;flex-grow: 1;}#sk-container-id-4 div.sk-label:hover label.sk-toggleable__label {background-color: #d4ebff;}#sk-container-id-4 div.sk-serial::before {content: \"\";position: absolute;border-left: 1px solid gray;box-sizing: border-box;top: 0;bottom: 0;left: 50%;z-index: 0;}#sk-container-id-4 div.sk-serial {display: flex;flex-direction: column;align-items: center;background-color: white;padding-right: 0.2em;padding-left: 0.2em;position: relative;}#sk-container-id-4 div.sk-item {position: relative;z-index: 1;}#sk-container-id-4 div.sk-parallel {display: flex;align-items: stretch;justify-content: center;background-color: white;position: relative;}#sk-container-id-4 div.sk-item::before, #sk-container-id-4 div.sk-parallel-item::before {content: \"\";position: absolute;border-left: 1px solid gray;box-sizing: border-box;top: 0;bottom: 0;left: 50%;z-index: -1;}#sk-container-id-4 div.sk-parallel-item {display: flex;flex-direction: column;z-index: 1;position: relative;background-color: white;}#sk-container-id-4 div.sk-parallel-item:first-child::after {align-self: flex-end;width: 50%;}#sk-container-id-4 div.sk-parallel-item:last-child::after {align-self: flex-start;width: 50%;}#sk-container-id-4 div.sk-parallel-item:only-child::after {width: 0;}#sk-container-id-4 div.sk-dashed-wrapped {border: 1px dashed gray;margin: 0 0.4em 0.5em 0.4em;box-sizing: border-box;padding-bottom: 0.4em;background-color: white;}#sk-container-id-4 div.sk-label label {font-family: monospace;font-weight: bold;display: inline-block;line-height: 1.2em;}#sk-container-id-4 div.sk-label-container {text-align: center;}#sk-container-id-4 div.sk-container {/* jupyter's `normalize.less` sets `[hidden] { display: none; }` but bootstrap.min.css set `[hidden] { display: none !important; }` so we also need the `!important` here to be able to override the default hidden behavior on the sphinx rendered scikit-learn.org. See: https://github.com/scikit-learn/scikit-learn/issues/21755 */display: inline-block !important;position: relative;}#sk-container-id-4 div.sk-text-repr-fallback {display: none;}</style><div id=\"sk-container-id-4\" class=\"sk-top-container\"><div class=\"sk-text-repr-fallback\"><pre>RandomForestRegressor(random_state=42)</pre><b>In a Jupyter environment, please rerun this cell to show the HTML representation or trust the notebook. <br />On GitHub, the HTML representation is unable to render, please try loading this page with nbviewer.org.</b></div><div class=\"sk-container\" hidden><div class=\"sk-item\"><div class=\"sk-estimator sk-toggleable\"><input class=\"sk-toggleable__control sk-hidden--visually\" id=\"sk-estimator-id-4\" type=\"checkbox\" checked><label for=\"sk-estimator-id-4\" class=\"sk-toggleable__label sk-toggleable__label-arrow\">RandomForestRegressor</label><div class=\"sk-toggleable__content\"><pre>RandomForestRegressor(random_state=42)</pre></div></div></div></div></div>"
      ],
      "text/plain": [
       "RandomForestRegressor(random_state=42)"
      ]
     },
     "execution_count": 221,
     "metadata": {},
     "output_type": "execute_result"
    }
   ],
   "source": [
    "#model definition\n",
    "rf = RandomForestRegressor(random_state=42, n_estimators=100, criterion='squared_error')\n",
    "\n",
    "rf.fit(X, y)"
   ]
  },
  {
   "cell_type": "code",
   "execution_count": 222,
   "id": "d740acc4",
   "metadata": {
    "ExecuteTime": {
     "end_time": "2023-07-05T17:51:21.310269Z",
     "start_time": "2023-07-05T17:51:21.291725Z"
    }
   },
   "outputs": [],
   "source": [
    "#create leafs\n",
    "df_leafs = pd.DataFrame(rf.apply(X))"
   ]
  },
  {
   "cell_type": "code",
   "execution_count": 223,
   "id": "b4df20c7",
   "metadata": {
    "ExecuteTime": {
     "end_time": "2023-07-05T17:51:23.581106Z",
     "start_time": "2023-07-05T17:51:21.807985Z"
    }
   },
   "outputs": [
    {
     "data": {
      "text/plain": [
       "<Axes: xlabel='embedding_x', ylabel='embedding_y'>"
      ]
     },
     "execution_count": 223,
     "metadata": {},
     "output_type": "execute_result"
    },
    {
     "data": {
      "image/png": "[encoded data removed]",
      "text/plain": [
       "<Figure size 800x550 with 1 Axes>"
      ]
     },
     "metadata": {},
     "output_type": "display_data"
    }
   ],
   "source": [
    "reducer = umap.UMAP(random_state=42, n_neighbors=120, min_dist=0.02)\n",
    "embedding = reducer.fit_transform(df_leafs)\n",
    "\n",
    "#embedding\n",
    "df_tree = pd.DataFrame()\n",
    "df_tree['embedding_x'] = embedding[:,0]\n",
    "df_tree['embedding_y'] = embedding[:,1]\n",
    "\n",
    "#plot UMAP\n",
    "sns.scatterplot(x='embedding_x', \n",
    "                y='embedding_y',\n",
    "                data=df_tree)"
   ]
  },
  {
   "cell_type": "markdown",
   "id": "c688bfed",
   "metadata": {},
   "source": [
    "## 12.1 Find Clusters"
   ]
  },
  {
   "cell_type": "code",
   "execution_count": 224,
   "id": "2df36634",
   "metadata": {
    "ExecuteTime": {
     "end_time": "2023-07-05T17:51:35.467833Z",
     "start_time": "2023-07-05T17:51:35.462818Z"
    }
   },
   "outputs": [],
   "source": [
    "df12 = df_tree.copy()"
   ]
  },
  {
   "cell_type": "code",
   "execution_count": 225,
   "id": "dc277897",
   "metadata": {
    "ExecuteTime": {
     "end_time": "2023-07-05T17:51:35.639493Z",
     "start_time": "2023-07-05T17:51:35.636255Z"
    }
   },
   "outputs": [],
   "source": [
    "clusters = np.arange(2,15,1)"
   ]
  },
  {
   "cell_type": "code",
   "execution_count": 227,
   "id": "9c4a6ee2",
   "metadata": {
    "ExecuteTime": {
     "end_time": "2023-07-05T17:51:36.746140Z",
     "start_time": "2023-07-05T17:51:36.214886Z"
    }
   },
   "outputs": [
    {
     "data": {
      "text/plain": [
       "Text(0.5, 1.0, 'WSS vs K')"
      ]
     },
     "execution_count": 227,
     "metadata": {},
     "output_type": "execute_result"
    },
    {
     "data": {
      "image/png": "[encoded data removed]",
      "text/plain": [
       "<Figure size 800x550 with 1 Axes>"
      ]
     },
     "metadata": {},
     "output_type": "display_data"
    }
   ],
   "source": [
    "#WSS\n",
    "wss = []\n",
    "\n",
    "for k in clusters: \n",
    "    kmeans = KMeans(n_clusters=k, init='k-means++')\n",
    "\n",
    "    kmeans.fit(df12)\n",
    "    \n",
    "    wss.append(kmeans.inertia_)\n",
    "    \n",
    "#elbow method\n",
    "plt.plot(clusters, wss, linestyle='--', marker='o', color='b')\n",
    "plt.xlabel('K')\n",
    "plt.ylabel('WSS')\n",
    "plt.title('WSS vs K')"
   ]
  },
  {
   "cell_type": "code",
   "execution_count": 228,
   "id": "8bb3ffd5",
   "metadata": {
    "ExecuteTime": {
     "end_time": "2023-07-05T17:51:43.011292Z",
     "start_time": "2023-07-05T17:51:41.401075Z"
    }
   },
   "outputs": [
    {
     "data": {
      "image/png": "[encoded data removed]",
      "text/plain": [
       "<Figure size 2000x2000 with 6 Axes>"
      ]
     },
     "metadata": {},
     "output_type": "display_data"
    }
   ],
   "source": [
    "#SIlhouette\n",
    "clusters = np.arange(2,8,1)\n",
    "fig, ax = plt.subplots(3,2, figsize=(20,20))\n",
    "\n",
    "for k in clusters:\n",
    "    kmeans = KMeans(n_clusters=k, init='k-means++', n_init=50, max_iter=300, random_state=42)\n",
    "    q, mod = divmod(k,2)\n",
    "    \n",
    "    visualizer = SilhouetteVisualizer(kmeans, color='yellowbrick', ax=ax[q-1][mod])\n",
    "    visualizer.fit(df12)\n",
    "    visualizer.finalize()"
   ]
  },
  {
   "cell_type": "markdown",
   "id": "3e0311f7",
   "metadata": {},
   "source": [
    "# 13 MODEL TRAINING"
   ]
  },
  {
   "cell_type": "code",
   "execution_count": 229,
   "id": "05806001",
   "metadata": {
    "ExecuteTime": {
     "end_time": "2023-07-05T17:51:43.135697Z",
     "start_time": "2023-07-05T17:51:43.012814Z"
    }
   },
   "outputs": [],
   "source": [
    "#kMEANS\n",
    "k=4\n",
    "\n",
    "kmeans = KMeans(n_clusters=k, init='k-means++', n_init=50, max_iter=300, random_state=42)\n",
    "\n",
    "kmeans.fit(df12)\n",
    "\n",
    "labels = kmeans.labels_"
   ]
  },
  {
   "cell_type": "code",
   "execution_count": 230,
   "id": "a601289f",
   "metadata": {
    "ExecuteTime": {
     "end_time": "2023-07-05T17:51:43.151317Z",
     "start_time": "2023-07-05T17:51:43.137810Z"
    }
   },
   "outputs": [
    {
     "name": "stdout",
     "output_type": "stream",
     "text": [
      "WSS Score: 398.296\n",
      "SS Score: 0.870\n"
     ]
    }
   ],
   "source": [
    "\n",
    "#WSS\n",
    "print(f'WSS Score: {kmeans.inertia_:.3f}')\n",
    "\n",
    "print(f'SS Score: {mt.silhouette_score(df12, labels):.3f}')"
   ]
  },
  {
   "cell_type": "code",
   "execution_count": 231,
   "id": "cde85ed2",
   "metadata": {
    "ExecuteTime": {
     "end_time": "2023-07-05T17:51:43.913719Z",
     "start_time": "2023-07-05T17:51:43.897519Z"
    }
   },
   "outputs": [],
   "source": [
    "df13 = df12.copy()\n",
    "df13['clusters'] = labels"
   ]
  },
  {
   "cell_type": "code",
   "execution_count": 232,
   "id": "596fd584",
   "metadata": {
    "ExecuteTime": {
     "end_time": "2023-07-05T17:51:44.598744Z",
     "start_time": "2023-07-05T17:51:44.377649Z"
    }
   },
   "outputs": [
    {
     "data": {
      "text/plain": [
       "<Axes: xlabel='embedding_x', ylabel='embedding_y'>"
      ]
     },
     "execution_count": 232,
     "metadata": {},
     "output_type": "execute_result"
    },
    {
     "data": {
      "image/png": "[encoded data removed]",
      "text/plain": [
       "<Figure size 800x550 with 1 Axes>"
      ]
     },
     "metadata": {},
     "output_type": "display_data"
    }
   ],
   "source": [
    "sns.scatterplot(data=df13, x=\"embedding_x\", y=\"embedding_y\", hue=\"clusters\", palette=\"deep\")"
   ]
  },
  {
   "cell_type": "markdown",
   "id": "2b7862e0",
   "metadata": {},
   "source": [
    "## 15.0 RESULTS"
   ]
  },
  {
   "cell_type": "code",
   "execution_count": 239,
   "id": "c30aad23",
   "metadata": {
    "ExecuteTime": {
     "end_time": "2023-07-05T17:52:40.368615Z",
     "start_time": "2023-07-05T17:52:40.363560Z"
    }
   },
   "outputs": [],
   "source": [
    "df14 = X_test_class_result.copy()\n",
    "df14['clusters'] = labels"
   ]
  },
  {
   "cell_type": "code",
   "execution_count": 240,
   "id": "1a3abd1a",
   "metadata": {
    "ExecuteTime": {
     "end_time": "2023-07-05T17:52:40.834388Z",
     "start_time": "2023-07-05T17:52:40.804373Z"
    }
   },
   "outputs": [
    {
     "data": {
      "text/html": [
       "<div>\n",
       "<style scoped>\n",
       "    .dataframe tbody tr th:only-of-type {\n",
       "        vertical-align: middle;\n",
       "    }\n",
       "\n",
       "    .dataframe tbody tr th {\n",
       "        vertical-align: top;\n",
       "    }\n",
       "\n",
       "    .dataframe thead th {\n",
       "        text-align: right;\n",
       "    }\n",
       "</style>\n",
       "<table border=\"1\" class=\"dataframe\">\n",
       "  <thead>\n",
       "    <tr style=\"text-align: right;\">\n",
       "      <th></th>\n",
       "      <th>codigo</th>\n",
       "      <th>nome</th>\n",
       "      <th>cidade</th>\n",
       "      <th>estado</th>\n",
       "      <th>população</th>\n",
       "      <th>pop_ate9</th>\n",
       "      <th>pop_de10a14</th>\n",
       "      <th>pop_de15a19</th>\n",
       "      <th>pop_de20a24</th>\n",
       "      <th>pop_de25a34</th>\n",
       "      <th>...</th>\n",
       "      <th>domicilios_b1</th>\n",
       "      <th>domicilios_b2</th>\n",
       "      <th>domicilios_c1</th>\n",
       "      <th>domicilios_c2</th>\n",
       "      <th>domicilios_d</th>\n",
       "      <th>domicilios_e</th>\n",
       "      <th>renda_media</th>\n",
       "      <th>faturamento</th>\n",
       "      <th>potencial</th>\n",
       "      <th>clusters</th>\n",
       "    </tr>\n",
       "  </thead>\n",
       "  <tbody>\n",
       "    <tr>\n",
       "      <th>160</th>\n",
       "      <td>355030251</td>\n",
       "      <td>A. E. Carvalho</td>\n",
       "      <td>São Paulo</td>\n",
       "      <td>SP</td>\n",
       "      <td>94034</td>\n",
       "      <td>12668</td>\n",
       "      <td>6853</td>\n",
       "      <td>9836</td>\n",
       "      <td>7487</td>\n",
       "      <td>14535</td>\n",
       "      <td>...</td>\n",
       "      <td>2197</td>\n",
       "      <td>4368</td>\n",
       "      <td>6681</td>\n",
       "      <td>7011</td>\n",
       "      <td>2247</td>\n",
       "      <td>5670</td>\n",
       "      <td>1501.0</td>\n",
       "      <td>2.177271e+05</td>\n",
       "      <td>2</td>\n",
       "      <td>0</td>\n",
       "    </tr>\n",
       "    <tr>\n",
       "      <th>161</th>\n",
       "      <td>35503020</td>\n",
       "      <td>Aclimação</td>\n",
       "      <td>São Paulo</td>\n",
       "      <td>SP</td>\n",
       "      <td>32791</td>\n",
       "      <td>2297</td>\n",
       "      <td>1017</td>\n",
       "      <td>2096</td>\n",
       "      <td>2197</td>\n",
       "      <td>5341</td>\n",
       "      <td>...</td>\n",
       "      <td>3704</td>\n",
       "      <td>2351</td>\n",
       "      <td>1946</td>\n",
       "      <td>827</td>\n",
       "      <td>291</td>\n",
       "      <td>1617</td>\n",
       "      <td>5920.0</td>\n",
       "      <td>1.440078e+06</td>\n",
       "      <td>2</td>\n",
       "      <td>3</td>\n",
       "    </tr>\n",
       "    <tr>\n",
       "      <th>162</th>\n",
       "      <td>355030285</td>\n",
       "      <td>Adventista</td>\n",
       "      <td>São Paulo</td>\n",
       "      <td>SP</td>\n",
       "      <td>104193</td>\n",
       "      <td>15070</td>\n",
       "      <td>7343</td>\n",
       "      <td>10631</td>\n",
       "      <td>8657</td>\n",
       "      <td>17749</td>\n",
       "      <td>...</td>\n",
       "      <td>1423</td>\n",
       "      <td>4875</td>\n",
       "      <td>8595</td>\n",
       "      <td>10082</td>\n",
       "      <td>3111</td>\n",
       "      <td>5776</td>\n",
       "      <td>1284.0</td>\n",
       "      <td>1.814055e+05</td>\n",
       "      <td>1</td>\n",
       "      <td>0</td>\n",
       "    </tr>\n",
       "    <tr>\n",
       "      <th>163</th>\n",
       "      <td>35503088</td>\n",
       "      <td>Água Branca</td>\n",
       "      <td>São Paulo</td>\n",
       "      <td>SP</td>\n",
       "      <td>12721</td>\n",
       "      <td>953</td>\n",
       "      <td>343</td>\n",
       "      <td>627</td>\n",
       "      <td>819</td>\n",
       "      <td>2142</td>\n",
       "      <td>...</td>\n",
       "      <td>1558</td>\n",
       "      <td>1032</td>\n",
       "      <td>915</td>\n",
       "      <td>361</td>\n",
       "      <td>84</td>\n",
       "      <td>404</td>\n",
       "      <td>6278.0</td>\n",
       "      <td>1.234949e+06</td>\n",
       "      <td>2</td>\n",
       "      <td>3</td>\n",
       "    </tr>\n",
       "    <tr>\n",
       "      <th>164</th>\n",
       "      <td>35503066</td>\n",
       "      <td>Água Funda</td>\n",
       "      <td>São Paulo</td>\n",
       "      <td>SP</td>\n",
       "      <td>48417</td>\n",
       "      <td>5078</td>\n",
       "      <td>2396</td>\n",
       "      <td>4018</td>\n",
       "      <td>3571</td>\n",
       "      <td>7388</td>\n",
       "      <td>...</td>\n",
       "      <td>1794</td>\n",
       "      <td>2986</td>\n",
       "      <td>4489</td>\n",
       "      <td>2836</td>\n",
       "      <td>1104</td>\n",
       "      <td>2553</td>\n",
       "      <td>1905.0</td>\n",
       "      <td>8.089814e+05</td>\n",
       "      <td>2</td>\n",
       "      <td>2</td>\n",
       "    </tr>\n",
       "    <tr>\n",
       "      <th>...</th>\n",
       "      <td>...</td>\n",
       "      <td>...</td>\n",
       "      <td>...</td>\n",
       "      <td>...</td>\n",
       "      <td>...</td>\n",
       "      <td>...</td>\n",
       "      <td>...</td>\n",
       "      <td>...</td>\n",
       "      <td>...</td>\n",
       "      <td>...</td>\n",
       "      <td>...</td>\n",
       "      <td>...</td>\n",
       "      <td>...</td>\n",
       "      <td>...</td>\n",
       "      <td>...</td>\n",
       "      <td>...</td>\n",
       "      <td>...</td>\n",
       "      <td>...</td>\n",
       "      <td>...</td>\n",
       "      <td>...</td>\n",
       "      <td>...</td>\n",
       "    </tr>\n",
       "    <tr>\n",
       "      <th>451</th>\n",
       "      <td>355030213</td>\n",
       "      <td>Vila Sônia</td>\n",
       "      <td>São Paulo</td>\n",
       "      <td>SP</td>\n",
       "      <td>34061</td>\n",
       "      <td>2908</td>\n",
       "      <td>1462</td>\n",
       "      <td>2253</td>\n",
       "      <td>2076</td>\n",
       "      <td>4579</td>\n",
       "      <td>...</td>\n",
       "      <td>2866</td>\n",
       "      <td>2219</td>\n",
       "      <td>2216</td>\n",
       "      <td>1227</td>\n",
       "      <td>306</td>\n",
       "      <td>1098</td>\n",
       "      <td>5285.0</td>\n",
       "      <td>1.356692e+06</td>\n",
       "      <td>2</td>\n",
       "      <td>3</td>\n",
       "    </tr>\n",
       "    <tr>\n",
       "      <th>452</th>\n",
       "      <td>355030207</td>\n",
       "      <td>Vila Suzana</td>\n",
       "      <td>São Paulo</td>\n",
       "      <td>SP</td>\n",
       "      <td>35403</td>\n",
       "      <td>4127</td>\n",
       "      <td>1890</td>\n",
       "      <td>2678</td>\n",
       "      <td>2433</td>\n",
       "      <td>5855</td>\n",
       "      <td>...</td>\n",
       "      <td>2458</td>\n",
       "      <td>1186</td>\n",
       "      <td>1166</td>\n",
       "      <td>918</td>\n",
       "      <td>209</td>\n",
       "      <td>3840</td>\n",
       "      <td>7418.0</td>\n",
       "      <td>1.412882e+06</td>\n",
       "      <td>2</td>\n",
       "      <td>3</td>\n",
       "    </tr>\n",
       "    <tr>\n",
       "      <th>453</th>\n",
       "      <td>355030162</td>\n",
       "      <td>Vila Terezinha</td>\n",
       "      <td>São Paulo</td>\n",
       "      <td>SP</td>\n",
       "      <td>122359</td>\n",
       "      <td>18304</td>\n",
       "      <td>9304</td>\n",
       "      <td>13258</td>\n",
       "      <td>9965</td>\n",
       "      <td>19248</td>\n",
       "      <td>...</td>\n",
       "      <td>1758</td>\n",
       "      <td>4517</td>\n",
       "      <td>9450</td>\n",
       "      <td>11473</td>\n",
       "      <td>3218</td>\n",
       "      <td>7540</td>\n",
       "      <td>1252.0</td>\n",
       "      <td>1.207730e+05</td>\n",
       "      <td>1</td>\n",
       "      <td>0</td>\n",
       "    </tr>\n",
       "    <tr>\n",
       "      <th>454</th>\n",
       "      <td>355030157</td>\n",
       "      <td>Vila Zatt</td>\n",
       "      <td>São Paulo</td>\n",
       "      <td>SP</td>\n",
       "      <td>125864</td>\n",
       "      <td>14670</td>\n",
       "      <td>7305</td>\n",
       "      <td>11225</td>\n",
       "      <td>9338</td>\n",
       "      <td>18841</td>\n",
       "      <td>...</td>\n",
       "      <td>5093</td>\n",
       "      <td>8063</td>\n",
       "      <td>10012</td>\n",
       "      <td>8082</td>\n",
       "      <td>2856</td>\n",
       "      <td>6853</td>\n",
       "      <td>1936.0</td>\n",
       "      <td>2.670191e+05</td>\n",
       "      <td>2</td>\n",
       "      <td>0</td>\n",
       "    </tr>\n",
       "    <tr>\n",
       "      <th>455</th>\n",
       "      <td>355030164</td>\n",
       "      <td>Vista Alegre</td>\n",
       "      <td>São Paulo</td>\n",
       "      <td>SP</td>\n",
       "      <td>106</td>\n",
       "      <td>23</td>\n",
       "      <td>7</td>\n",
       "      <td>15</td>\n",
       "      <td>11</td>\n",
       "      <td>15</td>\n",
       "      <td>...</td>\n",
       "      <td>0</td>\n",
       "      <td>6</td>\n",
       "      <td>9</td>\n",
       "      <td>8</td>\n",
       "      <td>2</td>\n",
       "      <td>4</td>\n",
       "      <td>1288.0</td>\n",
       "      <td>8.314708e+05</td>\n",
       "      <td>0</td>\n",
       "      <td>2</td>\n",
       "    </tr>\n",
       "  </tbody>\n",
       "</table>\n",
       "<p>296 rows × 25 columns</p>\n",
       "</div>"
      ],
      "text/plain": [
       "        codigo            nome     cidade estado  população  pop_ate9  \\\n",
       "160  355030251  A. E. Carvalho  São Paulo     SP      94034     12668   \n",
       "161   35503020       Aclimação  São Paulo     SP      32791      2297   \n",
       "162  355030285      Adventista  São Paulo     SP     104193     15070   \n",
       "163   35503088     Água Branca  São Paulo     SP      12721       953   \n",
       "164   35503066      Água Funda  São Paulo     SP      48417      5078   \n",
       "..         ...             ...        ...    ...        ...       ...   \n",
       "451  355030213      Vila Sônia  São Paulo     SP      34061      2908   \n",
       "452  355030207     Vila Suzana  São Paulo     SP      35403      4127   \n",
       "453  355030162  Vila Terezinha  São Paulo     SP     122359     18304   \n",
       "454  355030157       Vila Zatt  São Paulo     SP     125864     14670   \n",
       "455  355030164    Vista Alegre  São Paulo     SP        106        23   \n",
       "\n",
       "     pop_de10a14  pop_de15a19  pop_de20a24  pop_de25a34  ...  domicilios_b1  \\\n",
       "160         6853         9836         7487        14535  ...           2197   \n",
       "161         1017         2096         2197         5341  ...           3704   \n",
       "162         7343        10631         8657        17749  ...           1423   \n",
       "163          343          627          819         2142  ...           1558   \n",
       "164         2396         4018         3571         7388  ...           1794   \n",
       "..           ...          ...          ...          ...  ...            ...   \n",
       "451         1462         2253         2076         4579  ...           2866   \n",
       "452         1890         2678         2433         5855  ...           2458   \n",
       "453         9304        13258         9965        19248  ...           1758   \n",
       "454         7305        11225         9338        18841  ...           5093   \n",
       "455            7           15           11           15  ...              0   \n",
       "\n",
       "     domicilios_b2  domicilios_c1  domicilios_c2  domicilios_d  domicilios_e  \\\n",
       "160           4368           6681           7011          2247          5670   \n",
       "161           2351           1946            827           291          1617   \n",
       "162           4875           8595          10082          3111          5776   \n",
       "163           1032            915            361            84           404   \n",
       "164           2986           4489           2836          1104          2553   \n",
       "..             ...            ...            ...           ...           ...   \n",
       "451           2219           2216           1227           306          1098   \n",
       "452           1186           1166            918           209          3840   \n",
       "453           4517           9450          11473          3218          7540   \n",
       "454           8063          10012           8082          2856          6853   \n",
       "455              6              9              8             2             4   \n",
       "\n",
       "     renda_media   faturamento  potencial  clusters  \n",
       "160       1501.0  2.177271e+05          2         0  \n",
       "161       5920.0  1.440078e+06          2         3  \n",
       "162       1284.0  1.814055e+05          1         0  \n",
       "163       6278.0  1.234949e+06          2         3  \n",
       "164       1905.0  8.089814e+05          2         2  \n",
       "..           ...           ...        ...       ...  \n",
       "451       5285.0  1.356692e+06          2         3  \n",
       "452       7418.0  1.412882e+06          2         3  \n",
       "453       1252.0  1.207730e+05          1         0  \n",
       "454       1936.0  2.670191e+05          2         0  \n",
       "455       1288.0  8.314708e+05          0         2  \n",
       "\n",
       "[296 rows x 25 columns]"
      ]
     },
     "execution_count": 240,
     "metadata": {},
     "output_type": "execute_result"
    }
   ],
   "source": [
    "df14"
   ]
  },
  {
   "cell_type": "code",
   "execution_count": 241,
   "id": "c8ac9146",
   "metadata": {
    "ExecuteTime": {
     "end_time": "2023-07-05T17:52:41.626543Z",
     "start_time": "2023-07-05T17:52:41.609493Z"
    }
   },
   "outputs": [
    {
     "data": {
      "text/plain": [
       "Index(['codigo', 'nome', 'cidade', 'estado', 'população', 'pop_ate9',\n",
       "       'pop_de10a14', 'pop_de15a19', 'pop_de20a24', 'pop_de25a34',\n",
       "       'pop_de35a49', 'pop_de50a59', 'pop_mais_de60', 'domicilios_a1',\n",
       "       'domicilios_a2', 'domicilios_b1', 'domicilios_b2', 'domicilios_c1',\n",
       "       'domicilios_c2', 'domicilios_d', 'domicilios_e', 'renda_media',\n",
       "       'faturamento', 'potencial', 'clusters'],\n",
       "      dtype='object')"
      ]
     },
     "execution_count": 241,
     "metadata": {},
     "output_type": "execute_result"
    }
   ],
   "source": [
    "df14.columns"
   ]
  },
  {
   "cell_type": "code",
   "execution_count": 290,
   "id": "64920c2c",
   "metadata": {
    "ExecuteTime": {
     "end_time": "2023-07-05T20:11:05.200560Z",
     "start_time": "2023-07-05T20:11:05.173861Z"
    }
   },
   "outputs": [],
   "source": [
    "df_renda = df14.loc[:,['clusters','renda_media',]].groupby('clusters').mean().reset_index()\n",
    "\n",
    "df_idade1 = df14.loc[:,['clusters','pop_de25a34',]].groupby('clusters').mean().reset_index()\n",
    "\n",
    "df_idade2 = df14.loc[:,['clusters','pop_de35a49',]].groupby('clusters').mean().reset_index()\n",
    "\n",
    "\n",
    "df_fat = df14.loc[:,['clusters','faturamento']].groupby('clusters').mean().reset_index()\n",
    "\n",
    "df_resume = (pd.merge(df_renda, df_idade1, on='clusters', how='left')\n",
    "              .merge(df_idade2, on='clusters', how='left')\n",
    "              .merge(df_fat, on='clusters', how='left'))"
   ]
  },
  {
   "cell_type": "code",
   "execution_count": 291,
   "id": "3c356a79",
   "metadata": {
    "ExecuteTime": {
     "end_time": "2023-07-05T20:11:05.560123Z",
     "start_time": "2023-07-05T20:11:05.553111Z"
    }
   },
   "outputs": [
    {
     "data": {
      "text/html": [
       "<div>\n",
       "<style scoped>\n",
       "    .dataframe tbody tr th:only-of-type {\n",
       "        vertical-align: middle;\n",
       "    }\n",
       "\n",
       "    .dataframe tbody tr th {\n",
       "        vertical-align: top;\n",
       "    }\n",
       "\n",
       "    .dataframe thead th {\n",
       "        text-align: right;\n",
       "    }\n",
       "</style>\n",
       "<table border=\"1\" class=\"dataframe\">\n",
       "  <thead>\n",
       "    <tr style=\"text-align: right;\">\n",
       "      <th></th>\n",
       "      <th>clusters</th>\n",
       "      <th>renda_media</th>\n",
       "      <th>pop_de25a34</th>\n",
       "      <th>pop_de35a49</th>\n",
       "      <th>faturamento</th>\n",
       "    </tr>\n",
       "  </thead>\n",
       "  <tbody>\n",
       "    <tr>\n",
       "      <th>0</th>\n",
       "      <td>0</td>\n",
       "      <td>1369.365079</td>\n",
       "      <td>14599.333333</td>\n",
       "      <td>20237.777778</td>\n",
       "      <td>2.561040e+05</td>\n",
       "    </tr>\n",
       "    <tr>\n",
       "      <th>1</th>\n",
       "      <td>1</td>\n",
       "      <td>3832.761496</td>\n",
       "      <td>4106.736842</td>\n",
       "      <td>5824.381579</td>\n",
       "      <td>9.921677e+05</td>\n",
       "    </tr>\n",
       "    <tr>\n",
       "      <th>2</th>\n",
       "      <td>2</td>\n",
       "      <td>1659.418919</td>\n",
       "      <td>4536.540541</td>\n",
       "      <td>6531.472973</td>\n",
       "      <td>7.743129e+05</td>\n",
       "    </tr>\n",
       "    <tr>\n",
       "      <th>3</th>\n",
       "      <td>3</td>\n",
       "      <td>8427.903614</td>\n",
       "      <td>4082.108434</td>\n",
       "      <td>6069.734940</td>\n",
       "      <td>1.403401e+06</td>\n",
       "    </tr>\n",
       "  </tbody>\n",
       "</table>\n",
       "</div>"
      ],
      "text/plain": [
       "   clusters  renda_media   pop_de25a34   pop_de35a49   faturamento\n",
       "0         0  1369.365079  14599.333333  20237.777778  2.561040e+05\n",
       "1         1  3832.761496   4106.736842   5824.381579  9.921677e+05\n",
       "2         2  1659.418919   4536.540541   6531.472973  7.743129e+05\n",
       "3         3  8427.903614   4082.108434   6069.734940  1.403401e+06"
      ]
     },
     "execution_count": 291,
     "metadata": {},
     "output_type": "execute_result"
    }
   ],
   "source": [
    "df_resume"
   ]
  },
  {
   "cell_type": "code",
   "execution_count": 245,
   "id": "b7e7c0c4",
   "metadata": {
    "ExecuteTime": {
     "end_time": "2023-07-05T17:53:17.491572Z",
     "start_time": "2023-07-05T17:53:17.480185Z"
    }
   },
   "outputs": [
    {
     "data": {
      "text/html": [
       "<div>\n",
       "<style scoped>\n",
       "    .dataframe tbody tr th:only-of-type {\n",
       "        vertical-align: middle;\n",
       "    }\n",
       "\n",
       "    .dataframe tbody tr th {\n",
       "        vertical-align: top;\n",
       "    }\n",
       "\n",
       "    .dataframe thead th {\n",
       "        text-align: right;\n",
       "    }\n",
       "</style>\n",
       "<table border=\"1\" class=\"dataframe\">\n",
       "  <thead>\n",
       "    <tr style=\"text-align: right;\">\n",
       "      <th></th>\n",
       "      <th>nome</th>\n",
       "      <th>potencial</th>\n",
       "    </tr>\n",
       "  </thead>\n",
       "  <tbody>\n",
       "    <tr>\n",
       "      <th>161</th>\n",
       "      <td>Aclimação</td>\n",
       "      <td>2</td>\n",
       "    </tr>\n",
       "    <tr>\n",
       "      <th>163</th>\n",
       "      <td>Água Branca</td>\n",
       "      <td>2</td>\n",
       "    </tr>\n",
       "    <tr>\n",
       "      <th>165</th>\n",
       "      <td>Água Rasa</td>\n",
       "      <td>2</td>\n",
       "    </tr>\n",
       "    <tr>\n",
       "      <th>167</th>\n",
       "      <td>Alfredo Pujol</td>\n",
       "      <td>2</td>\n",
       "    </tr>\n",
       "    <tr>\n",
       "      <th>168</th>\n",
       "      <td>Alto Da Lapa</td>\n",
       "      <td>2</td>\n",
       "    </tr>\n",
       "    <tr>\n",
       "      <th>...</th>\n",
       "      <td>...</td>\n",
       "      <td>...</td>\n",
       "    </tr>\n",
       "    <tr>\n",
       "      <th>443</th>\n",
       "      <td>Vila Olímpia</td>\n",
       "      <td>2</td>\n",
       "    </tr>\n",
       "    <tr>\n",
       "      <th>445</th>\n",
       "      <td>Vila Prudente</td>\n",
       "      <td>2</td>\n",
       "    </tr>\n",
       "    <tr>\n",
       "      <th>448</th>\n",
       "      <td>Vila Santa Catarina</td>\n",
       "      <td>2</td>\n",
       "    </tr>\n",
       "    <tr>\n",
       "      <th>451</th>\n",
       "      <td>Vila Sônia</td>\n",
       "      <td>2</td>\n",
       "    </tr>\n",
       "    <tr>\n",
       "      <th>452</th>\n",
       "      <td>Vila Suzana</td>\n",
       "      <td>2</td>\n",
       "    </tr>\n",
       "  </tbody>\n",
       "</table>\n",
       "<p>83 rows × 2 columns</p>\n",
       "</div>"
      ],
      "text/plain": [
       "                    nome  potencial\n",
       "161            Aclimação          2\n",
       "163          Água Branca          2\n",
       "165            Água Rasa          2\n",
       "167        Alfredo Pujol          2\n",
       "168         Alto Da Lapa          2\n",
       "..                   ...        ...\n",
       "443         Vila Olímpia          2\n",
       "445        Vila Prudente          2\n",
       "448  Vila Santa Catarina          2\n",
       "451           Vila Sônia          2\n",
       "452          Vila Suzana          2\n",
       "\n",
       "[83 rows x 2 columns]"
      ]
     },
     "execution_count": 245,
     "metadata": {},
     "output_type": "execute_result"
    }
   ],
   "source": [
    "df14.loc[df14['clusters'] == 3,['nome','potencial']]"
   ]
  },
  {
   "cell_type": "markdown",
   "id": "8deea011",
   "metadata": {},
   "source": [
    "## 15.1 Análise do cluster Alvo"
   ]
  },
  {
   "cell_type": "code",
   "execution_count": 293,
   "id": "1b795df6",
   "metadata": {
    "ExecuteTime": {
     "end_time": "2023-07-05T20:13:17.002135Z",
     "start_time": "2023-07-05T20:13:16.980431Z"
    }
   },
   "outputs": [
    {
     "data": {
      "text/plain": [
       "codigo           147\n",
       "nome             147\n",
       "cidade           147\n",
       "estado           147\n",
       "população        147\n",
       "pop_ate9         147\n",
       "pop_de10a14      147\n",
       "pop_de15a19      147\n",
       "pop_de20a24      147\n",
       "pop_de25a34      147\n",
       "pop_de35a49      147\n",
       "pop_de50a59      147\n",
       "pop_mais_de60    147\n",
       "domicilios_a1    147\n",
       "domicilios_a2    147\n",
       "domicilios_b1    147\n",
       "domicilios_b2    147\n",
       "domicilios_c1    147\n",
       "domicilios_c2    147\n",
       "domicilios_d     147\n",
       "domicilios_e     147\n",
       "renda_media      147\n",
       "faturamento      147\n",
       "potencial        147\n",
       "clusters         147\n",
       "dtype: int64"
      ]
     },
     "execution_count": 293,
     "metadata": {},
     "output_type": "execute_result"
    }
   ],
   "source": [
    "df14[df14['potencial'] == 2].count()"
   ]
  },
  {
   "cell_type": "code",
   "execution_count": 294,
   "id": "652ca033",
   "metadata": {
    "ExecuteTime": {
     "end_time": "2023-07-05T20:13:33.201468Z",
     "start_time": "2023-07-05T20:13:33.185136Z"
    }
   },
   "outputs": [
    {
     "data": {
      "text/plain": [
       "(296, 25)"
      ]
     },
     "execution_count": 294,
     "metadata": {},
     "output_type": "execute_result"
    }
   ],
   "source": [
    "df14.shape"
   ]
  },
  {
   "cell_type": "code",
   "execution_count": null,
   "id": "82b171ac",
   "metadata": {},
   "outputs": [],
   "source": []
  }
 ],
 "metadata": {
  "kernelspec": {
   "display_name": "Python 3 (ipykernel)",
   "language": "python",
   "name": "python3"
  },
  "language_info": {
   "codemirror_mode": {
    "name": "ipython",
    "version": 3
   },
   "file_extension": ".py",
   "mimetype": "text/x-python",
   "name": "python",
   "nbconvert_exporter": "python",
   "pygments_lexer": "ipython3",
   "version": "3.10.11"
  }
 },
 "nbformat": 4,
 "nbformat_minor": 5
}
