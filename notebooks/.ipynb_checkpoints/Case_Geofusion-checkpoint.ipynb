{
 "cells": [
  {
   "cell_type": "markdown",
   "id": "b1fa8908",
   "metadata": {},
   "source": [
    "# 0.0 IMPORTS"
   ]
  },
  {
   "cell_type": "code",
   "execution_count": 125,
   "id": "bd5ab082",
   "metadata": {
    "ExecuteTime": {
     "end_time": "2023-07-02T22:21:01.495354Z",
     "start_time": "2023-07-02T22:20:50.700860Z"
    }
   },
   "outputs": [],
   "source": [
    "import pandas as pd\n",
    "import numpy as np\n",
    "import inflection\n",
    "import seaborn as sns\n",
    "import matplotlib.pyplot as plt\n",
    "import sklearn.preprocessing as pp\n",
    "import warnings\n",
    "import umap.umap_ as umap\n",
    "\n",
    "from sklearn.impute import SimpleImputer\n",
    "from sklearn.linear_model import LinearRegression\n",
    "from sklearn.svm import SVR\n",
    "from sklearn.neighbors import KNeighborsRegressor\n",
    "from sklearn.tree import DecisionTreeRegressor\n",
    "from sklearn.ensemble import RandomForestRegressor, RandomForestClassifier\n",
    "from sklearn.neighbors import KNeighborsClassifier\n",
    "from xgboost import XGBRegressor, XGBClassifier\n",
    "from lightgbm import LGBMRegressor, LGBMClassifier\n",
    "from catboost import CatBoostRegressor, CatBoostClassifier\n",
    "from sklearn.cluster import KMeans\n",
    "from yellowbrick.cluster import SilhouetteVisualizer\n",
    "\n",
    "import skopt\n",
    "\n",
    "import sklearn.metrics as mt\n",
    "import sklearn.model_selection as ms\n",
    "\n",
    "warnings.filterwarnings('ignore')"
   ]
  },
  {
   "cell_type": "markdown",
   "id": "69748940",
   "metadata": {
    "heading_collapsed": true
   },
   "source": [
    "## 0.1 Loading Data"
   ]
  },
  {
   "cell_type": "code",
   "execution_count": 2,
   "id": "73883394",
   "metadata": {
    "ExecuteTime": {
     "end_time": "2023-07-02T21:42:39.041246Z",
     "start_time": "2023-07-02T21:42:39.028224Z"
    },
    "hidden": true
   },
   "outputs": [],
   "source": [
    "path = 'C://Users/edils/repos/cases_rh/Cases/Geofusion/data/'"
   ]
  },
  {
   "cell_type": "code",
   "execution_count": 3,
   "id": "6cab9cfe",
   "metadata": {
    "ExecuteTime": {
     "end_time": "2023-07-02T21:42:39.104388Z",
     "start_time": "2023-07-02T21:42:39.044239Z"
    },
    "hidden": true
   },
   "outputs": [],
   "source": [
    "df_raw = pd.read_csv(path + 'X_train.csv', encoding='ISO-8859-1', sep=';')"
   ]
  },
  {
   "cell_type": "code",
   "execution_count": 4,
   "id": "af38af3b",
   "metadata": {
    "ExecuteTime": {
     "end_time": "2023-07-02T21:42:39.120957Z",
     "start_time": "2023-07-02T21:42:39.106341Z"
    },
    "hidden": true
   },
   "outputs": [],
   "source": [
    "df_train = df_raw.loc[df_raw['cidade'] == 'Rio de Janeiro']"
   ]
  },
  {
   "cell_type": "code",
   "execution_count": 5,
   "id": "c2cfe2c6",
   "metadata": {
    "ExecuteTime": {
     "end_time": "2023-07-02T21:42:39.136536Z",
     "start_time": "2023-07-02T21:42:39.122954Z"
    },
    "hidden": true
   },
   "outputs": [],
   "source": [
    "X_test = df_raw.loc[df_raw['cidade'] == 'São Paulo']"
   ]
  },
  {
   "cell_type": "markdown",
   "id": "f539150f",
   "metadata": {
    "heading_collapsed": true
   },
   "source": [
    "## 0.2 Helper Functions"
   ]
  },
  {
   "cell_type": "code",
   "execution_count": 6,
   "id": "c9d37e14",
   "metadata": {
    "ExecuteTime": {
     "end_time": "2023-07-02T21:42:39.152164Z",
     "start_time": "2023-07-02T21:42:39.138533Z"
    },
    "code_folding": [],
    "hidden": true
   },
   "outputs": [],
   "source": [
    "def rename_columns(df1):\n",
    "    cols_new = df1.columns.map(lambda x: inflection.underscore(x))\n",
    "    df1.columns = cols_new\n",
    "    \n",
    "    return df1\n",
    "\n",
    "def replace_strings(valor):\n",
    "    if isinstance(valor, str):\n",
    "        return np.nan\n",
    "    return valor\n",
    "\n",
    "\n",
    "def change_types(df1):\n",
    "    \n",
    "    df1['renda_media'] = df1['renda_media'].astype(float)\n",
    "\n",
    "\n",
    "def pre_processing(df4):\n",
    "    #minmax\n",
    "    columns_minmax = ['população', 'pop_ate9', 'pop_de10a14', 'pop_de15a19',\n",
    "       'pop_de20a24', 'pop_de25a34', 'pop_de35a49', 'pop_de50a59',\n",
    "       'pop_mais_de60', 'domicilios_a1', 'domicilios_a2', 'domicilios_b1',\n",
    "       'domicilios_b2', 'domicilios_c1', 'domicilios_c2', 'domicilios_d',\n",
    "       'domicilios_e', 'renda_media']\n",
    "\n",
    "    mms = pp.MinMaxScaler()\n",
    "\n",
    "    for col in columns_minmax:\n",
    "        df4[col] = mms.transform(df4[col].values.reshape(-1,1))\n",
    "    \n",
    "    #standard\n",
    "    ss = pp.StandardScaler()\n",
    "\n",
    "    df4['faturamento'] = ss.transform(df4['faturamento'].values.reshape(-1,1))\n",
    "    \n",
    "    return df4\n",
    "\n",
    "def regression_error(model, y, yhat):\n",
    "    \n",
    "    mae = mt.mean_absolute_error(y, yhat)\n",
    "    mape = mt.mean_absolute_percentage_error(y, yhat)\n",
    "    rmse = np.sqrt(mt.mean_squared_error(y, yhat))\n",
    "        \n",
    "    df = pd.DataFrame({\n",
    "        'Modelo':model.__name__,\n",
    "        'MAE':mae,\n",
    "        'MAPE':mape,\n",
    "        'RMSE':rmse\n",
    "        \n",
    "    }, index=[0])\n",
    "    \n",
    "    return df\n",
    "\n",
    "def classification_metrics(model, y_true, y_pred):\n",
    "    accuracy = mt.accuracy_score(y_true, y_pred)\n",
    "    precision_micro = mt.precision_score(y_true, y_pred, average='micro')\n",
    "    recall_micro = mt.recall_score(y_true, y_pred, average='micro')\n",
    "    f1_micro = mt.f1_score(y_true, y_pred, average='micro')\n",
    "    precision_macro = mt.precision_score(y_true, y_pred, average='macro')\n",
    "    recall_macro = mt.recall_score(y_true, y_pred, average='macro')\n",
    "    f1_macro = mt.f1_score(y_true, y_pred, average='macro')\n",
    "    \n",
    "    df = pd.DataFrame({\n",
    "        'Modelo': [model.__name__],\n",
    "        'Accuracy': [accuracy],\n",
    "        'Precision (micro)': [precision_micro],\n",
    "        'Recall (micro)': [recall_micro],\n",
    "        'F1 Score (micro)': [f1_micro],\n",
    "        'Precision (macro)': [precision_macro],\n",
    "        'Recall (macro)': [recall_macro],\n",
    "        'F1 Score (macro)': [f1_macro]\n",
    "    })\n",
    "    \n",
    "    return df"
   ]
  },
  {
   "cell_type": "markdown",
   "id": "dc17bac1",
   "metadata": {},
   "source": [
    "# 1.0 DATA DESCRIPTION"
   ]
  },
  {
   "cell_type": "code",
   "execution_count": 7,
   "id": "1fc92c5a",
   "metadata": {
    "ExecuteTime": {
     "end_time": "2023-07-02T21:42:39.167400Z",
     "start_time": "2023-07-02T21:42:39.154158Z"
    }
   },
   "outputs": [],
   "source": [
    "df1 = df_train.copy()"
   ]
  },
  {
   "cell_type": "code",
   "execution_count": 8,
   "id": "c8ff5984",
   "metadata": {
    "ExecuteTime": {
     "end_time": "2023-07-02T21:42:39.182513Z",
     "start_time": "2023-07-02T21:42:39.169397Z"
    }
   },
   "outputs": [],
   "source": [
    "# #Analyze raw_dataset\n",
    "# report = sweetviz.analyze(df_raw)\n",
    "# report.show_html()"
   ]
  },
  {
   "cell_type": "code",
   "execution_count": 9,
   "id": "8489d792",
   "metadata": {
    "ExecuteTime": {
     "end_time": "2023-07-02T21:42:39.213512Z",
     "start_time": "2023-07-02T21:42:39.187081Z"
    }
   },
   "outputs": [
    {
     "data": {
      "text/html": [
       "<div>\n",
       "<style scoped>\n",
       "    .dataframe tbody tr th:only-of-type {\n",
       "        vertical-align: middle;\n",
       "    }\n",
       "\n",
       "    .dataframe tbody tr th {\n",
       "        vertical-align: top;\n",
       "    }\n",
       "\n",
       "    .dataframe thead th {\n",
       "        text-align: right;\n",
       "    }\n",
       "</style>\n",
       "<table border=\"1\" class=\"dataframe\">\n",
       "  <thead>\n",
       "    <tr style=\"text-align: right;\">\n",
       "      <th></th>\n",
       "      <th>codigo</th>\n",
       "      <th>nome</th>\n",
       "      <th>cidade</th>\n",
       "      <th>estado</th>\n",
       "      <th>população</th>\n",
       "      <th>popAte9</th>\n",
       "      <th>popDe10a14</th>\n",
       "      <th>popDe15a19</th>\n",
       "      <th>popDe20a24</th>\n",
       "      <th>popDe25a34</th>\n",
       "      <th>...</th>\n",
       "      <th>domiciliosA2</th>\n",
       "      <th>domiciliosB1</th>\n",
       "      <th>domiciliosB2</th>\n",
       "      <th>domiciliosC1</th>\n",
       "      <th>domiciliosC2</th>\n",
       "      <th>domiciliosD</th>\n",
       "      <th>domiciliosE</th>\n",
       "      <th>rendaMedia</th>\n",
       "      <th>faturamento</th>\n",
       "      <th>potencial</th>\n",
       "    </tr>\n",
       "  </thead>\n",
       "  <tbody>\n",
       "    <tr>\n",
       "      <th>146</th>\n",
       "      <td>3304557134</td>\n",
       "      <td>Vargem Grande</td>\n",
       "      <td>Rio de Janeiro</td>\n",
       "      <td>RJ</td>\n",
       "      <td>14436</td>\n",
       "      <td>2125</td>\n",
       "      <td>1003</td>\n",
       "      <td>1262</td>\n",
       "      <td>1149</td>\n",
       "      <td>2492</td>\n",
       "      <td>...</td>\n",
       "      <td>115</td>\n",
       "      <td>501</td>\n",
       "      <td>499</td>\n",
       "      <td>1288</td>\n",
       "      <td>1335</td>\n",
       "      <td>273</td>\n",
       "      <td>711</td>\n",
       "      <td>1884</td>\n",
       "      <td>768425.0</td>\n",
       "      <td>Baixo</td>\n",
       "    </tr>\n",
       "    <tr>\n",
       "      <th>49</th>\n",
       "      <td>3304557008</td>\n",
       "      <td>Estácio</td>\n",
       "      <td>Rio de Janeiro</td>\n",
       "      <td>RJ</td>\n",
       "      <td>17675</td>\n",
       "      <td>2246</td>\n",
       "      <td>980</td>\n",
       "      <td>1367</td>\n",
       "      <td>1462</td>\n",
       "      <td>2861</td>\n",
       "      <td>...</td>\n",
       "      <td>50</td>\n",
       "      <td>538</td>\n",
       "      <td>907</td>\n",
       "      <td>1760</td>\n",
       "      <td>1584</td>\n",
       "      <td>310</td>\n",
       "      <td>949</td>\n",
       "      <td>1631</td>\n",
       "      <td>764380.0</td>\n",
       "      <td>Baixo</td>\n",
       "    </tr>\n",
       "    <tr>\n",
       "      <th>108</th>\n",
       "      <td>3304557059</td>\n",
       "      <td>Piedade</td>\n",
       "      <td>Rio de Janeiro</td>\n",
       "      <td>RJ</td>\n",
       "      <td>44603</td>\n",
       "      <td>4657</td>\n",
       "      <td>2192</td>\n",
       "      <td>3121</td>\n",
       "      <td>3246</td>\n",
       "      <td>6454</td>\n",
       "      <td>...</td>\n",
       "      <td>95</td>\n",
       "      <td>2107</td>\n",
       "      <td>3222</td>\n",
       "      <td>4470</td>\n",
       "      <td>3969</td>\n",
       "      <td>500</td>\n",
       "      <td>1412</td>\n",
       "      <td>1944</td>\n",
       "      <td>808082.0</td>\n",
       "      <td>Alto</td>\n",
       "    </tr>\n",
       "    <tr>\n",
       "      <th>69</th>\n",
       "      <td>3304557066</td>\n",
       "      <td>Irajá</td>\n",
       "      <td>Rio de Janeiro</td>\n",
       "      <td>RJ</td>\n",
       "      <td>99102</td>\n",
       "      <td>9633</td>\n",
       "      <td>4743</td>\n",
       "      <td>6564</td>\n",
       "      <td>6855</td>\n",
       "      <td>14400</td>\n",
       "      <td>...</td>\n",
       "      <td>636</td>\n",
       "      <td>4874</td>\n",
       "      <td>8325</td>\n",
       "      <td>10129</td>\n",
       "      <td>6948</td>\n",
       "      <td>1222</td>\n",
       "      <td>3103</td>\n",
       "      <td>2140</td>\n",
       "      <td>1030856.0</td>\n",
       "      <td>Alto</td>\n",
       "    </tr>\n",
       "    <tr>\n",
       "      <th>26</th>\n",
       "      <td>3304557005</td>\n",
       "      <td>Catumbi</td>\n",
       "      <td>Rio de Janeiro</td>\n",
       "      <td>RJ</td>\n",
       "      <td>12910</td>\n",
       "      <td>1773</td>\n",
       "      <td>805</td>\n",
       "      <td>1018</td>\n",
       "      <td>999</td>\n",
       "      <td>1985</td>\n",
       "      <td>...</td>\n",
       "      <td>18</td>\n",
       "      <td>261</td>\n",
       "      <td>640</td>\n",
       "      <td>1281</td>\n",
       "      <td>1140</td>\n",
       "      <td>229</td>\n",
       "      <td>703</td>\n",
       "      <td>NaN</td>\n",
       "      <td>791170.0</td>\n",
       "      <td>Baixo</td>\n",
       "    </tr>\n",
       "    <tr>\n",
       "      <th>148</th>\n",
       "      <td>3304557159</td>\n",
       "      <td>Vasco Da Gama</td>\n",
       "      <td>Rio de Janeiro</td>\n",
       "      <td>RJ</td>\n",
       "      <td>15908</td>\n",
       "      <td>1909</td>\n",
       "      <td>878</td>\n",
       "      <td>1182</td>\n",
       "      <td>1320</td>\n",
       "      <td>2667</td>\n",
       "      <td>...</td>\n",
       "      <td>32</td>\n",
       "      <td>467</td>\n",
       "      <td>846</td>\n",
       "      <td>1612</td>\n",
       "      <td>1474</td>\n",
       "      <td>302</td>\n",
       "      <td>935</td>\n",
       "      <td>1550</td>\n",
       "      <td>767430.0</td>\n",
       "      <td>Baixo</td>\n",
       "    </tr>\n",
       "    <tr>\n",
       "      <th>133</th>\n",
       "      <td>3304557047</td>\n",
       "      <td>São Francisco Xavier</td>\n",
       "      <td>Rio de Janeiro</td>\n",
       "      <td>RJ</td>\n",
       "      <td>8578</td>\n",
       "      <td>972</td>\n",
       "      <td>502</td>\n",
       "      <td>613</td>\n",
       "      <td>758</td>\n",
       "      <td>1417</td>\n",
       "      <td>...</td>\n",
       "      <td>92</td>\n",
       "      <td>480</td>\n",
       "      <td>701</td>\n",
       "      <td>666</td>\n",
       "      <td>581</td>\n",
       "      <td>131</td>\n",
       "      <td>358</td>\n",
       "      <td>2317</td>\n",
       "      <td>878830.0</td>\n",
       "      <td>Baixo</td>\n",
       "    </tr>\n",
       "    <tr>\n",
       "      <th>39</th>\n",
       "      <td>3304557105</td>\n",
       "      <td>Cosmos</td>\n",
       "      <td>Rio de Janeiro</td>\n",
       "      <td>RJ</td>\n",
       "      <td>79116</td>\n",
       "      <td>11524</td>\n",
       "      <td>5711</td>\n",
       "      <td>7144</td>\n",
       "      <td>6478</td>\n",
       "      <td>12238</td>\n",
       "      <td>...</td>\n",
       "      <td>0</td>\n",
       "      <td>1032</td>\n",
       "      <td>3321</td>\n",
       "      <td>7860</td>\n",
       "      <td>7050</td>\n",
       "      <td>1914</td>\n",
       "      <td>4347</td>\n",
       "      <td>1308</td>\n",
       "      <td>219983.0</td>\n",
       "      <td>Médio</td>\n",
       "    </tr>\n",
       "    <tr>\n",
       "      <th>79</th>\n",
       "      <td>3304557129</td>\n",
       "      <td>Joá</td>\n",
       "      <td>Rio de Janeiro</td>\n",
       "      <td>RJ</td>\n",
       "      <td>842</td>\n",
       "      <td>61</td>\n",
       "      <td>29</td>\n",
       "      <td>35</td>\n",
       "      <td>46</td>\n",
       "      <td>131</td>\n",
       "      <td>...</td>\n",
       "      <td>59</td>\n",
       "      <td>57</td>\n",
       "      <td>33</td>\n",
       "      <td>7</td>\n",
       "      <td>8</td>\n",
       "      <td>0</td>\n",
       "      <td>20</td>\n",
       "      <td>17659</td>\n",
       "      <td>1162364.0</td>\n",
       "      <td>Médio</td>\n",
       "    </tr>\n",
       "    <tr>\n",
       "      <th>109</th>\n",
       "      <td>3304557061</td>\n",
       "      <td>Pilares</td>\n",
       "      <td>Rio de Janeiro</td>\n",
       "      <td>RJ</td>\n",
       "      <td>28018</td>\n",
       "      <td>3008</td>\n",
       "      <td>1476</td>\n",
       "      <td>1999</td>\n",
       "      <td>1993</td>\n",
       "      <td>4011</td>\n",
       "      <td>...</td>\n",
       "      <td>0</td>\n",
       "      <td>913</td>\n",
       "      <td>1659</td>\n",
       "      <td>2729</td>\n",
       "      <td>1997</td>\n",
       "      <td>456</td>\n",
       "      <td>2074</td>\n",
       "      <td>1535</td>\n",
       "      <td>826523.0</td>\n",
       "      <td>Baixo</td>\n",
       "    </tr>\n",
       "    <tr>\n",
       "      <th>117</th>\n",
       "      <td>3304557097</td>\n",
       "      <td>Realengo</td>\n",
       "      <td>Rio de Janeiro</td>\n",
       "      <td>RJ</td>\n",
       "      <td>185206</td>\n",
       "      <td>23513</td>\n",
       "      <td>11337</td>\n",
       "      <td>14883</td>\n",
       "      <td>14252</td>\n",
       "      <td>27747</td>\n",
       "      <td>...</td>\n",
       "      <td>242</td>\n",
       "      <td>4551</td>\n",
       "      <td>11214</td>\n",
       "      <td>18442</td>\n",
       "      <td>16361</td>\n",
       "      <td>3661</td>\n",
       "      <td>8364</td>\n",
       "      <td>1576</td>\n",
       "      <td>89769.0</td>\n",
       "      <td>Alto</td>\n",
       "    </tr>\n",
       "    <tr>\n",
       "      <th>128</th>\n",
       "      <td>3304557128</td>\n",
       "      <td>Santa Teresa</td>\n",
       "      <td>Rio de Janeiro</td>\n",
       "      <td>RJ</td>\n",
       "      <td>42081</td>\n",
       "      <td>4341</td>\n",
       "      <td>2130</td>\n",
       "      <td>2887</td>\n",
       "      <td>3499</td>\n",
       "      <td>7584</td>\n",
       "      <td>...</td>\n",
       "      <td>453</td>\n",
       "      <td>2290</td>\n",
       "      <td>2790</td>\n",
       "      <td>4882</td>\n",
       "      <td>3508</td>\n",
       "      <td>615</td>\n",
       "      <td>1565</td>\n",
       "      <td>2287</td>\n",
       "      <td>703465.0</td>\n",
       "      <td>Alto</td>\n",
       "    </tr>\n",
       "    <tr>\n",
       "      <th>140</th>\n",
       "      <td>3304557119</td>\n",
       "      <td>Tauá</td>\n",
       "      <td>Rio de Janeiro</td>\n",
       "      <td>RJ</td>\n",
       "      <td>30403</td>\n",
       "      <td>4008</td>\n",
       "      <td>1783</td>\n",
       "      <td>2398</td>\n",
       "      <td>2442</td>\n",
       "      <td>4930</td>\n",
       "      <td>...</td>\n",
       "      <td>138</td>\n",
       "      <td>1081</td>\n",
       "      <td>1651</td>\n",
       "      <td>2673</td>\n",
       "      <td>2467</td>\n",
       "      <td>436</td>\n",
       "      <td>1962</td>\n",
       "      <td>1704</td>\n",
       "      <td>752629.0</td>\n",
       "      <td>Médio</td>\n",
       "    </tr>\n",
       "    <tr>\n",
       "      <th>15</th>\n",
       "      <td>3304557014</td>\n",
       "      <td>Botafogo</td>\n",
       "      <td>Rio de Janeiro</td>\n",
       "      <td>RJ</td>\n",
       "      <td>85229</td>\n",
       "      <td>6278</td>\n",
       "      <td>2608</td>\n",
       "      <td>4410</td>\n",
       "      <td>5911</td>\n",
       "      <td>14697</td>\n",
       "      <td>...</td>\n",
       "      <td>5165</td>\n",
       "      <td>11669</td>\n",
       "      <td>6106</td>\n",
       "      <td>5289</td>\n",
       "      <td>3009</td>\n",
       "      <td>371</td>\n",
       "      <td>1853</td>\n",
       "      <td>8316</td>\n",
       "      <td>2211985.0</td>\n",
       "      <td>Alto</td>\n",
       "    </tr>\n",
       "    <tr>\n",
       "      <th>154</th>\n",
       "      <td>3304557033</td>\n",
       "      <td>Vila Isabel</td>\n",
       "      <td>Rio de Janeiro</td>\n",
       "      <td>RJ</td>\n",
       "      <td>88426</td>\n",
       "      <td>8117</td>\n",
       "      <td>4021</td>\n",
       "      <td>5750</td>\n",
       "      <td>6128</td>\n",
       "      <td>13459</td>\n",
       "      <td>...</td>\n",
       "      <td>2352</td>\n",
       "      <td>7949</td>\n",
       "      <td>6209</td>\n",
       "      <td>6402</td>\n",
       "      <td>5244</td>\n",
       "      <td>966</td>\n",
       "      <td>2441</td>\n",
       "      <td>5118</td>\n",
       "      <td>1528242.0</td>\n",
       "      <td>Alto</td>\n",
       "    </tr>\n",
       "  </tbody>\n",
       "</table>\n",
       "<p>15 rows × 24 columns</p>\n",
       "</div>"
      ],
      "text/plain": [
       "         codigo                  nome          cidade estado  população  \\\n",
       "146  3304557134         Vargem Grande  Rio de Janeiro     RJ      14436   \n",
       "49   3304557008               Estácio  Rio de Janeiro     RJ      17675   \n",
       "108  3304557059               Piedade  Rio de Janeiro     RJ      44603   \n",
       "69   3304557066                 Irajá  Rio de Janeiro     RJ      99102   \n",
       "26   3304557005               Catumbi  Rio de Janeiro     RJ      12910   \n",
       "148  3304557159         Vasco Da Gama  Rio de Janeiro     RJ      15908   \n",
       "133  3304557047  São Francisco Xavier  Rio de Janeiro     RJ       8578   \n",
       "39   3304557105                Cosmos  Rio de Janeiro     RJ      79116   \n",
       "79   3304557129                   Joá  Rio de Janeiro     RJ        842   \n",
       "109  3304557061               Pilares  Rio de Janeiro     RJ      28018   \n",
       "117  3304557097              Realengo  Rio de Janeiro     RJ     185206   \n",
       "128  3304557128          Santa Teresa  Rio de Janeiro     RJ      42081   \n",
       "140  3304557119                  Tauá  Rio de Janeiro     RJ      30403   \n",
       "15   3304557014              Botafogo  Rio de Janeiro     RJ      85229   \n",
       "154  3304557033           Vila Isabel  Rio de Janeiro     RJ      88426   \n",
       "\n",
       "     popAte9  popDe10a14  popDe15a19  popDe20a24  popDe25a34  ...  \\\n",
       "146     2125        1003        1262        1149        2492  ...   \n",
       "49      2246         980        1367        1462        2861  ...   \n",
       "108     4657        2192        3121        3246        6454  ...   \n",
       "69      9633        4743        6564        6855       14400  ...   \n",
       "26      1773         805        1018         999        1985  ...   \n",
       "148     1909         878        1182        1320        2667  ...   \n",
       "133      972         502         613         758        1417  ...   \n",
       "39     11524        5711        7144        6478       12238  ...   \n",
       "79        61          29          35          46         131  ...   \n",
       "109     3008        1476        1999        1993        4011  ...   \n",
       "117    23513       11337       14883       14252       27747  ...   \n",
       "128     4341        2130        2887        3499        7584  ...   \n",
       "140     4008        1783        2398        2442        4930  ...   \n",
       "15      6278        2608        4410        5911       14697  ...   \n",
       "154     8117        4021        5750        6128       13459  ...   \n",
       "\n",
       "     domiciliosA2  domiciliosB1  domiciliosB2  domiciliosC1  domiciliosC2  \\\n",
       "146           115           501           499          1288          1335   \n",
       "49             50           538           907          1760          1584   \n",
       "108            95          2107          3222          4470          3969   \n",
       "69            636          4874          8325         10129          6948   \n",
       "26             18           261           640          1281          1140   \n",
       "148            32           467           846          1612          1474   \n",
       "133            92           480           701           666           581   \n",
       "39              0          1032          3321          7860          7050   \n",
       "79             59            57            33             7             8   \n",
       "109             0           913          1659          2729          1997   \n",
       "117           242          4551         11214         18442         16361   \n",
       "128           453          2290          2790          4882          3508   \n",
       "140           138          1081          1651          2673          2467   \n",
       "15           5165         11669          6106          5289          3009   \n",
       "154          2352          7949          6209          6402          5244   \n",
       "\n",
       "     domiciliosD  domiciliosE  rendaMedia  faturamento  potencial  \n",
       "146          273          711        1884     768425.0      Baixo  \n",
       "49           310          949        1631     764380.0      Baixo  \n",
       "108          500         1412        1944     808082.0       Alto  \n",
       "69          1222         3103        2140    1030856.0       Alto  \n",
       "26           229          703         NaN     791170.0      Baixo  \n",
       "148          302          935        1550     767430.0      Baixo  \n",
       "133          131          358        2317     878830.0      Baixo  \n",
       "39          1914         4347        1308     219983.0      Médio  \n",
       "79             0           20       17659    1162364.0      Médio  \n",
       "109          456         2074        1535     826523.0      Baixo  \n",
       "117         3661         8364        1576      89769.0       Alto  \n",
       "128          615         1565        2287     703465.0       Alto  \n",
       "140          436         1962        1704     752629.0      Médio  \n",
       "15           371         1853        8316    2211985.0       Alto  \n",
       "154          966         2441        5118    1528242.0       Alto  \n",
       "\n",
       "[15 rows x 24 columns]"
      ]
     },
     "execution_count": 9,
     "metadata": {},
     "output_type": "execute_result"
    }
   ],
   "source": [
    "df1.sample(15)"
   ]
  },
  {
   "cell_type": "markdown",
   "id": "60aee131",
   "metadata": {},
   "source": [
    "## 1.1 Rename Columns"
   ]
  },
  {
   "cell_type": "code",
   "execution_count": 10,
   "id": "d2156afe",
   "metadata": {
    "ExecuteTime": {
     "end_time": "2023-07-02T21:42:39.229383Z",
     "start_time": "2023-07-02T21:42:39.214520Z"
    }
   },
   "outputs": [],
   "source": [
    "cols_new = df1.columns.map(lambda x: inflection.underscore(x))\n",
    "df1.columns = cols_new"
   ]
  },
  {
   "cell_type": "markdown",
   "id": "2df251b8",
   "metadata": {},
   "source": [
    "## 1.2 Data Shape"
   ]
  },
  {
   "cell_type": "code",
   "execution_count": 11,
   "id": "c965eeb6",
   "metadata": {
    "ExecuteTime": {
     "end_time": "2023-07-02T21:42:39.244482Z",
     "start_time": "2023-07-02T21:42:39.230406Z"
    }
   },
   "outputs": [
    {
     "data": {
      "text/plain": [
       "(160, 24)"
      ]
     },
     "execution_count": 11,
     "metadata": {},
     "output_type": "execute_result"
    }
   ],
   "source": [
    "df1.shape"
   ]
  },
  {
   "cell_type": "markdown",
   "id": "c244e8b3",
   "metadata": {},
   "source": [
    "## 1.3 Data Types"
   ]
  },
  {
   "cell_type": "code",
   "execution_count": 12,
   "id": "8038859e",
   "metadata": {
    "ExecuteTime": {
     "end_time": "2023-07-02T21:42:39.260461Z",
     "start_time": "2023-07-02T21:42:39.247037Z"
    }
   },
   "outputs": [
    {
     "data": {
      "text/plain": [
       "codigo             int64\n",
       "nome              object\n",
       "cidade            object\n",
       "estado            object\n",
       "população          int64\n",
       "pop_ate9           int64\n",
       "pop_de10a14        int64\n",
       "pop_de15a19        int64\n",
       "pop_de20a24        int64\n",
       "pop_de25a34        int64\n",
       "pop_de35a49        int64\n",
       "pop_de50a59        int64\n",
       "pop_mais_de60      int64\n",
       "domicilios_a1      int64\n",
       "domicilios_a2      int64\n",
       "domicilios_b1      int64\n",
       "domicilios_b2      int64\n",
       "domicilios_c1      int64\n",
       "domicilios_c2      int64\n",
       "domicilios_d       int64\n",
       "domicilios_e       int64\n",
       "renda_media       object\n",
       "faturamento      float64\n",
       "potencial         object\n",
       "dtype: object"
      ]
     },
     "execution_count": 12,
     "metadata": {},
     "output_type": "execute_result"
    }
   ],
   "source": [
    "df1.dtypes"
   ]
  },
  {
   "cell_type": "code",
   "execution_count": 13,
   "id": "79ae71e2",
   "metadata": {
    "ExecuteTime": {
     "end_time": "2023-07-02T21:42:39.275955Z",
     "start_time": "2023-07-02T21:42:39.263440Z"
    }
   },
   "outputs": [],
   "source": [
    "df1['renda_media'] = df1['renda_media'].astype(float)"
   ]
  },
  {
   "cell_type": "markdown",
   "id": "f4b5c3a9",
   "metadata": {},
   "source": [
    "## 1.3 Check NaN"
   ]
  },
  {
   "cell_type": "code",
   "execution_count": 14,
   "id": "f781dcce",
   "metadata": {
    "ExecuteTime": {
     "end_time": "2023-07-02T21:42:39.291755Z",
     "start_time": "2023-07-02T21:42:39.277481Z"
    }
   },
   "outputs": [
    {
     "data": {
      "text/plain": [
       "codigo           0\n",
       "nome             0\n",
       "cidade           0\n",
       "estado           0\n",
       "população        0\n",
       "pop_ate9         0\n",
       "pop_de10a14      0\n",
       "pop_de15a19      0\n",
       "pop_de20a24      0\n",
       "pop_de25a34      0\n",
       "pop_de35a49      0\n",
       "pop_de50a59      0\n",
       "pop_mais_de60    0\n",
       "domicilios_a1    0\n",
       "domicilios_a2    0\n",
       "domicilios_b1    0\n",
       "domicilios_b2    0\n",
       "domicilios_c1    0\n",
       "domicilios_c2    0\n",
       "domicilios_d     0\n",
       "domicilios_e     0\n",
       "renda_media      6\n",
       "faturamento      0\n",
       "potencial        0\n",
       "dtype: int64"
      ]
     },
     "execution_count": 14,
     "metadata": {},
     "output_type": "execute_result"
    }
   ],
   "source": [
    "df1.isna().sum()"
   ]
  },
  {
   "cell_type": "code",
   "execution_count": 15,
   "id": "4289a787",
   "metadata": {
    "ExecuteTime": {
     "end_time": "2023-07-02T21:42:39.307806Z",
     "start_time": "2023-07-02T21:42:39.293756Z"
    }
   },
   "outputs": [],
   "source": [
    "df1['renda_media'] = df1['renda_media'].fillna(df1['renda_media'].mean())"
   ]
  },
  {
   "cell_type": "markdown",
   "id": "8c49ca66",
   "metadata": {},
   "source": [
    "## 1.5 Descriptive Statistics"
   ]
  },
  {
   "cell_type": "markdown",
   "id": "d5f40a40",
   "metadata": {},
   "source": [
    "### 1.5.1 Numerical Statistics"
   ]
  },
  {
   "cell_type": "code",
   "execution_count": 16,
   "id": "5c709808",
   "metadata": {
    "ExecuteTime": {
     "end_time": "2023-07-02T21:42:39.324122Z",
     "start_time": "2023-07-02T21:42:39.309799Z"
    }
   },
   "outputs": [],
   "source": [
    "num_attributes = df1.select_dtypes(include=['int64','float64'])"
   ]
  },
  {
   "cell_type": "code",
   "execution_count": 17,
   "id": "6fd003d8",
   "metadata": {
    "ExecuteTime": {
     "end_time": "2023-07-02T21:42:39.370814Z",
     "start_time": "2023-07-02T21:42:39.324781Z"
    }
   },
   "outputs": [],
   "source": [
    "disp = num_attributes.agg(['min', 'max', lambda x: max(x)-min(x), 'mean','median','std','skew','kurtosis']).T"
   ]
  },
  {
   "cell_type": "code",
   "execution_count": 18,
   "id": "ba67b9d2",
   "metadata": {
    "ExecuteTime": {
     "end_time": "2023-07-02T21:42:39.401700Z",
     "start_time": "2023-07-02T21:42:39.372488Z"
    }
   },
   "outputs": [
    {
     "data": {
      "text/html": [
       "<div>\n",
       "<style scoped>\n",
       "    .dataframe tbody tr th:only-of-type {\n",
       "        vertical-align: middle;\n",
       "    }\n",
       "\n",
       "    .dataframe tbody tr th {\n",
       "        vertical-align: top;\n",
       "    }\n",
       "\n",
       "    .dataframe thead th {\n",
       "        text-align: right;\n",
       "    }\n",
       "</style>\n",
       "<table border=\"1\" class=\"dataframe\">\n",
       "  <thead>\n",
       "    <tr style=\"text-align: right;\">\n",
       "      <th></th>\n",
       "      <th>min</th>\n",
       "      <th>max</th>\n",
       "      <th>&lt;lambda&gt;</th>\n",
       "      <th>mean</th>\n",
       "      <th>median</th>\n",
       "      <th>std</th>\n",
       "      <th>skew</th>\n",
       "      <th>kurtosis</th>\n",
       "    </tr>\n",
       "  </thead>\n",
       "  <tbody>\n",
       "    <tr>\n",
       "      <th>codigo</th>\n",
       "      <td>3.304557e+09</td>\n",
       "      <td>3.304557e+09</td>\n",
       "      <td>159.0</td>\n",
       "      <td>3.304557e+09</td>\n",
       "      <td>3.304557e+09</td>\n",
       "      <td>46.332134</td>\n",
       "      <td>0.000000</td>\n",
       "      <td>-1.200000</td>\n",
       "    </tr>\n",
       "    <tr>\n",
       "      <th>população</th>\n",
       "      <td>1.730000e+02</td>\n",
       "      <td>6.676030e+05</td>\n",
       "      <td>667430.0</td>\n",
       "      <td>4.265435e+04</td>\n",
       "      <td>2.607600e+04</td>\n",
       "      <td>64262.949072</td>\n",
       "      <td>6.430261</td>\n",
       "      <td>56.987523</td>\n",
       "    </tr>\n",
       "    <tr>\n",
       "      <th>pop_ate9</th>\n",
       "      <td>3.300000e+01</td>\n",
       "      <td>1.225780e+05</td>\n",
       "      <td>122545.0</td>\n",
       "      <td>5.329062e+03</td>\n",
       "      <td>3.111500e+03</td>\n",
       "      <td>10816.199770</td>\n",
       "      <td>8.455441</td>\n",
       "      <td>87.995016</td>\n",
       "    </tr>\n",
       "    <tr>\n",
       "      <th>pop_de10a14</th>\n",
       "      <td>1.300000e+01</td>\n",
       "      <td>5.593500e+04</td>\n",
       "      <td>55922.0</td>\n",
       "      <td>2.484444e+03</td>\n",
       "      <td>1.434000e+03</td>\n",
       "      <td>4948.827166</td>\n",
       "      <td>8.385443</td>\n",
       "      <td>86.769750</td>\n",
       "    </tr>\n",
       "    <tr>\n",
       "      <th>pop_de15a19</th>\n",
       "      <td>2.200000e+01</td>\n",
       "      <td>6.234200e+04</td>\n",
       "      <td>62320.0</td>\n",
       "      <td>3.272156e+03</td>\n",
       "      <td>2.015000e+03</td>\n",
       "      <td>5752.156303</td>\n",
       "      <td>7.401606</td>\n",
       "      <td>71.038687</td>\n",
       "    </tr>\n",
       "    <tr>\n",
       "      <th>pop_de20a24</th>\n",
       "      <td>1.700000e+01</td>\n",
       "      <td>6.056700e+04</td>\n",
       "      <td>60550.0</td>\n",
       "      <td>3.349381e+03</td>\n",
       "      <td>2.142500e+03</td>\n",
       "      <td>5601.893201</td>\n",
       "      <td>7.253694</td>\n",
       "      <td>69.287685</td>\n",
       "    </tr>\n",
       "    <tr>\n",
       "      <th>pop_de25a34</th>\n",
       "      <td>2.800000e+01</td>\n",
       "      <td>8.611600e+04</td>\n",
       "      <td>86088.0</td>\n",
       "      <td>6.584475e+03</td>\n",
       "      <td>4.170500e+03</td>\n",
       "      <td>9049.895783</td>\n",
       "      <td>5.159097</td>\n",
       "      <td>38.471855</td>\n",
       "    </tr>\n",
       "    <tr>\n",
       "      <th>pop_de35a49</th>\n",
       "      <td>3.800000e+01</td>\n",
       "      <td>1.053160e+05</td>\n",
       "      <td>105278.0</td>\n",
       "      <td>8.826862e+03</td>\n",
       "      <td>5.657000e+03</td>\n",
       "      <td>11536.276416</td>\n",
       "      <td>4.691357</td>\n",
       "      <td>32.096439</td>\n",
       "    </tr>\n",
       "    <tr>\n",
       "      <th>pop_de50a59</th>\n",
       "      <td>1.000000e+01</td>\n",
       "      <td>8.334100e+04</td>\n",
       "      <td>83331.0</td>\n",
       "      <td>5.332262e+03</td>\n",
       "      <td>3.371500e+03</td>\n",
       "      <td>7986.261929</td>\n",
       "      <td>6.495919</td>\n",
       "      <td>57.988745</td>\n",
       "    </tr>\n",
       "    <tr>\n",
       "      <th>pop_mais_de60</th>\n",
       "      <td>1.200000e+01</td>\n",
       "      <td>9.140800e+04</td>\n",
       "      <td>91396.0</td>\n",
       "      <td>7.475706e+03</td>\n",
       "      <td>4.575500e+03</td>\n",
       "      <td>10258.307743</td>\n",
       "      <td>4.725239</td>\n",
       "      <td>30.969842</td>\n",
       "    </tr>\n",
       "    <tr>\n",
       "      <th>domicilios_a1</th>\n",
       "      <td>0.000000e+00</td>\n",
       "      <td>1.340800e+04</td>\n",
       "      <td>13408.0</td>\n",
       "      <td>3.884750e+02</td>\n",
       "      <td>0.000000e+00</td>\n",
       "      <td>1403.605232</td>\n",
       "      <td>6.220032</td>\n",
       "      <td>49.004836</td>\n",
       "    </tr>\n",
       "    <tr>\n",
       "      <th>domicilios_a2</th>\n",
       "      <td>0.000000e+00</td>\n",
       "      <td>1.166800e+04</td>\n",
       "      <td>11668.0</td>\n",
       "      <td>6.082687e+02</td>\n",
       "      <td>1.075000e+02</td>\n",
       "      <td>1535.237669</td>\n",
       "      <td>4.739400</td>\n",
       "      <td>26.227077</td>\n",
       "    </tr>\n",
       "    <tr>\n",
       "      <th>domicilios_b1</th>\n",
       "      <td>0.000000e+00</td>\n",
       "      <td>1.935000e+04</td>\n",
       "      <td>19350.0</td>\n",
       "      <td>1.871562e+03</td>\n",
       "      <td>8.480000e+02</td>\n",
       "      <td>2973.530791</td>\n",
       "      <td>3.698927</td>\n",
       "      <td>16.429617</td>\n",
       "    </tr>\n",
       "    <tr>\n",
       "      <th>domicilios_b2</th>\n",
       "      <td>0.000000e+00</td>\n",
       "      <td>2.123700e+04</td>\n",
       "      <td>21237.0</td>\n",
       "      <td>2.385075e+03</td>\n",
       "      <td>1.536000e+03</td>\n",
       "      <td>2779.071565</td>\n",
       "      <td>3.362580</td>\n",
       "      <td>15.884475</td>\n",
       "    </tr>\n",
       "    <tr>\n",
       "      <th>domicilios_c1</th>\n",
       "      <td>5.000000e+00</td>\n",
       "      <td>3.311100e+04</td>\n",
       "      <td>33106.0</td>\n",
       "      <td>3.539850e+03</td>\n",
       "      <td>2.394500e+03</td>\n",
       "      <td>4324.539462</td>\n",
       "      <td>3.600450</td>\n",
       "      <td>17.620849</td>\n",
       "    </tr>\n",
       "    <tr>\n",
       "      <th>domicilios_c2</th>\n",
       "      <td>3.000000e+00</td>\n",
       "      <td>2.577900e+04</td>\n",
       "      <td>25776.0</td>\n",
       "      <td>3.030806e+03</td>\n",
       "      <td>1.861500e+03</td>\n",
       "      <td>4003.047836</td>\n",
       "      <td>3.322379</td>\n",
       "      <td>13.224391</td>\n",
       "    </tr>\n",
       "    <tr>\n",
       "      <th>domicilios_d</th>\n",
       "      <td>0.000000e+00</td>\n",
       "      <td>4.956000e+03</td>\n",
       "      <td>4956.0</td>\n",
       "      <td>5.683750e+02</td>\n",
       "      <td>3.275000e+02</td>\n",
       "      <td>823.920340</td>\n",
       "      <td>3.273737</td>\n",
       "      <td>12.356773</td>\n",
       "    </tr>\n",
       "    <tr>\n",
       "      <th>domicilios_e</th>\n",
       "      <td>2.000000e+00</td>\n",
       "      <td>1.483300e+04</td>\n",
       "      <td>14831.0</td>\n",
       "      <td>1.821612e+03</td>\n",
       "      <td>1.042500e+03</td>\n",
       "      <td>2292.079295</td>\n",
       "      <td>2.944783</td>\n",
       "      <td>10.983002</td>\n",
       "    </tr>\n",
       "    <tr>\n",
       "      <th>renda_media</th>\n",
       "      <td>6.540000e+02</td>\n",
       "      <td>6.388700e+04</td>\n",
       "      <td>63233.0</td>\n",
       "      <td>3.608071e+03</td>\n",
       "      <td>1.944000e+03</td>\n",
       "      <td>5975.819147</td>\n",
       "      <td>7.083664</td>\n",
       "      <td>65.856014</td>\n",
       "    </tr>\n",
       "    <tr>\n",
       "      <th>faturamento</th>\n",
       "      <td>2.465100e+04</td>\n",
       "      <td>2.915612e+06</td>\n",
       "      <td>2890961.0</td>\n",
       "      <td>8.761600e+05</td>\n",
       "      <td>8.242285e+05</td>\n",
       "      <td>438210.595559</td>\n",
       "      <td>1.356720</td>\n",
       "      <td>4.271948</td>\n",
       "    </tr>\n",
       "  </tbody>\n",
       "</table>\n",
       "</div>"
      ],
      "text/plain": [
       "                        min           max   <lambda>          mean  \\\n",
       "codigo         3.304557e+09  3.304557e+09      159.0  3.304557e+09   \n",
       "população      1.730000e+02  6.676030e+05   667430.0  4.265435e+04   \n",
       "pop_ate9       3.300000e+01  1.225780e+05   122545.0  5.329062e+03   \n",
       "pop_de10a14    1.300000e+01  5.593500e+04    55922.0  2.484444e+03   \n",
       "pop_de15a19    2.200000e+01  6.234200e+04    62320.0  3.272156e+03   \n",
       "pop_de20a24    1.700000e+01  6.056700e+04    60550.0  3.349381e+03   \n",
       "pop_de25a34    2.800000e+01  8.611600e+04    86088.0  6.584475e+03   \n",
       "pop_de35a49    3.800000e+01  1.053160e+05   105278.0  8.826862e+03   \n",
       "pop_de50a59    1.000000e+01  8.334100e+04    83331.0  5.332262e+03   \n",
       "pop_mais_de60  1.200000e+01  9.140800e+04    91396.0  7.475706e+03   \n",
       "domicilios_a1  0.000000e+00  1.340800e+04    13408.0  3.884750e+02   \n",
       "domicilios_a2  0.000000e+00  1.166800e+04    11668.0  6.082687e+02   \n",
       "domicilios_b1  0.000000e+00  1.935000e+04    19350.0  1.871562e+03   \n",
       "domicilios_b2  0.000000e+00  2.123700e+04    21237.0  2.385075e+03   \n",
       "domicilios_c1  5.000000e+00  3.311100e+04    33106.0  3.539850e+03   \n",
       "domicilios_c2  3.000000e+00  2.577900e+04    25776.0  3.030806e+03   \n",
       "domicilios_d   0.000000e+00  4.956000e+03     4956.0  5.683750e+02   \n",
       "domicilios_e   2.000000e+00  1.483300e+04    14831.0  1.821612e+03   \n",
       "renda_media    6.540000e+02  6.388700e+04    63233.0  3.608071e+03   \n",
       "faturamento    2.465100e+04  2.915612e+06  2890961.0  8.761600e+05   \n",
       "\n",
       "                     median            std      skew   kurtosis  \n",
       "codigo         3.304557e+09      46.332134  0.000000  -1.200000  \n",
       "população      2.607600e+04   64262.949072  6.430261  56.987523  \n",
       "pop_ate9       3.111500e+03   10816.199770  8.455441  87.995016  \n",
       "pop_de10a14    1.434000e+03    4948.827166  8.385443  86.769750  \n",
       "pop_de15a19    2.015000e+03    5752.156303  7.401606  71.038687  \n",
       "pop_de20a24    2.142500e+03    5601.893201  7.253694  69.287685  \n",
       "pop_de25a34    4.170500e+03    9049.895783  5.159097  38.471855  \n",
       "pop_de35a49    5.657000e+03   11536.276416  4.691357  32.096439  \n",
       "pop_de50a59    3.371500e+03    7986.261929  6.495919  57.988745  \n",
       "pop_mais_de60  4.575500e+03   10258.307743  4.725239  30.969842  \n",
       "domicilios_a1  0.000000e+00    1403.605232  6.220032  49.004836  \n",
       "domicilios_a2  1.075000e+02    1535.237669  4.739400  26.227077  \n",
       "domicilios_b1  8.480000e+02    2973.530791  3.698927  16.429617  \n",
       "domicilios_b2  1.536000e+03    2779.071565  3.362580  15.884475  \n",
       "domicilios_c1  2.394500e+03    4324.539462  3.600450  17.620849  \n",
       "domicilios_c2  1.861500e+03    4003.047836  3.322379  13.224391  \n",
       "domicilios_d   3.275000e+02     823.920340  3.273737  12.356773  \n",
       "domicilios_e   1.042500e+03    2292.079295  2.944783  10.983002  \n",
       "renda_media    1.944000e+03    5975.819147  7.083664  65.856014  \n",
       "faturamento    8.242285e+05  438210.595559  1.356720   4.271948  "
      ]
     },
     "execution_count": 18,
     "metadata": {},
     "output_type": "execute_result"
    }
   ],
   "source": [
    "disp"
   ]
  },
  {
   "cell_type": "markdown",
   "id": "19fb5269",
   "metadata": {},
   "source": [
    "### 1.5.2 Categorical Attributes"
   ]
  },
  {
   "cell_type": "code",
   "execution_count": 19,
   "id": "58638fc5",
   "metadata": {
    "ExecuteTime": {
     "end_time": "2023-07-02T21:42:39.417616Z",
     "start_time": "2023-07-02T21:42:39.402701Z"
    }
   },
   "outputs": [],
   "source": [
    "cat_attributes = df1.select_dtypes(exclude=['int64','float64'])"
   ]
  },
  {
   "cell_type": "code",
   "execution_count": 20,
   "id": "f6857bee",
   "metadata": {
    "ExecuteTime": {
     "end_time": "2023-07-02T21:42:39.432915Z",
     "start_time": "2023-07-02T21:42:39.419575Z"
    }
   },
   "outputs": [
    {
     "data": {
      "text/html": [
       "<div>\n",
       "<style scoped>\n",
       "    .dataframe tbody tr th:only-of-type {\n",
       "        vertical-align: middle;\n",
       "    }\n",
       "\n",
       "    .dataframe tbody tr th {\n",
       "        vertical-align: top;\n",
       "    }\n",
       "\n",
       "    .dataframe thead th {\n",
       "        text-align: right;\n",
       "    }\n",
       "</style>\n",
       "<table border=\"1\" class=\"dataframe\">\n",
       "  <thead>\n",
       "    <tr style=\"text-align: right;\">\n",
       "      <th></th>\n",
       "      <th>nome</th>\n",
       "      <th>cidade</th>\n",
       "      <th>estado</th>\n",
       "      <th>potencial</th>\n",
       "    </tr>\n",
       "  </thead>\n",
       "  <tbody>\n",
       "    <tr>\n",
       "      <th>0</th>\n",
       "      <td>Abolição</td>\n",
       "      <td>Rio de Janeiro</td>\n",
       "      <td>RJ</td>\n",
       "      <td>Médio</td>\n",
       "    </tr>\n",
       "    <tr>\n",
       "      <th>1</th>\n",
       "      <td>Acari</td>\n",
       "      <td>Rio de Janeiro</td>\n",
       "      <td>RJ</td>\n",
       "      <td>Baixo</td>\n",
       "    </tr>\n",
       "    <tr>\n",
       "      <th>2</th>\n",
       "      <td>Água Santa</td>\n",
       "      <td>Rio de Janeiro</td>\n",
       "      <td>RJ</td>\n",
       "      <td>Baixo</td>\n",
       "    </tr>\n",
       "    <tr>\n",
       "      <th>3</th>\n",
       "      <td>Alto Da Boa Vista</td>\n",
       "      <td>Rio de Janeiro</td>\n",
       "      <td>RJ</td>\n",
       "      <td>Médio</td>\n",
       "    </tr>\n",
       "    <tr>\n",
       "      <th>4</th>\n",
       "      <td>Anchieta</td>\n",
       "      <td>Rio de Janeiro</td>\n",
       "      <td>RJ</td>\n",
       "      <td>Médio</td>\n",
       "    </tr>\n",
       "    <tr>\n",
       "      <th>...</th>\n",
       "      <td>...</td>\n",
       "      <td>...</td>\n",
       "      <td>...</td>\n",
       "      <td>...</td>\n",
       "    </tr>\n",
       "    <tr>\n",
       "      <th>155</th>\n",
       "      <td>Vila Kosmos</td>\n",
       "      <td>Rio de Janeiro</td>\n",
       "      <td>RJ</td>\n",
       "      <td>Médio</td>\n",
       "    </tr>\n",
       "    <tr>\n",
       "      <th>156</th>\n",
       "      <td>Vila Militar</td>\n",
       "      <td>Rio de Janeiro</td>\n",
       "      <td>RJ</td>\n",
       "      <td>Médio</td>\n",
       "    </tr>\n",
       "    <tr>\n",
       "      <th>157</th>\n",
       "      <td>Vila Valqueire</td>\n",
       "      <td>Rio de Janeiro</td>\n",
       "      <td>RJ</td>\n",
       "      <td>Alto</td>\n",
       "    </tr>\n",
       "    <tr>\n",
       "      <th>158</th>\n",
       "      <td>Vista Alegre</td>\n",
       "      <td>Rio de Janeiro</td>\n",
       "      <td>RJ</td>\n",
       "      <td>Baixo</td>\n",
       "    </tr>\n",
       "    <tr>\n",
       "      <th>159</th>\n",
       "      <td>Zumbi</td>\n",
       "      <td>Rio de Janeiro</td>\n",
       "      <td>RJ</td>\n",
       "      <td>Baixo</td>\n",
       "    </tr>\n",
       "  </tbody>\n",
       "</table>\n",
       "<p>160 rows × 4 columns</p>\n",
       "</div>"
      ],
      "text/plain": [
       "                  nome          cidade estado potencial\n",
       "0             Abolição  Rio de Janeiro     RJ     Médio\n",
       "1                Acari  Rio de Janeiro     RJ     Baixo\n",
       "2           Água Santa  Rio de Janeiro     RJ     Baixo\n",
       "3    Alto Da Boa Vista  Rio de Janeiro     RJ     Médio\n",
       "4             Anchieta  Rio de Janeiro     RJ     Médio\n",
       "..                 ...             ...    ...       ...\n",
       "155        Vila Kosmos  Rio de Janeiro     RJ     Médio\n",
       "156       Vila Militar  Rio de Janeiro     RJ     Médio\n",
       "157     Vila Valqueire  Rio de Janeiro     RJ      Alto\n",
       "158       Vista Alegre  Rio de Janeiro     RJ     Baixo\n",
       "159              Zumbi  Rio de Janeiro     RJ     Baixo\n",
       "\n",
       "[160 rows x 4 columns]"
      ]
     },
     "execution_count": 20,
     "metadata": {},
     "output_type": "execute_result"
    }
   ],
   "source": [
    "cat_attributes"
   ]
  },
  {
   "cell_type": "code",
   "execution_count": 21,
   "id": "375a80e6",
   "metadata": {
    "ExecuteTime": {
     "end_time": "2023-07-02T21:42:39.587686Z",
     "start_time": "2023-07-02T21:42:39.434910Z"
    }
   },
   "outputs": [
    {
     "data": {
      "text/plain": [
       "<Axes: xlabel='potencial', ylabel='count'>"
      ]
     },
     "execution_count": 21,
     "metadata": {},
     "output_type": "execute_result"
    },
    {
     "data": {
      "image/png": "[encoded data removed]",
      "text/plain": [
       "<Figure size 640x480 with 1 Axes>"
      ]
     },
     "metadata": {},
     "output_type": "display_data"
    }
   ],
   "source": [
    "#name \n",
    "sns.countplot(cat_attributes, x='potencial')"
   ]
  },
  {
   "cell_type": "markdown",
   "id": "b845cce4",
   "metadata": {
    "heading_collapsed": true
   },
   "source": [
    "# 2.0 FEATURE ENGINEERING"
   ]
  },
  {
   "cell_type": "code",
   "execution_count": 22,
   "id": "b5eec645",
   "metadata": {
    "ExecuteTime": {
     "end_time": "2023-07-02T21:42:39.603558Z",
     "start_time": "2023-07-02T21:42:39.588680Z"
    },
    "hidden": true
   },
   "outputs": [],
   "source": [
    "df2 = df1.copy()"
   ]
  },
  {
   "cell_type": "code",
   "execution_count": 23,
   "id": "595576e8",
   "metadata": {
    "ExecuteTime": {
     "end_time": "2023-07-02T21:42:39.619628Z",
     "start_time": "2023-07-02T21:42:39.606110Z"
    },
    "hidden": true
   },
   "outputs": [],
   "source": [
    "#remove city, state, ID\n",
    "df2 = df2.drop(['cidade', 'estado', 'codigo'], axis=1)\n"
   ]
  },
  {
   "cell_type": "markdown",
   "id": "fdb95ba7",
   "metadata": {
    "heading_collapsed": true
   },
   "source": [
    "# 3.0 EDA"
   ]
  },
  {
   "cell_type": "code",
   "execution_count": 24,
   "id": "d3ba2479",
   "metadata": {
    "ExecuteTime": {
     "end_time": "2023-07-02T21:42:39.635108Z",
     "start_time": "2023-07-02T21:42:39.621620Z"
    },
    "hidden": true
   },
   "outputs": [],
   "source": [
    "df3 = df2.copy()"
   ]
  },
  {
   "cell_type": "markdown",
   "id": "6d93fd82",
   "metadata": {
    "heading_collapsed": true
   },
   "source": [
    "# 4.0 DATA PREPARATION"
   ]
  },
  {
   "cell_type": "code",
   "execution_count": 25,
   "id": "312938bb",
   "metadata": {
    "ExecuteTime": {
     "end_time": "2023-07-02T21:42:39.650651Z",
     "start_time": "2023-07-02T21:42:39.637189Z"
    },
    "hidden": true
   },
   "outputs": [],
   "source": [
    "df4 = df3.copy()"
   ]
  },
  {
   "cell_type": "code",
   "execution_count": 26,
   "id": "1ee3bd72",
   "metadata": {
    "ExecuteTime": {
     "end_time": "2023-07-02T21:42:39.681386Z",
     "start_time": "2023-07-02T21:42:39.651649Z"
    },
    "hidden": true
   },
   "outputs": [
    {
     "data": {
      "text/html": [
       "<div>\n",
       "<style scoped>\n",
       "    .dataframe tbody tr th:only-of-type {\n",
       "        vertical-align: middle;\n",
       "    }\n",
       "\n",
       "    .dataframe tbody tr th {\n",
       "        vertical-align: top;\n",
       "    }\n",
       "\n",
       "    .dataframe thead th {\n",
       "        text-align: right;\n",
       "    }\n",
       "</style>\n",
       "<table border=\"1\" class=\"dataframe\">\n",
       "  <thead>\n",
       "    <tr style=\"text-align: right;\">\n",
       "      <th></th>\n",
       "      <th>nome</th>\n",
       "      <th>população</th>\n",
       "      <th>pop_ate9</th>\n",
       "      <th>pop_de10a14</th>\n",
       "      <th>pop_de15a19</th>\n",
       "      <th>pop_de20a24</th>\n",
       "      <th>pop_de25a34</th>\n",
       "      <th>pop_de35a49</th>\n",
       "      <th>pop_de50a59</th>\n",
       "      <th>pop_mais_de60</th>\n",
       "      <th>...</th>\n",
       "      <th>domicilios_a2</th>\n",
       "      <th>domicilios_b1</th>\n",
       "      <th>domicilios_b2</th>\n",
       "      <th>domicilios_c1</th>\n",
       "      <th>domicilios_c2</th>\n",
       "      <th>domicilios_d</th>\n",
       "      <th>domicilios_e</th>\n",
       "      <th>renda_media</th>\n",
       "      <th>faturamento</th>\n",
       "      <th>potencial</th>\n",
       "    </tr>\n",
       "  </thead>\n",
       "  <tbody>\n",
       "    <tr>\n",
       "      <th>0</th>\n",
       "      <td>Abolição</td>\n",
       "      <td>11676</td>\n",
       "      <td>1027</td>\n",
       "      <td>483</td>\n",
       "      <td>688</td>\n",
       "      <td>800</td>\n",
       "      <td>1675</td>\n",
       "      <td>2300</td>\n",
       "      <td>1784</td>\n",
       "      <td>2919</td>\n",
       "      <td>...</td>\n",
       "      <td>145</td>\n",
       "      <td>715</td>\n",
       "      <td>1242</td>\n",
       "      <td>1093</td>\n",
       "      <td>758</td>\n",
       "      <td>92</td>\n",
       "      <td>304</td>\n",
       "      <td>2501.0</td>\n",
       "      <td>932515.0</td>\n",
       "      <td>Médio</td>\n",
       "    </tr>\n",
       "    <tr>\n",
       "      <th>1</th>\n",
       "      <td>Acari</td>\n",
       "      <td>27564</td>\n",
       "      <td>5131</td>\n",
       "      <td>2188</td>\n",
       "      <td>2697</td>\n",
       "      <td>2630</td>\n",
       "      <td>4810</td>\n",
       "      <td>5308</td>\n",
       "      <td>2403</td>\n",
       "      <td>2397</td>\n",
       "      <td>...</td>\n",
       "      <td>0</td>\n",
       "      <td>82</td>\n",
       "      <td>506</td>\n",
       "      <td>2040</td>\n",
       "      <td>2490</td>\n",
       "      <td>827</td>\n",
       "      <td>2506</td>\n",
       "      <td>931.0</td>\n",
       "      <td>588833.0</td>\n",
       "      <td>Baixo</td>\n",
       "    </tr>\n",
       "    <tr>\n",
       "      <th>2</th>\n",
       "      <td>Água Santa</td>\n",
       "      <td>9003</td>\n",
       "      <td>883</td>\n",
       "      <td>399</td>\n",
       "      <td>597</td>\n",
       "      <td>762</td>\n",
       "      <td>1755</td>\n",
       "      <td>2076</td>\n",
       "      <td>1112</td>\n",
       "      <td>1419</td>\n",
       "      <td>...</td>\n",
       "      <td>96</td>\n",
       "      <td>404</td>\n",
       "      <td>652</td>\n",
       "      <td>644</td>\n",
       "      <td>522</td>\n",
       "      <td>77</td>\n",
       "      <td>254</td>\n",
       "      <td>2391.0</td>\n",
       "      <td>874200.0</td>\n",
       "      <td>Baixo</td>\n",
       "    </tr>\n",
       "    <tr>\n",
       "      <th>3</th>\n",
       "      <td>Alto Da Boa Vista</td>\n",
       "      <td>9606</td>\n",
       "      <td>1072</td>\n",
       "      <td>538</td>\n",
       "      <td>660</td>\n",
       "      <td>685</td>\n",
       "      <td>1317</td>\n",
       "      <td>2007</td>\n",
       "      <td>1341</td>\n",
       "      <td>1986</td>\n",
       "      <td>...</td>\n",
       "      <td>178</td>\n",
       "      <td>393</td>\n",
       "      <td>517</td>\n",
       "      <td>945</td>\n",
       "      <td>584</td>\n",
       "      <td>137</td>\n",
       "      <td>286</td>\n",
       "      <td>3727.0</td>\n",
       "      <td>912226.0</td>\n",
       "      <td>Médio</td>\n",
       "    </tr>\n",
       "    <tr>\n",
       "      <th>4</th>\n",
       "      <td>Anchieta</td>\n",
       "      <td>57222</td>\n",
       "      <td>7677</td>\n",
       "      <td>3774</td>\n",
       "      <td>4892</td>\n",
       "      <td>4600</td>\n",
       "      <td>8660</td>\n",
       "      <td>12272</td>\n",
       "      <td>7157</td>\n",
       "      <td>8190</td>\n",
       "      <td>...</td>\n",
       "      <td>0</td>\n",
       "      <td>1089</td>\n",
       "      <td>2821</td>\n",
       "      <td>5110</td>\n",
       "      <td>5422</td>\n",
       "      <td>1073</td>\n",
       "      <td>3261</td>\n",
       "      <td>1380.0</td>\n",
       "      <td>553020.0</td>\n",
       "      <td>Médio</td>\n",
       "    </tr>\n",
       "  </tbody>\n",
       "</table>\n",
       "<p>5 rows × 21 columns</p>\n",
       "</div>"
      ],
      "text/plain": [
       "                nome  população  pop_ate9  pop_de10a14  pop_de15a19  \\\n",
       "0           Abolição      11676      1027          483          688   \n",
       "1              Acari      27564      5131         2188         2697   \n",
       "2         Água Santa       9003       883          399          597   \n",
       "3  Alto Da Boa Vista       9606      1072          538          660   \n",
       "4           Anchieta      57222      7677         3774         4892   \n",
       "\n",
       "   pop_de20a24  pop_de25a34  pop_de35a49  pop_de50a59  pop_mais_de60  ...  \\\n",
       "0          800         1675         2300         1784           2919  ...   \n",
       "1         2630         4810         5308         2403           2397  ...   \n",
       "2          762         1755         2076         1112           1419  ...   \n",
       "3          685         1317         2007         1341           1986  ...   \n",
       "4         4600         8660        12272         7157           8190  ...   \n",
       "\n",
       "   domicilios_a2  domicilios_b1  domicilios_b2  domicilios_c1  domicilios_c2  \\\n",
       "0            145            715           1242           1093            758   \n",
       "1              0             82            506           2040           2490   \n",
       "2             96            404            652            644            522   \n",
       "3            178            393            517            945            584   \n",
       "4              0           1089           2821           5110           5422   \n",
       "\n",
       "   domicilios_d  domicilios_e  renda_media  faturamento  potencial  \n",
       "0            92           304       2501.0     932515.0      Médio  \n",
       "1           827          2506        931.0     588833.0      Baixo  \n",
       "2            77           254       2391.0     874200.0      Baixo  \n",
       "3           137           286       3727.0     912226.0      Médio  \n",
       "4          1073          3261       1380.0     553020.0      Médio  \n",
       "\n",
       "[5 rows x 21 columns]"
      ]
     },
     "execution_count": 26,
     "metadata": {},
     "output_type": "execute_result"
    }
   ],
   "source": [
    "df4.head()"
   ]
  },
  {
   "cell_type": "code",
   "execution_count": 27,
   "id": "d7d19957",
   "metadata": {
    "ExecuteTime": {
     "end_time": "2023-07-02T21:42:39.696898Z",
     "start_time": "2023-07-02T21:42:39.688838Z"
    },
    "hidden": true
   },
   "outputs": [],
   "source": [
    "#potencial\n",
    "df4['potencial'] = df4['potencial'].apply(lambda x: 0 if x == 'Baixo' else 1 if x == 'Médio' else 2)"
   ]
  },
  {
   "cell_type": "code",
   "execution_count": 28,
   "id": "41cc64b6",
   "metadata": {
    "ExecuteTime": {
     "end_time": "2023-07-02T21:42:39.980735Z",
     "start_time": "2023-07-02T21:42:39.697952Z"
    },
    "hidden": true
   },
   "outputs": [
    {
     "data": {
      "text/plain": [
       "<Axes: xlabel='faturamento', ylabel='Count'>"
      ]
     },
     "execution_count": 28,
     "metadata": {},
     "output_type": "execute_result"
    },
    {
     "data": {
      "image/png": "[encoded data removed]",
      "text/plain": [
       "<Figure size 640x480 with 1 Axes>"
      ]
     },
     "metadata": {},
     "output_type": "display_data"
    }
   ],
   "source": [
    "sns.histplot(df4, x='faturamento', kde=True)"
   ]
  },
  {
   "cell_type": "markdown",
   "id": "e9cc1030",
   "metadata": {
    "hidden": true
   },
   "source": [
    "## 4.1 MinMaxScaler"
   ]
  },
  {
   "cell_type": "code",
   "execution_count": 29,
   "id": "977efe31",
   "metadata": {
    "ExecuteTime": {
     "end_time": "2023-07-02T21:42:39.996581Z",
     "start_time": "2023-07-02T21:42:39.982730Z"
    },
    "hidden": true
   },
   "outputs": [
    {
     "data": {
      "text/plain": [
       "Index(['nome', 'população', 'pop_ate9', 'pop_de10a14', 'pop_de15a19',\n",
       "       'pop_de20a24', 'pop_de25a34', 'pop_de35a49', 'pop_de50a59',\n",
       "       'pop_mais_de60', 'domicilios_a1', 'domicilios_a2', 'domicilios_b1',\n",
       "       'domicilios_b2', 'domicilios_c1', 'domicilios_c2', 'domicilios_d',\n",
       "       'domicilios_e', 'renda_media', 'faturamento', 'potencial'],\n",
       "      dtype='object')"
      ]
     },
     "execution_count": 29,
     "metadata": {},
     "output_type": "execute_result"
    }
   ],
   "source": [
    "df4.columns"
   ]
  },
  {
   "cell_type": "code",
   "execution_count": 30,
   "id": "9ae44ea9",
   "metadata": {
    "ExecuteTime": {
     "end_time": "2023-07-02T21:42:40.027811Z",
     "start_time": "2023-07-02T21:42:39.999565Z"
    },
    "hidden": true
   },
   "outputs": [],
   "source": [
    "columns_minmax = ['população', 'pop_ate9', 'pop_de10a14', 'pop_de15a19',\n",
    "       'pop_de20a24', 'pop_de25a34', 'pop_de35a49', 'pop_de50a59',\n",
    "       'pop_mais_de60', 'domicilios_a1', 'domicilios_a2', 'domicilios_b1',\n",
    "       'domicilios_b2', 'domicilios_c1', 'domicilios_c2', 'domicilios_d',\n",
    "       'domicilios_e', 'renda_media']\n",
    "\n",
    "mms = pp.MinMaxScaler()\n",
    "\n",
    "for col in columns_minmax:\n",
    "    df4[col] = mms.fit_transform(df4[col].values.reshape(-1,1))"
   ]
  },
  {
   "cell_type": "markdown",
   "id": "caa77707",
   "metadata": {
    "hidden": true
   },
   "source": [
    "## 4.2 StandScaler"
   ]
  },
  {
   "cell_type": "code",
   "execution_count": 31,
   "id": "9d4ba9c5",
   "metadata": {
    "ExecuteTime": {
     "end_time": "2023-07-02T21:42:40.043553Z",
     "start_time": "2023-07-02T21:42:40.029221Z"
    },
    "hidden": true
   },
   "outputs": [],
   "source": [
    "ss = pp.StandardScaler()\n",
    "\n",
    "df4['faturamento'] = ss.fit_transform(df4['faturamento'].values.reshape(-1,1))"
   ]
  },
  {
   "cell_type": "markdown",
   "id": "da4781f6",
   "metadata": {},
   "source": [
    "# 5.0 FEATURE SELECTION"
   ]
  },
  {
   "cell_type": "code",
   "execution_count": 32,
   "id": "a422da58",
   "metadata": {
    "ExecuteTime": {
     "end_time": "2023-07-02T21:42:40.059971Z",
     "start_time": "2023-07-02T21:42:40.044578Z"
    }
   },
   "outputs": [],
   "source": [
    "df5 = df4.copy()"
   ]
  },
  {
   "cell_type": "code",
   "execution_count": 33,
   "id": "d876cbab",
   "metadata": {
    "ExecuteTime": {
     "end_time": "2023-07-02T21:42:40.090482Z",
     "start_time": "2023-07-02T21:42:40.061612Z"
    }
   },
   "outputs": [
    {
     "data": {
      "text/html": [
       "<div>\n",
       "<style scoped>\n",
       "    .dataframe tbody tr th:only-of-type {\n",
       "        vertical-align: middle;\n",
       "    }\n",
       "\n",
       "    .dataframe tbody tr th {\n",
       "        vertical-align: top;\n",
       "    }\n",
       "\n",
       "    .dataframe thead th {\n",
       "        text-align: right;\n",
       "    }\n",
       "</style>\n",
       "<table border=\"1\" class=\"dataframe\">\n",
       "  <thead>\n",
       "    <tr style=\"text-align: right;\">\n",
       "      <th></th>\n",
       "      <th>nome</th>\n",
       "      <th>população</th>\n",
       "      <th>pop_ate9</th>\n",
       "      <th>pop_de10a14</th>\n",
       "      <th>pop_de15a19</th>\n",
       "      <th>pop_de20a24</th>\n",
       "      <th>pop_de25a34</th>\n",
       "      <th>pop_de35a49</th>\n",
       "      <th>pop_de50a59</th>\n",
       "      <th>pop_mais_de60</th>\n",
       "      <th>...</th>\n",
       "      <th>domicilios_a2</th>\n",
       "      <th>domicilios_b1</th>\n",
       "      <th>domicilios_b2</th>\n",
       "      <th>domicilios_c1</th>\n",
       "      <th>domicilios_c2</th>\n",
       "      <th>domicilios_d</th>\n",
       "      <th>domicilios_e</th>\n",
       "      <th>renda_media</th>\n",
       "      <th>faturamento</th>\n",
       "      <th>potencial</th>\n",
       "    </tr>\n",
       "  </thead>\n",
       "  <tbody>\n",
       "    <tr>\n",
       "      <th>0</th>\n",
       "      <td>Abolição</td>\n",
       "      <td>0.017235</td>\n",
       "      <td>0.008111</td>\n",
       "      <td>0.008405</td>\n",
       "      <td>0.010687</td>\n",
       "      <td>0.012931</td>\n",
       "      <td>0.019132</td>\n",
       "      <td>0.021486</td>\n",
       "      <td>0.021289</td>\n",
       "      <td>0.031807</td>\n",
       "      <td>...</td>\n",
       "      <td>0.012427</td>\n",
       "      <td>0.036951</td>\n",
       "      <td>0.058483</td>\n",
       "      <td>0.032864</td>\n",
       "      <td>0.029291</td>\n",
       "      <td>0.018563</td>\n",
       "      <td>0.020363</td>\n",
       "      <td>0.029209</td>\n",
       "      <td>0.129006</td>\n",
       "      <td>1</td>\n",
       "    </tr>\n",
       "    <tr>\n",
       "      <th>1</th>\n",
       "      <td>Acari</td>\n",
       "      <td>0.041040</td>\n",
       "      <td>0.041601</td>\n",
       "      <td>0.038893</td>\n",
       "      <td>0.042924</td>\n",
       "      <td>0.043154</td>\n",
       "      <td>0.055548</td>\n",
       "      <td>0.050058</td>\n",
       "      <td>0.028717</td>\n",
       "      <td>0.026095</td>\n",
       "      <td>...</td>\n",
       "      <td>0.000000</td>\n",
       "      <td>0.004238</td>\n",
       "      <td>0.023826</td>\n",
       "      <td>0.061469</td>\n",
       "      <td>0.096485</td>\n",
       "      <td>0.166868</td>\n",
       "      <td>0.168836</td>\n",
       "      <td>0.004381</td>\n",
       "      <td>-0.657741</td>\n",
       "      <td>0</td>\n",
       "    </tr>\n",
       "    <tr>\n",
       "      <th>2</th>\n",
       "      <td>Água Santa</td>\n",
       "      <td>0.013230</td>\n",
       "      <td>0.006936</td>\n",
       "      <td>0.006902</td>\n",
       "      <td>0.009227</td>\n",
       "      <td>0.012304</td>\n",
       "      <td>0.020061</td>\n",
       "      <td>0.019358</td>\n",
       "      <td>0.013224</td>\n",
       "      <td>0.015395</td>\n",
       "      <td>...</td>\n",
       "      <td>0.008228</td>\n",
       "      <td>0.020879</td>\n",
       "      <td>0.030701</td>\n",
       "      <td>0.019302</td>\n",
       "      <td>0.020135</td>\n",
       "      <td>0.015537</td>\n",
       "      <td>0.016991</td>\n",
       "      <td>0.027470</td>\n",
       "      <td>-0.004487</td>\n",
       "      <td>0</td>\n",
       "    </tr>\n",
       "    <tr>\n",
       "      <th>3</th>\n",
       "      <td>Alto Da Boa Vista</td>\n",
       "      <td>0.014133</td>\n",
       "      <td>0.008479</td>\n",
       "      <td>0.009388</td>\n",
       "      <td>0.010237</td>\n",
       "      <td>0.011032</td>\n",
       "      <td>0.014973</td>\n",
       "      <td>0.018703</td>\n",
       "      <td>0.015972</td>\n",
       "      <td>0.021598</td>\n",
       "      <td>...</td>\n",
       "      <td>0.015255</td>\n",
       "      <td>0.020310</td>\n",
       "      <td>0.024344</td>\n",
       "      <td>0.028394</td>\n",
       "      <td>0.022540</td>\n",
       "      <td>0.027643</td>\n",
       "      <td>0.019149</td>\n",
       "      <td>0.048598</td>\n",
       "      <td>0.082561</td>\n",
       "      <td>1</td>\n",
       "    </tr>\n",
       "    <tr>\n",
       "      <th>4</th>\n",
       "      <td>Anchieta</td>\n",
       "      <td>0.085476</td>\n",
       "      <td>0.062377</td>\n",
       "      <td>0.067254</td>\n",
       "      <td>0.078145</td>\n",
       "      <td>0.075690</td>\n",
       "      <td>0.100269</td>\n",
       "      <td>0.116207</td>\n",
       "      <td>0.085766</td>\n",
       "      <td>0.089479</td>\n",
       "      <td>...</td>\n",
       "      <td>0.000000</td>\n",
       "      <td>0.056279</td>\n",
       "      <td>0.132834</td>\n",
       "      <td>0.154202</td>\n",
       "      <td>0.210234</td>\n",
       "      <td>0.216505</td>\n",
       "      <td>0.219742</td>\n",
       "      <td>0.011481</td>\n",
       "      <td>-0.739723</td>\n",
       "      <td>1</td>\n",
       "    </tr>\n",
       "  </tbody>\n",
       "</table>\n",
       "<p>5 rows × 21 columns</p>\n",
       "</div>"
      ],
      "text/plain": [
       "                nome  população  pop_ate9  pop_de10a14  pop_de15a19  \\\n",
       "0           Abolição   0.017235  0.008111     0.008405     0.010687   \n",
       "1              Acari   0.041040  0.041601     0.038893     0.042924   \n",
       "2         Água Santa   0.013230  0.006936     0.006902     0.009227   \n",
       "3  Alto Da Boa Vista   0.014133  0.008479     0.009388     0.010237   \n",
       "4           Anchieta   0.085476  0.062377     0.067254     0.078145   \n",
       "\n",
       "   pop_de20a24  pop_de25a34  pop_de35a49  pop_de50a59  pop_mais_de60  ...  \\\n",
       "0     0.012931     0.019132     0.021486     0.021289       0.031807  ...   \n",
       "1     0.043154     0.055548     0.050058     0.028717       0.026095  ...   \n",
       "2     0.012304     0.020061     0.019358     0.013224       0.015395  ...   \n",
       "3     0.011032     0.014973     0.018703     0.015972       0.021598  ...   \n",
       "4     0.075690     0.100269     0.116207     0.085766       0.089479  ...   \n",
       "\n",
       "   domicilios_a2  domicilios_b1  domicilios_b2  domicilios_c1  domicilios_c2  \\\n",
       "0       0.012427       0.036951       0.058483       0.032864       0.029291   \n",
       "1       0.000000       0.004238       0.023826       0.061469       0.096485   \n",
       "2       0.008228       0.020879       0.030701       0.019302       0.020135   \n",
       "3       0.015255       0.020310       0.024344       0.028394       0.022540   \n",
       "4       0.000000       0.056279       0.132834       0.154202       0.210234   \n",
       "\n",
       "   domicilios_d  domicilios_e  renda_media  faturamento  potencial  \n",
       "0      0.018563      0.020363     0.029209     0.129006          1  \n",
       "1      0.166868      0.168836     0.004381    -0.657741          0  \n",
       "2      0.015537      0.016991     0.027470    -0.004487          0  \n",
       "3      0.027643      0.019149     0.048598     0.082561          1  \n",
       "4      0.216505      0.219742     0.011481    -0.739723          1  \n",
       "\n",
       "[5 rows x 21 columns]"
      ]
     },
     "execution_count": 33,
     "metadata": {},
     "output_type": "execute_result"
    }
   ],
   "source": [
    "df5.head()"
   ]
  },
  {
   "cell_type": "markdown",
   "id": "12ae3aa1",
   "metadata": {},
   "source": [
    "## 5.1 Random Forest Selection"
   ]
  },
  {
   "cell_type": "code",
   "execution_count": 34,
   "id": "97a33b09",
   "metadata": {
    "ExecuteTime": {
     "end_time": "2023-07-02T21:42:40.106537Z",
     "start_time": "2023-07-02T21:42:40.092441Z"
    }
   },
   "outputs": [],
   "source": [
    "X_train = df5.drop(['nome','faturamento','potencial'], axis=1).copy()\n",
    "y_train = df5['faturamento'].copy()"
   ]
  },
  {
   "cell_type": "code",
   "execution_count": 35,
   "id": "0946655e",
   "metadata": {
    "ExecuteTime": {
     "end_time": "2023-07-02T21:42:40.277511Z",
     "start_time": "2023-07-02T21:42:40.108536Z"
    }
   },
   "outputs": [
    {
     "data": {
      "text/html": [
       "<style>#sk-container-id-1 {color: black;background-color: white;}#sk-container-id-1 pre{padding: 0;}#sk-container-id-1 div.sk-toggleable {background-color: white;}#sk-container-id-1 label.sk-toggleable__label {cursor: pointer;display: block;width: 100%;margin-bottom: 0;padding: 0.3em;box-sizing: border-box;text-align: center;}#sk-container-id-1 label.sk-toggleable__label-arrow:before {content: \"▸\";float: left;margin-right: 0.25em;color: #696969;}#sk-container-id-1 label.sk-toggleable__label-arrow:hover:before {color: black;}#sk-container-id-1 div.sk-estimator:hover label.sk-toggleable__label-arrow:before {color: black;}#sk-container-id-1 div.sk-toggleable__content {max-height: 0;max-width: 0;overflow: hidden;text-align: left;background-color: #f0f8ff;}#sk-container-id-1 div.sk-toggleable__content pre {margin: 0.2em;color: black;border-radius: 0.25em;background-color: #f0f8ff;}#sk-container-id-1 input.sk-toggleable__control:checked~div.sk-toggleable__content {max-height: 200px;max-width: 100%;overflow: auto;}#sk-container-id-1 input.sk-toggleable__control:checked~label.sk-toggleable__label-arrow:before {content: \"▾\";}#sk-container-id-1 div.sk-estimator input.sk-toggleable__control:checked~label.sk-toggleable__label {background-color: #d4ebff;}#sk-container-id-1 div.sk-label input.sk-toggleable__control:checked~label.sk-toggleable__label {background-color: #d4ebff;}#sk-container-id-1 input.sk-hidden--visually {border: 0;clip: rect(1px 1px 1px 1px);clip: rect(1px, 1px, 1px, 1px);height: 1px;margin: -1px;overflow: hidden;padding: 0;position: absolute;width: 1px;}#sk-container-id-1 div.sk-estimator {font-family: monospace;background-color: #f0f8ff;border: 1px dotted black;border-radius: 0.25em;box-sizing: border-box;margin-bottom: 0.5em;}#sk-container-id-1 div.sk-estimator:hover {background-color: #d4ebff;}#sk-container-id-1 div.sk-parallel-item::after {content: \"\";width: 100%;border-bottom: 1px solid gray;flex-grow: 1;}#sk-container-id-1 div.sk-label:hover label.sk-toggleable__label {background-color: #d4ebff;}#sk-container-id-1 div.sk-serial::before {content: \"\";position: absolute;border-left: 1px solid gray;box-sizing: border-box;top: 0;bottom: 0;left: 50%;z-index: 0;}#sk-container-id-1 div.sk-serial {display: flex;flex-direction: column;align-items: center;background-color: white;padding-right: 0.2em;padding-left: 0.2em;position: relative;}#sk-container-id-1 div.sk-item {position: relative;z-index: 1;}#sk-container-id-1 div.sk-parallel {display: flex;align-items: stretch;justify-content: center;background-color: white;position: relative;}#sk-container-id-1 div.sk-item::before, #sk-container-id-1 div.sk-parallel-item::before {content: \"\";position: absolute;border-left: 1px solid gray;box-sizing: border-box;top: 0;bottom: 0;left: 50%;z-index: -1;}#sk-container-id-1 div.sk-parallel-item {display: flex;flex-direction: column;z-index: 1;position: relative;background-color: white;}#sk-container-id-1 div.sk-parallel-item:first-child::after {align-self: flex-end;width: 50%;}#sk-container-id-1 div.sk-parallel-item:last-child::after {align-self: flex-start;width: 50%;}#sk-container-id-1 div.sk-parallel-item:only-child::after {width: 0;}#sk-container-id-1 div.sk-dashed-wrapped {border: 1px dashed gray;margin: 0 0.4em 0.5em 0.4em;box-sizing: border-box;padding-bottom: 0.4em;background-color: white;}#sk-container-id-1 div.sk-label label {font-family: monospace;font-weight: bold;display: inline-block;line-height: 1.2em;}#sk-container-id-1 div.sk-label-container {text-align: center;}#sk-container-id-1 div.sk-container {/* jupyter's `normalize.less` sets `[hidden] { display: none; }` but bootstrap.min.css set `[hidden] { display: none !important; }` so we also need the `!important` here to be able to override the default hidden behavior on the sphinx rendered scikit-learn.org. See: https://github.com/scikit-learn/scikit-learn/issues/21755 */display: inline-block !important;position: relative;}#sk-container-id-1 div.sk-text-repr-fallback {display: none;}</style><div id=\"sk-container-id-1\" class=\"sk-top-container\"><div class=\"sk-text-repr-fallback\"><pre>RandomForestRegressor(n_jobs=-1)</pre><b>In a Jupyter environment, please rerun this cell to show the HTML representation or trust the notebook. <br />On GitHub, the HTML representation is unable to render, please try loading this page with nbviewer.org.</b></div><div class=\"sk-container\" hidden><div class=\"sk-item\"><div class=\"sk-estimator sk-toggleable\"><input class=\"sk-toggleable__control sk-hidden--visually\" id=\"sk-estimator-id-1\" type=\"checkbox\" checked><label for=\"sk-estimator-id-1\" class=\"sk-toggleable__label sk-toggleable__label-arrow\">RandomForestRegressor</label><div class=\"sk-toggleable__content\"><pre>RandomForestRegressor(n_jobs=-1)</pre></div></div></div></div></div>"
      ],
      "text/plain": [
       "RandomForestRegressor(n_jobs=-1)"
      ]
     },
     "execution_count": 35,
     "metadata": {},
     "output_type": "execute_result"
    }
   ],
   "source": [
    "rf = RandomForestRegressor(n_jobs=-1)\n",
    "\n",
    "rf.fit(X_train, y_train)"
   ]
  },
  {
   "cell_type": "code",
   "execution_count": 36,
   "id": "d45db052",
   "metadata": {
    "ExecuteTime": {
     "end_time": "2023-07-02T21:42:40.308957Z",
     "start_time": "2023-07-02T21:42:40.278993Z"
    }
   },
   "outputs": [],
   "source": [
    "importances = rf.feature_importances_\n",
    "columns_importances = X_train.columns"
   ]
  },
  {
   "cell_type": "code",
   "execution_count": 37,
   "id": "4b44bd23",
   "metadata": {
    "ExecuteTime": {
     "end_time": "2023-07-02T21:42:40.324558Z",
     "start_time": "2023-07-02T21:42:40.310647Z"
    }
   },
   "outputs": [],
   "source": [
    "importance_dict = {}\n",
    "for key, value in zip(columns_importances, importances):\n",
    "    importance_dict[key] = value\n",
    "    \n",
    "df_importance = pd.DataFrame(importance_dict, index=[0]).T.rename(columns={0:'Ranking'})"
   ]
  },
  {
   "cell_type": "code",
   "execution_count": 38,
   "id": "d304cfca",
   "metadata": {
    "ExecuteTime": {
     "end_time": "2023-07-02T21:42:40.339895Z",
     "start_time": "2023-07-02T21:42:40.326103Z"
    }
   },
   "outputs": [
    {
     "data": {
      "text/html": [
       "<div>\n",
       "<style scoped>\n",
       "    .dataframe tbody tr th:only-of-type {\n",
       "        vertical-align: middle;\n",
       "    }\n",
       "\n",
       "    .dataframe tbody tr th {\n",
       "        vertical-align: top;\n",
       "    }\n",
       "\n",
       "    .dataframe thead th {\n",
       "        text-align: right;\n",
       "    }\n",
       "</style>\n",
       "<table border=\"1\" class=\"dataframe\">\n",
       "  <thead>\n",
       "    <tr style=\"text-align: right;\">\n",
       "      <th></th>\n",
       "      <th>Ranking</th>\n",
       "    </tr>\n",
       "  </thead>\n",
       "  <tbody>\n",
       "    <tr>\n",
       "      <th>domicilios_a1</th>\n",
       "      <td>0.469542</td>\n",
       "    </tr>\n",
       "    <tr>\n",
       "      <th>domicilios_a2</th>\n",
       "      <td>0.212493</td>\n",
       "    </tr>\n",
       "    <tr>\n",
       "      <th>domicilios_e</th>\n",
       "      <td>0.145198</td>\n",
       "    </tr>\n",
       "    <tr>\n",
       "      <th>renda_media</th>\n",
       "      <td>0.049343</td>\n",
       "    </tr>\n",
       "    <tr>\n",
       "      <th>domicilios_d</th>\n",
       "      <td>0.049046</td>\n",
       "    </tr>\n",
       "    <tr>\n",
       "      <th>pop_ate9</th>\n",
       "      <td>0.017750</td>\n",
       "    </tr>\n",
       "    <tr>\n",
       "      <th>domicilios_c2</th>\n",
       "      <td>0.017297</td>\n",
       "    </tr>\n",
       "    <tr>\n",
       "      <th>pop_de10a14</th>\n",
       "      <td>0.008956</td>\n",
       "    </tr>\n",
       "    <tr>\n",
       "      <th>pop_mais_de60</th>\n",
       "      <td>0.006850</td>\n",
       "    </tr>\n",
       "    <tr>\n",
       "      <th>domicilios_b1</th>\n",
       "      <td>0.005558</td>\n",
       "    </tr>\n",
       "    <tr>\n",
       "      <th>pop_de35a49</th>\n",
       "      <td>0.004534</td>\n",
       "    </tr>\n",
       "    <tr>\n",
       "      <th>pop_de15a19</th>\n",
       "      <td>0.002718</td>\n",
       "    </tr>\n",
       "    <tr>\n",
       "      <th>pop_de20a24</th>\n",
       "      <td>0.002135</td>\n",
       "    </tr>\n",
       "    <tr>\n",
       "      <th>população</th>\n",
       "      <td>0.002014</td>\n",
       "    </tr>\n",
       "    <tr>\n",
       "      <th>pop_de25a34</th>\n",
       "      <td>0.002006</td>\n",
       "    </tr>\n",
       "    <tr>\n",
       "      <th>domicilios_c1</th>\n",
       "      <td>0.001908</td>\n",
       "    </tr>\n",
       "    <tr>\n",
       "      <th>domicilios_b2</th>\n",
       "      <td>0.001755</td>\n",
       "    </tr>\n",
       "    <tr>\n",
       "      <th>pop_de50a59</th>\n",
       "      <td>0.000897</td>\n",
       "    </tr>\n",
       "  </tbody>\n",
       "</table>\n",
       "</div>"
      ],
      "text/plain": [
       "                Ranking\n",
       "domicilios_a1  0.469542\n",
       "domicilios_a2  0.212493\n",
       "domicilios_e   0.145198\n",
       "renda_media    0.049343\n",
       "domicilios_d   0.049046\n",
       "pop_ate9       0.017750\n",
       "domicilios_c2  0.017297\n",
       "pop_de10a14    0.008956\n",
       "pop_mais_de60  0.006850\n",
       "domicilios_b1  0.005558\n",
       "pop_de35a49    0.004534\n",
       "pop_de15a19    0.002718\n",
       "pop_de20a24    0.002135\n",
       "população      0.002014\n",
       "pop_de25a34    0.002006\n",
       "domicilios_c1  0.001908\n",
       "domicilios_b2  0.001755\n",
       "pop_de50a59    0.000897"
      ]
     },
     "execution_count": 38,
     "metadata": {},
     "output_type": "execute_result"
    }
   ],
   "source": [
    "df_importance.sort_values(by='Ranking', ascending=False)"
   ]
  },
  {
   "cell_type": "markdown",
   "id": "88a8aaeb",
   "metadata": {},
   "source": [
    "## 6.0 Machine Learning"
   ]
  },
  {
   "cell_type": "markdown",
   "id": "7a587836",
   "metadata": {},
   "source": [
    "## 6.1 Split Validation and Training"
   ]
  },
  {
   "cell_type": "code",
   "execution_count": 39,
   "id": "11327055",
   "metadata": {
    "ExecuteTime": {
     "end_time": "2023-07-02T21:42:40.356509Z",
     "start_time": "2023-07-02T21:42:40.341911Z"
    }
   },
   "outputs": [],
   "source": [
    "X_train = df5.drop(['nome','faturamento','potencial'], axis=1).copy()\n",
    "y_train = df5['faturamento'].copy()"
   ]
  },
  {
   "cell_type": "code",
   "execution_count": 40,
   "id": "5b2e4f4b",
   "metadata": {
    "ExecuteTime": {
     "end_time": "2023-07-02T21:42:40.371579Z",
     "start_time": "2023-07-02T21:42:40.358530Z"
    }
   },
   "outputs": [],
   "source": [
    "X_test_reg = rename_columns(X_test)\n",
    "X_test_reg['renda_media'] = X_test_reg['renda_media'].replace('-', np.nan)\n",
    "X_test_reg['renda_media'] = X_test_reg['renda_media'].astype(float)\n",
    "X_test_reg['renda_media'] = X_test_reg['renda_media'].fillna(X_test_reg['renda_media'].mean())"
   ]
  },
  {
   "cell_type": "code",
   "execution_count": 41,
   "id": "6734e0df",
   "metadata": {
    "ExecuteTime": {
     "end_time": "2023-07-02T21:42:40.387237Z",
     "start_time": "2023-07-02T21:42:40.373269Z"
    }
   },
   "outputs": [],
   "source": [
    "model_list = [LinearRegression, \n",
    "              SVR,  \n",
    "              RandomForestRegressor, \n",
    "              XGBRegressor, \n",
    "              LGBMRegressor,\n",
    "              CatBoostRegressor]"
   ]
  },
  {
   "cell_type": "code",
   "execution_count": 42,
   "id": "10b24003",
   "metadata": {
    "ExecuteTime": {
     "end_time": "2023-07-02T21:42:57.798733Z",
     "start_time": "2023-07-02T21:42:40.389234Z"
    }
   },
   "outputs": [
    {
     "name": "stdout",
     "output_type": "stream",
     "text": [
      "LinearRegression       R2 Score: 0.018 +/- 2.374 \n",
      "SVR                    R2 Score: 0.697 +/- 0.344 \n",
      "RandomForestRegressor  R2 Score: 0.881 +/- 0.082 \n",
      "XGBRegressor           R2 Score: 0.904 +/- 0.056 \n",
      "LGBMRegressor          R2 Score: 0.682 +/- 0.315 \n",
      "CatBoostRegressor      R2 Score: 0.927 +/- 0.058 \n"
     ]
    }
   ],
   "source": [
    "for model in model_list:\n",
    "    if model.__name__ == 'CatBoostRegressor':\n",
    "        mds = model(verbose=False)\n",
    "    else:\n",
    "        mds = model()\n",
    "    kfold = ms.KFold(n_splits=10)\n",
    "    s = ms.cross_val_score(mds, X_train, y_train, scoring='r2', cv=kfold)\n",
    "    print(f\"{model.__name__:22} R2 Score: {s.mean():.3f} +/- {s.std():.3f} \")"
   ]
  },
  {
   "cell_type": "code",
   "execution_count": 43,
   "id": "149ce6bb",
   "metadata": {
    "ExecuteTime": {
     "end_time": "2023-07-02T21:42:57.814224Z",
     "start_time": "2023-07-02T21:42:57.800730Z"
    }
   },
   "outputs": [],
   "source": [
    "X_train = df3.drop(['nome','faturamento','potencial'], axis=1).copy()\n",
    "y_train = df3['faturamento'].copy()\n",
    "X_train_reg, X_val, y_train_reg, y_val = ms.train_test_split(X_train, y_train, test_size=0.2, random_state=42)"
   ]
  },
  {
   "cell_type": "code",
   "execution_count": 44,
   "id": "ccae45a2",
   "metadata": {
    "ExecuteTime": {
     "end_time": "2023-07-02T21:42:57.845039Z",
     "start_time": "2023-07-02T21:42:57.816724Z"
    }
   },
   "outputs": [
    {
     "data": {
      "text/html": [
       "<div>\n",
       "<style scoped>\n",
       "    .dataframe tbody tr th:only-of-type {\n",
       "        vertical-align: middle;\n",
       "    }\n",
       "\n",
       "    .dataframe tbody tr th {\n",
       "        vertical-align: top;\n",
       "    }\n",
       "\n",
       "    .dataframe thead th {\n",
       "        text-align: right;\n",
       "    }\n",
       "</style>\n",
       "<table border=\"1\" class=\"dataframe\">\n",
       "  <thead>\n",
       "    <tr style=\"text-align: right;\">\n",
       "      <th></th>\n",
       "      <th>população</th>\n",
       "      <th>pop_ate9</th>\n",
       "      <th>pop_de10a14</th>\n",
       "      <th>pop_de15a19</th>\n",
       "      <th>pop_de20a24</th>\n",
       "      <th>pop_de25a34</th>\n",
       "      <th>pop_de35a49</th>\n",
       "      <th>pop_de50a59</th>\n",
       "      <th>pop_mais_de60</th>\n",
       "      <th>domicilios_a1</th>\n",
       "      <th>domicilios_a2</th>\n",
       "      <th>domicilios_b1</th>\n",
       "      <th>domicilios_b2</th>\n",
       "      <th>domicilios_c1</th>\n",
       "      <th>domicilios_c2</th>\n",
       "      <th>domicilios_d</th>\n",
       "      <th>domicilios_e</th>\n",
       "      <th>renda_media</th>\n",
       "    </tr>\n",
       "  </thead>\n",
       "  <tbody>\n",
       "    <tr>\n",
       "      <th>0</th>\n",
       "      <td>11676</td>\n",
       "      <td>1027</td>\n",
       "      <td>483</td>\n",
       "      <td>688</td>\n",
       "      <td>800</td>\n",
       "      <td>1675</td>\n",
       "      <td>2300</td>\n",
       "      <td>1784</td>\n",
       "      <td>2919</td>\n",
       "      <td>0</td>\n",
       "      <td>145</td>\n",
       "      <td>715</td>\n",
       "      <td>1242</td>\n",
       "      <td>1093</td>\n",
       "      <td>758</td>\n",
       "      <td>92</td>\n",
       "      <td>304</td>\n",
       "      <td>2501.0</td>\n",
       "    </tr>\n",
       "    <tr>\n",
       "      <th>1</th>\n",
       "      <td>27564</td>\n",
       "      <td>5131</td>\n",
       "      <td>2188</td>\n",
       "      <td>2697</td>\n",
       "      <td>2630</td>\n",
       "      <td>4810</td>\n",
       "      <td>5308</td>\n",
       "      <td>2403</td>\n",
       "      <td>2397</td>\n",
       "      <td>0</td>\n",
       "      <td>0</td>\n",
       "      <td>82</td>\n",
       "      <td>506</td>\n",
       "      <td>2040</td>\n",
       "      <td>2490</td>\n",
       "      <td>827</td>\n",
       "      <td>2506</td>\n",
       "      <td>931.0</td>\n",
       "    </tr>\n",
       "    <tr>\n",
       "      <th>2</th>\n",
       "      <td>9003</td>\n",
       "      <td>883</td>\n",
       "      <td>399</td>\n",
       "      <td>597</td>\n",
       "      <td>762</td>\n",
       "      <td>1755</td>\n",
       "      <td>2076</td>\n",
       "      <td>1112</td>\n",
       "      <td>1419</td>\n",
       "      <td>0</td>\n",
       "      <td>96</td>\n",
       "      <td>404</td>\n",
       "      <td>652</td>\n",
       "      <td>644</td>\n",
       "      <td>522</td>\n",
       "      <td>77</td>\n",
       "      <td>254</td>\n",
       "      <td>2391.0</td>\n",
       "    </tr>\n",
       "    <tr>\n",
       "      <th>3</th>\n",
       "      <td>9606</td>\n",
       "      <td>1072</td>\n",
       "      <td>538</td>\n",
       "      <td>660</td>\n",
       "      <td>685</td>\n",
       "      <td>1317</td>\n",
       "      <td>2007</td>\n",
       "      <td>1341</td>\n",
       "      <td>1986</td>\n",
       "      <td>114</td>\n",
       "      <td>178</td>\n",
       "      <td>393</td>\n",
       "      <td>517</td>\n",
       "      <td>945</td>\n",
       "      <td>584</td>\n",
       "      <td>137</td>\n",
       "      <td>286</td>\n",
       "      <td>3727.0</td>\n",
       "    </tr>\n",
       "    <tr>\n",
       "      <th>4</th>\n",
       "      <td>57222</td>\n",
       "      <td>7677</td>\n",
       "      <td>3774</td>\n",
       "      <td>4892</td>\n",
       "      <td>4600</td>\n",
       "      <td>8660</td>\n",
       "      <td>12272</td>\n",
       "      <td>7157</td>\n",
       "      <td>8190</td>\n",
       "      <td>0</td>\n",
       "      <td>0</td>\n",
       "      <td>1089</td>\n",
       "      <td>2821</td>\n",
       "      <td>5110</td>\n",
       "      <td>5422</td>\n",
       "      <td>1073</td>\n",
       "      <td>3261</td>\n",
       "      <td>1380.0</td>\n",
       "    </tr>\n",
       "    <tr>\n",
       "      <th>...</th>\n",
       "      <td>...</td>\n",
       "      <td>...</td>\n",
       "      <td>...</td>\n",
       "      <td>...</td>\n",
       "      <td>...</td>\n",
       "      <td>...</td>\n",
       "      <td>...</td>\n",
       "      <td>...</td>\n",
       "      <td>...</td>\n",
       "      <td>...</td>\n",
       "      <td>...</td>\n",
       "      <td>...</td>\n",
       "      <td>...</td>\n",
       "      <td>...</td>\n",
       "      <td>...</td>\n",
       "      <td>...</td>\n",
       "      <td>...</td>\n",
       "      <td>...</td>\n",
       "    </tr>\n",
       "    <tr>\n",
       "      <th>155</th>\n",
       "      <td>18791</td>\n",
       "      <td>1802</td>\n",
       "      <td>921</td>\n",
       "      <td>1442</td>\n",
       "      <td>1462</td>\n",
       "      <td>2500</td>\n",
       "      <td>3944</td>\n",
       "      <td>2920</td>\n",
       "      <td>3800</td>\n",
       "      <td>0</td>\n",
       "      <td>259</td>\n",
       "      <td>774</td>\n",
       "      <td>1363</td>\n",
       "      <td>1923</td>\n",
       "      <td>1379</td>\n",
       "      <td>190</td>\n",
       "      <td>405</td>\n",
       "      <td>2316.0</td>\n",
       "    </tr>\n",
       "    <tr>\n",
       "      <th>156</th>\n",
       "      <td>13556</td>\n",
       "      <td>1888</td>\n",
       "      <td>787</td>\n",
       "      <td>1042</td>\n",
       "      <td>982</td>\n",
       "      <td>2542</td>\n",
       "      <td>2908</td>\n",
       "      <td>1528</td>\n",
       "      <td>1879</td>\n",
       "      <td>0</td>\n",
       "      <td>219</td>\n",
       "      <td>714</td>\n",
       "      <td>828</td>\n",
       "      <td>1051</td>\n",
       "      <td>1012</td>\n",
       "      <td>116</td>\n",
       "      <td>465</td>\n",
       "      <td>2416.0</td>\n",
       "    </tr>\n",
       "    <tr>\n",
       "      <th>157</th>\n",
       "      <td>33190</td>\n",
       "      <td>3166</td>\n",
       "      <td>1619</td>\n",
       "      <td>2255</td>\n",
       "      <td>2326</td>\n",
       "      <td>4752</td>\n",
       "      <td>7183</td>\n",
       "      <td>4950</td>\n",
       "      <td>6939</td>\n",
       "      <td>0</td>\n",
       "      <td>906</td>\n",
       "      <td>2866</td>\n",
       "      <td>2241</td>\n",
       "      <td>2982</td>\n",
       "      <td>1200</td>\n",
       "      <td>360</td>\n",
       "      <td>772</td>\n",
       "      <td>3189.0</td>\n",
       "    </tr>\n",
       "    <tr>\n",
       "      <th>158</th>\n",
       "      <td>8867</td>\n",
       "      <td>724</td>\n",
       "      <td>387</td>\n",
       "      <td>580</td>\n",
       "      <td>565</td>\n",
       "      <td>1205</td>\n",
       "      <td>1812</td>\n",
       "      <td>1474</td>\n",
       "      <td>2120</td>\n",
       "      <td>0</td>\n",
       "      <td>87</td>\n",
       "      <td>556</td>\n",
       "      <td>836</td>\n",
       "      <td>940</td>\n",
       "      <td>484</td>\n",
       "      <td>75</td>\n",
       "      <td>214</td>\n",
       "      <td>2418.0</td>\n",
       "    </tr>\n",
       "    <tr>\n",
       "      <th>159</th>\n",
       "      <td>2072</td>\n",
       "      <td>175</td>\n",
       "      <td>74</td>\n",
       "      <td>120</td>\n",
       "      <td>121</td>\n",
       "      <td>318</td>\n",
       "      <td>417</td>\n",
       "      <td>314</td>\n",
       "      <td>533</td>\n",
       "      <td>0</td>\n",
       "      <td>89</td>\n",
       "      <td>234</td>\n",
       "      <td>177</td>\n",
       "      <td>147</td>\n",
       "      <td>72</td>\n",
       "      <td>10</td>\n",
       "      <td>47</td>\n",
       "      <td>3791.0</td>\n",
       "    </tr>\n",
       "  </tbody>\n",
       "</table>\n",
       "<p>160 rows × 18 columns</p>\n",
       "</div>"
      ],
      "text/plain": [
       "     população  pop_ate9  pop_de10a14  pop_de15a19  pop_de20a24  pop_de25a34  \\\n",
       "0        11676      1027          483          688          800         1675   \n",
       "1        27564      5131         2188         2697         2630         4810   \n",
       "2         9003       883          399          597          762         1755   \n",
       "3         9606      1072          538          660          685         1317   \n",
       "4        57222      7677         3774         4892         4600         8660   \n",
       "..         ...       ...          ...          ...          ...          ...   \n",
       "155      18791      1802          921         1442         1462         2500   \n",
       "156      13556      1888          787         1042          982         2542   \n",
       "157      33190      3166         1619         2255         2326         4752   \n",
       "158       8867       724          387          580          565         1205   \n",
       "159       2072       175           74          120          121          318   \n",
       "\n",
       "     pop_de35a49  pop_de50a59  pop_mais_de60  domicilios_a1  domicilios_a2  \\\n",
       "0           2300         1784           2919              0            145   \n",
       "1           5308         2403           2397              0              0   \n",
       "2           2076         1112           1419              0             96   \n",
       "3           2007         1341           1986            114            178   \n",
       "4          12272         7157           8190              0              0   \n",
       "..           ...          ...            ...            ...            ...   \n",
       "155         3944         2920           3800              0            259   \n",
       "156         2908         1528           1879              0            219   \n",
       "157         7183         4950           6939              0            906   \n",
       "158         1812         1474           2120              0             87   \n",
       "159          417          314            533              0             89   \n",
       "\n",
       "     domicilios_b1  domicilios_b2  domicilios_c1  domicilios_c2  domicilios_d  \\\n",
       "0              715           1242           1093            758            92   \n",
       "1               82            506           2040           2490           827   \n",
       "2              404            652            644            522            77   \n",
       "3              393            517            945            584           137   \n",
       "4             1089           2821           5110           5422          1073   \n",
       "..             ...            ...            ...            ...           ...   \n",
       "155            774           1363           1923           1379           190   \n",
       "156            714            828           1051           1012           116   \n",
       "157           2866           2241           2982           1200           360   \n",
       "158            556            836            940            484            75   \n",
       "159            234            177            147             72            10   \n",
       "\n",
       "     domicilios_e  renda_media  \n",
       "0             304       2501.0  \n",
       "1            2506        931.0  \n",
       "2             254       2391.0  \n",
       "3             286       3727.0  \n",
       "4            3261       1380.0  \n",
       "..            ...          ...  \n",
       "155           405       2316.0  \n",
       "156           465       2416.0  \n",
       "157           772       3189.0  \n",
       "158           214       2418.0  \n",
       "159            47       3791.0  \n",
       "\n",
       "[160 rows x 18 columns]"
      ]
     },
     "execution_count": 44,
     "metadata": {},
     "output_type": "execute_result"
    }
   ],
   "source": [
    "X_train"
   ]
  },
  {
   "cell_type": "markdown",
   "id": "4969565e",
   "metadata": {},
   "source": [
    "## 6.1 Random Forest Regressor"
   ]
  },
  {
   "cell_type": "code",
   "execution_count": 45,
   "id": "0e9a1eef",
   "metadata": {
    "ExecuteTime": {
     "end_time": "2023-07-02T21:42:58.031316Z",
     "start_time": "2023-07-02T21:42:57.846547Z"
    }
   },
   "outputs": [],
   "source": [
    "model_rf = RandomForestRegressor(n_jobs=-1, random_state=42)\n",
    "\n",
    "model_rf.fit(X_train_reg, y_train_reg)\n",
    "\n",
    "yhat_rf = model_rf.predict(X_val)"
   ]
  },
  {
   "cell_type": "code",
   "execution_count": 46,
   "id": "900d195a",
   "metadata": {
    "ExecuteTime": {
     "end_time": "2023-07-02T21:42:58.047335Z",
     "start_time": "2023-07-02T21:42:58.033315Z"
    }
   },
   "outputs": [],
   "source": [
    "rf_error = regression_error(RandomForestRegressor, y_val, yhat_rf)"
   ]
  },
  {
   "cell_type": "markdown",
   "id": "d17733bc",
   "metadata": {},
   "source": [
    "## 6.2 XGBoost Regressor"
   ]
  },
  {
   "cell_type": "code",
   "execution_count": 47,
   "id": "0de7f4dd",
   "metadata": {
    "ExecuteTime": {
     "end_time": "2023-07-02T21:42:58.156208Z",
     "start_time": "2023-07-02T21:42:58.048732Z"
    }
   },
   "outputs": [],
   "source": [
    "model_xgb = XGBRegressor(random_state=42)\n",
    "\n",
    "model_xgb.fit(X_train_reg, y_train_reg)\n",
    "\n",
    "yhat_xgb = model_xgb.predict(X_val)"
   ]
  },
  {
   "cell_type": "code",
   "execution_count": 48,
   "id": "30ce7c96",
   "metadata": {
    "ExecuteTime": {
     "end_time": "2023-07-02T21:42:58.171215Z",
     "start_time": "2023-07-02T21:42:58.159710Z"
    }
   },
   "outputs": [],
   "source": [
    "xgb_error = regression_error(XGBRegressor, y_val, yhat_xgb)"
   ]
  },
  {
   "cell_type": "markdown",
   "id": "49ce84ff",
   "metadata": {},
   "source": [
    "## 6.3 CatboostRegressor"
   ]
  },
  {
   "cell_type": "code",
   "execution_count": 49,
   "id": "a33096f3",
   "metadata": {
    "ExecuteTime": {
     "end_time": "2023-07-02T21:42:59.697154Z",
     "start_time": "2023-07-02T21:42:58.174207Z"
    }
   },
   "outputs": [],
   "source": [
    "model_cat = CatBoostRegressor(random_state=42, verbose=False)\n",
    "\n",
    "model_cat.fit(X_train_reg, y_train_reg)\n",
    "\n",
    "cat_error = yhat_cat = model_cat.predict(X_val)"
   ]
  },
  {
   "cell_type": "code",
   "execution_count": 50,
   "id": "081d92fe",
   "metadata": {
    "ExecuteTime": {
     "end_time": "2023-07-02T21:42:59.712621Z",
     "start_time": "2023-07-02T21:42:59.699582Z"
    }
   },
   "outputs": [],
   "source": [
    "cat_error = regression_error(CatBoostRegressor, y_val, yhat_cat)"
   ]
  },
  {
   "cell_type": "markdown",
   "id": "f912bc6b",
   "metadata": {},
   "source": [
    "## 6.4 Compare Models"
   ]
  },
  {
   "cell_type": "code",
   "execution_count": 51,
   "id": "e384b2dc",
   "metadata": {
    "ExecuteTime": {
     "end_time": "2023-07-02T21:42:59.727403Z",
     "start_time": "2023-07-02T21:42:59.715612Z"
    }
   },
   "outputs": [
    {
     "data": {
      "text/html": [
       "<div>\n",
       "<style scoped>\n",
       "    .dataframe tbody tr th:only-of-type {\n",
       "        vertical-align: middle;\n",
       "    }\n",
       "\n",
       "    .dataframe tbody tr th {\n",
       "        vertical-align: top;\n",
       "    }\n",
       "\n",
       "    .dataframe thead th {\n",
       "        text-align: right;\n",
       "    }\n",
       "</style>\n",
       "<table border=\"1\" class=\"dataframe\">\n",
       "  <thead>\n",
       "    <tr style=\"text-align: right;\">\n",
       "      <th></th>\n",
       "      <th>Modelo</th>\n",
       "      <th>MAE</th>\n",
       "      <th>MAPE</th>\n",
       "      <th>RMSE</th>\n",
       "    </tr>\n",
       "  </thead>\n",
       "  <tbody>\n",
       "    <tr>\n",
       "      <th>0</th>\n",
       "      <td>XGBRegressor</td>\n",
       "      <td>89393.518066</td>\n",
       "      <td>0.085659</td>\n",
       "      <td>144947.772808</td>\n",
       "    </tr>\n",
       "    <tr>\n",
       "      <th>0</th>\n",
       "      <td>RandomForestRegressor</td>\n",
       "      <td>95204.485625</td>\n",
       "      <td>0.097258</td>\n",
       "      <td>167035.755028</td>\n",
       "    </tr>\n",
       "    <tr>\n",
       "      <th>0</th>\n",
       "      <td>CatBoostRegressor</td>\n",
       "      <td>111220.614795</td>\n",
       "      <td>0.082948</td>\n",
       "      <td>268968.023491</td>\n",
       "    </tr>\n",
       "  </tbody>\n",
       "</table>\n",
       "</div>"
      ],
      "text/plain": [
       "                  Modelo            MAE      MAPE           RMSE\n",
       "0           XGBRegressor   89393.518066  0.085659  144947.772808\n",
       "0  RandomForestRegressor   95204.485625  0.097258  167035.755028\n",
       "0      CatBoostRegressor  111220.614795  0.082948  268968.023491"
      ]
     },
     "execution_count": 51,
     "metadata": {},
     "output_type": "execute_result"
    }
   ],
   "source": [
    "df_compare = pd.DataFrame()\n",
    "df_compare = pd.concat([rf_error, xgb_error, cat_error])\n",
    "df_compare.sort_values(by='RMSE')"
   ]
  },
  {
   "cell_type": "code",
   "execution_count": null,
   "id": "a0bba4cf",
   "metadata": {},
   "outputs": [],
   "source": []
  },
  {
   "cell_type": "markdown",
   "id": "1665e039",
   "metadata": {},
   "source": [
    "## 6.5 Cross Validation"
   ]
  },
  {
   "cell_type": "code",
   "execution_count": 52,
   "id": "764cfe6b",
   "metadata": {
    "ExecuteTime": {
     "end_time": "2023-07-02T21:43:17.489189Z",
     "start_time": "2023-07-02T21:42:59.729397Z"
    }
   },
   "outputs": [
    {
     "name": "stdout",
     "output_type": "stream",
     "text": [
      "RandomForestRegressor  MAPE: -0.204 +/- 0.106 \n",
      "XGBRegressor           MAPE: -0.180 +/- 0.103 \n",
      "CatBoostRegressor      MAPE: -0.159 +/- 0.097 \n"
     ]
    }
   ],
   "source": [
    "model_cross_list = [RandomForestRegressor, \n",
    "                    XGBRegressor, \n",
    "                    CatBoostRegressor]\n",
    "\n",
    "for model in model_cross_list:\n",
    "    if model == CatBoostRegressor:\n",
    "        mds = model(verbose=False)\n",
    "    else:\n",
    "        mds = model()\n",
    "    kfold = ms.KFold(n_splits=10)\n",
    "    s = ms.cross_val_score(mds, X_train, ss.inverse_transform(np.array(y_train).reshape(-1,1)), scoring='neg_mean_absolute_percentage_error', cv=kfold)\n",
    "    print(f\"{model.__name__:22} MAPE: {s.mean():.3f} +/- {s.std():.3f} \")"
   ]
  },
  {
   "cell_type": "markdown",
   "id": "5cf56c06",
   "metadata": {},
   "source": [
    "## 7.0 Modelo Escolhido CatBoost"
   ]
  },
  {
   "cell_type": "code",
   "execution_count": 53,
   "id": "447dcca8",
   "metadata": {
    "ExecuteTime": {
     "end_time": "2023-07-02T21:43:17.504681Z",
     "start_time": "2023-07-02T21:43:17.491184Z"
    }
   },
   "outputs": [],
   "source": [
    "# #Fine Tuning\n",
    "# search_space = {\n",
    "#     'iterations': (100, 1000),  # Número de iterações\n",
    "#     'learning_rate': (0.01, 0.5),  # Taxa de aprendizado\n",
    "#     'depth': (3, 10),  # Profundidade da árvore\n",
    "#     'l2_leaf_reg': (1, 10),  # Regularização L2\n",
    "#     'bagging_temperature': (0.0, 1.0),  # Temperatura de amostragem\n",
    "#     'border_count': (1, 255)  # Contagem de borda\n",
    "# }\n",
    "\n",
    "# bayes_search = skopt.BayesSearchCV(estimator=CatBoostRegressor(verbose=False), search_spaces=search_space, n_iter=50, random_state=42)"
   ]
  },
  {
   "cell_type": "code",
   "execution_count": 54,
   "id": "18bdc887",
   "metadata": {
    "ExecuteTime": {
     "end_time": "2023-07-02T21:43:17.520681Z",
     "start_time": "2023-07-02T21:43:17.506677Z"
    }
   },
   "outputs": [],
   "source": [
    "# bayes_search.fit(X_train, y_train)\n",
    "# best_params = bayes_search.best_params_\n",
    "# final_model = CatBoostRegressor(**best_params, random_state=42, verbose=False)\n",
    "\n",
    "# final_model.fit(X_train_reg, y_train_reg)\n",
    "\n",
    "# yhat_final_cat = final_model.predict(X_val)\n",
    "# regression_error(CatBoostRegressor, ss.inverse_transform(np.array(y_val).reshape(-1,1)), ss.inverse_transform(yhat_final_cat.reshape(-1,1)))"
   ]
  },
  {
   "cell_type": "markdown",
   "id": "1da9e161",
   "metadata": {
    "heading_collapsed": true
   },
   "source": [
    "# 8.0 Predict on Test"
   ]
  },
  {
   "cell_type": "code",
   "execution_count": 55,
   "id": "851d0d59",
   "metadata": {
    "ExecuteTime": {
     "end_time": "2023-07-02T21:43:17.536500Z",
     "start_time": "2023-07-02T21:43:17.522678Z"
    },
    "hidden": true
   },
   "outputs": [],
   "source": [
    "X_test_reg = X_test_reg.drop(['codigo','nome','cidade','estado','faturamento','potencial'], axis=1)"
   ]
  },
  {
   "cell_type": "code",
   "execution_count": 56,
   "id": "29402b9e",
   "metadata": {
    "ExecuteTime": {
     "end_time": "2023-07-02T21:43:17.552545Z",
     "start_time": "2023-07-02T21:43:17.538505Z"
    },
    "hidden": true
   },
   "outputs": [],
   "source": [
    "yhat_test = model_xgb.predict(X_test_reg)"
   ]
  },
  {
   "cell_type": "code",
   "execution_count": 57,
   "id": "19857dff",
   "metadata": {
    "ExecuteTime": {
     "end_time": "2023-07-02T21:43:17.567553Z",
     "start_time": "2023-07-02T21:43:17.555536Z"
    },
    "hidden": true
   },
   "outputs": [],
   "source": [
    "faturamentos_sp = yhat_test"
   ]
  },
  {
   "cell_type": "code",
   "execution_count": 58,
   "id": "0dcca36c",
   "metadata": {
    "ExecuteTime": {
     "end_time": "2023-07-02T21:43:17.583024Z",
     "start_time": "2023-07-02T21:43:17.570547Z"
    },
    "hidden": true
   },
   "outputs": [],
   "source": [
    "X_test_reg = X_test.copy()"
   ]
  },
  {
   "cell_type": "code",
   "execution_count": 59,
   "id": "1ed8af76",
   "metadata": {
    "ExecuteTime": {
     "end_time": "2023-07-02T21:43:17.598026Z",
     "start_time": "2023-07-02T21:43:17.585019Z"
    },
    "hidden": true
   },
   "outputs": [],
   "source": [
    "X_test_reg['faturamento'] = faturamentos_sp"
   ]
  },
  {
   "cell_type": "code",
   "execution_count": 60,
   "id": "1d4021d0",
   "metadata": {
    "ExecuteTime": {
     "end_time": "2023-07-02T21:43:17.659536Z",
     "start_time": "2023-07-02T21:43:17.601021Z"
    },
    "hidden": true
   },
   "outputs": [
    {
     "data": {
      "text/html": [
       "<div>\n",
       "<style scoped>\n",
       "    .dataframe tbody tr th:only-of-type {\n",
       "        vertical-align: middle;\n",
       "    }\n",
       "\n",
       "    .dataframe tbody tr th {\n",
       "        vertical-align: top;\n",
       "    }\n",
       "\n",
       "    .dataframe thead th {\n",
       "        text-align: right;\n",
       "    }\n",
       "</style>\n",
       "<table border=\"1\" class=\"dataframe\">\n",
       "  <thead>\n",
       "    <tr style=\"text-align: right;\">\n",
       "      <th></th>\n",
       "      <th>codigo</th>\n",
       "      <th>nome</th>\n",
       "      <th>cidade</th>\n",
       "      <th>estado</th>\n",
       "      <th>população</th>\n",
       "      <th>pop_ate9</th>\n",
       "      <th>pop_de10a14</th>\n",
       "      <th>pop_de15a19</th>\n",
       "      <th>pop_de20a24</th>\n",
       "      <th>pop_de25a34</th>\n",
       "      <th>...</th>\n",
       "      <th>domicilios_a2</th>\n",
       "      <th>domicilios_b1</th>\n",
       "      <th>domicilios_b2</th>\n",
       "      <th>domicilios_c1</th>\n",
       "      <th>domicilios_c2</th>\n",
       "      <th>domicilios_d</th>\n",
       "      <th>domicilios_e</th>\n",
       "      <th>renda_media</th>\n",
       "      <th>faturamento</th>\n",
       "      <th>potencial</th>\n",
       "    </tr>\n",
       "  </thead>\n",
       "  <tbody>\n",
       "    <tr>\n",
       "      <th>160</th>\n",
       "      <td>355030251</td>\n",
       "      <td>A. E. Carvalho</td>\n",
       "      <td>São Paulo</td>\n",
       "      <td>SP</td>\n",
       "      <td>94034</td>\n",
       "      <td>12668</td>\n",
       "      <td>6853</td>\n",
       "      <td>9836</td>\n",
       "      <td>7487</td>\n",
       "      <td>14535</td>\n",
       "      <td>...</td>\n",
       "      <td>253</td>\n",
       "      <td>2197</td>\n",
       "      <td>4368</td>\n",
       "      <td>6681</td>\n",
       "      <td>7011</td>\n",
       "      <td>2247</td>\n",
       "      <td>5670</td>\n",
       "      <td>1501.0</td>\n",
       "      <td>2.402675e+05</td>\n",
       "      <td>NaN</td>\n",
       "    </tr>\n",
       "    <tr>\n",
       "      <th>161</th>\n",
       "      <td>35503020</td>\n",
       "      <td>Aclimação</td>\n",
       "      <td>São Paulo</td>\n",
       "      <td>SP</td>\n",
       "      <td>32791</td>\n",
       "      <td>2297</td>\n",
       "      <td>1017</td>\n",
       "      <td>2096</td>\n",
       "      <td>2197</td>\n",
       "      <td>5341</td>\n",
       "      <td>...</td>\n",
       "      <td>1734</td>\n",
       "      <td>3704</td>\n",
       "      <td>2351</td>\n",
       "      <td>1946</td>\n",
       "      <td>827</td>\n",
       "      <td>291</td>\n",
       "      <td>1617</td>\n",
       "      <td>5920.0</td>\n",
       "      <td>1.525346e+06</td>\n",
       "      <td>NaN</td>\n",
       "    </tr>\n",
       "    <tr>\n",
       "      <th>162</th>\n",
       "      <td>355030285</td>\n",
       "      <td>Adventista</td>\n",
       "      <td>São Paulo</td>\n",
       "      <td>SP</td>\n",
       "      <td>104193</td>\n",
       "      <td>15070</td>\n",
       "      <td>7343</td>\n",
       "      <td>10631</td>\n",
       "      <td>8657</td>\n",
       "      <td>17749</td>\n",
       "      <td>...</td>\n",
       "      <td>0</td>\n",
       "      <td>1423</td>\n",
       "      <td>4875</td>\n",
       "      <td>8595</td>\n",
       "      <td>10082</td>\n",
       "      <td>3111</td>\n",
       "      <td>5776</td>\n",
       "      <td>1284.0</td>\n",
       "      <td>1.860776e+05</td>\n",
       "      <td>NaN</td>\n",
       "    </tr>\n",
       "    <tr>\n",
       "      <th>163</th>\n",
       "      <td>35503088</td>\n",
       "      <td>Água Branca</td>\n",
       "      <td>São Paulo</td>\n",
       "      <td>SP</td>\n",
       "      <td>12721</td>\n",
       "      <td>953</td>\n",
       "      <td>343</td>\n",
       "      <td>627</td>\n",
       "      <td>819</td>\n",
       "      <td>2142</td>\n",
       "      <td>...</td>\n",
       "      <td>667</td>\n",
       "      <td>1558</td>\n",
       "      <td>1032</td>\n",
       "      <td>915</td>\n",
       "      <td>361</td>\n",
       "      <td>84</td>\n",
       "      <td>404</td>\n",
       "      <td>6278.0</td>\n",
       "      <td>1.267278e+06</td>\n",
       "      <td>NaN</td>\n",
       "    </tr>\n",
       "    <tr>\n",
       "      <th>164</th>\n",
       "      <td>35503066</td>\n",
       "      <td>Água Funda</td>\n",
       "      <td>São Paulo</td>\n",
       "      <td>SP</td>\n",
       "      <td>48417</td>\n",
       "      <td>5078</td>\n",
       "      <td>2396</td>\n",
       "      <td>4018</td>\n",
       "      <td>3571</td>\n",
       "      <td>7388</td>\n",
       "      <td>...</td>\n",
       "      <td>303</td>\n",
       "      <td>1794</td>\n",
       "      <td>2986</td>\n",
       "      <td>4489</td>\n",
       "      <td>2836</td>\n",
       "      <td>1104</td>\n",
       "      <td>2553</td>\n",
       "      <td>1905.0</td>\n",
       "      <td>7.460072e+05</td>\n",
       "      <td>NaN</td>\n",
       "    </tr>\n",
       "    <tr>\n",
       "      <th>...</th>\n",
       "      <td>...</td>\n",
       "      <td>...</td>\n",
       "      <td>...</td>\n",
       "      <td>...</td>\n",
       "      <td>...</td>\n",
       "      <td>...</td>\n",
       "      <td>...</td>\n",
       "      <td>...</td>\n",
       "      <td>...</td>\n",
       "      <td>...</td>\n",
       "      <td>...</td>\n",
       "      <td>...</td>\n",
       "      <td>...</td>\n",
       "      <td>...</td>\n",
       "      <td>...</td>\n",
       "      <td>...</td>\n",
       "      <td>...</td>\n",
       "      <td>...</td>\n",
       "      <td>...</td>\n",
       "      <td>...</td>\n",
       "      <td>...</td>\n",
       "    </tr>\n",
       "    <tr>\n",
       "      <th>451</th>\n",
       "      <td>355030213</td>\n",
       "      <td>Vila Sônia</td>\n",
       "      <td>São Paulo</td>\n",
       "      <td>SP</td>\n",
       "      <td>34061</td>\n",
       "      <td>2908</td>\n",
       "      <td>1462</td>\n",
       "      <td>2253</td>\n",
       "      <td>2076</td>\n",
       "      <td>4579</td>\n",
       "      <td>...</td>\n",
       "      <td>1089</td>\n",
       "      <td>2866</td>\n",
       "      <td>2219</td>\n",
       "      <td>2216</td>\n",
       "      <td>1227</td>\n",
       "      <td>306</td>\n",
       "      <td>1098</td>\n",
       "      <td>5285.0</td>\n",
       "      <td>1.262652e+06</td>\n",
       "      <td>NaN</td>\n",
       "    </tr>\n",
       "    <tr>\n",
       "      <th>452</th>\n",
       "      <td>355030207</td>\n",
       "      <td>Vila Suzana</td>\n",
       "      <td>São Paulo</td>\n",
       "      <td>SP</td>\n",
       "      <td>35403</td>\n",
       "      <td>4127</td>\n",
       "      <td>1890</td>\n",
       "      <td>2678</td>\n",
       "      <td>2433</td>\n",
       "      <td>5855</td>\n",
       "      <td>...</td>\n",
       "      <td>1522</td>\n",
       "      <td>2458</td>\n",
       "      <td>1186</td>\n",
       "      <td>1166</td>\n",
       "      <td>918</td>\n",
       "      <td>209</td>\n",
       "      <td>3840</td>\n",
       "      <td>7418.0</td>\n",
       "      <td>1.467358e+06</td>\n",
       "      <td>NaN</td>\n",
       "    </tr>\n",
       "    <tr>\n",
       "      <th>453</th>\n",
       "      <td>355030162</td>\n",
       "      <td>Vila Terezinha</td>\n",
       "      <td>São Paulo</td>\n",
       "      <td>SP</td>\n",
       "      <td>122359</td>\n",
       "      <td>18304</td>\n",
       "      <td>9304</td>\n",
       "      <td>13258</td>\n",
       "      <td>9965</td>\n",
       "      <td>19248</td>\n",
       "      <td>...</td>\n",
       "      <td>0</td>\n",
       "      <td>1758</td>\n",
       "      <td>4517</td>\n",
       "      <td>9450</td>\n",
       "      <td>11473</td>\n",
       "      <td>3218</td>\n",
       "      <td>7540</td>\n",
       "      <td>1252.0</td>\n",
       "      <td>7.132221e+04</td>\n",
       "      <td>NaN</td>\n",
       "    </tr>\n",
       "    <tr>\n",
       "      <th>454</th>\n",
       "      <td>355030157</td>\n",
       "      <td>Vila Zatt</td>\n",
       "      <td>São Paulo</td>\n",
       "      <td>SP</td>\n",
       "      <td>125864</td>\n",
       "      <td>14670</td>\n",
       "      <td>7305</td>\n",
       "      <td>11225</td>\n",
       "      <td>9338</td>\n",
       "      <td>18841</td>\n",
       "      <td>...</td>\n",
       "      <td>872</td>\n",
       "      <td>5093</td>\n",
       "      <td>8063</td>\n",
       "      <td>10012</td>\n",
       "      <td>8082</td>\n",
       "      <td>2856</td>\n",
       "      <td>6853</td>\n",
       "      <td>1936.0</td>\n",
       "      <td>1.078105e+05</td>\n",
       "      <td>NaN</td>\n",
       "    </tr>\n",
       "    <tr>\n",
       "      <th>455</th>\n",
       "      <td>355030164</td>\n",
       "      <td>Vista Alegre</td>\n",
       "      <td>São Paulo</td>\n",
       "      <td>SP</td>\n",
       "      <td>106</td>\n",
       "      <td>23</td>\n",
       "      <td>7</td>\n",
       "      <td>15</td>\n",
       "      <td>11</td>\n",
       "      <td>15</td>\n",
       "      <td>...</td>\n",
       "      <td>0</td>\n",
       "      <td>0</td>\n",
       "      <td>6</td>\n",
       "      <td>9</td>\n",
       "      <td>8</td>\n",
       "      <td>2</td>\n",
       "      <td>4</td>\n",
       "      <td>1288.0</td>\n",
       "      <td>8.368932e+05</td>\n",
       "      <td>NaN</td>\n",
       "    </tr>\n",
       "  </tbody>\n",
       "</table>\n",
       "<p>296 rows × 24 columns</p>\n",
       "</div>"
      ],
      "text/plain": [
       "        codigo            nome     cidade estado  população  pop_ate9  \\\n",
       "160  355030251  A. E. Carvalho  São Paulo     SP      94034     12668   \n",
       "161   35503020       Aclimação  São Paulo     SP      32791      2297   \n",
       "162  355030285      Adventista  São Paulo     SP     104193     15070   \n",
       "163   35503088     Água Branca  São Paulo     SP      12721       953   \n",
       "164   35503066      Água Funda  São Paulo     SP      48417      5078   \n",
       "..         ...             ...        ...    ...        ...       ...   \n",
       "451  355030213      Vila Sônia  São Paulo     SP      34061      2908   \n",
       "452  355030207     Vila Suzana  São Paulo     SP      35403      4127   \n",
       "453  355030162  Vila Terezinha  São Paulo     SP     122359     18304   \n",
       "454  355030157       Vila Zatt  São Paulo     SP     125864     14670   \n",
       "455  355030164    Vista Alegre  São Paulo     SP        106        23   \n",
       "\n",
       "     pop_de10a14  pop_de15a19  pop_de20a24  pop_de25a34  ...  domicilios_a2  \\\n",
       "160         6853         9836         7487        14535  ...            253   \n",
       "161         1017         2096         2197         5341  ...           1734   \n",
       "162         7343        10631         8657        17749  ...              0   \n",
       "163          343          627          819         2142  ...            667   \n",
       "164         2396         4018         3571         7388  ...            303   \n",
       "..           ...          ...          ...          ...  ...            ...   \n",
       "451         1462         2253         2076         4579  ...           1089   \n",
       "452         1890         2678         2433         5855  ...           1522   \n",
       "453         9304        13258         9965        19248  ...              0   \n",
       "454         7305        11225         9338        18841  ...            872   \n",
       "455            7           15           11           15  ...              0   \n",
       "\n",
       "     domicilios_b1  domicilios_b2  domicilios_c1  domicilios_c2  domicilios_d  \\\n",
       "160           2197           4368           6681           7011          2247   \n",
       "161           3704           2351           1946            827           291   \n",
       "162           1423           4875           8595          10082          3111   \n",
       "163           1558           1032            915            361            84   \n",
       "164           1794           2986           4489           2836          1104   \n",
       "..             ...            ...            ...            ...           ...   \n",
       "451           2866           2219           2216           1227           306   \n",
       "452           2458           1186           1166            918           209   \n",
       "453           1758           4517           9450          11473          3218   \n",
       "454           5093           8063          10012           8082          2856   \n",
       "455              0              6              9              8             2   \n",
       "\n",
       "     domicilios_e  renda_media   faturamento  potencial  \n",
       "160          5670       1501.0  2.402675e+05        NaN  \n",
       "161          1617       5920.0  1.525346e+06        NaN  \n",
       "162          5776       1284.0  1.860776e+05        NaN  \n",
       "163           404       6278.0  1.267278e+06        NaN  \n",
       "164          2553       1905.0  7.460072e+05        NaN  \n",
       "..            ...          ...           ...        ...  \n",
       "451          1098       5285.0  1.262652e+06        NaN  \n",
       "452          3840       7418.0  1.467358e+06        NaN  \n",
       "453          7540       1252.0  7.132221e+04        NaN  \n",
       "454          6853       1936.0  1.078105e+05        NaN  \n",
       "455             4       1288.0  8.368932e+05        NaN  \n",
       "\n",
       "[296 rows x 24 columns]"
      ]
     },
     "execution_count": 60,
     "metadata": {},
     "output_type": "execute_result"
    }
   ],
   "source": [
    "X_test_reg"
   ]
  },
  {
   "cell_type": "markdown",
   "id": "bb061aca",
   "metadata": {},
   "source": [
    "# 9.0 Classificator"
   ]
  },
  {
   "cell_type": "markdown",
   "id": "cec4a864",
   "metadata": {},
   "source": [
    "## 9.1 Random Forest Importances"
   ]
  },
  {
   "cell_type": "code",
   "execution_count": 61,
   "id": "5b93b4c6",
   "metadata": {
    "ExecuteTime": {
     "end_time": "2023-07-02T21:43:17.878607Z",
     "start_time": "2023-07-02T21:43:17.661532Z"
    }
   },
   "outputs": [
    {
     "data": {
      "text/html": [
       "<div>\n",
       "<style scoped>\n",
       "    .dataframe tbody tr th:only-of-type {\n",
       "        vertical-align: middle;\n",
       "    }\n",
       "\n",
       "    .dataframe tbody tr th {\n",
       "        vertical-align: top;\n",
       "    }\n",
       "\n",
       "    .dataframe thead th {\n",
       "        text-align: right;\n",
       "    }\n",
       "</style>\n",
       "<table border=\"1\" class=\"dataframe\">\n",
       "  <thead>\n",
       "    <tr style=\"text-align: right;\">\n",
       "      <th></th>\n",
       "      <th>Ranking</th>\n",
       "    </tr>\n",
       "  </thead>\n",
       "  <tbody>\n",
       "    <tr>\n",
       "      <th>domicilios_b1</th>\n",
       "      <td>0.191778</td>\n",
       "    </tr>\n",
       "    <tr>\n",
       "      <th>domicilios_a2</th>\n",
       "      <td>0.171842</td>\n",
       "    </tr>\n",
       "    <tr>\n",
       "      <th>renda_media</th>\n",
       "      <td>0.085232</td>\n",
       "    </tr>\n",
       "    <tr>\n",
       "      <th>pop_mais_de60</th>\n",
       "      <td>0.074361</td>\n",
       "    </tr>\n",
       "    <tr>\n",
       "      <th>domicilios_b2</th>\n",
       "      <td>0.073612</td>\n",
       "    </tr>\n",
       "    <tr>\n",
       "      <th>pop_de50a59</th>\n",
       "      <td>0.057528</td>\n",
       "    </tr>\n",
       "    <tr>\n",
       "      <th>faturamento</th>\n",
       "      <td>0.052111</td>\n",
       "    </tr>\n",
       "    <tr>\n",
       "      <th>pop_de35a49</th>\n",
       "      <td>0.048974</td>\n",
       "    </tr>\n",
       "    <tr>\n",
       "      <th>população</th>\n",
       "      <td>0.035362</td>\n",
       "    </tr>\n",
       "    <tr>\n",
       "      <th>domicilios_c1</th>\n",
       "      <td>0.034268</td>\n",
       "    </tr>\n",
       "    <tr>\n",
       "      <th>domicilios_a1</th>\n",
       "      <td>0.031455</td>\n",
       "    </tr>\n",
       "    <tr>\n",
       "      <th>pop_de25a34</th>\n",
       "      <td>0.030408</td>\n",
       "    </tr>\n",
       "    <tr>\n",
       "      <th>domicilios_e</th>\n",
       "      <td>0.020423</td>\n",
       "    </tr>\n",
       "    <tr>\n",
       "      <th>domicilios_c2</th>\n",
       "      <td>0.017777</td>\n",
       "    </tr>\n",
       "    <tr>\n",
       "      <th>domicilios_d</th>\n",
       "      <td>0.017769</td>\n",
       "    </tr>\n",
       "    <tr>\n",
       "      <th>pop_de10a14</th>\n",
       "      <td>0.015204</td>\n",
       "    </tr>\n",
       "    <tr>\n",
       "      <th>pop_de15a19</th>\n",
       "      <td>0.014351</td>\n",
       "    </tr>\n",
       "    <tr>\n",
       "      <th>pop_de20a24</th>\n",
       "      <td>0.014323</td>\n",
       "    </tr>\n",
       "    <tr>\n",
       "      <th>pop_ate9</th>\n",
       "      <td>0.013223</td>\n",
       "    </tr>\n",
       "  </tbody>\n",
       "</table>\n",
       "</div>"
      ],
      "text/plain": [
       "                Ranking\n",
       "domicilios_b1  0.191778\n",
       "domicilios_a2  0.171842\n",
       "renda_media    0.085232\n",
       "pop_mais_de60  0.074361\n",
       "domicilios_b2  0.073612\n",
       "pop_de50a59    0.057528\n",
       "faturamento    0.052111\n",
       "pop_de35a49    0.048974\n",
       "população      0.035362\n",
       "domicilios_c1  0.034268\n",
       "domicilios_a1  0.031455\n",
       "pop_de25a34    0.030408\n",
       "domicilios_e   0.020423\n",
       "domicilios_c2  0.017777\n",
       "domicilios_d   0.017769\n",
       "pop_de10a14    0.015204\n",
       "pop_de15a19    0.014351\n",
       "pop_de20a24    0.014323\n",
       "pop_ate9       0.013223"
      ]
     },
     "execution_count": 61,
     "metadata": {},
     "output_type": "execute_result"
    }
   ],
   "source": [
    "X_train_class = df5.drop(['nome','potencial'], axis=1).copy()\n",
    "y_train_class = df5['potencial'].copy()\n",
    "\n",
    "rf = RandomForestClassifier(n_jobs=-1)\n",
    "\n",
    "rf.fit(X_train_class, y_train_class)\n",
    "\n",
    "importances = rf.feature_importances_\n",
    "columns_importances = X_train_class.columns\n",
    "\n",
    "importance_dict = {}\n",
    "for key, value in zip(columns_importances, importances):\n",
    "    importance_dict[key] = value\n",
    "    \n",
    "df_importance = pd.DataFrame(importance_dict, index=[0]).T.rename(columns={0:'Ranking'})\n",
    "\n",
    "df_importance.sort_values(by='Ranking', ascending=False)"
   ]
  },
  {
   "cell_type": "markdown",
   "id": "6b261da6",
   "metadata": {},
   "source": [
    "\n",
    "## 9.2 Model Selection"
   ]
  },
  {
   "cell_type": "code",
   "execution_count": 62,
   "id": "7c4ad2ca",
   "metadata": {
    "ExecuteTime": {
     "end_time": "2023-07-02T21:43:17.894622Z",
     "start_time": "2023-07-02T21:43:17.880560Z"
    }
   },
   "outputs": [],
   "source": [
    "X_train = df5.drop(['nome','potencial'], axis=1).copy()\n",
    "y_train = df5['potencial'].copy()\n",
    "\n",
    "\n",
    "model_list = [KNeighborsClassifier,   \n",
    "              RandomForestClassifier, \n",
    "              XGBClassifier, \n",
    "              LGBMClassifier,\n",
    "              CatBoostClassifier]"
   ]
  },
  {
   "cell_type": "code",
   "execution_count": 63,
   "id": "ed59520f",
   "metadata": {
    "ExecuteTime": {
     "end_time": "2023-07-02T21:43:48.697019Z",
     "start_time": "2023-07-02T21:43:17.897739Z"
    }
   },
   "outputs": [
    {
     "name": "stdout",
     "output_type": "stream",
     "text": [
      "KNeighborsClassifier   ACC score: 0.781 +/- 0.064 \n",
      "RandomForestClassifier ACC score: 0.881 +/- 0.034 \n",
      "XGBClassifier          ACC score: 0.856 +/- 0.069 \n",
      "LGBMClassifier         ACC score: 0.856 +/- 0.063 \n",
      "CatBoostClassifier     ACC score: 0.869 +/- 0.081 \n"
     ]
    }
   ],
   "source": [
    "for model in model_list:\n",
    "    if model.__name__ == 'CatBoostClassifier':\n",
    "        mds = model(verbose=False)\n",
    "    elif model.__name__ == 'KNeighborsClassifier':\n",
    "        mds = model(n_neighbors=3)\n",
    "    else:\n",
    "        mds=model()\n",
    "    kfold = ms.KFold(n_splits=10)\n",
    "    s = ms.cross_val_score(mds, X_train, y_train, scoring='accuracy', cv=kfold)\n",
    "    print(f\"{model.__name__:22} ACC score: {s.mean():.3f} +/- {s.std():.3f} \")"
   ]
  },
  {
   "cell_type": "markdown",
   "id": "006c259f",
   "metadata": {
    "heading_collapsed": true
   },
   "source": [
    "# 10.0 Models"
   ]
  },
  {
   "cell_type": "code",
   "execution_count": 64,
   "id": "d3c1f7b6",
   "metadata": {
    "ExecuteTime": {
     "end_time": "2023-07-02T21:43:48.712164Z",
     "start_time": "2023-07-02T21:43:48.699018Z"
    },
    "hidden": true
   },
   "outputs": [],
   "source": [
    "df10 = df3.copy()"
   ]
  },
  {
   "cell_type": "code",
   "execution_count": 65,
   "id": "4f8db885",
   "metadata": {
    "ExecuteTime": {
     "end_time": "2023-07-02T21:43:48.728171Z",
     "start_time": "2023-07-02T21:43:48.714158Z"
    },
    "hidden": true
   },
   "outputs": [],
   "source": [
    "df10['potencial'] = df10['potencial'].apply(lambda x: 0 if x == 'Baixo' else 1 if x == 'Médio' else 2)"
   ]
  },
  {
   "cell_type": "code",
   "execution_count": 66,
   "id": "2753acea",
   "metadata": {
    "ExecuteTime": {
     "end_time": "2023-07-02T21:43:48.743654Z",
     "start_time": "2023-07-02T21:43:48.730166Z"
    },
    "hidden": true
   },
   "outputs": [],
   "source": [
    "X_train = df10.drop(['nome','potencial'], axis=1).copy()\n",
    "y_train = df10['potencial'].copy()\n",
    "X_train_class, X_val_class, y_train_class, y_val_class = ms.train_test_split(X_train, y_train, test_size=0.2, random_state=42)"
   ]
  },
  {
   "cell_type": "markdown",
   "id": "554ab3e7",
   "metadata": {
    "hidden": true
   },
   "source": [
    "## 10.1 RandomForestClassifier"
   ]
  },
  {
   "cell_type": "code",
   "execution_count": 67,
   "id": "22d25be9",
   "metadata": {
    "ExecuteTime": {
     "end_time": "2023-07-02T21:43:49.007285Z",
     "start_time": "2023-07-02T21:43:48.745651Z"
    },
    "hidden": true
   },
   "outputs": [],
   "source": [
    "model_rf_class = RandomForestClassifier(n_jobs=-1, random_state=42)\n",
    "\n",
    "model_rf_class.fit(X_train_class, y_train_class)\n",
    "\n",
    "yhat_rf_class = model_rf_class.predict(X_val_class)"
   ]
  },
  {
   "cell_type": "code",
   "execution_count": 68,
   "id": "f3823946",
   "metadata": {
    "ExecuteTime": {
     "end_time": "2023-07-02T21:43:49.022778Z",
     "start_time": "2023-07-02T21:43:49.009287Z"
    },
    "hidden": true
   },
   "outputs": [],
   "source": [
    "metrics_rf = classification_metrics(RandomForestClassifier, y_val_class, yhat_rf_class)"
   ]
  },
  {
   "cell_type": "markdown",
   "id": "7e08c88d",
   "metadata": {
    "hidden": true
   },
   "source": [
    "## 10.2 XGBoost"
   ]
  },
  {
   "cell_type": "code",
   "execution_count": 69,
   "id": "a3483563",
   "metadata": {
    "ExecuteTime": {
     "end_time": "2023-07-02T21:43:49.163674Z",
     "start_time": "2023-07-02T21:43:49.024773Z"
    },
    "hidden": true
   },
   "outputs": [],
   "source": [
    "model_xgb_class = XGBClassifier(random_state=42)\n",
    "\n",
    "model_xgb_class.fit(X_train_class, y_train_class)\n",
    "\n",
    "yhat_xgb_class = model_xgb_class.predict(X_val_class)"
   ]
  },
  {
   "cell_type": "code",
   "execution_count": 70,
   "id": "22b0f3a1",
   "metadata": {
    "ExecuteTime": {
     "end_time": "2023-07-02T21:43:49.195154Z",
     "start_time": "2023-07-02T21:43:49.167172Z"
    },
    "hidden": true
   },
   "outputs": [],
   "source": [
    "metrics_xgb = classification_metrics(XGBClassifier, y_val_class, yhat_xgb_class)"
   ]
  },
  {
   "cell_type": "markdown",
   "id": "8962cee3",
   "metadata": {
    "hidden": true
   },
   "source": [
    "## 10.3 LGBM"
   ]
  },
  {
   "cell_type": "code",
   "execution_count": 71,
   "id": "3f623213",
   "metadata": {
    "ExecuteTime": {
     "end_time": "2023-07-02T21:43:49.289140Z",
     "start_time": "2023-07-02T21:43:49.198674Z"
    },
    "hidden": true
   },
   "outputs": [],
   "source": [
    "model_lgb_class = LGBMClassifier(random_state=42)\n",
    "\n",
    "model_lgb_class.fit(X_train_class, y_train_class)\n",
    "\n",
    "yhat_lgb_class = model_lgb_class.predict(X_val_class)"
   ]
  },
  {
   "cell_type": "code",
   "execution_count": 72,
   "id": "78f26d28",
   "metadata": {
    "ExecuteTime": {
     "end_time": "2023-07-02T21:43:49.336688Z",
     "start_time": "2023-07-02T21:43:49.292131Z"
    },
    "hidden": true
   },
   "outputs": [],
   "source": [
    "metrics_lgb = classification_metrics(LGBMClassifier, y_val_class, yhat_lgb_class)"
   ]
  },
  {
   "cell_type": "markdown",
   "id": "a328d0d9",
   "metadata": {
    "hidden": true
   },
   "source": [
    "## 10.4 Catboost"
   ]
  },
  {
   "cell_type": "code",
   "execution_count": 73,
   "id": "c0d3d098",
   "metadata": {
    "ExecuteTime": {
     "end_time": "2023-07-02T21:43:51.956828Z",
     "start_time": "2023-07-02T21:43:49.339686Z"
    },
    "hidden": true
   },
   "outputs": [],
   "source": [
    "model_cat_class = CatBoostClassifier(verbose=False, random_state=42)\n",
    "\n",
    "model_cat_class.fit(X_train_class, y_train_class)\n",
    "\n",
    "yhat_cat_class = model_cat_class.predict(X_val_class)"
   ]
  },
  {
   "cell_type": "code",
   "execution_count": 74,
   "id": "19f140e4",
   "metadata": {
    "ExecuteTime": {
     "end_time": "2023-07-02T21:43:51.988043Z",
     "start_time": "2023-07-02T21:43:51.959859Z"
    },
    "hidden": true
   },
   "outputs": [],
   "source": [
    "metrics_cat = classification_metrics(CatBoostClassifier, y_val_class, yhat_cat_class)"
   ]
  },
  {
   "cell_type": "markdown",
   "id": "155030bd",
   "metadata": {
    "hidden": true
   },
   "source": [
    "## 10.5 Compare Models"
   ]
  },
  {
   "cell_type": "code",
   "execution_count": 75,
   "id": "b1ab872f",
   "metadata": {
    "ExecuteTime": {
     "end_time": "2023-07-02T21:43:52.018818Z",
     "start_time": "2023-07-02T21:43:51.990038Z"
    },
    "hidden": true
   },
   "outputs": [
    {
     "data": {
      "text/html": [
       "<div>\n",
       "<style scoped>\n",
       "    .dataframe tbody tr th:only-of-type {\n",
       "        vertical-align: middle;\n",
       "    }\n",
       "\n",
       "    .dataframe tbody tr th {\n",
       "        vertical-align: top;\n",
       "    }\n",
       "\n",
       "    .dataframe thead th {\n",
       "        text-align: right;\n",
       "    }\n",
       "</style>\n",
       "<table border=\"1\" class=\"dataframe\">\n",
       "  <thead>\n",
       "    <tr style=\"text-align: right;\">\n",
       "      <th></th>\n",
       "      <th>Modelo</th>\n",
       "      <th>Accuracy</th>\n",
       "      <th>Precision (micro)</th>\n",
       "      <th>Recall (micro)</th>\n",
       "      <th>F1 Score (micro)</th>\n",
       "      <th>Precision (macro)</th>\n",
       "      <th>Recall (macro)</th>\n",
       "      <th>F1 Score (macro)</th>\n",
       "    </tr>\n",
       "  </thead>\n",
       "  <tbody>\n",
       "    <tr>\n",
       "      <th>0</th>\n",
       "      <td>LGBMClassifier</td>\n",
       "      <td>0.96875</td>\n",
       "      <td>0.96875</td>\n",
       "      <td>0.96875</td>\n",
       "      <td>0.96875</td>\n",
       "      <td>0.966667</td>\n",
       "      <td>0.972222</td>\n",
       "      <td>0.967963</td>\n",
       "    </tr>\n",
       "    <tr>\n",
       "      <th>0</th>\n",
       "      <td>XGBClassifier</td>\n",
       "      <td>0.93750</td>\n",
       "      <td>0.93750</td>\n",
       "      <td>0.93750</td>\n",
       "      <td>0.93750</td>\n",
       "      <td>0.939394</td>\n",
       "      <td>0.944444</td>\n",
       "      <td>0.936364</td>\n",
       "    </tr>\n",
       "    <tr>\n",
       "      <th>0</th>\n",
       "      <td>CatBoostClassifier</td>\n",
       "      <td>0.93750</td>\n",
       "      <td>0.93750</td>\n",
       "      <td>0.93750</td>\n",
       "      <td>0.93750</td>\n",
       "      <td>0.935185</td>\n",
       "      <td>0.935185</td>\n",
       "      <td>0.935185</td>\n",
       "    </tr>\n",
       "    <tr>\n",
       "      <th>0</th>\n",
       "      <td>RandomForestClassifier</td>\n",
       "      <td>0.93750</td>\n",
       "      <td>0.93750</td>\n",
       "      <td>0.93750</td>\n",
       "      <td>0.93750</td>\n",
       "      <td>0.935185</td>\n",
       "      <td>0.935185</td>\n",
       "      <td>0.933977</td>\n",
       "    </tr>\n",
       "  </tbody>\n",
       "</table>\n",
       "</div>"
      ],
      "text/plain": [
       "                   Modelo  Accuracy  Precision (micro)  Recall (micro)  \\\n",
       "0          LGBMClassifier   0.96875            0.96875         0.96875   \n",
       "0           XGBClassifier   0.93750            0.93750         0.93750   \n",
       "0      CatBoostClassifier   0.93750            0.93750         0.93750   \n",
       "0  RandomForestClassifier   0.93750            0.93750         0.93750   \n",
       "\n",
       "   F1 Score (micro)  Precision (macro)  Recall (macro)  F1 Score (macro)  \n",
       "0           0.96875           0.966667        0.972222          0.967963  \n",
       "0           0.93750           0.939394        0.944444          0.936364  \n",
       "0           0.93750           0.935185        0.935185          0.935185  \n",
       "0           0.93750           0.935185        0.935185          0.933977  "
      ]
     },
     "execution_count": 75,
     "metadata": {},
     "output_type": "execute_result"
    }
   ],
   "source": [
    "compare_class = pd.concat([metrics_rf, metrics_xgb, metrics_lgb, metrics_cat])\n",
    "compare_class.sort_values(by='F1 Score (macro)', ascending=False)"
   ]
  },
  {
   "cell_type": "markdown",
   "id": "a1e7af47",
   "metadata": {},
   "source": [
    "# 11 Model - LGBM"
   ]
  },
  {
   "cell_type": "code",
   "execution_count": 76,
   "id": "3bc1ec2c",
   "metadata": {
    "ExecuteTime": {
     "end_time": "2023-07-02T21:43:52.034888Z",
     "start_time": "2023-07-02T21:43:52.020783Z"
    }
   },
   "outputs": [],
   "source": [
    "X_test_class = X_test_reg.drop(['codigo', 'nome','cidade','estado','potencial'], axis=1)"
   ]
  },
  {
   "cell_type": "code",
   "execution_count": 77,
   "id": "a987827c",
   "metadata": {
    "ExecuteTime": {
     "end_time": "2023-07-02T21:43:52.051071Z",
     "start_time": "2023-07-02T21:43:52.036840Z"
    }
   },
   "outputs": [],
   "source": [
    "X_test_class = rename_columns(X_test_class)\n",
    "X_test_class['renda_media'] = X_test_class['renda_media'].replace('-', np.nan)\n",
    "X_test_class['renda_media'] = X_test_class['renda_media'].astype(float)\n",
    "X_test_class['renda_media'] = X_test_class['renda_media'].fillna(X_test_class['renda_media'].mean())"
   ]
  },
  {
   "cell_type": "code",
   "execution_count": 78,
   "id": "f5f8571e",
   "metadata": {
    "ExecuteTime": {
     "end_time": "2023-07-02T21:43:52.067023Z",
     "start_time": "2023-07-02T21:43:52.052067Z"
    }
   },
   "outputs": [],
   "source": [
    "#predict\n",
    "yhat_lgb_class_final = model_lgb_class.predict(X_test_class)"
   ]
  },
  {
   "cell_type": "code",
   "execution_count": 79,
   "id": "fb2735a7",
   "metadata": {
    "ExecuteTime": {
     "end_time": "2023-07-02T21:43:52.083027Z",
     "start_time": "2023-07-02T21:43:52.070526Z"
    }
   },
   "outputs": [
    {
     "data": {
      "text/plain": [
       "array([2, 2, 1, 2, 2, 2, 2, 2, 2, 2, 1, 2, 0, 2, 0, 1, 2, 0, 2, 2, 1, 2,\n",
       "       2, 0, 2, 0, 2, 1, 2, 0, 2, 2, 2, 1, 1, 2, 2, 2, 0, 0, 2, 0, 1, 2,\n",
       "       2, 0, 0, 1, 1, 1, 2, 2, 1, 2, 2, 2, 1, 1, 1, 1, 1, 2, 2, 1, 0, 1,\n",
       "       2, 0, 0, 0, 1, 0, 0, 1, 0, 1, 1, 1, 2, 0, 0, 2, 2, 2, 1, 1, 1, 2,\n",
       "       0, 1, 2, 1, 2, 1, 1, 1, 2, 2, 0, 1, 2, 2, 2, 1, 2, 1, 2, 2, 1, 1,\n",
       "       2, 1, 2, 1, 1, 1, 2, 2, 1, 1, 0, 2, 1, 2, 2, 1, 1, 0, 2, 1, 2, 1,\n",
       "       1, 1, 0, 2, 2, 2, 1, 1, 1, 2, 0, 2, 1, 2, 1, 2, 0, 1, 1, 2, 1, 0,\n",
       "       2, 2, 1, 2, 2, 2, 2, 2, 2, 2, 2, 0, 1, 1, 2, 1, 2, 2, 2, 1, 1, 1,\n",
       "       1, 2, 1, 2, 2, 2, 0, 0, 0, 0, 1, 1, 0, 2, 1, 1, 2, 1, 2, 1, 1, 1,\n",
       "       2, 2, 1, 0, 2, 2, 2, 2, 2, 2, 1, 1, 0, 2, 1, 1, 1, 2, 0, 0, 2, 1,\n",
       "       0, 1, 2, 2, 2, 2, 1, 1, 0, 1, 2, 2, 2, 1, 0, 2, 0, 2, 2, 1, 2, 2,\n",
       "       2, 2, 2, 0, 2, 2, 0, 2, 2, 2, 2, 0, 2, 2, 1, 1, 1, 2, 2, 2, 0, 2,\n",
       "       2, 2, 2, 0, 2, 2, 1, 1, 2, 2, 1, 2, 2, 2, 2, 1, 2, 2, 1, 2, 0, 2,\n",
       "       1, 1, 2, 1, 1, 2, 2, 1, 2, 0], dtype=int64)"
      ]
     },
     "execution_count": 79,
     "metadata": {},
     "output_type": "execute_result"
    }
   ],
   "source": [
    "yhat_lgb_class_final"
   ]
  },
  {
   "cell_type": "code",
   "execution_count": 80,
   "id": "ef8e7a3c",
   "metadata": {
    "ExecuteTime": {
     "end_time": "2023-07-02T21:43:52.099032Z",
     "start_time": "2023-07-02T21:43:52.086019Z"
    }
   },
   "outputs": [],
   "source": [
    "X_test_class = X_test_reg.copy()\n",
    "X_test_class['potencial'] = yhat_lgb_class_final"
   ]
  },
  {
   "cell_type": "code",
   "execution_count": 81,
   "id": "c45687cd",
   "metadata": {
    "ExecuteTime": {
     "end_time": "2023-07-02T21:43:52.176088Z",
     "start_time": "2023-07-02T21:43:52.124063Z"
    }
   },
   "outputs": [
    {
     "data": {
      "text/html": [
       "<div>\n",
       "<style scoped>\n",
       "    .dataframe tbody tr th:only-of-type {\n",
       "        vertical-align: middle;\n",
       "    }\n",
       "\n",
       "    .dataframe tbody tr th {\n",
       "        vertical-align: top;\n",
       "    }\n",
       "\n",
       "    .dataframe thead th {\n",
       "        text-align: right;\n",
       "    }\n",
       "</style>\n",
       "<table border=\"1\" class=\"dataframe\">\n",
       "  <thead>\n",
       "    <tr style=\"text-align: right;\">\n",
       "      <th></th>\n",
       "      <th>codigo</th>\n",
       "      <th>nome</th>\n",
       "      <th>cidade</th>\n",
       "      <th>estado</th>\n",
       "      <th>população</th>\n",
       "      <th>pop_ate9</th>\n",
       "      <th>pop_de10a14</th>\n",
       "      <th>pop_de15a19</th>\n",
       "      <th>pop_de20a24</th>\n",
       "      <th>pop_de25a34</th>\n",
       "      <th>...</th>\n",
       "      <th>domicilios_a2</th>\n",
       "      <th>domicilios_b1</th>\n",
       "      <th>domicilios_b2</th>\n",
       "      <th>domicilios_c1</th>\n",
       "      <th>domicilios_c2</th>\n",
       "      <th>domicilios_d</th>\n",
       "      <th>domicilios_e</th>\n",
       "      <th>renda_media</th>\n",
       "      <th>faturamento</th>\n",
       "      <th>potencial</th>\n",
       "    </tr>\n",
       "  </thead>\n",
       "  <tbody>\n",
       "    <tr>\n",
       "      <th>160</th>\n",
       "      <td>355030251</td>\n",
       "      <td>A. E. Carvalho</td>\n",
       "      <td>São Paulo</td>\n",
       "      <td>SP</td>\n",
       "      <td>94034</td>\n",
       "      <td>12668</td>\n",
       "      <td>6853</td>\n",
       "      <td>9836</td>\n",
       "      <td>7487</td>\n",
       "      <td>14535</td>\n",
       "      <td>...</td>\n",
       "      <td>253</td>\n",
       "      <td>2197</td>\n",
       "      <td>4368</td>\n",
       "      <td>6681</td>\n",
       "      <td>7011</td>\n",
       "      <td>2247</td>\n",
       "      <td>5670</td>\n",
       "      <td>1501.0</td>\n",
       "      <td>2.402675e+05</td>\n",
       "      <td>2</td>\n",
       "    </tr>\n",
       "    <tr>\n",
       "      <th>161</th>\n",
       "      <td>35503020</td>\n",
       "      <td>Aclimação</td>\n",
       "      <td>São Paulo</td>\n",
       "      <td>SP</td>\n",
       "      <td>32791</td>\n",
       "      <td>2297</td>\n",
       "      <td>1017</td>\n",
       "      <td>2096</td>\n",
       "      <td>2197</td>\n",
       "      <td>5341</td>\n",
       "      <td>...</td>\n",
       "      <td>1734</td>\n",
       "      <td>3704</td>\n",
       "      <td>2351</td>\n",
       "      <td>1946</td>\n",
       "      <td>827</td>\n",
       "      <td>291</td>\n",
       "      <td>1617</td>\n",
       "      <td>5920.0</td>\n",
       "      <td>1.525346e+06</td>\n",
       "      <td>2</td>\n",
       "    </tr>\n",
       "    <tr>\n",
       "      <th>162</th>\n",
       "      <td>355030285</td>\n",
       "      <td>Adventista</td>\n",
       "      <td>São Paulo</td>\n",
       "      <td>SP</td>\n",
       "      <td>104193</td>\n",
       "      <td>15070</td>\n",
       "      <td>7343</td>\n",
       "      <td>10631</td>\n",
       "      <td>8657</td>\n",
       "      <td>17749</td>\n",
       "      <td>...</td>\n",
       "      <td>0</td>\n",
       "      <td>1423</td>\n",
       "      <td>4875</td>\n",
       "      <td>8595</td>\n",
       "      <td>10082</td>\n",
       "      <td>3111</td>\n",
       "      <td>5776</td>\n",
       "      <td>1284.0</td>\n",
       "      <td>1.860776e+05</td>\n",
       "      <td>1</td>\n",
       "    </tr>\n",
       "    <tr>\n",
       "      <th>163</th>\n",
       "      <td>35503088</td>\n",
       "      <td>Água Branca</td>\n",
       "      <td>São Paulo</td>\n",
       "      <td>SP</td>\n",
       "      <td>12721</td>\n",
       "      <td>953</td>\n",
       "      <td>343</td>\n",
       "      <td>627</td>\n",
       "      <td>819</td>\n",
       "      <td>2142</td>\n",
       "      <td>...</td>\n",
       "      <td>667</td>\n",
       "      <td>1558</td>\n",
       "      <td>1032</td>\n",
       "      <td>915</td>\n",
       "      <td>361</td>\n",
       "      <td>84</td>\n",
       "      <td>404</td>\n",
       "      <td>6278.0</td>\n",
       "      <td>1.267278e+06</td>\n",
       "      <td>2</td>\n",
       "    </tr>\n",
       "    <tr>\n",
       "      <th>164</th>\n",
       "      <td>35503066</td>\n",
       "      <td>Água Funda</td>\n",
       "      <td>São Paulo</td>\n",
       "      <td>SP</td>\n",
       "      <td>48417</td>\n",
       "      <td>5078</td>\n",
       "      <td>2396</td>\n",
       "      <td>4018</td>\n",
       "      <td>3571</td>\n",
       "      <td>7388</td>\n",
       "      <td>...</td>\n",
       "      <td>303</td>\n",
       "      <td>1794</td>\n",
       "      <td>2986</td>\n",
       "      <td>4489</td>\n",
       "      <td>2836</td>\n",
       "      <td>1104</td>\n",
       "      <td>2553</td>\n",
       "      <td>1905.0</td>\n",
       "      <td>7.460072e+05</td>\n",
       "      <td>2</td>\n",
       "    </tr>\n",
       "    <tr>\n",
       "      <th>...</th>\n",
       "      <td>...</td>\n",
       "      <td>...</td>\n",
       "      <td>...</td>\n",
       "      <td>...</td>\n",
       "      <td>...</td>\n",
       "      <td>...</td>\n",
       "      <td>...</td>\n",
       "      <td>...</td>\n",
       "      <td>...</td>\n",
       "      <td>...</td>\n",
       "      <td>...</td>\n",
       "      <td>...</td>\n",
       "      <td>...</td>\n",
       "      <td>...</td>\n",
       "      <td>...</td>\n",
       "      <td>...</td>\n",
       "      <td>...</td>\n",
       "      <td>...</td>\n",
       "      <td>...</td>\n",
       "      <td>...</td>\n",
       "      <td>...</td>\n",
       "    </tr>\n",
       "    <tr>\n",
       "      <th>451</th>\n",
       "      <td>355030213</td>\n",
       "      <td>Vila Sônia</td>\n",
       "      <td>São Paulo</td>\n",
       "      <td>SP</td>\n",
       "      <td>34061</td>\n",
       "      <td>2908</td>\n",
       "      <td>1462</td>\n",
       "      <td>2253</td>\n",
       "      <td>2076</td>\n",
       "      <td>4579</td>\n",
       "      <td>...</td>\n",
       "      <td>1089</td>\n",
       "      <td>2866</td>\n",
       "      <td>2219</td>\n",
       "      <td>2216</td>\n",
       "      <td>1227</td>\n",
       "      <td>306</td>\n",
       "      <td>1098</td>\n",
       "      <td>5285.0</td>\n",
       "      <td>1.262652e+06</td>\n",
       "      <td>2</td>\n",
       "    </tr>\n",
       "    <tr>\n",
       "      <th>452</th>\n",
       "      <td>355030207</td>\n",
       "      <td>Vila Suzana</td>\n",
       "      <td>São Paulo</td>\n",
       "      <td>SP</td>\n",
       "      <td>35403</td>\n",
       "      <td>4127</td>\n",
       "      <td>1890</td>\n",
       "      <td>2678</td>\n",
       "      <td>2433</td>\n",
       "      <td>5855</td>\n",
       "      <td>...</td>\n",
       "      <td>1522</td>\n",
       "      <td>2458</td>\n",
       "      <td>1186</td>\n",
       "      <td>1166</td>\n",
       "      <td>918</td>\n",
       "      <td>209</td>\n",
       "      <td>3840</td>\n",
       "      <td>7418.0</td>\n",
       "      <td>1.467358e+06</td>\n",
       "      <td>2</td>\n",
       "    </tr>\n",
       "    <tr>\n",
       "      <th>453</th>\n",
       "      <td>355030162</td>\n",
       "      <td>Vila Terezinha</td>\n",
       "      <td>São Paulo</td>\n",
       "      <td>SP</td>\n",
       "      <td>122359</td>\n",
       "      <td>18304</td>\n",
       "      <td>9304</td>\n",
       "      <td>13258</td>\n",
       "      <td>9965</td>\n",
       "      <td>19248</td>\n",
       "      <td>...</td>\n",
       "      <td>0</td>\n",
       "      <td>1758</td>\n",
       "      <td>4517</td>\n",
       "      <td>9450</td>\n",
       "      <td>11473</td>\n",
       "      <td>3218</td>\n",
       "      <td>7540</td>\n",
       "      <td>1252.0</td>\n",
       "      <td>7.132221e+04</td>\n",
       "      <td>1</td>\n",
       "    </tr>\n",
       "    <tr>\n",
       "      <th>454</th>\n",
       "      <td>355030157</td>\n",
       "      <td>Vila Zatt</td>\n",
       "      <td>São Paulo</td>\n",
       "      <td>SP</td>\n",
       "      <td>125864</td>\n",
       "      <td>14670</td>\n",
       "      <td>7305</td>\n",
       "      <td>11225</td>\n",
       "      <td>9338</td>\n",
       "      <td>18841</td>\n",
       "      <td>...</td>\n",
       "      <td>872</td>\n",
       "      <td>5093</td>\n",
       "      <td>8063</td>\n",
       "      <td>10012</td>\n",
       "      <td>8082</td>\n",
       "      <td>2856</td>\n",
       "      <td>6853</td>\n",
       "      <td>1936.0</td>\n",
       "      <td>1.078105e+05</td>\n",
       "      <td>2</td>\n",
       "    </tr>\n",
       "    <tr>\n",
       "      <th>455</th>\n",
       "      <td>355030164</td>\n",
       "      <td>Vista Alegre</td>\n",
       "      <td>São Paulo</td>\n",
       "      <td>SP</td>\n",
       "      <td>106</td>\n",
       "      <td>23</td>\n",
       "      <td>7</td>\n",
       "      <td>15</td>\n",
       "      <td>11</td>\n",
       "      <td>15</td>\n",
       "      <td>...</td>\n",
       "      <td>0</td>\n",
       "      <td>0</td>\n",
       "      <td>6</td>\n",
       "      <td>9</td>\n",
       "      <td>8</td>\n",
       "      <td>2</td>\n",
       "      <td>4</td>\n",
       "      <td>1288.0</td>\n",
       "      <td>8.368932e+05</td>\n",
       "      <td>0</td>\n",
       "    </tr>\n",
       "  </tbody>\n",
       "</table>\n",
       "<p>296 rows × 24 columns</p>\n",
       "</div>"
      ],
      "text/plain": [
       "        codigo            nome     cidade estado  população  pop_ate9  \\\n",
       "160  355030251  A. E. Carvalho  São Paulo     SP      94034     12668   \n",
       "161   35503020       Aclimação  São Paulo     SP      32791      2297   \n",
       "162  355030285      Adventista  São Paulo     SP     104193     15070   \n",
       "163   35503088     Água Branca  São Paulo     SP      12721       953   \n",
       "164   35503066      Água Funda  São Paulo     SP      48417      5078   \n",
       "..         ...             ...        ...    ...        ...       ...   \n",
       "451  355030213      Vila Sônia  São Paulo     SP      34061      2908   \n",
       "452  355030207     Vila Suzana  São Paulo     SP      35403      4127   \n",
       "453  355030162  Vila Terezinha  São Paulo     SP     122359     18304   \n",
       "454  355030157       Vila Zatt  São Paulo     SP     125864     14670   \n",
       "455  355030164    Vista Alegre  São Paulo     SP        106        23   \n",
       "\n",
       "     pop_de10a14  pop_de15a19  pop_de20a24  pop_de25a34  ...  domicilios_a2  \\\n",
       "160         6853         9836         7487        14535  ...            253   \n",
       "161         1017         2096         2197         5341  ...           1734   \n",
       "162         7343        10631         8657        17749  ...              0   \n",
       "163          343          627          819         2142  ...            667   \n",
       "164         2396         4018         3571         7388  ...            303   \n",
       "..           ...          ...          ...          ...  ...            ...   \n",
       "451         1462         2253         2076         4579  ...           1089   \n",
       "452         1890         2678         2433         5855  ...           1522   \n",
       "453         9304        13258         9965        19248  ...              0   \n",
       "454         7305        11225         9338        18841  ...            872   \n",
       "455            7           15           11           15  ...              0   \n",
       "\n",
       "     domicilios_b1  domicilios_b2  domicilios_c1  domicilios_c2  domicilios_d  \\\n",
       "160           2197           4368           6681           7011          2247   \n",
       "161           3704           2351           1946            827           291   \n",
       "162           1423           4875           8595          10082          3111   \n",
       "163           1558           1032            915            361            84   \n",
       "164           1794           2986           4489           2836          1104   \n",
       "..             ...            ...            ...            ...           ...   \n",
       "451           2866           2219           2216           1227           306   \n",
       "452           2458           1186           1166            918           209   \n",
       "453           1758           4517           9450          11473          3218   \n",
       "454           5093           8063          10012           8082          2856   \n",
       "455              0              6              9              8             2   \n",
       "\n",
       "     domicilios_e  renda_media   faturamento  potencial  \n",
       "160          5670       1501.0  2.402675e+05          2  \n",
       "161          1617       5920.0  1.525346e+06          2  \n",
       "162          5776       1284.0  1.860776e+05          1  \n",
       "163           404       6278.0  1.267278e+06          2  \n",
       "164          2553       1905.0  7.460072e+05          2  \n",
       "..            ...          ...           ...        ...  \n",
       "451          1098       5285.0  1.262652e+06          2  \n",
       "452          3840       7418.0  1.467358e+06          2  \n",
       "453          7540       1252.0  7.132221e+04          1  \n",
       "454          6853       1936.0  1.078105e+05          2  \n",
       "455             4       1288.0  8.368932e+05          0  \n",
       "\n",
       "[296 rows x 24 columns]"
      ]
     },
     "execution_count": 81,
     "metadata": {},
     "output_type": "execute_result"
    }
   ],
   "source": [
    "X_test_class"
   ]
  },
  {
   "cell_type": "markdown",
   "id": "d287c4f7",
   "metadata": {},
   "source": [
    "# 12.0 EMBEDDING"
   ]
  },
  {
   "cell_type": "code",
   "execution_count": 105,
   "id": "3388b467",
   "metadata": {
    "ExecuteTime": {
     "end_time": "2023-07-02T21:56:53.207860Z",
     "start_time": "2023-07-02T21:56:53.202307Z"
    }
   },
   "outputs": [],
   "source": [
    "X_train_embedding = X_test_class"
   ]
  },
  {
   "cell_type": "code",
   "execution_count": 106,
   "id": "ac49921b",
   "metadata": {
    "ExecuteTime": {
     "end_time": "2023-07-02T21:56:53.613812Z",
     "start_time": "2023-07-02T21:56:53.591609Z"
    }
   },
   "outputs": [
    {
     "data": {
      "text/plain": [
       "Index(['codigo', 'nome', 'cidade', 'estado', 'população', 'pop_ate9',\n",
       "       'pop_de10a14', 'pop_de15a19', 'pop_de20a24', 'pop_de25a34',\n",
       "       'pop_de35a49', 'pop_de50a59', 'pop_mais_de60', 'domicilios_a1',\n",
       "       'domicilios_a2', 'domicilios_b1', 'domicilios_b2', 'domicilios_c1',\n",
       "       'domicilios_c2', 'domicilios_d', 'domicilios_e', 'renda_media',\n",
       "       'faturamento', 'potencial'],\n",
       "      dtype='object')"
      ]
     },
     "execution_count": 106,
     "metadata": {},
     "output_type": "execute_result"
    }
   ],
   "source": [
    "#selecionar publico alvo\n",
    "X_train_embedding.columns"
   ]
  },
  {
   "cell_type": "code",
   "execution_count": 107,
   "id": "4c21f183",
   "metadata": {
    "ExecuteTime": {
     "end_time": "2023-07-02T21:56:54.837475Z",
     "start_time": "2023-07-02T21:56:54.829891Z"
    }
   },
   "outputs": [],
   "source": [
    "X_train_emb_alvo = X_train_embedding.loc[:,['pop_de25a34','pop_de35a49','domicilios_a1','domicilios_a2','domicilios_b1','domicilios_b2','renda_media','faturamento','potencial']]"
   ]
  },
  {
   "cell_type": "code",
   "execution_count": 108,
   "id": "213d22c0",
   "metadata": {
    "ExecuteTime": {
     "end_time": "2023-07-02T21:56:55.866086Z",
     "start_time": "2023-07-02T21:56:55.842414Z"
    }
   },
   "outputs": [
    {
     "data": {
      "text/html": [
       "<div>\n",
       "<style scoped>\n",
       "    .dataframe tbody tr th:only-of-type {\n",
       "        vertical-align: middle;\n",
       "    }\n",
       "\n",
       "    .dataframe tbody tr th {\n",
       "        vertical-align: top;\n",
       "    }\n",
       "\n",
       "    .dataframe thead th {\n",
       "        text-align: right;\n",
       "    }\n",
       "</style>\n",
       "<table border=\"1\" class=\"dataframe\">\n",
       "  <thead>\n",
       "    <tr style=\"text-align: right;\">\n",
       "      <th></th>\n",
       "      <th>pop_de25a34</th>\n",
       "      <th>pop_de35a49</th>\n",
       "      <th>domicilios_a1</th>\n",
       "      <th>domicilios_a2</th>\n",
       "      <th>domicilios_b1</th>\n",
       "      <th>domicilios_b2</th>\n",
       "      <th>renda_media</th>\n",
       "      <th>faturamento</th>\n",
       "      <th>potencial</th>\n",
       "    </tr>\n",
       "  </thead>\n",
       "  <tbody>\n",
       "    <tr>\n",
       "      <th>160</th>\n",
       "      <td>14535</td>\n",
       "      <td>21549</td>\n",
       "      <td>0</td>\n",
       "      <td>253</td>\n",
       "      <td>2197</td>\n",
       "      <td>4368</td>\n",
       "      <td>1501.0</td>\n",
       "      <td>2.402675e+05</td>\n",
       "      <td>2</td>\n",
       "    </tr>\n",
       "    <tr>\n",
       "      <th>161</th>\n",
       "      <td>5341</td>\n",
       "      <td>7281</td>\n",
       "      <td>1413</td>\n",
       "      <td>1734</td>\n",
       "      <td>3704</td>\n",
       "      <td>2351</td>\n",
       "      <td>5920.0</td>\n",
       "      <td>1.525346e+06</td>\n",
       "      <td>2</td>\n",
       "    </tr>\n",
       "    <tr>\n",
       "      <th>162</th>\n",
       "      <td>17749</td>\n",
       "      <td>23364</td>\n",
       "      <td>0</td>\n",
       "      <td>0</td>\n",
       "      <td>1423</td>\n",
       "      <td>4875</td>\n",
       "      <td>1284.0</td>\n",
       "      <td>1.860776e+05</td>\n",
       "      <td>1</td>\n",
       "    </tr>\n",
       "    <tr>\n",
       "      <th>163</th>\n",
       "      <td>2142</td>\n",
       "      <td>2833</td>\n",
       "      <td>624</td>\n",
       "      <td>667</td>\n",
       "      <td>1558</td>\n",
       "      <td>1032</td>\n",
       "      <td>6278.0</td>\n",
       "      <td>1.267278e+06</td>\n",
       "      <td>2</td>\n",
       "    </tr>\n",
       "    <tr>\n",
       "      <th>164</th>\n",
       "      <td>7388</td>\n",
       "      <td>10751</td>\n",
       "      <td>0</td>\n",
       "      <td>303</td>\n",
       "      <td>1794</td>\n",
       "      <td>2986</td>\n",
       "      <td>1905.0</td>\n",
       "      <td>7.460072e+05</td>\n",
       "      <td>2</td>\n",
       "    </tr>\n",
       "    <tr>\n",
       "      <th>...</th>\n",
       "      <td>...</td>\n",
       "      <td>...</td>\n",
       "      <td>...</td>\n",
       "      <td>...</td>\n",
       "      <td>...</td>\n",
       "      <td>...</td>\n",
       "      <td>...</td>\n",
       "      <td>...</td>\n",
       "      <td>...</td>\n",
       "    </tr>\n",
       "    <tr>\n",
       "      <th>451</th>\n",
       "      <td>4579</td>\n",
       "      <td>7557</td>\n",
       "      <td>942</td>\n",
       "      <td>1089</td>\n",
       "      <td>2866</td>\n",
       "      <td>2219</td>\n",
       "      <td>5285.0</td>\n",
       "      <td>1.262652e+06</td>\n",
       "      <td>2</td>\n",
       "    </tr>\n",
       "    <tr>\n",
       "      <th>452</th>\n",
       "      <td>5855</td>\n",
       "      <td>9107</td>\n",
       "      <td>1726</td>\n",
       "      <td>1522</td>\n",
       "      <td>2458</td>\n",
       "      <td>1186</td>\n",
       "      <td>7418.0</td>\n",
       "      <td>1.467358e+06</td>\n",
       "      <td>2</td>\n",
       "    </tr>\n",
       "    <tr>\n",
       "      <th>453</th>\n",
       "      <td>19248</td>\n",
       "      <td>26592</td>\n",
       "      <td>0</td>\n",
       "      <td>0</td>\n",
       "      <td>1758</td>\n",
       "      <td>4517</td>\n",
       "      <td>1252.0</td>\n",
       "      <td>7.132221e+04</td>\n",
       "      <td>1</td>\n",
       "    </tr>\n",
       "    <tr>\n",
       "      <th>454</th>\n",
       "      <td>18841</td>\n",
       "      <td>28500</td>\n",
       "      <td>8</td>\n",
       "      <td>872</td>\n",
       "      <td>5093</td>\n",
       "      <td>8063</td>\n",
       "      <td>1936.0</td>\n",
       "      <td>1.078105e+05</td>\n",
       "      <td>2</td>\n",
       "    </tr>\n",
       "    <tr>\n",
       "      <th>455</th>\n",
       "      <td>15</td>\n",
       "      <td>26</td>\n",
       "      <td>0</td>\n",
       "      <td>0</td>\n",
       "      <td>0</td>\n",
       "      <td>6</td>\n",
       "      <td>1288.0</td>\n",
       "      <td>8.368932e+05</td>\n",
       "      <td>0</td>\n",
       "    </tr>\n",
       "  </tbody>\n",
       "</table>\n",
       "<p>296 rows × 9 columns</p>\n",
       "</div>"
      ],
      "text/plain": [
       "     pop_de25a34  pop_de35a49  domicilios_a1  domicilios_a2  domicilios_b1  \\\n",
       "160        14535        21549              0            253           2197   \n",
       "161         5341         7281           1413           1734           3704   \n",
       "162        17749        23364              0              0           1423   \n",
       "163         2142         2833            624            667           1558   \n",
       "164         7388        10751              0            303           1794   \n",
       "..           ...          ...            ...            ...            ...   \n",
       "451         4579         7557            942           1089           2866   \n",
       "452         5855         9107           1726           1522           2458   \n",
       "453        19248        26592              0              0           1758   \n",
       "454        18841        28500              8            872           5093   \n",
       "455           15           26              0              0              0   \n",
       "\n",
       "     domicilios_b2  renda_media   faturamento  potencial  \n",
       "160           4368       1501.0  2.402675e+05          2  \n",
       "161           2351       5920.0  1.525346e+06          2  \n",
       "162           4875       1284.0  1.860776e+05          1  \n",
       "163           1032       6278.0  1.267278e+06          2  \n",
       "164           2986       1905.0  7.460072e+05          2  \n",
       "..             ...          ...           ...        ...  \n",
       "451           2219       5285.0  1.262652e+06          2  \n",
       "452           1186       7418.0  1.467358e+06          2  \n",
       "453           4517       1252.0  7.132221e+04          1  \n",
       "454           8063       1936.0  1.078105e+05          2  \n",
       "455              6       1288.0  8.368932e+05          0  \n",
       "\n",
       "[296 rows x 9 columns]"
      ]
     },
     "execution_count": 108,
     "metadata": {},
     "output_type": "execute_result"
    }
   ],
   "source": [
    "X_train_emb_alvo"
   ]
  },
  {
   "cell_type": "markdown",
   "id": "c688bfed",
   "metadata": {},
   "source": [
    "## 12.1 Find Clusters"
   ]
  },
  {
   "cell_type": "code",
   "execution_count": 109,
   "id": "dc277897",
   "metadata": {
    "ExecuteTime": {
     "end_time": "2023-07-02T21:56:56.177747Z",
     "start_time": "2023-07-02T21:56:56.165179Z"
    }
   },
   "outputs": [],
   "source": [
    "clusters = np.arange(2,15,1)"
   ]
  },
  {
   "cell_type": "code",
   "execution_count": 110,
   "id": "a86b7acf",
   "metadata": {
    "ExecuteTime": {
     "end_time": "2023-07-02T21:56:56.334961Z",
     "start_time": "2023-07-02T21:56:56.328455Z"
    }
   },
   "outputs": [
    {
     "data": {
      "text/plain": [
       "array([ 2,  3,  4,  5,  6,  7,  8,  9, 10, 11, 12, 13, 14])"
      ]
     },
     "execution_count": 110,
     "metadata": {},
     "output_type": "execute_result"
    }
   ],
   "source": [
    "clusters"
   ]
  },
  {
   "cell_type": "code",
   "execution_count": 111,
   "id": "9c4a6ee2",
   "metadata": {
    "ExecuteTime": {
     "end_time": "2023-07-02T21:56:57.522079Z",
     "start_time": "2023-07-02T21:56:56.479089Z"
    }
   },
   "outputs": [
    {
     "data": {
      "text/plain": [
       "Text(0.5, 1.0, 'WSS vs K')"
      ]
     },
     "execution_count": 111,
     "metadata": {},
     "output_type": "execute_result"
    },
    {
     "data": {
      "image/png": "[encoded data removed]",
      "text/plain": [
       "<Figure size 800x550 with 1 Axes>"
      ]
     },
     "metadata": {},
     "output_type": "display_data"
    }
   ],
   "source": [
    "#WSS\n",
    "wss = []\n",
    "\n",
    "for k in clusters: \n",
    "    kmeans = KMeans(n_clusters=k, init='k-means++')\n",
    "\n",
    "    kmeans.fit(X_train_emb_alvo)\n",
    "    \n",
    "    wss.append(kmeans.inertia_)\n",
    "    \n",
    "#elbow method\n",
    "plt.plot(clusters, wss, linestyle='--', marker='o', color='b')\n",
    "plt.xlabel('K')\n",
    "plt.ylabel('WSS')\n",
    "plt.title('WSS vs K')"
   ]
  },
  {
   "cell_type": "code",
   "execution_count": 112,
   "id": "8bb3ffd5",
   "metadata": {
    "ExecuteTime": {
     "end_time": "2023-07-02T21:57:00.159352Z",
     "start_time": "2023-07-02T21:56:57.523621Z"
    }
   },
   "outputs": [
    {
     "data": {
      "image/png": "[encoded data removed]",
      "text/plain": [
       "<Figure size 2000x2000 with 6 Axes>"
      ]
     },
     "metadata": {},
     "output_type": "display_data"
    }
   ],
   "source": [
    "#SIlhouette\n",
    "clusters = np.arange(2,8,1)\n",
    "fig, ax = plt.subplots(3,2, figsize=(20,20))\n",
    "\n",
    "for k in clusters:\n",
    "    kmeans = KMeans(n_clusters=k, init='k-means++', n_init=50, max_iter=300, random_state=42)\n",
    "    q, mod = divmod(k,2)\n",
    "    \n",
    "    visualizer = SilhouetteVisualizer(kmeans, color='yellowbrick', ax=ax[q-1][mod])\n",
    "    visualizer.fit(X_train_emb_alvo)\n",
    "    visualizer.finalize()"
   ]
  },
  {
   "cell_type": "markdown",
   "id": "3e0311f7",
   "metadata": {},
   "source": [
    "# 13 MODEL TRAINING"
   ]
  },
  {
   "cell_type": "code",
   "execution_count": 153,
   "id": "05806001",
   "metadata": {
    "ExecuteTime": {
     "end_time": "2023-07-02T22:36:17.875532Z",
     "start_time": "2023-07-02T22:36:17.643312Z"
    }
   },
   "outputs": [],
   "source": [
    "#kMEANS\n",
    "k=3\n",
    "\n",
    "kmeans = KMeans(n_clusters=k, init='k-means++', n_init=50, max_iter=300, random_state=42)\n",
    "\n",
    "kmeans.fit(X_train_emb_alvo)\n",
    "\n",
    "labels = kmeans.labels_"
   ]
  },
  {
   "cell_type": "code",
   "execution_count": 154,
   "id": "a601289f",
   "metadata": {
    "ExecuteTime": {
     "end_time": "2023-07-02T22:36:18.047388Z",
     "start_time": "2023-07-02T22:36:18.035919Z"
    }
   },
   "outputs": [
    {
     "name": "stdout",
     "output_type": "stream",
     "text": [
      "WSS Score: 7816883540485.243\n",
      "SS Score: 0.628\n"
     ]
    }
   ],
   "source": [
    "#WSS\n",
    "print(f'WSS Score: {kmeans.inertia_:.3f}')\n",
    "\n",
    "print(f'SS Score: {mt.silhouette_score(X_train_emb_alvo, labels):.3f}')"
   ]
  },
  {
   "cell_type": "code",
   "execution_count": null,
   "id": "d0635407",
   "metadata": {
    "ExecuteTime": {
     "end_time": "2023-07-02T22:21:15.958190Z",
     "start_time": "2023-07-02T22:21:09.091096Z"
    }
   },
   "outputs": [],
   "source": []
  },
  {
   "cell_type": "markdown",
   "id": "767fc0e6",
   "metadata": {},
   "source": [
    "## 14.0 CLUSTERS ANALYSIS"
   ]
  },
  {
   "cell_type": "code",
   "execution_count": 155,
   "id": "ba7417c7",
   "metadata": {
    "ExecuteTime": {
     "end_time": "2023-07-02T22:36:24.118408Z",
     "start_time": "2023-07-02T22:36:24.105759Z"
    }
   },
   "outputs": [],
   "source": [
    "df_viz = X_train_emb_alvo.copy()\n",
    "df_viz['clusters'] = labels"
   ]
  },
  {
   "cell_type": "code",
   "execution_count": 165,
   "id": "122dcf74",
   "metadata": {
    "ExecuteTime": {
     "end_time": "2023-07-02T22:40:08.663017Z",
     "start_time": "2023-07-02T22:40:07.025117Z"
    }
   },
   "outputs": [
    {
     "data": {
      "text/plain": [
       "<Axes: xlabel='embedding_x', ylabel='embedding_y'>"
      ]
     },
     "execution_count": 165,
     "metadata": {},
     "output_type": "execute_result"
    },
    {
     "data": {
      "image/png": "[encoded data removed]",
      "text/plain": [
       "<Figure size 800x550 with 1 Axes>"
      ]
     },
     "metadata": {},
     "output_type": "display_data"
    }
   ],
   "source": [
    "reducer = umap.UMAP(n_neighbors=70, random_state=42)\n",
    "embedding = reducer.fit_transform(df_viz)\n",
    "\n",
    "#embedding\n",
    "df_umap = pd.DataFrame()\n",
    "df_umap['embedding_x'] = embedding[:,0]\n",
    "df_umap['embedding_y'] = embedding[:,1]\n",
    "\n",
    "#plot UMAP\n",
    "sns.scatterplot(x='embedding_x', y='embedding_y',\n",
    "                palette=sns.color_palette('hls', n_colors=len(df_viz['clusters'].unique())),\n",
    "                data=df_umap)"
   ]
  },
  {
   "cell_type": "markdown",
   "id": "2b7862e0",
   "metadata": {},
   "source": [
    "## 15.0 RESULTS"
   ]
  },
  {
   "cell_type": "code",
   "execution_count": 166,
   "id": "c30aad23",
   "metadata": {
    "ExecuteTime": {
     "end_time": "2023-07-02T22:40:20.843753Z",
     "start_time": "2023-07-02T22:40:20.837197Z"
    }
   },
   "outputs": [],
   "source": [
    "df14 = X_test_class.copy()\n",
    "df14['clusters'] = labels"
   ]
  },
  {
   "cell_type": "code",
   "execution_count": 170,
   "id": "1a3abd1a",
   "metadata": {
    "ExecuteTime": {
     "end_time": "2023-07-02T22:41:00.585090Z",
     "start_time": "2023-07-02T22:41:00.561534Z"
    }
   },
   "outputs": [
    {
     "data": {
      "text/html": [
       "<div>\n",
       "<style scoped>\n",
       "    .dataframe tbody tr th:only-of-type {\n",
       "        vertical-align: middle;\n",
       "    }\n",
       "\n",
       "    .dataframe tbody tr th {\n",
       "        vertical-align: top;\n",
       "    }\n",
       "\n",
       "    .dataframe thead th {\n",
       "        text-align: right;\n",
       "    }\n",
       "</style>\n",
       "<table border=\"1\" class=\"dataframe\">\n",
       "  <thead>\n",
       "    <tr style=\"text-align: right;\">\n",
       "      <th></th>\n",
       "      <th>codigo</th>\n",
       "      <th>nome</th>\n",
       "      <th>cidade</th>\n",
       "      <th>estado</th>\n",
       "      <th>população</th>\n",
       "      <th>pop_ate9</th>\n",
       "      <th>pop_de10a14</th>\n",
       "      <th>pop_de15a19</th>\n",
       "      <th>pop_de20a24</th>\n",
       "      <th>pop_de25a34</th>\n",
       "      <th>...</th>\n",
       "      <th>domicilios_b1</th>\n",
       "      <th>domicilios_b2</th>\n",
       "      <th>domicilios_c1</th>\n",
       "      <th>domicilios_c2</th>\n",
       "      <th>domicilios_d</th>\n",
       "      <th>domicilios_e</th>\n",
       "      <th>renda_media</th>\n",
       "      <th>faturamento</th>\n",
       "      <th>potencial</th>\n",
       "      <th>clusters</th>\n",
       "    </tr>\n",
       "  </thead>\n",
       "  <tbody>\n",
       "    <tr>\n",
       "      <th>160</th>\n",
       "      <td>355030251</td>\n",
       "      <td>A. E. Carvalho</td>\n",
       "      <td>São Paulo</td>\n",
       "      <td>SP</td>\n",
       "      <td>94034</td>\n",
       "      <td>12668</td>\n",
       "      <td>6853</td>\n",
       "      <td>9836</td>\n",
       "      <td>7487</td>\n",
       "      <td>14535</td>\n",
       "      <td>...</td>\n",
       "      <td>2197</td>\n",
       "      <td>4368</td>\n",
       "      <td>6681</td>\n",
       "      <td>7011</td>\n",
       "      <td>2247</td>\n",
       "      <td>5670</td>\n",
       "      <td>1501.0</td>\n",
       "      <td>2.402675e+05</td>\n",
       "      <td>2</td>\n",
       "      <td>1</td>\n",
       "    </tr>\n",
       "    <tr>\n",
       "      <th>161</th>\n",
       "      <td>35503020</td>\n",
       "      <td>Aclimação</td>\n",
       "      <td>São Paulo</td>\n",
       "      <td>SP</td>\n",
       "      <td>32791</td>\n",
       "      <td>2297</td>\n",
       "      <td>1017</td>\n",
       "      <td>2096</td>\n",
       "      <td>2197</td>\n",
       "      <td>5341</td>\n",
       "      <td>...</td>\n",
       "      <td>3704</td>\n",
       "      <td>2351</td>\n",
       "      <td>1946</td>\n",
       "      <td>827</td>\n",
       "      <td>291</td>\n",
       "      <td>1617</td>\n",
       "      <td>5920.0</td>\n",
       "      <td>1.525346e+06</td>\n",
       "      <td>2</td>\n",
       "      <td>0</td>\n",
       "    </tr>\n",
       "    <tr>\n",
       "      <th>162</th>\n",
       "      <td>355030285</td>\n",
       "      <td>Adventista</td>\n",
       "      <td>São Paulo</td>\n",
       "      <td>SP</td>\n",
       "      <td>104193</td>\n",
       "      <td>15070</td>\n",
       "      <td>7343</td>\n",
       "      <td>10631</td>\n",
       "      <td>8657</td>\n",
       "      <td>17749</td>\n",
       "      <td>...</td>\n",
       "      <td>1423</td>\n",
       "      <td>4875</td>\n",
       "      <td>8595</td>\n",
       "      <td>10082</td>\n",
       "      <td>3111</td>\n",
       "      <td>5776</td>\n",
       "      <td>1284.0</td>\n",
       "      <td>1.860776e+05</td>\n",
       "      <td>1</td>\n",
       "      <td>1</td>\n",
       "    </tr>\n",
       "    <tr>\n",
       "      <th>163</th>\n",
       "      <td>35503088</td>\n",
       "      <td>Água Branca</td>\n",
       "      <td>São Paulo</td>\n",
       "      <td>SP</td>\n",
       "      <td>12721</td>\n",
       "      <td>953</td>\n",
       "      <td>343</td>\n",
       "      <td>627</td>\n",
       "      <td>819</td>\n",
       "      <td>2142</td>\n",
       "      <td>...</td>\n",
       "      <td>1558</td>\n",
       "      <td>1032</td>\n",
       "      <td>915</td>\n",
       "      <td>361</td>\n",
       "      <td>84</td>\n",
       "      <td>404</td>\n",
       "      <td>6278.0</td>\n",
       "      <td>1.267278e+06</td>\n",
       "      <td>2</td>\n",
       "      <td>0</td>\n",
       "    </tr>\n",
       "    <tr>\n",
       "      <th>164</th>\n",
       "      <td>35503066</td>\n",
       "      <td>Água Funda</td>\n",
       "      <td>São Paulo</td>\n",
       "      <td>SP</td>\n",
       "      <td>48417</td>\n",
       "      <td>5078</td>\n",
       "      <td>2396</td>\n",
       "      <td>4018</td>\n",
       "      <td>3571</td>\n",
       "      <td>7388</td>\n",
       "      <td>...</td>\n",
       "      <td>1794</td>\n",
       "      <td>2986</td>\n",
       "      <td>4489</td>\n",
       "      <td>2836</td>\n",
       "      <td>1104</td>\n",
       "      <td>2553</td>\n",
       "      <td>1905.0</td>\n",
       "      <td>7.460072e+05</td>\n",
       "      <td>2</td>\n",
       "      <td>2</td>\n",
       "    </tr>\n",
       "    <tr>\n",
       "      <th>...</th>\n",
       "      <td>...</td>\n",
       "      <td>...</td>\n",
       "      <td>...</td>\n",
       "      <td>...</td>\n",
       "      <td>...</td>\n",
       "      <td>...</td>\n",
       "      <td>...</td>\n",
       "      <td>...</td>\n",
       "      <td>...</td>\n",
       "      <td>...</td>\n",
       "      <td>...</td>\n",
       "      <td>...</td>\n",
       "      <td>...</td>\n",
       "      <td>...</td>\n",
       "      <td>...</td>\n",
       "      <td>...</td>\n",
       "      <td>...</td>\n",
       "      <td>...</td>\n",
       "      <td>...</td>\n",
       "      <td>...</td>\n",
       "      <td>...</td>\n",
       "    </tr>\n",
       "    <tr>\n",
       "      <th>451</th>\n",
       "      <td>355030213</td>\n",
       "      <td>Vila Sônia</td>\n",
       "      <td>São Paulo</td>\n",
       "      <td>SP</td>\n",
       "      <td>34061</td>\n",
       "      <td>2908</td>\n",
       "      <td>1462</td>\n",
       "      <td>2253</td>\n",
       "      <td>2076</td>\n",
       "      <td>4579</td>\n",
       "      <td>...</td>\n",
       "      <td>2866</td>\n",
       "      <td>2219</td>\n",
       "      <td>2216</td>\n",
       "      <td>1227</td>\n",
       "      <td>306</td>\n",
       "      <td>1098</td>\n",
       "      <td>5285.0</td>\n",
       "      <td>1.262652e+06</td>\n",
       "      <td>2</td>\n",
       "      <td>0</td>\n",
       "    </tr>\n",
       "    <tr>\n",
       "      <th>452</th>\n",
       "      <td>355030207</td>\n",
       "      <td>Vila Suzana</td>\n",
       "      <td>São Paulo</td>\n",
       "      <td>SP</td>\n",
       "      <td>35403</td>\n",
       "      <td>4127</td>\n",
       "      <td>1890</td>\n",
       "      <td>2678</td>\n",
       "      <td>2433</td>\n",
       "      <td>5855</td>\n",
       "      <td>...</td>\n",
       "      <td>2458</td>\n",
       "      <td>1186</td>\n",
       "      <td>1166</td>\n",
       "      <td>918</td>\n",
       "      <td>209</td>\n",
       "      <td>3840</td>\n",
       "      <td>7418.0</td>\n",
       "      <td>1.467358e+06</td>\n",
       "      <td>2</td>\n",
       "      <td>0</td>\n",
       "    </tr>\n",
       "    <tr>\n",
       "      <th>453</th>\n",
       "      <td>355030162</td>\n",
       "      <td>Vila Terezinha</td>\n",
       "      <td>São Paulo</td>\n",
       "      <td>SP</td>\n",
       "      <td>122359</td>\n",
       "      <td>18304</td>\n",
       "      <td>9304</td>\n",
       "      <td>13258</td>\n",
       "      <td>9965</td>\n",
       "      <td>19248</td>\n",
       "      <td>...</td>\n",
       "      <td>1758</td>\n",
       "      <td>4517</td>\n",
       "      <td>9450</td>\n",
       "      <td>11473</td>\n",
       "      <td>3218</td>\n",
       "      <td>7540</td>\n",
       "      <td>1252.0</td>\n",
       "      <td>7.132221e+04</td>\n",
       "      <td>1</td>\n",
       "      <td>1</td>\n",
       "    </tr>\n",
       "    <tr>\n",
       "      <th>454</th>\n",
       "      <td>355030157</td>\n",
       "      <td>Vila Zatt</td>\n",
       "      <td>São Paulo</td>\n",
       "      <td>SP</td>\n",
       "      <td>125864</td>\n",
       "      <td>14670</td>\n",
       "      <td>7305</td>\n",
       "      <td>11225</td>\n",
       "      <td>9338</td>\n",
       "      <td>18841</td>\n",
       "      <td>...</td>\n",
       "      <td>5093</td>\n",
       "      <td>8063</td>\n",
       "      <td>10012</td>\n",
       "      <td>8082</td>\n",
       "      <td>2856</td>\n",
       "      <td>6853</td>\n",
       "      <td>1936.0</td>\n",
       "      <td>1.078105e+05</td>\n",
       "      <td>2</td>\n",
       "      <td>1</td>\n",
       "    </tr>\n",
       "    <tr>\n",
       "      <th>455</th>\n",
       "      <td>355030164</td>\n",
       "      <td>Vista Alegre</td>\n",
       "      <td>São Paulo</td>\n",
       "      <td>SP</td>\n",
       "      <td>106</td>\n",
       "      <td>23</td>\n",
       "      <td>7</td>\n",
       "      <td>15</td>\n",
       "      <td>11</td>\n",
       "      <td>15</td>\n",
       "      <td>...</td>\n",
       "      <td>0</td>\n",
       "      <td>6</td>\n",
       "      <td>9</td>\n",
       "      <td>8</td>\n",
       "      <td>2</td>\n",
       "      <td>4</td>\n",
       "      <td>1288.0</td>\n",
       "      <td>8.368932e+05</td>\n",
       "      <td>0</td>\n",
       "      <td>2</td>\n",
       "    </tr>\n",
       "  </tbody>\n",
       "</table>\n",
       "<p>296 rows × 25 columns</p>\n",
       "</div>"
      ],
      "text/plain": [
       "        codigo            nome     cidade estado  população  pop_ate9  \\\n",
       "160  355030251  A. E. Carvalho  São Paulo     SP      94034     12668   \n",
       "161   35503020       Aclimação  São Paulo     SP      32791      2297   \n",
       "162  355030285      Adventista  São Paulo     SP     104193     15070   \n",
       "163   35503088     Água Branca  São Paulo     SP      12721       953   \n",
       "164   35503066      Água Funda  São Paulo     SP      48417      5078   \n",
       "..         ...             ...        ...    ...        ...       ...   \n",
       "451  355030213      Vila Sônia  São Paulo     SP      34061      2908   \n",
       "452  355030207     Vila Suzana  São Paulo     SP      35403      4127   \n",
       "453  355030162  Vila Terezinha  São Paulo     SP     122359     18304   \n",
       "454  355030157       Vila Zatt  São Paulo     SP     125864     14670   \n",
       "455  355030164    Vista Alegre  São Paulo     SP        106        23   \n",
       "\n",
       "     pop_de10a14  pop_de15a19  pop_de20a24  pop_de25a34  ...  domicilios_b1  \\\n",
       "160         6853         9836         7487        14535  ...           2197   \n",
       "161         1017         2096         2197         5341  ...           3704   \n",
       "162         7343        10631         8657        17749  ...           1423   \n",
       "163          343          627          819         2142  ...           1558   \n",
       "164         2396         4018         3571         7388  ...           1794   \n",
       "..           ...          ...          ...          ...  ...            ...   \n",
       "451         1462         2253         2076         4579  ...           2866   \n",
       "452         1890         2678         2433         5855  ...           2458   \n",
       "453         9304        13258         9965        19248  ...           1758   \n",
       "454         7305        11225         9338        18841  ...           5093   \n",
       "455            7           15           11           15  ...              0   \n",
       "\n",
       "     domicilios_b2  domicilios_c1  domicilios_c2  domicilios_d  domicilios_e  \\\n",
       "160           4368           6681           7011          2247          5670   \n",
       "161           2351           1946            827           291          1617   \n",
       "162           4875           8595          10082          3111          5776   \n",
       "163           1032            915            361            84           404   \n",
       "164           2986           4489           2836          1104          2553   \n",
       "..             ...            ...            ...           ...           ...   \n",
       "451           2219           2216           1227           306          1098   \n",
       "452           1186           1166            918           209          3840   \n",
       "453           4517           9450          11473          3218          7540   \n",
       "454           8063          10012           8082          2856          6853   \n",
       "455              6              9              8             2             4   \n",
       "\n",
       "     renda_media   faturamento  potencial  clusters  \n",
       "160       1501.0  2.402675e+05          2         1  \n",
       "161       5920.0  1.525346e+06          2         0  \n",
       "162       1284.0  1.860776e+05          1         1  \n",
       "163       6278.0  1.267278e+06          2         0  \n",
       "164       1905.0  7.460072e+05          2         2  \n",
       "..           ...           ...        ...       ...  \n",
       "451       5285.0  1.262652e+06          2         0  \n",
       "452       7418.0  1.467358e+06          2         0  \n",
       "453       1252.0  7.132221e+04          1         1  \n",
       "454       1936.0  1.078105e+05          2         1  \n",
       "455       1288.0  8.368932e+05          0         2  \n",
       "\n",
       "[296 rows x 25 columns]"
      ]
     },
     "execution_count": 170,
     "metadata": {},
     "output_type": "execute_result"
    }
   ],
   "source": [
    "df14"
   ]
  },
  {
   "cell_type": "code",
   "execution_count": 167,
   "id": "c8ac9146",
   "metadata": {
    "ExecuteTime": {
     "end_time": "2023-07-02T22:40:21.043887Z",
     "start_time": "2023-07-02T22:40:21.024760Z"
    }
   },
   "outputs": [
    {
     "data": {
      "text/plain": [
       "Index(['codigo', 'nome', 'cidade', 'estado', 'população', 'pop_ate9',\n",
       "       'pop_de10a14', 'pop_de15a19', 'pop_de20a24', 'pop_de25a34',\n",
       "       'pop_de35a49', 'pop_de50a59', 'pop_mais_de60', 'domicilios_a1',\n",
       "       'domicilios_a2', 'domicilios_b1', 'domicilios_b2', 'domicilios_c1',\n",
       "       'domicilios_c2', 'domicilios_d', 'domicilios_e', 'renda_media',\n",
       "       'faturamento', 'potencial', 'clusters'],\n",
       "      dtype='object')"
      ]
     },
     "execution_count": 167,
     "metadata": {},
     "output_type": "execute_result"
    }
   ],
   "source": [
    "df14.columns"
   ]
  },
  {
   "cell_type": "code",
   "execution_count": 174,
   "id": "64920c2c",
   "metadata": {
    "ExecuteTime": {
     "end_time": "2023-07-02T22:49:48.498440Z",
     "start_time": "2023-07-02T22:49:48.473549Z"
    }
   },
   "outputs": [],
   "source": [
    "df_renda = df14.loc[:,['clusters','renda_media',]].groupby('clusters').mean().reset_index()\n",
    "\n",
    "df_idade1 = df14.loc[:,['clusters','pop_de25a34',]].groupby('clusters').mean().reset_index()\n",
    "\n",
    "df_idade2 = df14.loc[:,['clusters','pop_de35a49',]].groupby('clusters').mean().reset_index()\n",
    "\n",
    "df_fat = df14.loc[:,['clusters','faturamento']].groupby('clusters').mean().reset_index()\n",
    "\n",
    "df_resume = (pd.merge(df_renda, df_idade1, on='clusters', how='left')\n",
    "              .merge(df_idade2, on='clusters', how='left')\n",
    "              .merge(df_fat, on='clusters', how='left'))"
   ]
  },
  {
   "cell_type": "code",
   "execution_count": 175,
   "id": "3c356a79",
   "metadata": {
    "ExecuteTime": {
     "end_time": "2023-07-02T22:49:48.983194Z",
     "start_time": "2023-07-02T22:49:48.972787Z"
    }
   },
   "outputs": [
    {
     "data": {
      "text/html": [
       "<div>\n",
       "<style scoped>\n",
       "    .dataframe tbody tr th:only-of-type {\n",
       "        vertical-align: middle;\n",
       "    }\n",
       "\n",
       "    .dataframe tbody tr th {\n",
       "        vertical-align: top;\n",
       "    }\n",
       "\n",
       "    .dataframe thead th {\n",
       "        text-align: right;\n",
       "    }\n",
       "</style>\n",
       "<table border=\"1\" class=\"dataframe\">\n",
       "  <thead>\n",
       "    <tr style=\"text-align: right;\">\n",
       "      <th></th>\n",
       "      <th>clusters</th>\n",
       "      <th>renda_media</th>\n",
       "      <th>pop_de25a34</th>\n",
       "      <th>pop_de35a49</th>\n",
       "      <th>faturamento</th>\n",
       "    </tr>\n",
       "  </thead>\n",
       "  <tbody>\n",
       "    <tr>\n",
       "      <th>0</th>\n",
       "      <td>0</td>\n",
       "      <td>8365.797619</td>\n",
       "      <td>4117.678571</td>\n",
       "      <td>6091.500000</td>\n",
       "      <td>1.402262e+06</td>\n",
       "    </tr>\n",
       "    <tr>\n",
       "      <th>1</th>\n",
       "      <td>1</td>\n",
       "      <td>1353.606557</td>\n",
       "      <td>14697.819672</td>\n",
       "      <td>20362.672131</td>\n",
       "      <td>2.553860e+05</td>\n",
       "    </tr>\n",
       "    <tr>\n",
       "      <th>2</th>\n",
       "      <td>2</td>\n",
       "      <td>2745.535588</td>\n",
       "      <td>4396.933775</td>\n",
       "      <td>6297.622517</td>\n",
       "      <td>8.759132e+05</td>\n",
       "    </tr>\n",
       "  </tbody>\n",
       "</table>\n",
       "</div>"
      ],
      "text/plain": [
       "   clusters  renda_media   pop_de25a34   pop_de35a49   faturamento\n",
       "0         0  8365.797619   4117.678571   6091.500000  1.402262e+06\n",
       "1         1  1353.606557  14697.819672  20362.672131  2.553860e+05\n",
       "2         2  2745.535588   4396.933775   6297.622517  8.759132e+05"
      ]
     },
     "execution_count": 175,
     "metadata": {},
     "output_type": "execute_result"
    }
   ],
   "source": [
    "df_resume"
   ]
  },
  {
   "cell_type": "code",
   "execution_count": 180,
   "id": "b7e7c0c4",
   "metadata": {
    "ExecuteTime": {
     "end_time": "2023-07-02T22:52:19.197580Z",
     "start_time": "2023-07-02T22:52:19.176087Z"
    }
   },
   "outputs": [
    {
     "data": {
      "text/html": [
       "<div>\n",
       "<style scoped>\n",
       "    .dataframe tbody tr th:only-of-type {\n",
       "        vertical-align: middle;\n",
       "    }\n",
       "\n",
       "    .dataframe tbody tr th {\n",
       "        vertical-align: top;\n",
       "    }\n",
       "\n",
       "    .dataframe thead th {\n",
       "        text-align: right;\n",
       "    }\n",
       "</style>\n",
       "<table border=\"1\" class=\"dataframe\">\n",
       "  <thead>\n",
       "    <tr style=\"text-align: right;\">\n",
       "      <th></th>\n",
       "      <th>nome</th>\n",
       "      <th>potencial</th>\n",
       "    </tr>\n",
       "  </thead>\n",
       "  <tbody>\n",
       "    <tr>\n",
       "      <th>161</th>\n",
       "      <td>Aclimação</td>\n",
       "      <td>2</td>\n",
       "    </tr>\n",
       "    <tr>\n",
       "      <th>163</th>\n",
       "      <td>Água Branca</td>\n",
       "      <td>2</td>\n",
       "    </tr>\n",
       "    <tr>\n",
       "      <th>165</th>\n",
       "      <td>Água Rasa</td>\n",
       "      <td>2</td>\n",
       "    </tr>\n",
       "    <tr>\n",
       "      <th>167</th>\n",
       "      <td>Alfredo Pujol</td>\n",
       "      <td>2</td>\n",
       "    </tr>\n",
       "    <tr>\n",
       "      <th>168</th>\n",
       "      <td>Alto Da Lapa</td>\n",
       "      <td>2</td>\n",
       "    </tr>\n",
       "    <tr>\n",
       "      <th>...</th>\n",
       "      <td>...</td>\n",
       "      <td>...</td>\n",
       "    </tr>\n",
       "    <tr>\n",
       "      <th>443</th>\n",
       "      <td>Vila Olímpia</td>\n",
       "      <td>2</td>\n",
       "    </tr>\n",
       "    <tr>\n",
       "      <th>445</th>\n",
       "      <td>Vila Prudente</td>\n",
       "      <td>2</td>\n",
       "    </tr>\n",
       "    <tr>\n",
       "      <th>448</th>\n",
       "      <td>Vila Santa Catarina</td>\n",
       "      <td>2</td>\n",
       "    </tr>\n",
       "    <tr>\n",
       "      <th>451</th>\n",
       "      <td>Vila Sônia</td>\n",
       "      <td>2</td>\n",
       "    </tr>\n",
       "    <tr>\n",
       "      <th>452</th>\n",
       "      <td>Vila Suzana</td>\n",
       "      <td>2</td>\n",
       "    </tr>\n",
       "  </tbody>\n",
       "</table>\n",
       "<p>84 rows × 2 columns</p>\n",
       "</div>"
      ],
      "text/plain": [
       "                    nome  potencial\n",
       "161            Aclimação          2\n",
       "163          Água Branca          2\n",
       "165            Água Rasa          2\n",
       "167        Alfredo Pujol          2\n",
       "168         Alto Da Lapa          2\n",
       "..                   ...        ...\n",
       "443         Vila Olímpia          2\n",
       "445        Vila Prudente          2\n",
       "448  Vila Santa Catarina          2\n",
       "451           Vila Sônia          2\n",
       "452          Vila Suzana          2\n",
       "\n",
       "[84 rows x 2 columns]"
      ]
     },
     "execution_count": 180,
     "metadata": {},
     "output_type": "execute_result"
    }
   ],
   "source": [
    "df14.loc[df14['clusters'] == 0,['nome','potencial']]"
   ]
  },
  {
   "cell_type": "code",
   "execution_count": null,
   "id": "a7264dc3",
   "metadata": {},
   "outputs": [],
   "source": []
  },
  {
   "cell_type": "code",
   "execution_count": null,
   "id": "a6db3b20",
   "metadata": {},
   "outputs": [],
   "source": []
  }
 ],
 "metadata": {
  "kernelspec": {
   "display_name": "Python 3 (ipykernel)",
   "language": "python",
   "name": "python3"
  },
  "language_info": {
   "codemirror_mode": {
    "name": "ipython",
    "version": 3
   },
   "file_extension": ".py",
   "mimetype": "text/x-python",
   "name": "python",
   "nbconvert_exporter": "python",
   "pygments_lexer": "ipython3",
   "version": "3.10.11"
  }
 },
 "nbformat": 4,
 "nbformat_minor": 5
}
