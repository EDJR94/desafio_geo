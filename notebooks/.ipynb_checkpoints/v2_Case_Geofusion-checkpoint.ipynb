{
 "cells": [
  {
   "cell_type": "markdown",
   "id": "b1fa8908",
   "metadata": {},
   "source": [
    "# 0.0 IMPORTS"
   ]
  },
  {
   "cell_type": "code",
   "execution_count": 167,
   "id": "bd5ab082",
   "metadata": {
    "ExecuteTime": {
     "end_time": "2023-07-03T17:18:50.633172Z",
     "start_time": "2023-07-03T17:18:50.618560Z"
    }
   },
   "outputs": [],
   "source": [
    "import pandas as pd\n",
    "import numpy as np\n",
    "import inflection\n",
    "import seaborn as sns\n",
    "import matplotlib.pyplot as plt\n",
    "import sklearn.preprocessing as pp\n",
    "import warnings\n",
    "import umap.umap_ as umap\n",
    "\n",
    "from sklearn.impute import SimpleImputer\n",
    "from sklearn.linear_model import LinearRegression\n",
    "from sklearn.svm import SVR\n",
    "from sklearn.neighbors import KNeighborsRegressor\n",
    "from sklearn.tree import DecisionTreeRegressor\n",
    "from sklearn.ensemble import RandomForestRegressor, RandomForestClassifier\n",
    "from sklearn.neighbors import KNeighborsClassifier\n",
    "from sklearn.mixture   import GaussianMixture\n",
    "from sklearn.decomposition import PCA\n",
    "from sklearn.manifold    import TSNE\n",
    "\n",
    "from scipy.cluster import hierarchy as hc\n",
    "\n",
    "from xgboost import XGBRegressor, XGBClassifier\n",
    "from lightgbm import LGBMRegressor, LGBMClassifier\n",
    "from catboost import CatBoostRegressor, CatBoostClassifier\n",
    "from sklearn.cluster import KMeans\n",
    "from yellowbrick.cluster import SilhouetteVisualizer\n",
    "\n",
    "import skopt\n",
    "\n",
    "import sklearn.metrics as mt\n",
    "import sklearn.model_selection as ms\n",
    "\n",
    "warnings.filterwarnings('ignore')"
   ]
  },
  {
   "cell_type": "markdown",
   "id": "69748940",
   "metadata": {},
   "source": [
    "## 0.1 Loading Data"
   ]
  },
  {
   "cell_type": "code",
   "execution_count": 9,
   "id": "73883394",
   "metadata": {
    "ExecuteTime": {
     "end_time": "2023-07-03T16:32:31.647281Z",
     "start_time": "2023-07-03T16:32:31.632661Z"
    }
   },
   "outputs": [],
   "source": [
    "path = 'C://Users/edils/repos/desafio_geo/data/'"
   ]
  },
  {
   "cell_type": "code",
   "execution_count": 10,
   "id": "6cab9cfe",
   "metadata": {
    "ExecuteTime": {
     "end_time": "2023-07-03T16:32:31.975746Z",
     "start_time": "2023-07-03T16:32:31.963427Z"
    }
   },
   "outputs": [],
   "source": [
    "df_raw = pd.read_csv(path + 'X_train.csv', encoding='ISO-8859-1', sep=';')"
   ]
  },
  {
   "cell_type": "code",
   "execution_count": 11,
   "id": "af38af3b",
   "metadata": {
    "ExecuteTime": {
     "end_time": "2023-07-03T16:32:35.831388Z",
     "start_time": "2023-07-03T16:32:35.814516Z"
    }
   },
   "outputs": [],
   "source": [
    "df_train = df_raw.loc[df_raw['cidade'] == 'Rio de Janeiro']"
   ]
  },
  {
   "cell_type": "code",
   "execution_count": 12,
   "id": "c2cfe2c6",
   "metadata": {
    "ExecuteTime": {
     "end_time": "2023-07-03T16:32:35.847161Z",
     "start_time": "2023-07-03T16:32:35.833470Z"
    }
   },
   "outputs": [],
   "source": [
    "X_test = df_raw.loc[df_raw['cidade'] == 'São Paulo']"
   ]
  },
  {
   "cell_type": "markdown",
   "id": "f539150f",
   "metadata": {
    "heading_collapsed": true
   },
   "source": [
    "## 0.2 Helper Functions"
   ]
  },
  {
   "cell_type": "code",
   "execution_count": 13,
   "id": "c9d37e14",
   "metadata": {
    "ExecuteTime": {
     "end_time": "2023-07-03T16:32:35.862348Z",
     "start_time": "2023-07-03T16:32:35.849190Z"
    },
    "code_folding": [],
    "hidden": true
   },
   "outputs": [],
   "source": [
    "def rename_columns(df1):\n",
    "    cols_new = df1.columns.map(lambda x: inflection.underscore(x))\n",
    "    df1.columns = cols_new\n",
    "    \n",
    "    return df1\n",
    "\n",
    "def replace_strings(valor):\n",
    "    if isinstance(valor, str):\n",
    "        return np.nan\n",
    "    return valor\n",
    "\n",
    "\n",
    "def change_types(df1):\n",
    "    \n",
    "    df1['renda_media'] = df1['renda_media'].astype(float)\n",
    "\n",
    "\n",
    "def pre_processing(df4):\n",
    "    #minmax\n",
    "    columns_minmax = ['população', 'pop_ate9', 'pop_de10a14', 'pop_de15a19',\n",
    "       'pop_de20a24', 'pop_de25a34', 'pop_de35a49', 'pop_de50a59',\n",
    "       'pop_mais_de60', 'domicilios_a1', 'domicilios_a2', 'domicilios_b1',\n",
    "       'domicilios_b2', 'domicilios_c1', 'domicilios_c2', 'domicilios_d',\n",
    "       'domicilios_e', 'renda_media']\n",
    "\n",
    "    mms = pp.MinMaxScaler()\n",
    "\n",
    "    for col in columns_minmax:\n",
    "        df4[col] = mms.transform(df4[col].values.reshape(-1,1))\n",
    "    \n",
    "    #standard\n",
    "    ss = pp.StandardScaler()\n",
    "\n",
    "    df4['faturamento'] = ss.transform(df4['faturamento'].values.reshape(-1,1))\n",
    "    \n",
    "    return df4\n",
    "\n",
    "def regression_error(model, y, yhat):\n",
    "    \n",
    "    mae = mt.mean_absolute_error(y, yhat)\n",
    "    mape = mt.mean_absolute_percentage_error(y, yhat)\n",
    "    rmse = np.sqrt(mt.mean_squared_error(y, yhat))\n",
    "        \n",
    "    df = pd.DataFrame({\n",
    "        'Modelo':model.__name__,\n",
    "        'MAE':mae,\n",
    "        'MAPE':mape,\n",
    "        'RMSE':rmse\n",
    "        \n",
    "    }, index=[0])\n",
    "    \n",
    "    return df\n",
    "\n",
    "def classification_metrics(model, y_true, y_pred):\n",
    "    accuracy = mt.accuracy_score(y_true, y_pred)\n",
    "    precision_micro = mt.precision_score(y_true, y_pred, average='micro')\n",
    "    recall_micro = mt.recall_score(y_true, y_pred, average='micro')\n",
    "    f1_micro = mt.f1_score(y_true, y_pred, average='micro')\n",
    "    precision_macro = mt.precision_score(y_true, y_pred, average='macro')\n",
    "    recall_macro = mt.recall_score(y_true, y_pred, average='macro')\n",
    "    f1_macro = mt.f1_score(y_true, y_pred, average='macro')\n",
    "    \n",
    "    df = pd.DataFrame({\n",
    "        'Modelo': [model.__name__],\n",
    "        'Accuracy': [accuracy],\n",
    "        'Precision (micro)': [precision_micro],\n",
    "        'Recall (micro)': [recall_micro],\n",
    "        'F1 Score (micro)': [f1_micro],\n",
    "        'Precision (macro)': [precision_macro],\n",
    "        'Recall (macro)': [recall_macro],\n",
    "        'F1 Score (macro)': [f1_macro]\n",
    "    })\n",
    "    \n",
    "    return df"
   ]
  },
  {
   "cell_type": "markdown",
   "id": "dc17bac1",
   "metadata": {},
   "source": [
    "# 1.0 DATA DESCRIPTION"
   ]
  },
  {
   "cell_type": "code",
   "execution_count": 14,
   "id": "1fc92c5a",
   "metadata": {
    "ExecuteTime": {
     "end_time": "2023-07-03T16:32:35.877730Z",
     "start_time": "2023-07-03T16:32:35.864439Z"
    }
   },
   "outputs": [],
   "source": [
    "df1 = df_train.copy()"
   ]
  },
  {
   "cell_type": "code",
   "execution_count": 15,
   "id": "c8ff5984",
   "metadata": {
    "ExecuteTime": {
     "end_time": "2023-07-03T16:32:35.893369Z",
     "start_time": "2023-07-03T16:32:35.879233Z"
    }
   },
   "outputs": [],
   "source": [
    "# #Analyze raw_dataset\n",
    "# report = sweetviz.analyze(df_raw)\n",
    "# report.show_html()"
   ]
  },
  {
   "cell_type": "code",
   "execution_count": 16,
   "id": "8489d792",
   "metadata": {
    "ExecuteTime": {
     "end_time": "2023-07-03T16:32:35.924801Z",
     "start_time": "2023-07-03T16:32:35.894422Z"
    }
   },
   "outputs": [
    {
     "data": {
      "text/html": [
       "<div>\n",
       "<style scoped>\n",
       "    .dataframe tbody tr th:only-of-type {\n",
       "        vertical-align: middle;\n",
       "    }\n",
       "\n",
       "    .dataframe tbody tr th {\n",
       "        vertical-align: top;\n",
       "    }\n",
       "\n",
       "    .dataframe thead th {\n",
       "        text-align: right;\n",
       "    }\n",
       "</style>\n",
       "<table border=\"1\" class=\"dataframe\">\n",
       "  <thead>\n",
       "    <tr style=\"text-align: right;\">\n",
       "      <th></th>\n",
       "      <th>codigo</th>\n",
       "      <th>nome</th>\n",
       "      <th>cidade</th>\n",
       "      <th>estado</th>\n",
       "      <th>população</th>\n",
       "      <th>popAte9</th>\n",
       "      <th>popDe10a14</th>\n",
       "      <th>popDe15a19</th>\n",
       "      <th>popDe20a24</th>\n",
       "      <th>popDe25a34</th>\n",
       "      <th>...</th>\n",
       "      <th>domiciliosA2</th>\n",
       "      <th>domiciliosB1</th>\n",
       "      <th>domiciliosB2</th>\n",
       "      <th>domiciliosC1</th>\n",
       "      <th>domiciliosC2</th>\n",
       "      <th>domiciliosD</th>\n",
       "      <th>domiciliosE</th>\n",
       "      <th>rendaMedia</th>\n",
       "      <th>faturamento</th>\n",
       "      <th>potencial</th>\n",
       "    </tr>\n",
       "  </thead>\n",
       "  <tbody>\n",
       "    <tr>\n",
       "      <th>47</th>\n",
       "      <td>3304557056</td>\n",
       "      <td>Engenho De Dentro</td>\n",
       "      <td>Rio de Janeiro</td>\n",
       "      <td>RJ</td>\n",
       "      <td>46584</td>\n",
       "      <td>4626</td>\n",
       "      <td>2233</td>\n",
       "      <td>3107</td>\n",
       "      <td>3259</td>\n",
       "      <td>6866</td>\n",
       "      <td>...</td>\n",
       "      <td>572</td>\n",
       "      <td>2451</td>\n",
       "      <td>3272</td>\n",
       "      <td>4174</td>\n",
       "      <td>4040</td>\n",
       "      <td>384</td>\n",
       "      <td>1815</td>\n",
       "      <td>2260</td>\n",
       "      <td>903559.0</td>\n",
       "      <td>Alto</td>\n",
       "    </tr>\n",
       "    <tr>\n",
       "      <th>7</th>\n",
       "      <td>3304557115</td>\n",
       "      <td>Bancários</td>\n",
       "      <td>Rio de Janeiro</td>\n",
       "      <td>RJ</td>\n",
       "      <td>12864</td>\n",
       "      <td>1532</td>\n",
       "      <td>670</td>\n",
       "      <td>963</td>\n",
       "      <td>1076</td>\n",
       "      <td>2083</td>\n",
       "      <td>...</td>\n",
       "      <td>82</td>\n",
       "      <td>491</td>\n",
       "      <td>750</td>\n",
       "      <td>1313</td>\n",
       "      <td>1177</td>\n",
       "      <td>172</td>\n",
       "      <td>352</td>\n",
       "      <td>1962</td>\n",
       "      <td>808554.0</td>\n",
       "      <td>Baixo</td>\n",
       "    </tr>\n",
       "    <tr>\n",
       "      <th>158</th>\n",
       "      <td>3304557065</td>\n",
       "      <td>Vista Alegre</td>\n",
       "      <td>Rio de Janeiro</td>\n",
       "      <td>RJ</td>\n",
       "      <td>8867</td>\n",
       "      <td>724</td>\n",
       "      <td>387</td>\n",
       "      <td>580</td>\n",
       "      <td>565</td>\n",
       "      <td>1205</td>\n",
       "      <td>...</td>\n",
       "      <td>87</td>\n",
       "      <td>556</td>\n",
       "      <td>836</td>\n",
       "      <td>940</td>\n",
       "      <td>484</td>\n",
       "      <td>75</td>\n",
       "      <td>214</td>\n",
       "      <td>2418</td>\n",
       "      <td>921875.0</td>\n",
       "      <td>Baixo</td>\n",
       "    </tr>\n",
       "    <tr>\n",
       "      <th>115</th>\n",
       "      <td>3304557069</td>\n",
       "      <td>Quintino Bocaiúva</td>\n",
       "      <td>Rio de Janeiro</td>\n",
       "      <td>RJ</td>\n",
       "      <td>32064</td>\n",
       "      <td>3322</td>\n",
       "      <td>1700</td>\n",
       "      <td>2162</td>\n",
       "      <td>2310</td>\n",
       "      <td>4733</td>\n",
       "      <td>...</td>\n",
       "      <td>264</td>\n",
       "      <td>1151</td>\n",
       "      <td>2315</td>\n",
       "      <td>3451</td>\n",
       "      <td>2773</td>\n",
       "      <td>331</td>\n",
       "      <td>910</td>\n",
       "      <td>2038</td>\n",
       "      <td>806166.0</td>\n",
       "      <td>Médio</td>\n",
       "    </tr>\n",
       "    <tr>\n",
       "      <th>133</th>\n",
       "      <td>3304557047</td>\n",
       "      <td>São Francisco Xavier</td>\n",
       "      <td>Rio de Janeiro</td>\n",
       "      <td>RJ</td>\n",
       "      <td>8578</td>\n",
       "      <td>972</td>\n",
       "      <td>502</td>\n",
       "      <td>613</td>\n",
       "      <td>758</td>\n",
       "      <td>1417</td>\n",
       "      <td>...</td>\n",
       "      <td>92</td>\n",
       "      <td>480</td>\n",
       "      <td>701</td>\n",
       "      <td>666</td>\n",
       "      <td>581</td>\n",
       "      <td>131</td>\n",
       "      <td>358</td>\n",
       "      <td>2317</td>\n",
       "      <td>878830.0</td>\n",
       "      <td>Baixo</td>\n",
       "    </tr>\n",
       "    <tr>\n",
       "      <th>48</th>\n",
       "      <td>3304557051</td>\n",
       "      <td>Engenho Novo</td>\n",
       "      <td>Rio de Janeiro</td>\n",
       "      <td>RJ</td>\n",
       "      <td>43362</td>\n",
       "      <td>4830</td>\n",
       "      <td>2351</td>\n",
       "      <td>3163</td>\n",
       "      <td>3232</td>\n",
       "      <td>6691</td>\n",
       "      <td>...</td>\n",
       "      <td>549</td>\n",
       "      <td>2376</td>\n",
       "      <td>3059</td>\n",
       "      <td>3959</td>\n",
       "      <td>2559</td>\n",
       "      <td>498</td>\n",
       "      <td>2109</td>\n",
       "      <td>2325</td>\n",
       "      <td>932007.0</td>\n",
       "      <td>Alto</td>\n",
       "    </tr>\n",
       "    <tr>\n",
       "      <th>45</th>\n",
       "      <td>3304557071</td>\n",
       "      <td>Engenheiro Leal</td>\n",
       "      <td>Rio de Janeiro</td>\n",
       "      <td>RJ</td>\n",
       "      <td>6287</td>\n",
       "      <td>775</td>\n",
       "      <td>379</td>\n",
       "      <td>537</td>\n",
       "      <td>530</td>\n",
       "      <td>997</td>\n",
       "      <td>...</td>\n",
       "      <td>0</td>\n",
       "      <td>121</td>\n",
       "      <td>343</td>\n",
       "      <td>627</td>\n",
       "      <td>603</td>\n",
       "      <td>89</td>\n",
       "      <td>216</td>\n",
       "      <td>1517</td>\n",
       "      <td>818442.0</td>\n",
       "      <td>Baixo</td>\n",
       "    </tr>\n",
       "    <tr>\n",
       "      <th>105</th>\n",
       "      <td>3304557144</td>\n",
       "      <td>Pedra De Guaratiba</td>\n",
       "      <td>Rio de Janeiro</td>\n",
       "      <td>RJ</td>\n",
       "      <td>9666</td>\n",
       "      <td>1139</td>\n",
       "      <td>535</td>\n",
       "      <td>715</td>\n",
       "      <td>690</td>\n",
       "      <td>1415</td>\n",
       "      <td>...</td>\n",
       "      <td>0</td>\n",
       "      <td>231</td>\n",
       "      <td>662</td>\n",
       "      <td>876</td>\n",
       "      <td>783</td>\n",
       "      <td>150</td>\n",
       "      <td>532</td>\n",
       "      <td>1522</td>\n",
       "      <td>832018.0</td>\n",
       "      <td>Baixo</td>\n",
       "    </tr>\n",
       "    <tr>\n",
       "      <th>53</th>\n",
       "      <td>3304557122</td>\n",
       "      <td>Galeão</td>\n",
       "      <td>Rio de Janeiro</td>\n",
       "      <td>RJ</td>\n",
       "      <td>23620</td>\n",
       "      <td>3638</td>\n",
       "      <td>1724</td>\n",
       "      <td>2411</td>\n",
       "      <td>1922</td>\n",
       "      <td>3839</td>\n",
       "      <td>...</td>\n",
       "      <td>85</td>\n",
       "      <td>767</td>\n",
       "      <td>1083</td>\n",
       "      <td>2007</td>\n",
       "      <td>2005</td>\n",
       "      <td>348</td>\n",
       "      <td>979</td>\n",
       "      <td>1740</td>\n",
       "      <td>684686.0</td>\n",
       "      <td>Médio</td>\n",
       "    </tr>\n",
       "    <tr>\n",
       "      <th>107</th>\n",
       "      <td>3304557041</td>\n",
       "      <td>Penha Circular</td>\n",
       "      <td>Rio de Janeiro</td>\n",
       "      <td>RJ</td>\n",
       "      <td>49165</td>\n",
       "      <td>5348</td>\n",
       "      <td>2662</td>\n",
       "      <td>4045</td>\n",
       "      <td>3936</td>\n",
       "      <td>7353</td>\n",
       "      <td>...</td>\n",
       "      <td>348</td>\n",
       "      <td>1893</td>\n",
       "      <td>3750</td>\n",
       "      <td>3988</td>\n",
       "      <td>3411</td>\n",
       "      <td>459</td>\n",
       "      <td>2662</td>\n",
       "      <td>2005</td>\n",
       "      <td>908998.0</td>\n",
       "      <td>Alto</td>\n",
       "    </tr>\n",
       "    <tr>\n",
       "      <th>9</th>\n",
       "      <td>3304557131</td>\n",
       "      <td>Barra Da Tijuca</td>\n",
       "      <td>Rio de Janeiro</td>\n",
       "      <td>RJ</td>\n",
       "      <td>139761</td>\n",
       "      <td>13038</td>\n",
       "      <td>5225</td>\n",
       "      <td>7432</td>\n",
       "      <td>8627</td>\n",
       "      <td>21914</td>\n",
       "      <td>...</td>\n",
       "      <td>11668</td>\n",
       "      <td>14820</td>\n",
       "      <td>5205</td>\n",
       "      <td>3437</td>\n",
       "      <td>1841</td>\n",
       "      <td>0</td>\n",
       "      <td>3897</td>\n",
       "      <td>18084</td>\n",
       "      <td>2915612.0</td>\n",
       "      <td>Alto</td>\n",
       "    </tr>\n",
       "    <tr>\n",
       "      <th>16</th>\n",
       "      <td>3304557042</td>\n",
       "      <td>Brás De Pina</td>\n",
       "      <td>Rio de Janeiro</td>\n",
       "      <td>RJ</td>\n",
       "      <td>60893</td>\n",
       "      <td>6812</td>\n",
       "      <td>3350</td>\n",
       "      <td>4778</td>\n",
       "      <td>4801</td>\n",
       "      <td>9037</td>\n",
       "      <td>...</td>\n",
       "      <td>494</td>\n",
       "      <td>1716</td>\n",
       "      <td>3817</td>\n",
       "      <td>6026</td>\n",
       "      <td>4216</td>\n",
       "      <td>610</td>\n",
       "      <td>3385</td>\n",
       "      <td>1874</td>\n",
       "      <td>755073.0</td>\n",
       "      <td>Alto</td>\n",
       "    </tr>\n",
       "    <tr>\n",
       "      <th>1</th>\n",
       "      <td>3304557138</td>\n",
       "      <td>Acari</td>\n",
       "      <td>Rio de Janeiro</td>\n",
       "      <td>RJ</td>\n",
       "      <td>27564</td>\n",
       "      <td>5131</td>\n",
       "      <td>2188</td>\n",
       "      <td>2697</td>\n",
       "      <td>2630</td>\n",
       "      <td>4810</td>\n",
       "      <td>...</td>\n",
       "      <td>0</td>\n",
       "      <td>82</td>\n",
       "      <td>506</td>\n",
       "      <td>2040</td>\n",
       "      <td>2490</td>\n",
       "      <td>827</td>\n",
       "      <td>2506</td>\n",
       "      <td>931</td>\n",
       "      <td>588833.0</td>\n",
       "      <td>Baixo</td>\n",
       "    </tr>\n",
       "    <tr>\n",
       "      <th>153</th>\n",
       "      <td>3304557064</td>\n",
       "      <td>Vila Da Penha</td>\n",
       "      <td>Rio de Janeiro</td>\n",
       "      <td>RJ</td>\n",
       "      <td>26183</td>\n",
       "      <td>2152</td>\n",
       "      <td>992</td>\n",
       "      <td>1456</td>\n",
       "      <td>1665</td>\n",
       "      <td>3678</td>\n",
       "      <td>...</td>\n",
       "      <td>520</td>\n",
       "      <td>2449</td>\n",
       "      <td>2388</td>\n",
       "      <td>2333</td>\n",
       "      <td>1236</td>\n",
       "      <td>189</td>\n",
       "      <td>631</td>\n",
       "      <td>2989</td>\n",
       "      <td>1100481.0</td>\n",
       "      <td>Alto</td>\n",
       "    </tr>\n",
       "    <tr>\n",
       "      <th>91</th>\n",
       "      <td>3304557080</td>\n",
       "      <td>Marechal Hermes</td>\n",
       "      <td>Rio de Janeiro</td>\n",
       "      <td>RJ</td>\n",
       "      <td>49419</td>\n",
       "      <td>5878</td>\n",
       "      <td>2837</td>\n",
       "      <td>3799</td>\n",
       "      <td>3699</td>\n",
       "      <td>7139</td>\n",
       "      <td>...</td>\n",
       "      <td>117</td>\n",
       "      <td>1515</td>\n",
       "      <td>2985</td>\n",
       "      <td>4678</td>\n",
       "      <td>4447</td>\n",
       "      <td>931</td>\n",
       "      <td>2281</td>\n",
       "      <td>1675</td>\n",
       "      <td>726430.0</td>\n",
       "      <td>Alto</td>\n",
       "    </tr>\n",
       "  </tbody>\n",
       "</table>\n",
       "<p>15 rows × 24 columns</p>\n",
       "</div>"
      ],
      "text/plain": [
       "         codigo                  nome          cidade estado  população  \\\n",
       "47   3304557056     Engenho De Dentro  Rio de Janeiro     RJ      46584   \n",
       "7    3304557115             Bancários  Rio de Janeiro     RJ      12864   \n",
       "158  3304557065          Vista Alegre  Rio de Janeiro     RJ       8867   \n",
       "115  3304557069     Quintino Bocaiúva  Rio de Janeiro     RJ      32064   \n",
       "133  3304557047  São Francisco Xavier  Rio de Janeiro     RJ       8578   \n",
       "48   3304557051          Engenho Novo  Rio de Janeiro     RJ      43362   \n",
       "45   3304557071       Engenheiro Leal  Rio de Janeiro     RJ       6287   \n",
       "105  3304557144    Pedra De Guaratiba  Rio de Janeiro     RJ       9666   \n",
       "53   3304557122                Galeão  Rio de Janeiro     RJ      23620   \n",
       "107  3304557041        Penha Circular  Rio de Janeiro     RJ      49165   \n",
       "9    3304557131       Barra Da Tijuca  Rio de Janeiro     RJ     139761   \n",
       "16   3304557042          Brás De Pina  Rio de Janeiro     RJ      60893   \n",
       "1    3304557138                 Acari  Rio de Janeiro     RJ      27564   \n",
       "153  3304557064         Vila Da Penha  Rio de Janeiro     RJ      26183   \n",
       "91   3304557080       Marechal Hermes  Rio de Janeiro     RJ      49419   \n",
       "\n",
       "     popAte9  popDe10a14  popDe15a19  popDe20a24  popDe25a34  ...  \\\n",
       "47      4626        2233        3107        3259        6866  ...   \n",
       "7       1532         670         963        1076        2083  ...   \n",
       "158      724         387         580         565        1205  ...   \n",
       "115     3322        1700        2162        2310        4733  ...   \n",
       "133      972         502         613         758        1417  ...   \n",
       "48      4830        2351        3163        3232        6691  ...   \n",
       "45       775         379         537         530         997  ...   \n",
       "105     1139         535         715         690        1415  ...   \n",
       "53      3638        1724        2411        1922        3839  ...   \n",
       "107     5348        2662        4045        3936        7353  ...   \n",
       "9      13038        5225        7432        8627       21914  ...   \n",
       "16      6812        3350        4778        4801        9037  ...   \n",
       "1       5131        2188        2697        2630        4810  ...   \n",
       "153     2152         992        1456        1665        3678  ...   \n",
       "91      5878        2837        3799        3699        7139  ...   \n",
       "\n",
       "     domiciliosA2  domiciliosB1  domiciliosB2  domiciliosC1  domiciliosC2  \\\n",
       "47            572          2451          3272          4174          4040   \n",
       "7              82           491           750          1313          1177   \n",
       "158            87           556           836           940           484   \n",
       "115           264          1151          2315          3451          2773   \n",
       "133            92           480           701           666           581   \n",
       "48            549          2376          3059          3959          2559   \n",
       "45              0           121           343           627           603   \n",
       "105             0           231           662           876           783   \n",
       "53             85           767          1083          2007          2005   \n",
       "107           348          1893          3750          3988          3411   \n",
       "9           11668         14820          5205          3437          1841   \n",
       "16            494          1716          3817          6026          4216   \n",
       "1               0            82           506          2040          2490   \n",
       "153           520          2449          2388          2333          1236   \n",
       "91            117          1515          2985          4678          4447   \n",
       "\n",
       "     domiciliosD  domiciliosE  rendaMedia  faturamento  potencial  \n",
       "47           384         1815        2260     903559.0       Alto  \n",
       "7            172          352        1962     808554.0      Baixo  \n",
       "158           75          214        2418     921875.0      Baixo  \n",
       "115          331          910        2038     806166.0      Médio  \n",
       "133          131          358        2317     878830.0      Baixo  \n",
       "48           498         2109        2325     932007.0       Alto  \n",
       "45            89          216        1517     818442.0      Baixo  \n",
       "105          150          532        1522     832018.0      Baixo  \n",
       "53           348          979        1740     684686.0      Médio  \n",
       "107          459         2662        2005     908998.0       Alto  \n",
       "9              0         3897       18084    2915612.0       Alto  \n",
       "16           610         3385        1874     755073.0       Alto  \n",
       "1            827         2506         931     588833.0      Baixo  \n",
       "153          189          631        2989    1100481.0       Alto  \n",
       "91           931         2281        1675     726430.0       Alto  \n",
       "\n",
       "[15 rows x 24 columns]"
      ]
     },
     "execution_count": 16,
     "metadata": {},
     "output_type": "execute_result"
    }
   ],
   "source": [
    "df1.sample(15)"
   ]
  },
  {
   "cell_type": "markdown",
   "id": "60aee131",
   "metadata": {},
   "source": [
    "## 1.1 Rename Columns"
   ]
  },
  {
   "cell_type": "code",
   "execution_count": 17,
   "id": "d2156afe",
   "metadata": {
    "ExecuteTime": {
     "end_time": "2023-07-03T16:32:35.940503Z",
     "start_time": "2023-07-03T16:32:35.926863Z"
    }
   },
   "outputs": [],
   "source": [
    "cols_new = df1.columns.map(lambda x: inflection.underscore(x))\n",
    "df1.columns = cols_new"
   ]
  },
  {
   "cell_type": "markdown",
   "id": "2df251b8",
   "metadata": {},
   "source": [
    "## 1.2 Data Shape"
   ]
  },
  {
   "cell_type": "code",
   "execution_count": 18,
   "id": "c965eeb6",
   "metadata": {
    "ExecuteTime": {
     "end_time": "2023-07-03T16:32:35.955785Z",
     "start_time": "2023-07-03T16:32:35.942644Z"
    }
   },
   "outputs": [
    {
     "data": {
      "text/plain": [
       "(160, 24)"
      ]
     },
     "execution_count": 18,
     "metadata": {},
     "output_type": "execute_result"
    }
   ],
   "source": [
    "df1.shape"
   ]
  },
  {
   "cell_type": "markdown",
   "id": "c244e8b3",
   "metadata": {},
   "source": [
    "## 1.3 Data Types"
   ]
  },
  {
   "cell_type": "code",
   "execution_count": 19,
   "id": "8038859e",
   "metadata": {
    "ExecuteTime": {
     "end_time": "2023-07-03T16:32:35.971448Z",
     "start_time": "2023-07-03T16:32:35.957839Z"
    }
   },
   "outputs": [
    {
     "data": {
      "text/plain": [
       "codigo             int64\n",
       "nome              object\n",
       "cidade            object\n",
       "estado            object\n",
       "população          int64\n",
       "pop_ate9           int64\n",
       "pop_de10a14        int64\n",
       "pop_de15a19        int64\n",
       "pop_de20a24        int64\n",
       "pop_de25a34        int64\n",
       "pop_de35a49        int64\n",
       "pop_de50a59        int64\n",
       "pop_mais_de60      int64\n",
       "domicilios_a1      int64\n",
       "domicilios_a2      int64\n",
       "domicilios_b1      int64\n",
       "domicilios_b2      int64\n",
       "domicilios_c1      int64\n",
       "domicilios_c2      int64\n",
       "domicilios_d       int64\n",
       "domicilios_e       int64\n",
       "renda_media       object\n",
       "faturamento      float64\n",
       "potencial         object\n",
       "dtype: object"
      ]
     },
     "execution_count": 19,
     "metadata": {},
     "output_type": "execute_result"
    }
   ],
   "source": [
    "df1.dtypes"
   ]
  },
  {
   "cell_type": "code",
   "execution_count": 20,
   "id": "79ae71e2",
   "metadata": {
    "ExecuteTime": {
     "end_time": "2023-07-03T16:32:35.987212Z",
     "start_time": "2023-07-03T16:32:35.975541Z"
    }
   },
   "outputs": [],
   "source": [
    "df1['renda_media'] = df1['renda_media'].astype(float)"
   ]
  },
  {
   "cell_type": "markdown",
   "id": "f4b5c3a9",
   "metadata": {},
   "source": [
    "## 1.3 Check NaN"
   ]
  },
  {
   "cell_type": "code",
   "execution_count": 21,
   "id": "f781dcce",
   "metadata": {
    "ExecuteTime": {
     "end_time": "2023-07-03T16:32:36.002527Z",
     "start_time": "2023-07-03T16:32:35.989285Z"
    }
   },
   "outputs": [
    {
     "data": {
      "text/plain": [
       "codigo           0\n",
       "nome             0\n",
       "cidade           0\n",
       "estado           0\n",
       "população        0\n",
       "pop_ate9         0\n",
       "pop_de10a14      0\n",
       "pop_de15a19      0\n",
       "pop_de20a24      0\n",
       "pop_de25a34      0\n",
       "pop_de35a49      0\n",
       "pop_de50a59      0\n",
       "pop_mais_de60    0\n",
       "domicilios_a1    0\n",
       "domicilios_a2    0\n",
       "domicilios_b1    0\n",
       "domicilios_b2    0\n",
       "domicilios_c1    0\n",
       "domicilios_c2    0\n",
       "domicilios_d     0\n",
       "domicilios_e     0\n",
       "renda_media      6\n",
       "faturamento      0\n",
       "potencial        0\n",
       "dtype: int64"
      ]
     },
     "execution_count": 21,
     "metadata": {},
     "output_type": "execute_result"
    }
   ],
   "source": [
    "df1.isna().sum()"
   ]
  },
  {
   "cell_type": "code",
   "execution_count": 22,
   "id": "4289a787",
   "metadata": {
    "ExecuteTime": {
     "end_time": "2023-07-03T16:32:36.018319Z",
     "start_time": "2023-07-03T16:32:36.004632Z"
    }
   },
   "outputs": [],
   "source": [
    "df1['renda_media'] = df1['renda_media'].fillna(df1['renda_media'].mean())"
   ]
  },
  {
   "cell_type": "markdown",
   "id": "8c49ca66",
   "metadata": {},
   "source": [
    "## 1.5 Descriptive Statistics"
   ]
  },
  {
   "cell_type": "markdown",
   "id": "d5f40a40",
   "metadata": {},
   "source": [
    "### 1.5.1 Numerical Statistics"
   ]
  },
  {
   "cell_type": "code",
   "execution_count": 23,
   "id": "5c709808",
   "metadata": {
    "ExecuteTime": {
     "end_time": "2023-07-03T16:32:36.033594Z",
     "start_time": "2023-07-03T16:32:36.019825Z"
    }
   },
   "outputs": [],
   "source": [
    "num_attributes = df1.select_dtypes(include=['int64','float64'])"
   ]
  },
  {
   "cell_type": "code",
   "execution_count": 24,
   "id": "6fd003d8",
   "metadata": {
    "ExecuteTime": {
     "end_time": "2023-07-03T16:32:36.080381Z",
     "start_time": "2023-07-03T16:32:36.035633Z"
    }
   },
   "outputs": [],
   "source": [
    "disp = num_attributes.agg(['min', 'max', lambda x: max(x)-min(x), 'mean','median','std','skew','kurtosis']).T"
   ]
  },
  {
   "cell_type": "code",
   "execution_count": 25,
   "id": "ba67b9d2",
   "metadata": {
    "ExecuteTime": {
     "end_time": "2023-07-03T16:32:36.110867Z",
     "start_time": "2023-07-03T16:32:36.081454Z"
    }
   },
   "outputs": [
    {
     "data": {
      "text/html": [
       "<div>\n",
       "<style scoped>\n",
       "    .dataframe tbody tr th:only-of-type {\n",
       "        vertical-align: middle;\n",
       "    }\n",
       "\n",
       "    .dataframe tbody tr th {\n",
       "        vertical-align: top;\n",
       "    }\n",
       "\n",
       "    .dataframe thead th {\n",
       "        text-align: right;\n",
       "    }\n",
       "</style>\n",
       "<table border=\"1\" class=\"dataframe\">\n",
       "  <thead>\n",
       "    <tr style=\"text-align: right;\">\n",
       "      <th></th>\n",
       "      <th>min</th>\n",
       "      <th>max</th>\n",
       "      <th>&lt;lambda&gt;</th>\n",
       "      <th>mean</th>\n",
       "      <th>median</th>\n",
       "      <th>std</th>\n",
       "      <th>skew</th>\n",
       "      <th>kurtosis</th>\n",
       "    </tr>\n",
       "  </thead>\n",
       "  <tbody>\n",
       "    <tr>\n",
       "      <th>codigo</th>\n",
       "      <td>3.304557e+09</td>\n",
       "      <td>3.304557e+09</td>\n",
       "      <td>159.0</td>\n",
       "      <td>3.304557e+09</td>\n",
       "      <td>3.304557e+09</td>\n",
       "      <td>46.332134</td>\n",
       "      <td>0.000000</td>\n",
       "      <td>-1.200000</td>\n",
       "    </tr>\n",
       "    <tr>\n",
       "      <th>população</th>\n",
       "      <td>1.730000e+02</td>\n",
       "      <td>6.676030e+05</td>\n",
       "      <td>667430.0</td>\n",
       "      <td>4.265435e+04</td>\n",
       "      <td>2.607600e+04</td>\n",
       "      <td>64262.949072</td>\n",
       "      <td>6.430261</td>\n",
       "      <td>56.987523</td>\n",
       "    </tr>\n",
       "    <tr>\n",
       "      <th>pop_ate9</th>\n",
       "      <td>3.300000e+01</td>\n",
       "      <td>1.225780e+05</td>\n",
       "      <td>122545.0</td>\n",
       "      <td>5.329062e+03</td>\n",
       "      <td>3.111500e+03</td>\n",
       "      <td>10816.199770</td>\n",
       "      <td>8.455441</td>\n",
       "      <td>87.995016</td>\n",
       "    </tr>\n",
       "    <tr>\n",
       "      <th>pop_de10a14</th>\n",
       "      <td>1.300000e+01</td>\n",
       "      <td>5.593500e+04</td>\n",
       "      <td>55922.0</td>\n",
       "      <td>2.484444e+03</td>\n",
       "      <td>1.434000e+03</td>\n",
       "      <td>4948.827166</td>\n",
       "      <td>8.385443</td>\n",
       "      <td>86.769750</td>\n",
       "    </tr>\n",
       "    <tr>\n",
       "      <th>pop_de15a19</th>\n",
       "      <td>2.200000e+01</td>\n",
       "      <td>6.234200e+04</td>\n",
       "      <td>62320.0</td>\n",
       "      <td>3.272156e+03</td>\n",
       "      <td>2.015000e+03</td>\n",
       "      <td>5752.156303</td>\n",
       "      <td>7.401606</td>\n",
       "      <td>71.038687</td>\n",
       "    </tr>\n",
       "    <tr>\n",
       "      <th>pop_de20a24</th>\n",
       "      <td>1.700000e+01</td>\n",
       "      <td>6.056700e+04</td>\n",
       "      <td>60550.0</td>\n",
       "      <td>3.349381e+03</td>\n",
       "      <td>2.142500e+03</td>\n",
       "      <td>5601.893201</td>\n",
       "      <td>7.253694</td>\n",
       "      <td>69.287685</td>\n",
       "    </tr>\n",
       "    <tr>\n",
       "      <th>pop_de25a34</th>\n",
       "      <td>2.800000e+01</td>\n",
       "      <td>8.611600e+04</td>\n",
       "      <td>86088.0</td>\n",
       "      <td>6.584475e+03</td>\n",
       "      <td>4.170500e+03</td>\n",
       "      <td>9049.895783</td>\n",
       "      <td>5.159097</td>\n",
       "      <td>38.471855</td>\n",
       "    </tr>\n",
       "    <tr>\n",
       "      <th>pop_de35a49</th>\n",
       "      <td>3.800000e+01</td>\n",
       "      <td>1.053160e+05</td>\n",
       "      <td>105278.0</td>\n",
       "      <td>8.826862e+03</td>\n",
       "      <td>5.657000e+03</td>\n",
       "      <td>11536.276416</td>\n",
       "      <td>4.691357</td>\n",
       "      <td>32.096439</td>\n",
       "    </tr>\n",
       "    <tr>\n",
       "      <th>pop_de50a59</th>\n",
       "      <td>1.000000e+01</td>\n",
       "      <td>8.334100e+04</td>\n",
       "      <td>83331.0</td>\n",
       "      <td>5.332262e+03</td>\n",
       "      <td>3.371500e+03</td>\n",
       "      <td>7986.261929</td>\n",
       "      <td>6.495919</td>\n",
       "      <td>57.988745</td>\n",
       "    </tr>\n",
       "    <tr>\n",
       "      <th>pop_mais_de60</th>\n",
       "      <td>1.200000e+01</td>\n",
       "      <td>9.140800e+04</td>\n",
       "      <td>91396.0</td>\n",
       "      <td>7.475706e+03</td>\n",
       "      <td>4.575500e+03</td>\n",
       "      <td>10258.307743</td>\n",
       "      <td>4.725239</td>\n",
       "      <td>30.969842</td>\n",
       "    </tr>\n",
       "    <tr>\n",
       "      <th>domicilios_a1</th>\n",
       "      <td>0.000000e+00</td>\n",
       "      <td>1.340800e+04</td>\n",
       "      <td>13408.0</td>\n",
       "      <td>3.884750e+02</td>\n",
       "      <td>0.000000e+00</td>\n",
       "      <td>1403.605232</td>\n",
       "      <td>6.220032</td>\n",
       "      <td>49.004836</td>\n",
       "    </tr>\n",
       "    <tr>\n",
       "      <th>domicilios_a2</th>\n",
       "      <td>0.000000e+00</td>\n",
       "      <td>1.166800e+04</td>\n",
       "      <td>11668.0</td>\n",
       "      <td>6.082687e+02</td>\n",
       "      <td>1.075000e+02</td>\n",
       "      <td>1535.237669</td>\n",
       "      <td>4.739400</td>\n",
       "      <td>26.227077</td>\n",
       "    </tr>\n",
       "    <tr>\n",
       "      <th>domicilios_b1</th>\n",
       "      <td>0.000000e+00</td>\n",
       "      <td>1.935000e+04</td>\n",
       "      <td>19350.0</td>\n",
       "      <td>1.871562e+03</td>\n",
       "      <td>8.480000e+02</td>\n",
       "      <td>2973.530791</td>\n",
       "      <td>3.698927</td>\n",
       "      <td>16.429617</td>\n",
       "    </tr>\n",
       "    <tr>\n",
       "      <th>domicilios_b2</th>\n",
       "      <td>0.000000e+00</td>\n",
       "      <td>2.123700e+04</td>\n",
       "      <td>21237.0</td>\n",
       "      <td>2.385075e+03</td>\n",
       "      <td>1.536000e+03</td>\n",
       "      <td>2779.071565</td>\n",
       "      <td>3.362580</td>\n",
       "      <td>15.884475</td>\n",
       "    </tr>\n",
       "    <tr>\n",
       "      <th>domicilios_c1</th>\n",
       "      <td>5.000000e+00</td>\n",
       "      <td>3.311100e+04</td>\n",
       "      <td>33106.0</td>\n",
       "      <td>3.539850e+03</td>\n",
       "      <td>2.394500e+03</td>\n",
       "      <td>4324.539462</td>\n",
       "      <td>3.600450</td>\n",
       "      <td>17.620849</td>\n",
       "    </tr>\n",
       "    <tr>\n",
       "      <th>domicilios_c2</th>\n",
       "      <td>3.000000e+00</td>\n",
       "      <td>2.577900e+04</td>\n",
       "      <td>25776.0</td>\n",
       "      <td>3.030806e+03</td>\n",
       "      <td>1.861500e+03</td>\n",
       "      <td>4003.047836</td>\n",
       "      <td>3.322379</td>\n",
       "      <td>13.224391</td>\n",
       "    </tr>\n",
       "    <tr>\n",
       "      <th>domicilios_d</th>\n",
       "      <td>0.000000e+00</td>\n",
       "      <td>4.956000e+03</td>\n",
       "      <td>4956.0</td>\n",
       "      <td>5.683750e+02</td>\n",
       "      <td>3.275000e+02</td>\n",
       "      <td>823.920340</td>\n",
       "      <td>3.273737</td>\n",
       "      <td>12.356773</td>\n",
       "    </tr>\n",
       "    <tr>\n",
       "      <th>domicilios_e</th>\n",
       "      <td>2.000000e+00</td>\n",
       "      <td>1.483300e+04</td>\n",
       "      <td>14831.0</td>\n",
       "      <td>1.821612e+03</td>\n",
       "      <td>1.042500e+03</td>\n",
       "      <td>2292.079295</td>\n",
       "      <td>2.944783</td>\n",
       "      <td>10.983002</td>\n",
       "    </tr>\n",
       "    <tr>\n",
       "      <th>renda_media</th>\n",
       "      <td>6.540000e+02</td>\n",
       "      <td>6.388700e+04</td>\n",
       "      <td>63233.0</td>\n",
       "      <td>3.608071e+03</td>\n",
       "      <td>1.944000e+03</td>\n",
       "      <td>5975.819147</td>\n",
       "      <td>7.083664</td>\n",
       "      <td>65.856014</td>\n",
       "    </tr>\n",
       "    <tr>\n",
       "      <th>faturamento</th>\n",
       "      <td>2.465100e+04</td>\n",
       "      <td>2.915612e+06</td>\n",
       "      <td>2890961.0</td>\n",
       "      <td>8.761600e+05</td>\n",
       "      <td>8.242285e+05</td>\n",
       "      <td>438210.595559</td>\n",
       "      <td>1.356720</td>\n",
       "      <td>4.271948</td>\n",
       "    </tr>\n",
       "  </tbody>\n",
       "</table>\n",
       "</div>"
      ],
      "text/plain": [
       "                        min           max   <lambda>          mean  \\\n",
       "codigo         3.304557e+09  3.304557e+09      159.0  3.304557e+09   \n",
       "população      1.730000e+02  6.676030e+05   667430.0  4.265435e+04   \n",
       "pop_ate9       3.300000e+01  1.225780e+05   122545.0  5.329062e+03   \n",
       "pop_de10a14    1.300000e+01  5.593500e+04    55922.0  2.484444e+03   \n",
       "pop_de15a19    2.200000e+01  6.234200e+04    62320.0  3.272156e+03   \n",
       "pop_de20a24    1.700000e+01  6.056700e+04    60550.0  3.349381e+03   \n",
       "pop_de25a34    2.800000e+01  8.611600e+04    86088.0  6.584475e+03   \n",
       "pop_de35a49    3.800000e+01  1.053160e+05   105278.0  8.826862e+03   \n",
       "pop_de50a59    1.000000e+01  8.334100e+04    83331.0  5.332262e+03   \n",
       "pop_mais_de60  1.200000e+01  9.140800e+04    91396.0  7.475706e+03   \n",
       "domicilios_a1  0.000000e+00  1.340800e+04    13408.0  3.884750e+02   \n",
       "domicilios_a2  0.000000e+00  1.166800e+04    11668.0  6.082687e+02   \n",
       "domicilios_b1  0.000000e+00  1.935000e+04    19350.0  1.871562e+03   \n",
       "domicilios_b2  0.000000e+00  2.123700e+04    21237.0  2.385075e+03   \n",
       "domicilios_c1  5.000000e+00  3.311100e+04    33106.0  3.539850e+03   \n",
       "domicilios_c2  3.000000e+00  2.577900e+04    25776.0  3.030806e+03   \n",
       "domicilios_d   0.000000e+00  4.956000e+03     4956.0  5.683750e+02   \n",
       "domicilios_e   2.000000e+00  1.483300e+04    14831.0  1.821612e+03   \n",
       "renda_media    6.540000e+02  6.388700e+04    63233.0  3.608071e+03   \n",
       "faturamento    2.465100e+04  2.915612e+06  2890961.0  8.761600e+05   \n",
       "\n",
       "                     median            std      skew   kurtosis  \n",
       "codigo         3.304557e+09      46.332134  0.000000  -1.200000  \n",
       "população      2.607600e+04   64262.949072  6.430261  56.987523  \n",
       "pop_ate9       3.111500e+03   10816.199770  8.455441  87.995016  \n",
       "pop_de10a14    1.434000e+03    4948.827166  8.385443  86.769750  \n",
       "pop_de15a19    2.015000e+03    5752.156303  7.401606  71.038687  \n",
       "pop_de20a24    2.142500e+03    5601.893201  7.253694  69.287685  \n",
       "pop_de25a34    4.170500e+03    9049.895783  5.159097  38.471855  \n",
       "pop_de35a49    5.657000e+03   11536.276416  4.691357  32.096439  \n",
       "pop_de50a59    3.371500e+03    7986.261929  6.495919  57.988745  \n",
       "pop_mais_de60  4.575500e+03   10258.307743  4.725239  30.969842  \n",
       "domicilios_a1  0.000000e+00    1403.605232  6.220032  49.004836  \n",
       "domicilios_a2  1.075000e+02    1535.237669  4.739400  26.227077  \n",
       "domicilios_b1  8.480000e+02    2973.530791  3.698927  16.429617  \n",
       "domicilios_b2  1.536000e+03    2779.071565  3.362580  15.884475  \n",
       "domicilios_c1  2.394500e+03    4324.539462  3.600450  17.620849  \n",
       "domicilios_c2  1.861500e+03    4003.047836  3.322379  13.224391  \n",
       "domicilios_d   3.275000e+02     823.920340  3.273737  12.356773  \n",
       "domicilios_e   1.042500e+03    2292.079295  2.944783  10.983002  \n",
       "renda_media    1.944000e+03    5975.819147  7.083664  65.856014  \n",
       "faturamento    8.242285e+05  438210.595559  1.356720   4.271948  "
      ]
     },
     "execution_count": 25,
     "metadata": {},
     "output_type": "execute_result"
    }
   ],
   "source": [
    "disp"
   ]
  },
  {
   "cell_type": "markdown",
   "id": "19fb5269",
   "metadata": {},
   "source": [
    "### 1.5.2 Categorical Attributes"
   ]
  },
  {
   "cell_type": "code",
   "execution_count": 26,
   "id": "58638fc5",
   "metadata": {
    "ExecuteTime": {
     "end_time": "2023-07-03T16:32:36.126682Z",
     "start_time": "2023-07-03T16:32:36.112380Z"
    }
   },
   "outputs": [],
   "source": [
    "cat_attributes = df1.select_dtypes(exclude=['int64','float64'])"
   ]
  },
  {
   "cell_type": "code",
   "execution_count": 27,
   "id": "f6857bee",
   "metadata": {
    "ExecuteTime": {
     "end_time": "2023-07-03T16:32:36.142293Z",
     "start_time": "2023-07-03T16:32:36.127683Z"
    }
   },
   "outputs": [
    {
     "data": {
      "text/html": [
       "<div>\n",
       "<style scoped>\n",
       "    .dataframe tbody tr th:only-of-type {\n",
       "        vertical-align: middle;\n",
       "    }\n",
       "\n",
       "    .dataframe tbody tr th {\n",
       "        vertical-align: top;\n",
       "    }\n",
       "\n",
       "    .dataframe thead th {\n",
       "        text-align: right;\n",
       "    }\n",
       "</style>\n",
       "<table border=\"1\" class=\"dataframe\">\n",
       "  <thead>\n",
       "    <tr style=\"text-align: right;\">\n",
       "      <th></th>\n",
       "      <th>nome</th>\n",
       "      <th>cidade</th>\n",
       "      <th>estado</th>\n",
       "      <th>potencial</th>\n",
       "    </tr>\n",
       "  </thead>\n",
       "  <tbody>\n",
       "    <tr>\n",
       "      <th>0</th>\n",
       "      <td>Abolição</td>\n",
       "      <td>Rio de Janeiro</td>\n",
       "      <td>RJ</td>\n",
       "      <td>Médio</td>\n",
       "    </tr>\n",
       "    <tr>\n",
       "      <th>1</th>\n",
       "      <td>Acari</td>\n",
       "      <td>Rio de Janeiro</td>\n",
       "      <td>RJ</td>\n",
       "      <td>Baixo</td>\n",
       "    </tr>\n",
       "    <tr>\n",
       "      <th>2</th>\n",
       "      <td>Água Santa</td>\n",
       "      <td>Rio de Janeiro</td>\n",
       "      <td>RJ</td>\n",
       "      <td>Baixo</td>\n",
       "    </tr>\n",
       "    <tr>\n",
       "      <th>3</th>\n",
       "      <td>Alto Da Boa Vista</td>\n",
       "      <td>Rio de Janeiro</td>\n",
       "      <td>RJ</td>\n",
       "      <td>Médio</td>\n",
       "    </tr>\n",
       "    <tr>\n",
       "      <th>4</th>\n",
       "      <td>Anchieta</td>\n",
       "      <td>Rio de Janeiro</td>\n",
       "      <td>RJ</td>\n",
       "      <td>Médio</td>\n",
       "    </tr>\n",
       "    <tr>\n",
       "      <th>...</th>\n",
       "      <td>...</td>\n",
       "      <td>...</td>\n",
       "      <td>...</td>\n",
       "      <td>...</td>\n",
       "    </tr>\n",
       "    <tr>\n",
       "      <th>155</th>\n",
       "      <td>Vila Kosmos</td>\n",
       "      <td>Rio de Janeiro</td>\n",
       "      <td>RJ</td>\n",
       "      <td>Médio</td>\n",
       "    </tr>\n",
       "    <tr>\n",
       "      <th>156</th>\n",
       "      <td>Vila Militar</td>\n",
       "      <td>Rio de Janeiro</td>\n",
       "      <td>RJ</td>\n",
       "      <td>Médio</td>\n",
       "    </tr>\n",
       "    <tr>\n",
       "      <th>157</th>\n",
       "      <td>Vila Valqueire</td>\n",
       "      <td>Rio de Janeiro</td>\n",
       "      <td>RJ</td>\n",
       "      <td>Alto</td>\n",
       "    </tr>\n",
       "    <tr>\n",
       "      <th>158</th>\n",
       "      <td>Vista Alegre</td>\n",
       "      <td>Rio de Janeiro</td>\n",
       "      <td>RJ</td>\n",
       "      <td>Baixo</td>\n",
       "    </tr>\n",
       "    <tr>\n",
       "      <th>159</th>\n",
       "      <td>Zumbi</td>\n",
       "      <td>Rio de Janeiro</td>\n",
       "      <td>RJ</td>\n",
       "      <td>Baixo</td>\n",
       "    </tr>\n",
       "  </tbody>\n",
       "</table>\n",
       "<p>160 rows × 4 columns</p>\n",
       "</div>"
      ],
      "text/plain": [
       "                  nome          cidade estado potencial\n",
       "0             Abolição  Rio de Janeiro     RJ     Médio\n",
       "1                Acari  Rio de Janeiro     RJ     Baixo\n",
       "2           Água Santa  Rio de Janeiro     RJ     Baixo\n",
       "3    Alto Da Boa Vista  Rio de Janeiro     RJ     Médio\n",
       "4             Anchieta  Rio de Janeiro     RJ     Médio\n",
       "..                 ...             ...    ...       ...\n",
       "155        Vila Kosmos  Rio de Janeiro     RJ     Médio\n",
       "156       Vila Militar  Rio de Janeiro     RJ     Médio\n",
       "157     Vila Valqueire  Rio de Janeiro     RJ      Alto\n",
       "158       Vista Alegre  Rio de Janeiro     RJ     Baixo\n",
       "159              Zumbi  Rio de Janeiro     RJ     Baixo\n",
       "\n",
       "[160 rows x 4 columns]"
      ]
     },
     "execution_count": 27,
     "metadata": {},
     "output_type": "execute_result"
    }
   ],
   "source": [
    "cat_attributes"
   ]
  },
  {
   "cell_type": "code",
   "execution_count": 28,
   "id": "375a80e6",
   "metadata": {
    "ExecuteTime": {
     "end_time": "2023-07-03T16:32:36.297740Z",
     "start_time": "2023-07-03T16:32:36.143328Z"
    }
   },
   "outputs": [
    {
     "data": {
      "text/plain": [
       "<Axes: xlabel='potencial', ylabel='count'>"
      ]
     },
     "execution_count": 28,
     "metadata": {},
     "output_type": "execute_result"
    },
    {
     "data": {
      "image/png": "[encoded data removed]",
      "text/plain": [
       "<Figure size 800x550 with 1 Axes>"
      ]
     },
     "metadata": {},
     "output_type": "display_data"
    }
   ],
   "source": [
    "#name \n",
    "sns.countplot(cat_attributes, x='potencial')"
   ]
  },
  {
   "cell_type": "markdown",
   "id": "b845cce4",
   "metadata": {
    "heading_collapsed": true
   },
   "source": [
    "# 2.0 FEATURE ENGINEERING"
   ]
  },
  {
   "cell_type": "code",
   "execution_count": 29,
   "id": "b5eec645",
   "metadata": {
    "ExecuteTime": {
     "end_time": "2023-07-03T16:32:36.313268Z",
     "start_time": "2023-07-03T16:32:36.299242Z"
    },
    "hidden": true
   },
   "outputs": [],
   "source": [
    "df2 = df1.copy()"
   ]
  },
  {
   "cell_type": "code",
   "execution_count": 30,
   "id": "595576e8",
   "metadata": {
    "ExecuteTime": {
     "end_time": "2023-07-03T16:32:36.329370Z",
     "start_time": "2023-07-03T16:32:36.314503Z"
    },
    "hidden": true
   },
   "outputs": [],
   "source": [
    "#remove city, state, ID\n",
    "df2 = df2.drop(['cidade', 'estado', 'codigo'], axis=1)\n"
   ]
  },
  {
   "cell_type": "markdown",
   "id": "fdb95ba7",
   "metadata": {
    "heading_collapsed": true
   },
   "source": [
    "# 3.0 EDA"
   ]
  },
  {
   "cell_type": "code",
   "execution_count": 31,
   "id": "d3ba2479",
   "metadata": {
    "ExecuteTime": {
     "end_time": "2023-07-03T16:32:36.345437Z",
     "start_time": "2023-07-03T16:32:36.330411Z"
    },
    "hidden": true
   },
   "outputs": [],
   "source": [
    "df3 = df2.copy()"
   ]
  },
  {
   "cell_type": "markdown",
   "id": "6d93fd82",
   "metadata": {},
   "source": [
    "# 4.0 DATA PREPARATION"
   ]
  },
  {
   "cell_type": "code",
   "execution_count": 32,
   "id": "312938bb",
   "metadata": {
    "ExecuteTime": {
     "end_time": "2023-07-03T16:32:36.361297Z",
     "start_time": "2023-07-03T16:32:36.347464Z"
    }
   },
   "outputs": [],
   "source": [
    "df4 = df3.copy()"
   ]
  },
  {
   "cell_type": "code",
   "execution_count": 33,
   "id": "1ee3bd72",
   "metadata": {
    "ExecuteTime": {
     "end_time": "2023-07-03T16:32:36.377407Z",
     "start_time": "2023-07-03T16:32:36.363333Z"
    }
   },
   "outputs": [
    {
     "data": {
      "text/html": [
       "<div>\n",
       "<style scoped>\n",
       "    .dataframe tbody tr th:only-of-type {\n",
       "        vertical-align: middle;\n",
       "    }\n",
       "\n",
       "    .dataframe tbody tr th {\n",
       "        vertical-align: top;\n",
       "    }\n",
       "\n",
       "    .dataframe thead th {\n",
       "        text-align: right;\n",
       "    }\n",
       "</style>\n",
       "<table border=\"1\" class=\"dataframe\">\n",
       "  <thead>\n",
       "    <tr style=\"text-align: right;\">\n",
       "      <th></th>\n",
       "      <th>nome</th>\n",
       "      <th>população</th>\n",
       "      <th>pop_ate9</th>\n",
       "      <th>pop_de10a14</th>\n",
       "      <th>pop_de15a19</th>\n",
       "      <th>pop_de20a24</th>\n",
       "      <th>pop_de25a34</th>\n",
       "      <th>pop_de35a49</th>\n",
       "      <th>pop_de50a59</th>\n",
       "      <th>pop_mais_de60</th>\n",
       "      <th>...</th>\n",
       "      <th>domicilios_a2</th>\n",
       "      <th>domicilios_b1</th>\n",
       "      <th>domicilios_b2</th>\n",
       "      <th>domicilios_c1</th>\n",
       "      <th>domicilios_c2</th>\n",
       "      <th>domicilios_d</th>\n",
       "      <th>domicilios_e</th>\n",
       "      <th>renda_media</th>\n",
       "      <th>faturamento</th>\n",
       "      <th>potencial</th>\n",
       "    </tr>\n",
       "  </thead>\n",
       "  <tbody>\n",
       "    <tr>\n",
       "      <th>0</th>\n",
       "      <td>Abolição</td>\n",
       "      <td>11676</td>\n",
       "      <td>1027</td>\n",
       "      <td>483</td>\n",
       "      <td>688</td>\n",
       "      <td>800</td>\n",
       "      <td>1675</td>\n",
       "      <td>2300</td>\n",
       "      <td>1784</td>\n",
       "      <td>2919</td>\n",
       "      <td>...</td>\n",
       "      <td>145</td>\n",
       "      <td>715</td>\n",
       "      <td>1242</td>\n",
       "      <td>1093</td>\n",
       "      <td>758</td>\n",
       "      <td>92</td>\n",
       "      <td>304</td>\n",
       "      <td>2501.0</td>\n",
       "      <td>932515.0</td>\n",
       "      <td>Médio</td>\n",
       "    </tr>\n",
       "    <tr>\n",
       "      <th>1</th>\n",
       "      <td>Acari</td>\n",
       "      <td>27564</td>\n",
       "      <td>5131</td>\n",
       "      <td>2188</td>\n",
       "      <td>2697</td>\n",
       "      <td>2630</td>\n",
       "      <td>4810</td>\n",
       "      <td>5308</td>\n",
       "      <td>2403</td>\n",
       "      <td>2397</td>\n",
       "      <td>...</td>\n",
       "      <td>0</td>\n",
       "      <td>82</td>\n",
       "      <td>506</td>\n",
       "      <td>2040</td>\n",
       "      <td>2490</td>\n",
       "      <td>827</td>\n",
       "      <td>2506</td>\n",
       "      <td>931.0</td>\n",
       "      <td>588833.0</td>\n",
       "      <td>Baixo</td>\n",
       "    </tr>\n",
       "    <tr>\n",
       "      <th>2</th>\n",
       "      <td>Água Santa</td>\n",
       "      <td>9003</td>\n",
       "      <td>883</td>\n",
       "      <td>399</td>\n",
       "      <td>597</td>\n",
       "      <td>762</td>\n",
       "      <td>1755</td>\n",
       "      <td>2076</td>\n",
       "      <td>1112</td>\n",
       "      <td>1419</td>\n",
       "      <td>...</td>\n",
       "      <td>96</td>\n",
       "      <td>404</td>\n",
       "      <td>652</td>\n",
       "      <td>644</td>\n",
       "      <td>522</td>\n",
       "      <td>77</td>\n",
       "      <td>254</td>\n",
       "      <td>2391.0</td>\n",
       "      <td>874200.0</td>\n",
       "      <td>Baixo</td>\n",
       "    </tr>\n",
       "    <tr>\n",
       "      <th>3</th>\n",
       "      <td>Alto Da Boa Vista</td>\n",
       "      <td>9606</td>\n",
       "      <td>1072</td>\n",
       "      <td>538</td>\n",
       "      <td>660</td>\n",
       "      <td>685</td>\n",
       "      <td>1317</td>\n",
       "      <td>2007</td>\n",
       "      <td>1341</td>\n",
       "      <td>1986</td>\n",
       "      <td>...</td>\n",
       "      <td>178</td>\n",
       "      <td>393</td>\n",
       "      <td>517</td>\n",
       "      <td>945</td>\n",
       "      <td>584</td>\n",
       "      <td>137</td>\n",
       "      <td>286</td>\n",
       "      <td>3727.0</td>\n",
       "      <td>912226.0</td>\n",
       "      <td>Médio</td>\n",
       "    </tr>\n",
       "    <tr>\n",
       "      <th>4</th>\n",
       "      <td>Anchieta</td>\n",
       "      <td>57222</td>\n",
       "      <td>7677</td>\n",
       "      <td>3774</td>\n",
       "      <td>4892</td>\n",
       "      <td>4600</td>\n",
       "      <td>8660</td>\n",
       "      <td>12272</td>\n",
       "      <td>7157</td>\n",
       "      <td>8190</td>\n",
       "      <td>...</td>\n",
       "      <td>0</td>\n",
       "      <td>1089</td>\n",
       "      <td>2821</td>\n",
       "      <td>5110</td>\n",
       "      <td>5422</td>\n",
       "      <td>1073</td>\n",
       "      <td>3261</td>\n",
       "      <td>1380.0</td>\n",
       "      <td>553020.0</td>\n",
       "      <td>Médio</td>\n",
       "    </tr>\n",
       "  </tbody>\n",
       "</table>\n",
       "<p>5 rows × 21 columns</p>\n",
       "</div>"
      ],
      "text/plain": [
       "                nome  população  pop_ate9  pop_de10a14  pop_de15a19  \\\n",
       "0           Abolição      11676      1027          483          688   \n",
       "1              Acari      27564      5131         2188         2697   \n",
       "2         Água Santa       9003       883          399          597   \n",
       "3  Alto Da Boa Vista       9606      1072          538          660   \n",
       "4           Anchieta      57222      7677         3774         4892   \n",
       "\n",
       "   pop_de20a24  pop_de25a34  pop_de35a49  pop_de50a59  pop_mais_de60  ...  \\\n",
       "0          800         1675         2300         1784           2919  ...   \n",
       "1         2630         4810         5308         2403           2397  ...   \n",
       "2          762         1755         2076         1112           1419  ...   \n",
       "3          685         1317         2007         1341           1986  ...   \n",
       "4         4600         8660        12272         7157           8190  ...   \n",
       "\n",
       "   domicilios_a2  domicilios_b1  domicilios_b2  domicilios_c1  domicilios_c2  \\\n",
       "0            145            715           1242           1093            758   \n",
       "1              0             82            506           2040           2490   \n",
       "2             96            404            652            644            522   \n",
       "3            178            393            517            945            584   \n",
       "4              0           1089           2821           5110           5422   \n",
       "\n",
       "   domicilios_d  domicilios_e  renda_media  faturamento  potencial  \n",
       "0            92           304       2501.0     932515.0      Médio  \n",
       "1           827          2506        931.0     588833.0      Baixo  \n",
       "2            77           254       2391.0     874200.0      Baixo  \n",
       "3           137           286       3727.0     912226.0      Médio  \n",
       "4          1073          3261       1380.0     553020.0      Médio  \n",
       "\n",
       "[5 rows x 21 columns]"
      ]
     },
     "execution_count": 33,
     "metadata": {},
     "output_type": "execute_result"
    }
   ],
   "source": [
    "df4.head()"
   ]
  },
  {
   "cell_type": "code",
   "execution_count": 34,
   "id": "d7d19957",
   "metadata": {
    "ExecuteTime": {
     "end_time": "2023-07-03T16:32:36.392577Z",
     "start_time": "2023-07-03T16:32:36.378460Z"
    }
   },
   "outputs": [],
   "source": [
    "#potencial\n",
    "df4['potencial'] = df4['potencial'].apply(lambda x: 0 if x == 'Baixo' else 1 if x == 'Médio' else 2)"
   ]
  },
  {
   "cell_type": "code",
   "execution_count": 35,
   "id": "41cc64b6",
   "metadata": {
    "ExecuteTime": {
     "end_time": "2023-07-03T16:32:36.579129Z",
     "start_time": "2023-07-03T16:32:36.393615Z"
    }
   },
   "outputs": [
    {
     "data": {
      "text/plain": [
       "<Axes: xlabel='faturamento', ylabel='Count'>"
      ]
     },
     "execution_count": 35,
     "metadata": {},
     "output_type": "execute_result"
    },
    {
     "data": {
      "image/png": "[encoded data removed]",
      "text/plain": [
       "<Figure size 800x550 with 1 Axes>"
      ]
     },
     "metadata": {},
     "output_type": "display_data"
    }
   ],
   "source": [
    "sns.histplot(df4, x='faturamento', kde=True)"
   ]
  },
  {
   "cell_type": "markdown",
   "id": "e9cc1030",
   "metadata": {},
   "source": [
    "## 4.1 MinMaxScaler"
   ]
  },
  {
   "cell_type": "code",
   "execution_count": 36,
   "id": "977efe31",
   "metadata": {
    "ExecuteTime": {
     "end_time": "2023-07-03T16:32:36.595054Z",
     "start_time": "2023-07-03T16:32:36.581188Z"
    }
   },
   "outputs": [
    {
     "data": {
      "text/plain": [
       "Index(['nome', 'população', 'pop_ate9', 'pop_de10a14', 'pop_de15a19',\n",
       "       'pop_de20a24', 'pop_de25a34', 'pop_de35a49', 'pop_de50a59',\n",
       "       'pop_mais_de60', 'domicilios_a1', 'domicilios_a2', 'domicilios_b1',\n",
       "       'domicilios_b2', 'domicilios_c1', 'domicilios_c2', 'domicilios_d',\n",
       "       'domicilios_e', 'renda_media', 'faturamento', 'potencial'],\n",
       "      dtype='object')"
      ]
     },
     "execution_count": 36,
     "metadata": {},
     "output_type": "execute_result"
    }
   ],
   "source": [
    "df4.columns"
   ]
  },
  {
   "cell_type": "code",
   "execution_count": 37,
   "id": "9ae44ea9",
   "metadata": {
    "ExecuteTime": {
     "end_time": "2023-07-03T16:32:36.610751Z",
     "start_time": "2023-07-03T16:32:36.596083Z"
    }
   },
   "outputs": [],
   "source": [
    "columns_minmax = ['população', 'pop_ate9', 'pop_de10a14', 'pop_de15a19',\n",
    "       'pop_de20a24', 'pop_de25a34', 'pop_de35a49', 'pop_de50a59',\n",
    "       'pop_mais_de60', 'domicilios_a1', 'domicilios_a2', 'domicilios_b1',\n",
    "       'domicilios_b2', 'domicilios_c1', 'domicilios_c2', 'domicilios_d',\n",
    "       'domicilios_e', 'renda_media']\n",
    "\n",
    "mms = pp.MinMaxScaler()\n",
    "\n",
    "for col in columns_minmax:\n",
    "    df4[col] = mms.fit_transform(df4[col].values.reshape(-1,1))"
   ]
  },
  {
   "cell_type": "markdown",
   "id": "caa77707",
   "metadata": {},
   "source": [
    "## 4.2 StandScaler"
   ]
  },
  {
   "cell_type": "code",
   "execution_count": 38,
   "id": "9d4ba9c5",
   "metadata": {
    "ExecuteTime": {
     "end_time": "2023-07-03T16:32:36.625769Z",
     "start_time": "2023-07-03T16:32:36.614782Z"
    }
   },
   "outputs": [],
   "source": [
    "ss = pp.StandardScaler()\n",
    "\n",
    "df4['faturamento'] = ss.fit_transform(df4['faturamento'].values.reshape(-1,1))"
   ]
  },
  {
   "cell_type": "markdown",
   "id": "da4781f6",
   "metadata": {},
   "source": [
    "# 5.0 FEATURE SELECTION"
   ]
  },
  {
   "cell_type": "code",
   "execution_count": 39,
   "id": "a422da58",
   "metadata": {
    "ExecuteTime": {
     "end_time": "2023-07-03T16:32:36.641388Z",
     "start_time": "2023-07-03T16:32:36.627791Z"
    }
   },
   "outputs": [],
   "source": [
    "df5 = df4.copy()"
   ]
  },
  {
   "cell_type": "code",
   "execution_count": 40,
   "id": "d876cbab",
   "metadata": {
    "ExecuteTime": {
     "end_time": "2023-07-03T16:32:36.672109Z",
     "start_time": "2023-07-03T16:32:36.643115Z"
    }
   },
   "outputs": [
    {
     "data": {
      "text/html": [
       "<div>\n",
       "<style scoped>\n",
       "    .dataframe tbody tr th:only-of-type {\n",
       "        vertical-align: middle;\n",
       "    }\n",
       "\n",
       "    .dataframe tbody tr th {\n",
       "        vertical-align: top;\n",
       "    }\n",
       "\n",
       "    .dataframe thead th {\n",
       "        text-align: right;\n",
       "    }\n",
       "</style>\n",
       "<table border=\"1\" class=\"dataframe\">\n",
       "  <thead>\n",
       "    <tr style=\"text-align: right;\">\n",
       "      <th></th>\n",
       "      <th>nome</th>\n",
       "      <th>população</th>\n",
       "      <th>pop_ate9</th>\n",
       "      <th>pop_de10a14</th>\n",
       "      <th>pop_de15a19</th>\n",
       "      <th>pop_de20a24</th>\n",
       "      <th>pop_de25a34</th>\n",
       "      <th>pop_de35a49</th>\n",
       "      <th>pop_de50a59</th>\n",
       "      <th>pop_mais_de60</th>\n",
       "      <th>...</th>\n",
       "      <th>domicilios_a2</th>\n",
       "      <th>domicilios_b1</th>\n",
       "      <th>domicilios_b2</th>\n",
       "      <th>domicilios_c1</th>\n",
       "      <th>domicilios_c2</th>\n",
       "      <th>domicilios_d</th>\n",
       "      <th>domicilios_e</th>\n",
       "      <th>renda_media</th>\n",
       "      <th>faturamento</th>\n",
       "      <th>potencial</th>\n",
       "    </tr>\n",
       "  </thead>\n",
       "  <tbody>\n",
       "    <tr>\n",
       "      <th>0</th>\n",
       "      <td>Abolição</td>\n",
       "      <td>0.017235</td>\n",
       "      <td>0.008111</td>\n",
       "      <td>0.008405</td>\n",
       "      <td>0.010687</td>\n",
       "      <td>0.012931</td>\n",
       "      <td>0.019132</td>\n",
       "      <td>0.021486</td>\n",
       "      <td>0.021289</td>\n",
       "      <td>0.031807</td>\n",
       "      <td>...</td>\n",
       "      <td>0.012427</td>\n",
       "      <td>0.036951</td>\n",
       "      <td>0.058483</td>\n",
       "      <td>0.032864</td>\n",
       "      <td>0.029291</td>\n",
       "      <td>0.018563</td>\n",
       "      <td>0.020363</td>\n",
       "      <td>0.029209</td>\n",
       "      <td>0.129006</td>\n",
       "      <td>1</td>\n",
       "    </tr>\n",
       "    <tr>\n",
       "      <th>1</th>\n",
       "      <td>Acari</td>\n",
       "      <td>0.041040</td>\n",
       "      <td>0.041601</td>\n",
       "      <td>0.038893</td>\n",
       "      <td>0.042924</td>\n",
       "      <td>0.043154</td>\n",
       "      <td>0.055548</td>\n",
       "      <td>0.050058</td>\n",
       "      <td>0.028717</td>\n",
       "      <td>0.026095</td>\n",
       "      <td>...</td>\n",
       "      <td>0.000000</td>\n",
       "      <td>0.004238</td>\n",
       "      <td>0.023826</td>\n",
       "      <td>0.061469</td>\n",
       "      <td>0.096485</td>\n",
       "      <td>0.166868</td>\n",
       "      <td>0.168836</td>\n",
       "      <td>0.004381</td>\n",
       "      <td>-0.657741</td>\n",
       "      <td>0</td>\n",
       "    </tr>\n",
       "    <tr>\n",
       "      <th>2</th>\n",
       "      <td>Água Santa</td>\n",
       "      <td>0.013230</td>\n",
       "      <td>0.006936</td>\n",
       "      <td>0.006902</td>\n",
       "      <td>0.009227</td>\n",
       "      <td>0.012304</td>\n",
       "      <td>0.020061</td>\n",
       "      <td>0.019358</td>\n",
       "      <td>0.013224</td>\n",
       "      <td>0.015395</td>\n",
       "      <td>...</td>\n",
       "      <td>0.008228</td>\n",
       "      <td>0.020879</td>\n",
       "      <td>0.030701</td>\n",
       "      <td>0.019302</td>\n",
       "      <td>0.020135</td>\n",
       "      <td>0.015537</td>\n",
       "      <td>0.016991</td>\n",
       "      <td>0.027470</td>\n",
       "      <td>-0.004487</td>\n",
       "      <td>0</td>\n",
       "    </tr>\n",
       "    <tr>\n",
       "      <th>3</th>\n",
       "      <td>Alto Da Boa Vista</td>\n",
       "      <td>0.014133</td>\n",
       "      <td>0.008479</td>\n",
       "      <td>0.009388</td>\n",
       "      <td>0.010237</td>\n",
       "      <td>0.011032</td>\n",
       "      <td>0.014973</td>\n",
       "      <td>0.018703</td>\n",
       "      <td>0.015972</td>\n",
       "      <td>0.021598</td>\n",
       "      <td>...</td>\n",
       "      <td>0.015255</td>\n",
       "      <td>0.020310</td>\n",
       "      <td>0.024344</td>\n",
       "      <td>0.028394</td>\n",
       "      <td>0.022540</td>\n",
       "      <td>0.027643</td>\n",
       "      <td>0.019149</td>\n",
       "      <td>0.048598</td>\n",
       "      <td>0.082561</td>\n",
       "      <td>1</td>\n",
       "    </tr>\n",
       "    <tr>\n",
       "      <th>4</th>\n",
       "      <td>Anchieta</td>\n",
       "      <td>0.085476</td>\n",
       "      <td>0.062377</td>\n",
       "      <td>0.067254</td>\n",
       "      <td>0.078145</td>\n",
       "      <td>0.075690</td>\n",
       "      <td>0.100269</td>\n",
       "      <td>0.116207</td>\n",
       "      <td>0.085766</td>\n",
       "      <td>0.089479</td>\n",
       "      <td>...</td>\n",
       "      <td>0.000000</td>\n",
       "      <td>0.056279</td>\n",
       "      <td>0.132834</td>\n",
       "      <td>0.154202</td>\n",
       "      <td>0.210234</td>\n",
       "      <td>0.216505</td>\n",
       "      <td>0.219742</td>\n",
       "      <td>0.011481</td>\n",
       "      <td>-0.739723</td>\n",
       "      <td>1</td>\n",
       "    </tr>\n",
       "  </tbody>\n",
       "</table>\n",
       "<p>5 rows × 21 columns</p>\n",
       "</div>"
      ],
      "text/plain": [
       "                nome  população  pop_ate9  pop_de10a14  pop_de15a19  \\\n",
       "0           Abolição   0.017235  0.008111     0.008405     0.010687   \n",
       "1              Acari   0.041040  0.041601     0.038893     0.042924   \n",
       "2         Água Santa   0.013230  0.006936     0.006902     0.009227   \n",
       "3  Alto Da Boa Vista   0.014133  0.008479     0.009388     0.010237   \n",
       "4           Anchieta   0.085476  0.062377     0.067254     0.078145   \n",
       "\n",
       "   pop_de20a24  pop_de25a34  pop_de35a49  pop_de50a59  pop_mais_de60  ...  \\\n",
       "0     0.012931     0.019132     0.021486     0.021289       0.031807  ...   \n",
       "1     0.043154     0.055548     0.050058     0.028717       0.026095  ...   \n",
       "2     0.012304     0.020061     0.019358     0.013224       0.015395  ...   \n",
       "3     0.011032     0.014973     0.018703     0.015972       0.021598  ...   \n",
       "4     0.075690     0.100269     0.116207     0.085766       0.089479  ...   \n",
       "\n",
       "   domicilios_a2  domicilios_b1  domicilios_b2  domicilios_c1  domicilios_c2  \\\n",
       "0       0.012427       0.036951       0.058483       0.032864       0.029291   \n",
       "1       0.000000       0.004238       0.023826       0.061469       0.096485   \n",
       "2       0.008228       0.020879       0.030701       0.019302       0.020135   \n",
       "3       0.015255       0.020310       0.024344       0.028394       0.022540   \n",
       "4       0.000000       0.056279       0.132834       0.154202       0.210234   \n",
       "\n",
       "   domicilios_d  domicilios_e  renda_media  faturamento  potencial  \n",
       "0      0.018563      0.020363     0.029209     0.129006          1  \n",
       "1      0.166868      0.168836     0.004381    -0.657741          0  \n",
       "2      0.015537      0.016991     0.027470    -0.004487          0  \n",
       "3      0.027643      0.019149     0.048598     0.082561          1  \n",
       "4      0.216505      0.219742     0.011481    -0.739723          1  \n",
       "\n",
       "[5 rows x 21 columns]"
      ]
     },
     "execution_count": 40,
     "metadata": {},
     "output_type": "execute_result"
    }
   ],
   "source": [
    "df5.head()"
   ]
  },
  {
   "cell_type": "markdown",
   "id": "12ae3aa1",
   "metadata": {},
   "source": [
    "## 5.1 Random Forest Selection"
   ]
  },
  {
   "cell_type": "code",
   "execution_count": 41,
   "id": "97a33b09",
   "metadata": {
    "ExecuteTime": {
     "end_time": "2023-07-03T16:32:36.687605Z",
     "start_time": "2023-07-03T16:32:36.674174Z"
    }
   },
   "outputs": [],
   "source": [
    "X_train = df5.drop(['nome','faturamento','potencial'], axis=1).copy()\n",
    "y_train = df5['faturamento'].copy()"
   ]
  },
  {
   "cell_type": "code",
   "execution_count": 42,
   "id": "0946655e",
   "metadata": {
    "ExecuteTime": {
     "end_time": "2023-07-03T16:32:36.842576Z",
     "start_time": "2023-07-03T16:32:36.689108Z"
    }
   },
   "outputs": [
    {
     "data": {
      "text/html": [
       "<style>#sk-container-id-1 {color: black;}#sk-container-id-1 pre{padding: 0;}#sk-container-id-1 div.sk-toggleable {background-color: white;}#sk-container-id-1 label.sk-toggleable__label {cursor: pointer;display: block;width: 100%;margin-bottom: 0;padding: 0.3em;box-sizing: border-box;text-align: center;}#sk-container-id-1 label.sk-toggleable__label-arrow:before {content: \"▸\";float: left;margin-right: 0.25em;color: #696969;}#sk-container-id-1 label.sk-toggleable__label-arrow:hover:before {color: black;}#sk-container-id-1 div.sk-estimator:hover label.sk-toggleable__label-arrow:before {color: black;}#sk-container-id-1 div.sk-toggleable__content {max-height: 0;max-width: 0;overflow: hidden;text-align: left;background-color: #f0f8ff;}#sk-container-id-1 div.sk-toggleable__content pre {margin: 0.2em;color: black;border-radius: 0.25em;background-color: #f0f8ff;}#sk-container-id-1 input.sk-toggleable__control:checked~div.sk-toggleable__content {max-height: 200px;max-width: 100%;overflow: auto;}#sk-container-id-1 input.sk-toggleable__control:checked~label.sk-toggleable__label-arrow:before {content: \"▾\";}#sk-container-id-1 div.sk-estimator input.sk-toggleable__control:checked~label.sk-toggleable__label {background-color: #d4ebff;}#sk-container-id-1 div.sk-label input.sk-toggleable__control:checked~label.sk-toggleable__label {background-color: #d4ebff;}#sk-container-id-1 input.sk-hidden--visually {border: 0;clip: rect(1px 1px 1px 1px);clip: rect(1px, 1px, 1px, 1px);height: 1px;margin: -1px;overflow: hidden;padding: 0;position: absolute;width: 1px;}#sk-container-id-1 div.sk-estimator {font-family: monospace;background-color: #f0f8ff;border: 1px dotted black;border-radius: 0.25em;box-sizing: border-box;margin-bottom: 0.5em;}#sk-container-id-1 div.sk-estimator:hover {background-color: #d4ebff;}#sk-container-id-1 div.sk-parallel-item::after {content: \"\";width: 100%;border-bottom: 1px solid gray;flex-grow: 1;}#sk-container-id-1 div.sk-label:hover label.sk-toggleable__label {background-color: #d4ebff;}#sk-container-id-1 div.sk-serial::before {content: \"\";position: absolute;border-left: 1px solid gray;box-sizing: border-box;top: 0;bottom: 0;left: 50%;z-index: 0;}#sk-container-id-1 div.sk-serial {display: flex;flex-direction: column;align-items: center;background-color: white;padding-right: 0.2em;padding-left: 0.2em;position: relative;}#sk-container-id-1 div.sk-item {position: relative;z-index: 1;}#sk-container-id-1 div.sk-parallel {display: flex;align-items: stretch;justify-content: center;background-color: white;position: relative;}#sk-container-id-1 div.sk-item::before, #sk-container-id-1 div.sk-parallel-item::before {content: \"\";position: absolute;border-left: 1px solid gray;box-sizing: border-box;top: 0;bottom: 0;left: 50%;z-index: -1;}#sk-container-id-1 div.sk-parallel-item {display: flex;flex-direction: column;z-index: 1;position: relative;background-color: white;}#sk-container-id-1 div.sk-parallel-item:first-child::after {align-self: flex-end;width: 50%;}#sk-container-id-1 div.sk-parallel-item:last-child::after {align-self: flex-start;width: 50%;}#sk-container-id-1 div.sk-parallel-item:only-child::after {width: 0;}#sk-container-id-1 div.sk-dashed-wrapped {border: 1px dashed gray;margin: 0 0.4em 0.5em 0.4em;box-sizing: border-box;padding-bottom: 0.4em;background-color: white;}#sk-container-id-1 div.sk-label label {font-family: monospace;font-weight: bold;display: inline-block;line-height: 1.2em;}#sk-container-id-1 div.sk-label-container {text-align: center;}#sk-container-id-1 div.sk-container {/* jupyter's `normalize.less` sets `[hidden] { display: none; }` but bootstrap.min.css set `[hidden] { display: none !important; }` so we also need the `!important` here to be able to override the default hidden behavior on the sphinx rendered scikit-learn.org. See: https://github.com/scikit-learn/scikit-learn/issues/21755 */display: inline-block !important;position: relative;}#sk-container-id-1 div.sk-text-repr-fallback {display: none;}</style><div id=\"sk-container-id-1\" class=\"sk-top-container\"><div class=\"sk-text-repr-fallback\"><pre>RandomForestRegressor(n_jobs=-1)</pre><b>In a Jupyter environment, please rerun this cell to show the HTML representation or trust the notebook. <br />On GitHub, the HTML representation is unable to render, please try loading this page with nbviewer.org.</b></div><div class=\"sk-container\" hidden><div class=\"sk-item\"><div class=\"sk-estimator sk-toggleable\"><input class=\"sk-toggleable__control sk-hidden--visually\" id=\"sk-estimator-id-1\" type=\"checkbox\" checked><label for=\"sk-estimator-id-1\" class=\"sk-toggleable__label sk-toggleable__label-arrow\">RandomForestRegressor</label><div class=\"sk-toggleable__content\"><pre>RandomForestRegressor(n_jobs=-1)</pre></div></div></div></div></div>"
      ],
      "text/plain": [
       "RandomForestRegressor(n_jobs=-1)"
      ]
     },
     "execution_count": 42,
     "metadata": {},
     "output_type": "execute_result"
    }
   ],
   "source": [
    "rf = RandomForestRegressor(n_jobs=-1)\n",
    "\n",
    "rf.fit(X_train, y_train)"
   ]
  },
  {
   "cell_type": "code",
   "execution_count": 43,
   "id": "d45db052",
   "metadata": {
    "ExecuteTime": {
     "end_time": "2023-07-03T16:32:36.889296Z",
     "start_time": "2023-07-03T16:32:36.843606Z"
    }
   },
   "outputs": [],
   "source": [
    "importances = rf.feature_importances_\n",
    "columns_importances = X_train.columns"
   ]
  },
  {
   "cell_type": "code",
   "execution_count": 44,
   "id": "4b44bd23",
   "metadata": {
    "ExecuteTime": {
     "end_time": "2023-07-03T16:32:36.904484Z",
     "start_time": "2023-07-03T16:32:36.891572Z"
    }
   },
   "outputs": [],
   "source": [
    "importance_dict = {}\n",
    "for key, value in zip(columns_importances, importances):\n",
    "    importance_dict[key] = value\n",
    "    \n",
    "df_importance = pd.DataFrame(importance_dict, index=[0]).T.rename(columns={0:'Ranking'})"
   ]
  },
  {
   "cell_type": "code",
   "execution_count": 45,
   "id": "d304cfca",
   "metadata": {
    "ExecuteTime": {
     "end_time": "2023-07-03T16:32:36.919342Z",
     "start_time": "2023-07-03T16:32:36.906597Z"
    }
   },
   "outputs": [
    {
     "data": {
      "text/html": [
       "<div>\n",
       "<style scoped>\n",
       "    .dataframe tbody tr th:only-of-type {\n",
       "        vertical-align: middle;\n",
       "    }\n",
       "\n",
       "    .dataframe tbody tr th {\n",
       "        vertical-align: top;\n",
       "    }\n",
       "\n",
       "    .dataframe thead th {\n",
       "        text-align: right;\n",
       "    }\n",
       "</style>\n",
       "<table border=\"1\" class=\"dataframe\">\n",
       "  <thead>\n",
       "    <tr style=\"text-align: right;\">\n",
       "      <th></th>\n",
       "      <th>Ranking</th>\n",
       "    </tr>\n",
       "  </thead>\n",
       "  <tbody>\n",
       "    <tr>\n",
       "      <th>domicilios_a1</th>\n",
       "      <td>0.521543</td>\n",
       "    </tr>\n",
       "    <tr>\n",
       "      <th>domicilios_a2</th>\n",
       "      <td>0.161945</td>\n",
       "    </tr>\n",
       "    <tr>\n",
       "      <th>domicilios_e</th>\n",
       "      <td>0.132381</td>\n",
       "    </tr>\n",
       "    <tr>\n",
       "      <th>domicilios_d</th>\n",
       "      <td>0.061999</td>\n",
       "    </tr>\n",
       "    <tr>\n",
       "      <th>renda_media</th>\n",
       "      <td>0.048637</td>\n",
       "    </tr>\n",
       "    <tr>\n",
       "      <th>pop_ate9</th>\n",
       "      <td>0.023499</td>\n",
       "    </tr>\n",
       "    <tr>\n",
       "      <th>domicilios_c2</th>\n",
       "      <td>0.011431</td>\n",
       "    </tr>\n",
       "    <tr>\n",
       "      <th>pop_mais_de60</th>\n",
       "      <td>0.010851</td>\n",
       "    </tr>\n",
       "    <tr>\n",
       "      <th>domicilios_b1</th>\n",
       "      <td>0.007250</td>\n",
       "    </tr>\n",
       "    <tr>\n",
       "      <th>pop_de20a24</th>\n",
       "      <td>0.005644</td>\n",
       "    </tr>\n",
       "    <tr>\n",
       "      <th>domicilios_b2</th>\n",
       "      <td>0.002625</td>\n",
       "    </tr>\n",
       "    <tr>\n",
       "      <th>pop_de25a34</th>\n",
       "      <td>0.002551</td>\n",
       "    </tr>\n",
       "    <tr>\n",
       "      <th>pop_de10a14</th>\n",
       "      <td>0.002285</td>\n",
       "    </tr>\n",
       "    <tr>\n",
       "      <th>pop_de15a19</th>\n",
       "      <td>0.002249</td>\n",
       "    </tr>\n",
       "    <tr>\n",
       "      <th>domicilios_c1</th>\n",
       "      <td>0.001928</td>\n",
       "    </tr>\n",
       "    <tr>\n",
       "      <th>pop_de35a49</th>\n",
       "      <td>0.001457</td>\n",
       "    </tr>\n",
       "    <tr>\n",
       "      <th>população</th>\n",
       "      <td>0.000926</td>\n",
       "    </tr>\n",
       "    <tr>\n",
       "      <th>pop_de50a59</th>\n",
       "      <td>0.000798</td>\n",
       "    </tr>\n",
       "  </tbody>\n",
       "</table>\n",
       "</div>"
      ],
      "text/plain": [
       "                Ranking\n",
       "domicilios_a1  0.521543\n",
       "domicilios_a2  0.161945\n",
       "domicilios_e   0.132381\n",
       "domicilios_d   0.061999\n",
       "renda_media    0.048637\n",
       "pop_ate9       0.023499\n",
       "domicilios_c2  0.011431\n",
       "pop_mais_de60  0.010851\n",
       "domicilios_b1  0.007250\n",
       "pop_de20a24    0.005644\n",
       "domicilios_b2  0.002625\n",
       "pop_de25a34    0.002551\n",
       "pop_de10a14    0.002285\n",
       "pop_de15a19    0.002249\n",
       "domicilios_c1  0.001928\n",
       "pop_de35a49    0.001457\n",
       "população      0.000926\n",
       "pop_de50a59    0.000798"
      ]
     },
     "execution_count": 45,
     "metadata": {},
     "output_type": "execute_result"
    }
   ],
   "source": [
    "df_importance.sort_values(by='Ranking', ascending=False)"
   ]
  },
  {
   "cell_type": "markdown",
   "id": "88a8aaeb",
   "metadata": {},
   "source": [
    "## 6.0 Machine Learning"
   ]
  },
  {
   "cell_type": "markdown",
   "id": "7a587836",
   "metadata": {},
   "source": [
    "## 6.1 Split Validation and Training"
   ]
  },
  {
   "cell_type": "code",
   "execution_count": 46,
   "id": "11327055",
   "metadata": {
    "ExecuteTime": {
     "end_time": "2023-07-03T16:32:36.934510Z",
     "start_time": "2023-07-03T16:32:36.920858Z"
    }
   },
   "outputs": [],
   "source": [
    "X_train = df5.drop(['nome','faturamento','potencial'], axis=1).copy()\n",
    "y_train = df5['faturamento'].copy()"
   ]
  },
  {
   "cell_type": "code",
   "execution_count": 47,
   "id": "5b2e4f4b",
   "metadata": {
    "ExecuteTime": {
     "end_time": "2023-07-03T16:32:36.950143Z",
     "start_time": "2023-07-03T16:32:36.935886Z"
    }
   },
   "outputs": [],
   "source": [
    "X_test_reg = rename_columns(X_test)\n",
    "X_test_reg['renda_media'] = X_test_reg['renda_media'].replace('-', np.nan)\n",
    "X_test_reg['renda_media'] = X_test_reg['renda_media'].astype(float)\n",
    "X_test_reg['renda_media'] = X_test_reg['renda_media'].fillna(X_test_reg['renda_media'].mean())"
   ]
  },
  {
   "cell_type": "code",
   "execution_count": 48,
   "id": "6734e0df",
   "metadata": {
    "ExecuteTime": {
     "end_time": "2023-07-03T16:32:36.965426Z",
     "start_time": "2023-07-03T16:32:36.951192Z"
    }
   },
   "outputs": [],
   "source": [
    "model_list = [LinearRegression, \n",
    "              SVR,  \n",
    "              RandomForestRegressor, \n",
    "              XGBRegressor, \n",
    "              LGBMRegressor,\n",
    "              CatBoostRegressor]"
   ]
  },
  {
   "cell_type": "code",
   "execution_count": 49,
   "id": "10b24003",
   "metadata": {
    "ExecuteTime": {
     "end_time": "2023-07-03T16:32:48.799230Z",
     "start_time": "2023-07-03T16:32:36.967532Z"
    }
   },
   "outputs": [
    {
     "name": "stdout",
     "output_type": "stream",
     "text": [
      "LinearRegression       R2 Score: 0.018 +/- 2.374 \n",
      "SVR                    R2 Score: 0.697 +/- 0.344 \n",
      "RandomForestRegressor  R2 Score: 0.889 +/- 0.074 \n",
      "XGBRegressor           R2 Score: 0.904 +/- 0.056 \n",
      "LGBMRegressor          R2 Score: 0.682 +/- 0.315 \n",
      "CatBoostRegressor      R2 Score: 0.927 +/- 0.058 \n"
     ]
    }
   ],
   "source": [
    "for model in model_list:\n",
    "    if model.__name__ == 'CatBoostRegressor':\n",
    "        mds = model(verbose=False)\n",
    "    else:\n",
    "        mds = model()\n",
    "    kfold = ms.KFold(n_splits=10)\n",
    "    s = ms.cross_val_score(mds, X_train, y_train, scoring='r2', cv=kfold)\n",
    "    print(f\"{model.__name__:22} R2 Score: {s.mean():.3f} +/- {s.std():.3f} \")"
   ]
  },
  {
   "cell_type": "code",
   "execution_count": 50,
   "id": "149ce6bb",
   "metadata": {
    "ExecuteTime": {
     "end_time": "2023-07-03T16:32:48.815236Z",
     "start_time": "2023-07-03T16:32:48.800262Z"
    }
   },
   "outputs": [],
   "source": [
    "X_train = df3.drop(['nome','faturamento','potencial'], axis=1).copy()\n",
    "y_train = df3['faturamento'].copy()\n",
    "X_train_reg, X_val, y_train_reg, y_val = ms.train_test_split(X_train, y_train, test_size=0.2, random_state=42)"
   ]
  },
  {
   "cell_type": "code",
   "execution_count": 51,
   "id": "ccae45a2",
   "metadata": {
    "ExecuteTime": {
     "end_time": "2023-07-03T16:32:48.830624Z",
     "start_time": "2023-07-03T16:32:48.817317Z"
    }
   },
   "outputs": [
    {
     "data": {
      "text/html": [
       "<div>\n",
       "<style scoped>\n",
       "    .dataframe tbody tr th:only-of-type {\n",
       "        vertical-align: middle;\n",
       "    }\n",
       "\n",
       "    .dataframe tbody tr th {\n",
       "        vertical-align: top;\n",
       "    }\n",
       "\n",
       "    .dataframe thead th {\n",
       "        text-align: right;\n",
       "    }\n",
       "</style>\n",
       "<table border=\"1\" class=\"dataframe\">\n",
       "  <thead>\n",
       "    <tr style=\"text-align: right;\">\n",
       "      <th></th>\n",
       "      <th>população</th>\n",
       "      <th>pop_ate9</th>\n",
       "      <th>pop_de10a14</th>\n",
       "      <th>pop_de15a19</th>\n",
       "      <th>pop_de20a24</th>\n",
       "      <th>pop_de25a34</th>\n",
       "      <th>pop_de35a49</th>\n",
       "      <th>pop_de50a59</th>\n",
       "      <th>pop_mais_de60</th>\n",
       "      <th>domicilios_a1</th>\n",
       "      <th>domicilios_a2</th>\n",
       "      <th>domicilios_b1</th>\n",
       "      <th>domicilios_b2</th>\n",
       "      <th>domicilios_c1</th>\n",
       "      <th>domicilios_c2</th>\n",
       "      <th>domicilios_d</th>\n",
       "      <th>domicilios_e</th>\n",
       "      <th>renda_media</th>\n",
       "    </tr>\n",
       "  </thead>\n",
       "  <tbody>\n",
       "    <tr>\n",
       "      <th>0</th>\n",
       "      <td>11676</td>\n",
       "      <td>1027</td>\n",
       "      <td>483</td>\n",
       "      <td>688</td>\n",
       "      <td>800</td>\n",
       "      <td>1675</td>\n",
       "      <td>2300</td>\n",
       "      <td>1784</td>\n",
       "      <td>2919</td>\n",
       "      <td>0</td>\n",
       "      <td>145</td>\n",
       "      <td>715</td>\n",
       "      <td>1242</td>\n",
       "      <td>1093</td>\n",
       "      <td>758</td>\n",
       "      <td>92</td>\n",
       "      <td>304</td>\n",
       "      <td>2501.0</td>\n",
       "    </tr>\n",
       "    <tr>\n",
       "      <th>1</th>\n",
       "      <td>27564</td>\n",
       "      <td>5131</td>\n",
       "      <td>2188</td>\n",
       "      <td>2697</td>\n",
       "      <td>2630</td>\n",
       "      <td>4810</td>\n",
       "      <td>5308</td>\n",
       "      <td>2403</td>\n",
       "      <td>2397</td>\n",
       "      <td>0</td>\n",
       "      <td>0</td>\n",
       "      <td>82</td>\n",
       "      <td>506</td>\n",
       "      <td>2040</td>\n",
       "      <td>2490</td>\n",
       "      <td>827</td>\n",
       "      <td>2506</td>\n",
       "      <td>931.0</td>\n",
       "    </tr>\n",
       "    <tr>\n",
       "      <th>2</th>\n",
       "      <td>9003</td>\n",
       "      <td>883</td>\n",
       "      <td>399</td>\n",
       "      <td>597</td>\n",
       "      <td>762</td>\n",
       "      <td>1755</td>\n",
       "      <td>2076</td>\n",
       "      <td>1112</td>\n",
       "      <td>1419</td>\n",
       "      <td>0</td>\n",
       "      <td>96</td>\n",
       "      <td>404</td>\n",
       "      <td>652</td>\n",
       "      <td>644</td>\n",
       "      <td>522</td>\n",
       "      <td>77</td>\n",
       "      <td>254</td>\n",
       "      <td>2391.0</td>\n",
       "    </tr>\n",
       "    <tr>\n",
       "      <th>3</th>\n",
       "      <td>9606</td>\n",
       "      <td>1072</td>\n",
       "      <td>538</td>\n",
       "      <td>660</td>\n",
       "      <td>685</td>\n",
       "      <td>1317</td>\n",
       "      <td>2007</td>\n",
       "      <td>1341</td>\n",
       "      <td>1986</td>\n",
       "      <td>114</td>\n",
       "      <td>178</td>\n",
       "      <td>393</td>\n",
       "      <td>517</td>\n",
       "      <td>945</td>\n",
       "      <td>584</td>\n",
       "      <td>137</td>\n",
       "      <td>286</td>\n",
       "      <td>3727.0</td>\n",
       "    </tr>\n",
       "    <tr>\n",
       "      <th>4</th>\n",
       "      <td>57222</td>\n",
       "      <td>7677</td>\n",
       "      <td>3774</td>\n",
       "      <td>4892</td>\n",
       "      <td>4600</td>\n",
       "      <td>8660</td>\n",
       "      <td>12272</td>\n",
       "      <td>7157</td>\n",
       "      <td>8190</td>\n",
       "      <td>0</td>\n",
       "      <td>0</td>\n",
       "      <td>1089</td>\n",
       "      <td>2821</td>\n",
       "      <td>5110</td>\n",
       "      <td>5422</td>\n",
       "      <td>1073</td>\n",
       "      <td>3261</td>\n",
       "      <td>1380.0</td>\n",
       "    </tr>\n",
       "    <tr>\n",
       "      <th>...</th>\n",
       "      <td>...</td>\n",
       "      <td>...</td>\n",
       "      <td>...</td>\n",
       "      <td>...</td>\n",
       "      <td>...</td>\n",
       "      <td>...</td>\n",
       "      <td>...</td>\n",
       "      <td>...</td>\n",
       "      <td>...</td>\n",
       "      <td>...</td>\n",
       "      <td>...</td>\n",
       "      <td>...</td>\n",
       "      <td>...</td>\n",
       "      <td>...</td>\n",
       "      <td>...</td>\n",
       "      <td>...</td>\n",
       "      <td>...</td>\n",
       "      <td>...</td>\n",
       "    </tr>\n",
       "    <tr>\n",
       "      <th>155</th>\n",
       "      <td>18791</td>\n",
       "      <td>1802</td>\n",
       "      <td>921</td>\n",
       "      <td>1442</td>\n",
       "      <td>1462</td>\n",
       "      <td>2500</td>\n",
       "      <td>3944</td>\n",
       "      <td>2920</td>\n",
       "      <td>3800</td>\n",
       "      <td>0</td>\n",
       "      <td>259</td>\n",
       "      <td>774</td>\n",
       "      <td>1363</td>\n",
       "      <td>1923</td>\n",
       "      <td>1379</td>\n",
       "      <td>190</td>\n",
       "      <td>405</td>\n",
       "      <td>2316.0</td>\n",
       "    </tr>\n",
       "    <tr>\n",
       "      <th>156</th>\n",
       "      <td>13556</td>\n",
       "      <td>1888</td>\n",
       "      <td>787</td>\n",
       "      <td>1042</td>\n",
       "      <td>982</td>\n",
       "      <td>2542</td>\n",
       "      <td>2908</td>\n",
       "      <td>1528</td>\n",
       "      <td>1879</td>\n",
       "      <td>0</td>\n",
       "      <td>219</td>\n",
       "      <td>714</td>\n",
       "      <td>828</td>\n",
       "      <td>1051</td>\n",
       "      <td>1012</td>\n",
       "      <td>116</td>\n",
       "      <td>465</td>\n",
       "      <td>2416.0</td>\n",
       "    </tr>\n",
       "    <tr>\n",
       "      <th>157</th>\n",
       "      <td>33190</td>\n",
       "      <td>3166</td>\n",
       "      <td>1619</td>\n",
       "      <td>2255</td>\n",
       "      <td>2326</td>\n",
       "      <td>4752</td>\n",
       "      <td>7183</td>\n",
       "      <td>4950</td>\n",
       "      <td>6939</td>\n",
       "      <td>0</td>\n",
       "      <td>906</td>\n",
       "      <td>2866</td>\n",
       "      <td>2241</td>\n",
       "      <td>2982</td>\n",
       "      <td>1200</td>\n",
       "      <td>360</td>\n",
       "      <td>772</td>\n",
       "      <td>3189.0</td>\n",
       "    </tr>\n",
       "    <tr>\n",
       "      <th>158</th>\n",
       "      <td>8867</td>\n",
       "      <td>724</td>\n",
       "      <td>387</td>\n",
       "      <td>580</td>\n",
       "      <td>565</td>\n",
       "      <td>1205</td>\n",
       "      <td>1812</td>\n",
       "      <td>1474</td>\n",
       "      <td>2120</td>\n",
       "      <td>0</td>\n",
       "      <td>87</td>\n",
       "      <td>556</td>\n",
       "      <td>836</td>\n",
       "      <td>940</td>\n",
       "      <td>484</td>\n",
       "      <td>75</td>\n",
       "      <td>214</td>\n",
       "      <td>2418.0</td>\n",
       "    </tr>\n",
       "    <tr>\n",
       "      <th>159</th>\n",
       "      <td>2072</td>\n",
       "      <td>175</td>\n",
       "      <td>74</td>\n",
       "      <td>120</td>\n",
       "      <td>121</td>\n",
       "      <td>318</td>\n",
       "      <td>417</td>\n",
       "      <td>314</td>\n",
       "      <td>533</td>\n",
       "      <td>0</td>\n",
       "      <td>89</td>\n",
       "      <td>234</td>\n",
       "      <td>177</td>\n",
       "      <td>147</td>\n",
       "      <td>72</td>\n",
       "      <td>10</td>\n",
       "      <td>47</td>\n",
       "      <td>3791.0</td>\n",
       "    </tr>\n",
       "  </tbody>\n",
       "</table>\n",
       "<p>160 rows × 18 columns</p>\n",
       "</div>"
      ],
      "text/plain": [
       "     população  pop_ate9  pop_de10a14  pop_de15a19  pop_de20a24  pop_de25a34  \\\n",
       "0        11676      1027          483          688          800         1675   \n",
       "1        27564      5131         2188         2697         2630         4810   \n",
       "2         9003       883          399          597          762         1755   \n",
       "3         9606      1072          538          660          685         1317   \n",
       "4        57222      7677         3774         4892         4600         8660   \n",
       "..         ...       ...          ...          ...          ...          ...   \n",
       "155      18791      1802          921         1442         1462         2500   \n",
       "156      13556      1888          787         1042          982         2542   \n",
       "157      33190      3166         1619         2255         2326         4752   \n",
       "158       8867       724          387          580          565         1205   \n",
       "159       2072       175           74          120          121          318   \n",
       "\n",
       "     pop_de35a49  pop_de50a59  pop_mais_de60  domicilios_a1  domicilios_a2  \\\n",
       "0           2300         1784           2919              0            145   \n",
       "1           5308         2403           2397              0              0   \n",
       "2           2076         1112           1419              0             96   \n",
       "3           2007         1341           1986            114            178   \n",
       "4          12272         7157           8190              0              0   \n",
       "..           ...          ...            ...            ...            ...   \n",
       "155         3944         2920           3800              0            259   \n",
       "156         2908         1528           1879              0            219   \n",
       "157         7183         4950           6939              0            906   \n",
       "158         1812         1474           2120              0             87   \n",
       "159          417          314            533              0             89   \n",
       "\n",
       "     domicilios_b1  domicilios_b2  domicilios_c1  domicilios_c2  domicilios_d  \\\n",
       "0              715           1242           1093            758            92   \n",
       "1               82            506           2040           2490           827   \n",
       "2              404            652            644            522            77   \n",
       "3              393            517            945            584           137   \n",
       "4             1089           2821           5110           5422          1073   \n",
       "..             ...            ...            ...            ...           ...   \n",
       "155            774           1363           1923           1379           190   \n",
       "156            714            828           1051           1012           116   \n",
       "157           2866           2241           2982           1200           360   \n",
       "158            556            836            940            484            75   \n",
       "159            234            177            147             72            10   \n",
       "\n",
       "     domicilios_e  renda_media  \n",
       "0             304       2501.0  \n",
       "1            2506        931.0  \n",
       "2             254       2391.0  \n",
       "3             286       3727.0  \n",
       "4            3261       1380.0  \n",
       "..            ...          ...  \n",
       "155           405       2316.0  \n",
       "156           465       2416.0  \n",
       "157           772       3189.0  \n",
       "158           214       2418.0  \n",
       "159            47       3791.0  \n",
       "\n",
       "[160 rows x 18 columns]"
      ]
     },
     "execution_count": 51,
     "metadata": {},
     "output_type": "execute_result"
    }
   ],
   "source": [
    "X_train"
   ]
  },
  {
   "cell_type": "markdown",
   "id": "4969565e",
   "metadata": {},
   "source": [
    "## 6.1 Random Forest Regressor"
   ]
  },
  {
   "cell_type": "code",
   "execution_count": 52,
   "id": "0e9a1eef",
   "metadata": {
    "ExecuteTime": {
     "end_time": "2023-07-03T16:32:49.032441Z",
     "start_time": "2023-07-03T16:32:48.832824Z"
    }
   },
   "outputs": [],
   "source": [
    "model_rf = RandomForestRegressor(n_jobs=-1, random_state=42)\n",
    "\n",
    "model_rf.fit(X_train_reg, y_train_reg)\n",
    "\n",
    "yhat_rf = model_rf.predict(X_val)"
   ]
  },
  {
   "cell_type": "code",
   "execution_count": 53,
   "id": "900d195a",
   "metadata": {
    "ExecuteTime": {
     "end_time": "2023-07-03T16:32:49.047679Z",
     "start_time": "2023-07-03T16:32:49.034491Z"
    }
   },
   "outputs": [],
   "source": [
    "rf_error = regression_error(RandomForestRegressor, y_val, yhat_rf)"
   ]
  },
  {
   "cell_type": "markdown",
   "id": "d17733bc",
   "metadata": {},
   "source": [
    "## 6.2 XGBoost Regressor"
   ]
  },
  {
   "cell_type": "code",
   "execution_count": 54,
   "id": "0de7f4dd",
   "metadata": {
    "ExecuteTime": {
     "end_time": "2023-07-03T16:32:49.111352Z",
     "start_time": "2023-07-03T16:32:49.049204Z"
    }
   },
   "outputs": [],
   "source": [
    "model_xgb = XGBRegressor(random_state=42)\n",
    "\n",
    "model_xgb.fit(X_train_reg, y_train_reg)\n",
    "\n",
    "yhat_xgb = model_xgb.predict(X_val)"
   ]
  },
  {
   "cell_type": "code",
   "execution_count": 55,
   "id": "30ce7c96",
   "metadata": {
    "ExecuteTime": {
     "end_time": "2023-07-03T16:32:49.127079Z",
     "start_time": "2023-07-03T16:32:49.113383Z"
    }
   },
   "outputs": [],
   "source": [
    "xgb_error = regression_error(XGBRegressor, y_val, yhat_xgb)"
   ]
  },
  {
   "cell_type": "markdown",
   "id": "49ce84ff",
   "metadata": {},
   "source": [
    "## 6.3 CatboostRegressor"
   ]
  },
  {
   "cell_type": "code",
   "execution_count": 56,
   "id": "a33096f3",
   "metadata": {
    "ExecuteTime": {
     "end_time": "2023-07-03T16:32:49.975025Z",
     "start_time": "2023-07-03T16:32:49.129407Z"
    }
   },
   "outputs": [],
   "source": [
    "model_cat = CatBoostRegressor(random_state=42, verbose=False)\n",
    "\n",
    "model_cat.fit(X_train_reg, y_train_reg)\n",
    "\n",
    "cat_error = yhat_cat = model_cat.predict(X_val)"
   ]
  },
  {
   "cell_type": "code",
   "execution_count": 57,
   "id": "081d92fe",
   "metadata": {
    "ExecuteTime": {
     "end_time": "2023-07-03T16:32:49.990362Z",
     "start_time": "2023-07-03T16:32:49.976026Z"
    }
   },
   "outputs": [],
   "source": [
    "cat_error = regression_error(CatBoostRegressor, y_val, yhat_cat)"
   ]
  },
  {
   "cell_type": "markdown",
   "id": "f912bc6b",
   "metadata": {},
   "source": [
    "## 6.4 Compare Models"
   ]
  },
  {
   "cell_type": "code",
   "execution_count": 58,
   "id": "e384b2dc",
   "metadata": {
    "ExecuteTime": {
     "end_time": "2023-07-03T16:32:50.006065Z",
     "start_time": "2023-07-03T16:32:49.992585Z"
    }
   },
   "outputs": [
    {
     "data": {
      "text/html": [
       "<div>\n",
       "<style scoped>\n",
       "    .dataframe tbody tr th:only-of-type {\n",
       "        vertical-align: middle;\n",
       "    }\n",
       "\n",
       "    .dataframe tbody tr th {\n",
       "        vertical-align: top;\n",
       "    }\n",
       "\n",
       "    .dataframe thead th {\n",
       "        text-align: right;\n",
       "    }\n",
       "</style>\n",
       "<table border=\"1\" class=\"dataframe\">\n",
       "  <thead>\n",
       "    <tr style=\"text-align: right;\">\n",
       "      <th></th>\n",
       "      <th>Modelo</th>\n",
       "      <th>MAE</th>\n",
       "      <th>MAPE</th>\n",
       "      <th>RMSE</th>\n",
       "    </tr>\n",
       "  </thead>\n",
       "  <tbody>\n",
       "    <tr>\n",
       "      <th>0</th>\n",
       "      <td>XGBRegressor</td>\n",
       "      <td>89393.518066</td>\n",
       "      <td>0.085659</td>\n",
       "      <td>144947.772808</td>\n",
       "    </tr>\n",
       "    <tr>\n",
       "      <th>0</th>\n",
       "      <td>RandomForestRegressor</td>\n",
       "      <td>95204.485625</td>\n",
       "      <td>0.097258</td>\n",
       "      <td>167035.755028</td>\n",
       "    </tr>\n",
       "    <tr>\n",
       "      <th>0</th>\n",
       "      <td>CatBoostRegressor</td>\n",
       "      <td>111220.614795</td>\n",
       "      <td>0.082948</td>\n",
       "      <td>268968.023491</td>\n",
       "    </tr>\n",
       "  </tbody>\n",
       "</table>\n",
       "</div>"
      ],
      "text/plain": [
       "                  Modelo            MAE      MAPE           RMSE\n",
       "0           XGBRegressor   89393.518066  0.085659  144947.772808\n",
       "0  RandomForestRegressor   95204.485625  0.097258  167035.755028\n",
       "0      CatBoostRegressor  111220.614795  0.082948  268968.023491"
      ]
     },
     "execution_count": 58,
     "metadata": {},
     "output_type": "execute_result"
    }
   ],
   "source": [
    "df_compare = pd.DataFrame()\n",
    "df_compare = pd.concat([rf_error, xgb_error, cat_error])\n",
    "df_compare.sort_values(by='RMSE')"
   ]
  },
  {
   "cell_type": "code",
   "execution_count": null,
   "id": "a0bba4cf",
   "metadata": {},
   "outputs": [],
   "source": []
  },
  {
   "cell_type": "markdown",
   "id": "1665e039",
   "metadata": {},
   "source": [
    "## 6.5 Cross Validation"
   ]
  },
  {
   "cell_type": "code",
   "execution_count": 59,
   "id": "764cfe6b",
   "metadata": {
    "ExecuteTime": {
     "end_time": "2023-07-03T16:33:02.449633Z",
     "start_time": "2023-07-03T16:32:50.008179Z"
    }
   },
   "outputs": [
    {
     "name": "stdout",
     "output_type": "stream",
     "text": [
      "RandomForestRegressor  MAPE: -0.207 +/- 0.109 \n",
      "XGBRegressor           MAPE: -0.180 +/- 0.103 \n",
      "CatBoostRegressor      MAPE: -0.159 +/- 0.097 \n"
     ]
    }
   ],
   "source": [
    "model_cross_list = [RandomForestRegressor, \n",
    "                    XGBRegressor, \n",
    "                    CatBoostRegressor]\n",
    "\n",
    "for model in model_cross_list:\n",
    "    if model == CatBoostRegressor:\n",
    "        mds = model(verbose=False)\n",
    "    else:\n",
    "        mds = model()\n",
    "    kfold = ms.KFold(n_splits=10)\n",
    "    s = ms.cross_val_score(mds, X_train, ss.inverse_transform(np.array(y_train).reshape(-1,1)), scoring='neg_mean_absolute_percentage_error', cv=kfold)\n",
    "    print(f\"{model.__name__:22} MAPE: {s.mean():.3f} +/- {s.std():.3f} \")"
   ]
  },
  {
   "cell_type": "markdown",
   "id": "5cf56c06",
   "metadata": {},
   "source": [
    "## 7.0 Modelo Escolhido CatBoost"
   ]
  },
  {
   "cell_type": "code",
   "execution_count": 60,
   "id": "447dcca8",
   "metadata": {
    "ExecuteTime": {
     "end_time": "2023-07-03T16:33:02.465310Z",
     "start_time": "2023-07-03T16:33:02.452196Z"
    }
   },
   "outputs": [],
   "source": [
    "# #Fine Tuning\n",
    "# search_space = {\n",
    "#     'iterations': (100, 1000),  # Número de iterações\n",
    "#     'learning_rate': (0.01, 0.5),  # Taxa de aprendizado\n",
    "#     'depth': (3, 10),  # Profundidade da árvore\n",
    "#     'l2_leaf_reg': (1, 10),  # Regularização L2\n",
    "#     'bagging_temperature': (0.0, 1.0),  # Temperatura de amostragem\n",
    "#     'border_count': (1, 255)  # Contagem de borda\n",
    "# }\n",
    "\n",
    "# bayes_search = skopt.BayesSearchCV(estimator=CatBoostRegressor(verbose=False), search_spaces=search_space, n_iter=50, random_state=42)"
   ]
  },
  {
   "cell_type": "code",
   "execution_count": 61,
   "id": "18bdc887",
   "metadata": {
    "ExecuteTime": {
     "end_time": "2023-07-03T16:33:02.480681Z",
     "start_time": "2023-07-03T16:33:02.466627Z"
    }
   },
   "outputs": [],
   "source": [
    "# bayes_search.fit(X_train, y_train)\n",
    "# best_params = bayes_search.best_params_\n",
    "# final_model = CatBoostRegressor(**best_params, random_state=42, verbose=False)\n",
    "\n",
    "# final_model.fit(X_train_reg, y_train_reg)\n",
    "\n",
    "# yhat_final_cat = final_model.predict(X_val)\n",
    "# regression_error(CatBoostRegressor, ss.inverse_transform(np.array(y_val).reshape(-1,1)), ss.inverse_transform(yhat_final_cat.reshape(-1,1)))"
   ]
  },
  {
   "cell_type": "markdown",
   "id": "1da9e161",
   "metadata": {
    "heading_collapsed": true
   },
   "source": [
    "# 8.0 Predict on Test"
   ]
  },
  {
   "cell_type": "code",
   "execution_count": 62,
   "id": "851d0d59",
   "metadata": {
    "ExecuteTime": {
     "end_time": "2023-07-03T16:33:02.496471Z",
     "start_time": "2023-07-03T16:33:02.482765Z"
    },
    "hidden": true
   },
   "outputs": [],
   "source": [
    "X_test_reg = X_test_reg.drop(['codigo','nome','cidade','estado','faturamento','potencial'], axis=1)"
   ]
  },
  {
   "cell_type": "code",
   "execution_count": 63,
   "id": "29402b9e",
   "metadata": {
    "ExecuteTime": {
     "end_time": "2023-07-03T16:33:02.512462Z",
     "start_time": "2023-07-03T16:33:02.498538Z"
    },
    "hidden": true
   },
   "outputs": [],
   "source": [
    "yhat_test = model_xgb.predict(X_test_reg)"
   ]
  },
  {
   "cell_type": "code",
   "execution_count": 64,
   "id": "19857dff",
   "metadata": {
    "ExecuteTime": {
     "end_time": "2023-07-03T16:33:02.527792Z",
     "start_time": "2023-07-03T16:33:02.514464Z"
    },
    "hidden": true
   },
   "outputs": [],
   "source": [
    "faturamentos_sp = yhat_test"
   ]
  },
  {
   "cell_type": "code",
   "execution_count": 65,
   "id": "0dcca36c",
   "metadata": {
    "ExecuteTime": {
     "end_time": "2023-07-03T16:33:02.543827Z",
     "start_time": "2023-07-03T16:33:02.530309Z"
    },
    "hidden": true
   },
   "outputs": [],
   "source": [
    "X_test_reg = X_test.copy()"
   ]
  },
  {
   "cell_type": "code",
   "execution_count": 66,
   "id": "1ed8af76",
   "metadata": {
    "ExecuteTime": {
     "end_time": "2023-07-03T16:33:02.559350Z",
     "start_time": "2023-07-03T16:33:02.546333Z"
    },
    "hidden": true
   },
   "outputs": [],
   "source": [
    "X_test_reg['faturamento'] = faturamentos_sp"
   ]
  },
  {
   "cell_type": "code",
   "execution_count": 67,
   "id": "1d4021d0",
   "metadata": {
    "ExecuteTime": {
     "end_time": "2023-07-03T16:33:02.590631Z",
     "start_time": "2023-07-03T16:33:02.561372Z"
    },
    "hidden": true
   },
   "outputs": [
    {
     "data": {
      "text/html": [
       "<div>\n",
       "<style scoped>\n",
       "    .dataframe tbody tr th:only-of-type {\n",
       "        vertical-align: middle;\n",
       "    }\n",
       "\n",
       "    .dataframe tbody tr th {\n",
       "        vertical-align: top;\n",
       "    }\n",
       "\n",
       "    .dataframe thead th {\n",
       "        text-align: right;\n",
       "    }\n",
       "</style>\n",
       "<table border=\"1\" class=\"dataframe\">\n",
       "  <thead>\n",
       "    <tr style=\"text-align: right;\">\n",
       "      <th></th>\n",
       "      <th>codigo</th>\n",
       "      <th>nome</th>\n",
       "      <th>cidade</th>\n",
       "      <th>estado</th>\n",
       "      <th>população</th>\n",
       "      <th>pop_ate9</th>\n",
       "      <th>pop_de10a14</th>\n",
       "      <th>pop_de15a19</th>\n",
       "      <th>pop_de20a24</th>\n",
       "      <th>pop_de25a34</th>\n",
       "      <th>...</th>\n",
       "      <th>domicilios_a2</th>\n",
       "      <th>domicilios_b1</th>\n",
       "      <th>domicilios_b2</th>\n",
       "      <th>domicilios_c1</th>\n",
       "      <th>domicilios_c2</th>\n",
       "      <th>domicilios_d</th>\n",
       "      <th>domicilios_e</th>\n",
       "      <th>renda_media</th>\n",
       "      <th>faturamento</th>\n",
       "      <th>potencial</th>\n",
       "    </tr>\n",
       "  </thead>\n",
       "  <tbody>\n",
       "    <tr>\n",
       "      <th>160</th>\n",
       "      <td>355030251</td>\n",
       "      <td>A. E. Carvalho</td>\n",
       "      <td>São Paulo</td>\n",
       "      <td>SP</td>\n",
       "      <td>94034</td>\n",
       "      <td>12668</td>\n",
       "      <td>6853</td>\n",
       "      <td>9836</td>\n",
       "      <td>7487</td>\n",
       "      <td>14535</td>\n",
       "      <td>...</td>\n",
       "      <td>253</td>\n",
       "      <td>2197</td>\n",
       "      <td>4368</td>\n",
       "      <td>6681</td>\n",
       "      <td>7011</td>\n",
       "      <td>2247</td>\n",
       "      <td>5670</td>\n",
       "      <td>1501.0</td>\n",
       "      <td>2.402675e+05</td>\n",
       "      <td>NaN</td>\n",
       "    </tr>\n",
       "    <tr>\n",
       "      <th>161</th>\n",
       "      <td>35503020</td>\n",
       "      <td>Aclimação</td>\n",
       "      <td>São Paulo</td>\n",
       "      <td>SP</td>\n",
       "      <td>32791</td>\n",
       "      <td>2297</td>\n",
       "      <td>1017</td>\n",
       "      <td>2096</td>\n",
       "      <td>2197</td>\n",
       "      <td>5341</td>\n",
       "      <td>...</td>\n",
       "      <td>1734</td>\n",
       "      <td>3704</td>\n",
       "      <td>2351</td>\n",
       "      <td>1946</td>\n",
       "      <td>827</td>\n",
       "      <td>291</td>\n",
       "      <td>1617</td>\n",
       "      <td>5920.0</td>\n",
       "      <td>1.525346e+06</td>\n",
       "      <td>NaN</td>\n",
       "    </tr>\n",
       "    <tr>\n",
       "      <th>162</th>\n",
       "      <td>355030285</td>\n",
       "      <td>Adventista</td>\n",
       "      <td>São Paulo</td>\n",
       "      <td>SP</td>\n",
       "      <td>104193</td>\n",
       "      <td>15070</td>\n",
       "      <td>7343</td>\n",
       "      <td>10631</td>\n",
       "      <td>8657</td>\n",
       "      <td>17749</td>\n",
       "      <td>...</td>\n",
       "      <td>0</td>\n",
       "      <td>1423</td>\n",
       "      <td>4875</td>\n",
       "      <td>8595</td>\n",
       "      <td>10082</td>\n",
       "      <td>3111</td>\n",
       "      <td>5776</td>\n",
       "      <td>1284.0</td>\n",
       "      <td>1.860776e+05</td>\n",
       "      <td>NaN</td>\n",
       "    </tr>\n",
       "    <tr>\n",
       "      <th>163</th>\n",
       "      <td>35503088</td>\n",
       "      <td>Água Branca</td>\n",
       "      <td>São Paulo</td>\n",
       "      <td>SP</td>\n",
       "      <td>12721</td>\n",
       "      <td>953</td>\n",
       "      <td>343</td>\n",
       "      <td>627</td>\n",
       "      <td>819</td>\n",
       "      <td>2142</td>\n",
       "      <td>...</td>\n",
       "      <td>667</td>\n",
       "      <td>1558</td>\n",
       "      <td>1032</td>\n",
       "      <td>915</td>\n",
       "      <td>361</td>\n",
       "      <td>84</td>\n",
       "      <td>404</td>\n",
       "      <td>6278.0</td>\n",
       "      <td>1.267278e+06</td>\n",
       "      <td>NaN</td>\n",
       "    </tr>\n",
       "    <tr>\n",
       "      <th>164</th>\n",
       "      <td>35503066</td>\n",
       "      <td>Água Funda</td>\n",
       "      <td>São Paulo</td>\n",
       "      <td>SP</td>\n",
       "      <td>48417</td>\n",
       "      <td>5078</td>\n",
       "      <td>2396</td>\n",
       "      <td>4018</td>\n",
       "      <td>3571</td>\n",
       "      <td>7388</td>\n",
       "      <td>...</td>\n",
       "      <td>303</td>\n",
       "      <td>1794</td>\n",
       "      <td>2986</td>\n",
       "      <td>4489</td>\n",
       "      <td>2836</td>\n",
       "      <td>1104</td>\n",
       "      <td>2553</td>\n",
       "      <td>1905.0</td>\n",
       "      <td>7.460072e+05</td>\n",
       "      <td>NaN</td>\n",
       "    </tr>\n",
       "    <tr>\n",
       "      <th>...</th>\n",
       "      <td>...</td>\n",
       "      <td>...</td>\n",
       "      <td>...</td>\n",
       "      <td>...</td>\n",
       "      <td>...</td>\n",
       "      <td>...</td>\n",
       "      <td>...</td>\n",
       "      <td>...</td>\n",
       "      <td>...</td>\n",
       "      <td>...</td>\n",
       "      <td>...</td>\n",
       "      <td>...</td>\n",
       "      <td>...</td>\n",
       "      <td>...</td>\n",
       "      <td>...</td>\n",
       "      <td>...</td>\n",
       "      <td>...</td>\n",
       "      <td>...</td>\n",
       "      <td>...</td>\n",
       "      <td>...</td>\n",
       "      <td>...</td>\n",
       "    </tr>\n",
       "    <tr>\n",
       "      <th>451</th>\n",
       "      <td>355030213</td>\n",
       "      <td>Vila Sônia</td>\n",
       "      <td>São Paulo</td>\n",
       "      <td>SP</td>\n",
       "      <td>34061</td>\n",
       "      <td>2908</td>\n",
       "      <td>1462</td>\n",
       "      <td>2253</td>\n",
       "      <td>2076</td>\n",
       "      <td>4579</td>\n",
       "      <td>...</td>\n",
       "      <td>1089</td>\n",
       "      <td>2866</td>\n",
       "      <td>2219</td>\n",
       "      <td>2216</td>\n",
       "      <td>1227</td>\n",
       "      <td>306</td>\n",
       "      <td>1098</td>\n",
       "      <td>5285.0</td>\n",
       "      <td>1.262652e+06</td>\n",
       "      <td>NaN</td>\n",
       "    </tr>\n",
       "    <tr>\n",
       "      <th>452</th>\n",
       "      <td>355030207</td>\n",
       "      <td>Vila Suzana</td>\n",
       "      <td>São Paulo</td>\n",
       "      <td>SP</td>\n",
       "      <td>35403</td>\n",
       "      <td>4127</td>\n",
       "      <td>1890</td>\n",
       "      <td>2678</td>\n",
       "      <td>2433</td>\n",
       "      <td>5855</td>\n",
       "      <td>...</td>\n",
       "      <td>1522</td>\n",
       "      <td>2458</td>\n",
       "      <td>1186</td>\n",
       "      <td>1166</td>\n",
       "      <td>918</td>\n",
       "      <td>209</td>\n",
       "      <td>3840</td>\n",
       "      <td>7418.0</td>\n",
       "      <td>1.467358e+06</td>\n",
       "      <td>NaN</td>\n",
       "    </tr>\n",
       "    <tr>\n",
       "      <th>453</th>\n",
       "      <td>355030162</td>\n",
       "      <td>Vila Terezinha</td>\n",
       "      <td>São Paulo</td>\n",
       "      <td>SP</td>\n",
       "      <td>122359</td>\n",
       "      <td>18304</td>\n",
       "      <td>9304</td>\n",
       "      <td>13258</td>\n",
       "      <td>9965</td>\n",
       "      <td>19248</td>\n",
       "      <td>...</td>\n",
       "      <td>0</td>\n",
       "      <td>1758</td>\n",
       "      <td>4517</td>\n",
       "      <td>9450</td>\n",
       "      <td>11473</td>\n",
       "      <td>3218</td>\n",
       "      <td>7540</td>\n",
       "      <td>1252.0</td>\n",
       "      <td>7.132221e+04</td>\n",
       "      <td>NaN</td>\n",
       "    </tr>\n",
       "    <tr>\n",
       "      <th>454</th>\n",
       "      <td>355030157</td>\n",
       "      <td>Vila Zatt</td>\n",
       "      <td>São Paulo</td>\n",
       "      <td>SP</td>\n",
       "      <td>125864</td>\n",
       "      <td>14670</td>\n",
       "      <td>7305</td>\n",
       "      <td>11225</td>\n",
       "      <td>9338</td>\n",
       "      <td>18841</td>\n",
       "      <td>...</td>\n",
       "      <td>872</td>\n",
       "      <td>5093</td>\n",
       "      <td>8063</td>\n",
       "      <td>10012</td>\n",
       "      <td>8082</td>\n",
       "      <td>2856</td>\n",
       "      <td>6853</td>\n",
       "      <td>1936.0</td>\n",
       "      <td>1.078105e+05</td>\n",
       "      <td>NaN</td>\n",
       "    </tr>\n",
       "    <tr>\n",
       "      <th>455</th>\n",
       "      <td>355030164</td>\n",
       "      <td>Vista Alegre</td>\n",
       "      <td>São Paulo</td>\n",
       "      <td>SP</td>\n",
       "      <td>106</td>\n",
       "      <td>23</td>\n",
       "      <td>7</td>\n",
       "      <td>15</td>\n",
       "      <td>11</td>\n",
       "      <td>15</td>\n",
       "      <td>...</td>\n",
       "      <td>0</td>\n",
       "      <td>0</td>\n",
       "      <td>6</td>\n",
       "      <td>9</td>\n",
       "      <td>8</td>\n",
       "      <td>2</td>\n",
       "      <td>4</td>\n",
       "      <td>1288.0</td>\n",
       "      <td>8.368932e+05</td>\n",
       "      <td>NaN</td>\n",
       "    </tr>\n",
       "  </tbody>\n",
       "</table>\n",
       "<p>296 rows × 24 columns</p>\n",
       "</div>"
      ],
      "text/plain": [
       "        codigo            nome     cidade estado  população  pop_ate9  \\\n",
       "160  355030251  A. E. Carvalho  São Paulo     SP      94034     12668   \n",
       "161   35503020       Aclimação  São Paulo     SP      32791      2297   \n",
       "162  355030285      Adventista  São Paulo     SP     104193     15070   \n",
       "163   35503088     Água Branca  São Paulo     SP      12721       953   \n",
       "164   35503066      Água Funda  São Paulo     SP      48417      5078   \n",
       "..         ...             ...        ...    ...        ...       ...   \n",
       "451  355030213      Vila Sônia  São Paulo     SP      34061      2908   \n",
       "452  355030207     Vila Suzana  São Paulo     SP      35403      4127   \n",
       "453  355030162  Vila Terezinha  São Paulo     SP     122359     18304   \n",
       "454  355030157       Vila Zatt  São Paulo     SP     125864     14670   \n",
       "455  355030164    Vista Alegre  São Paulo     SP        106        23   \n",
       "\n",
       "     pop_de10a14  pop_de15a19  pop_de20a24  pop_de25a34  ...  domicilios_a2  \\\n",
       "160         6853         9836         7487        14535  ...            253   \n",
       "161         1017         2096         2197         5341  ...           1734   \n",
       "162         7343        10631         8657        17749  ...              0   \n",
       "163          343          627          819         2142  ...            667   \n",
       "164         2396         4018         3571         7388  ...            303   \n",
       "..           ...          ...          ...          ...  ...            ...   \n",
       "451         1462         2253         2076         4579  ...           1089   \n",
       "452         1890         2678         2433         5855  ...           1522   \n",
       "453         9304        13258         9965        19248  ...              0   \n",
       "454         7305        11225         9338        18841  ...            872   \n",
       "455            7           15           11           15  ...              0   \n",
       "\n",
       "     domicilios_b1  domicilios_b2  domicilios_c1  domicilios_c2  domicilios_d  \\\n",
       "160           2197           4368           6681           7011          2247   \n",
       "161           3704           2351           1946            827           291   \n",
       "162           1423           4875           8595          10082          3111   \n",
       "163           1558           1032            915            361            84   \n",
       "164           1794           2986           4489           2836          1104   \n",
       "..             ...            ...            ...            ...           ...   \n",
       "451           2866           2219           2216           1227           306   \n",
       "452           2458           1186           1166            918           209   \n",
       "453           1758           4517           9450          11473          3218   \n",
       "454           5093           8063          10012           8082          2856   \n",
       "455              0              6              9              8             2   \n",
       "\n",
       "     domicilios_e  renda_media   faturamento  potencial  \n",
       "160          5670       1501.0  2.402675e+05        NaN  \n",
       "161          1617       5920.0  1.525346e+06        NaN  \n",
       "162          5776       1284.0  1.860776e+05        NaN  \n",
       "163           404       6278.0  1.267278e+06        NaN  \n",
       "164          2553       1905.0  7.460072e+05        NaN  \n",
       "..            ...          ...           ...        ...  \n",
       "451          1098       5285.0  1.262652e+06        NaN  \n",
       "452          3840       7418.0  1.467358e+06        NaN  \n",
       "453          7540       1252.0  7.132221e+04        NaN  \n",
       "454          6853       1936.0  1.078105e+05        NaN  \n",
       "455             4       1288.0  8.368932e+05        NaN  \n",
       "\n",
       "[296 rows x 24 columns]"
      ]
     },
     "execution_count": 67,
     "metadata": {},
     "output_type": "execute_result"
    }
   ],
   "source": [
    "X_test_reg"
   ]
  },
  {
   "cell_type": "markdown",
   "id": "bb061aca",
   "metadata": {},
   "source": [
    "# 9.0 Classificator"
   ]
  },
  {
   "cell_type": "markdown",
   "id": "cec4a864",
   "metadata": {},
   "source": [
    "## 9.1 Random Forest Importances"
   ]
  },
  {
   "cell_type": "code",
   "execution_count": 68,
   "id": "5b93b4c6",
   "metadata": {
    "ExecuteTime": {
     "end_time": "2023-07-03T16:33:02.778063Z",
     "start_time": "2023-07-03T16:33:02.592633Z"
    }
   },
   "outputs": [
    {
     "data": {
      "text/html": [
       "<div>\n",
       "<style scoped>\n",
       "    .dataframe tbody tr th:only-of-type {\n",
       "        vertical-align: middle;\n",
       "    }\n",
       "\n",
       "    .dataframe tbody tr th {\n",
       "        vertical-align: top;\n",
       "    }\n",
       "\n",
       "    .dataframe thead th {\n",
       "        text-align: right;\n",
       "    }\n",
       "</style>\n",
       "<table border=\"1\" class=\"dataframe\">\n",
       "  <thead>\n",
       "    <tr style=\"text-align: right;\">\n",
       "      <th></th>\n",
       "      <th>Ranking</th>\n",
       "    </tr>\n",
       "  </thead>\n",
       "  <tbody>\n",
       "    <tr>\n",
       "      <th>domicilios_b1</th>\n",
       "      <td>0.222377</td>\n",
       "    </tr>\n",
       "    <tr>\n",
       "      <th>domicilios_a2</th>\n",
       "      <td>0.170421</td>\n",
       "    </tr>\n",
       "    <tr>\n",
       "      <th>domicilios_b2</th>\n",
       "      <td>0.092400</td>\n",
       "    </tr>\n",
       "    <tr>\n",
       "      <th>renda_media</th>\n",
       "      <td>0.073595</td>\n",
       "    </tr>\n",
       "    <tr>\n",
       "      <th>pop_mais_de60</th>\n",
       "      <td>0.072726</td>\n",
       "    </tr>\n",
       "    <tr>\n",
       "      <th>pop_de50a59</th>\n",
       "      <td>0.054474</td>\n",
       "    </tr>\n",
       "    <tr>\n",
       "      <th>faturamento</th>\n",
       "      <td>0.051884</td>\n",
       "    </tr>\n",
       "    <tr>\n",
       "      <th>pop_de35a49</th>\n",
       "      <td>0.032359</td>\n",
       "    </tr>\n",
       "    <tr>\n",
       "      <th>população</th>\n",
       "      <td>0.031641</td>\n",
       "    </tr>\n",
       "    <tr>\n",
       "      <th>pop_de25a34</th>\n",
       "      <td>0.026481</td>\n",
       "    </tr>\n",
       "    <tr>\n",
       "      <th>domicilios_c1</th>\n",
       "      <td>0.026283</td>\n",
       "    </tr>\n",
       "    <tr>\n",
       "      <th>domicilios_e</th>\n",
       "      <td>0.024634</td>\n",
       "    </tr>\n",
       "    <tr>\n",
       "      <th>domicilios_a1</th>\n",
       "      <td>0.022157</td>\n",
       "    </tr>\n",
       "    <tr>\n",
       "      <th>pop_de15a19</th>\n",
       "      <td>0.020408</td>\n",
       "    </tr>\n",
       "    <tr>\n",
       "      <th>domicilios_c2</th>\n",
       "      <td>0.018709</td>\n",
       "    </tr>\n",
       "    <tr>\n",
       "      <th>domicilios_d</th>\n",
       "      <td>0.018119</td>\n",
       "    </tr>\n",
       "    <tr>\n",
       "      <th>pop_de20a24</th>\n",
       "      <td>0.017162</td>\n",
       "    </tr>\n",
       "    <tr>\n",
       "      <th>pop_ate9</th>\n",
       "      <td>0.012569</td>\n",
       "    </tr>\n",
       "    <tr>\n",
       "      <th>pop_de10a14</th>\n",
       "      <td>0.011603</td>\n",
       "    </tr>\n",
       "  </tbody>\n",
       "</table>\n",
       "</div>"
      ],
      "text/plain": [
       "                Ranking\n",
       "domicilios_b1  0.222377\n",
       "domicilios_a2  0.170421\n",
       "domicilios_b2  0.092400\n",
       "renda_media    0.073595\n",
       "pop_mais_de60  0.072726\n",
       "pop_de50a59    0.054474\n",
       "faturamento    0.051884\n",
       "pop_de35a49    0.032359\n",
       "população      0.031641\n",
       "pop_de25a34    0.026481\n",
       "domicilios_c1  0.026283\n",
       "domicilios_e   0.024634\n",
       "domicilios_a1  0.022157\n",
       "pop_de15a19    0.020408\n",
       "domicilios_c2  0.018709\n",
       "domicilios_d   0.018119\n",
       "pop_de20a24    0.017162\n",
       "pop_ate9       0.012569\n",
       "pop_de10a14    0.011603"
      ]
     },
     "execution_count": 68,
     "metadata": {},
     "output_type": "execute_result"
    }
   ],
   "source": [
    "X_train_class = df5.drop(['nome','potencial'], axis=1).copy()\n",
    "y_train_class = df5['potencial'].copy()\n",
    "\n",
    "rf = RandomForestClassifier(n_jobs=-1)\n",
    "\n",
    "rf.fit(X_train_class, y_train_class)\n",
    "\n",
    "importances = rf.feature_importances_\n",
    "columns_importances = X_train_class.columns\n",
    "\n",
    "importance_dict = {}\n",
    "for key, value in zip(columns_importances, importances):\n",
    "    importance_dict[key] = value\n",
    "    \n",
    "df_importance = pd.DataFrame(importance_dict, index=[0]).T.rename(columns={0:'Ranking'})\n",
    "\n",
    "df_importance.sort_values(by='Ranking', ascending=False)"
   ]
  },
  {
   "cell_type": "markdown",
   "id": "6b261da6",
   "metadata": {},
   "source": [
    "\n",
    "## 9.2 Model Selection"
   ]
  },
  {
   "cell_type": "code",
   "execution_count": 69,
   "id": "7c4ad2ca",
   "metadata": {
    "ExecuteTime": {
     "end_time": "2023-07-03T16:33:02.793847Z",
     "start_time": "2023-07-03T16:33:02.779611Z"
    }
   },
   "outputs": [],
   "source": [
    "X_train = df5.drop(['nome','potencial'], axis=1).copy()\n",
    "y_train = df5['potencial'].copy()\n",
    "\n",
    "\n",
    "model_list = [KNeighborsClassifier,   \n",
    "              RandomForestClassifier, \n",
    "              XGBClassifier, \n",
    "              LGBMClassifier,\n",
    "              CatBoostClassifier]"
   ]
  },
  {
   "cell_type": "code",
   "execution_count": 70,
   "id": "ed59520f",
   "metadata": {
    "ExecuteTime": {
     "end_time": "2023-07-03T16:33:24.253765Z",
     "start_time": "2023-07-03T16:33:02.794880Z"
    }
   },
   "outputs": [
    {
     "name": "stdout",
     "output_type": "stream",
     "text": [
      "KNeighborsClassifier   ACC score: nan +/- nan \n",
      "RandomForestClassifier ACC score: 0.900 +/- 0.031 \n",
      "XGBClassifier          ACC score: 0.856 +/- 0.069 \n",
      "LGBMClassifier         ACC score: 0.856 +/- 0.063 \n",
      "CatBoostClassifier     ACC score: 0.869 +/- 0.081 \n"
     ]
    }
   ],
   "source": [
    "for model in model_list:\n",
    "    if model.__name__ == 'CatBoostClassifier':\n",
    "        mds = model(verbose=False)\n",
    "    elif model.__name__ == 'KNeighborsClassifier':\n",
    "        mds = model(n_neighbors=3)\n",
    "    else:\n",
    "        mds=model()\n",
    "    kfold = ms.KFold(n_splits=10)\n",
    "    s = ms.cross_val_score(mds, X_train, y_train, scoring='accuracy', cv=kfold)\n",
    "    print(f\"{model.__name__:22} ACC score: {s.mean():.3f} +/- {s.std():.3f} \")"
   ]
  },
  {
   "cell_type": "markdown",
   "id": "006c259f",
   "metadata": {
    "heading_collapsed": true
   },
   "source": [
    "# 10.0 Models"
   ]
  },
  {
   "cell_type": "code",
   "execution_count": 71,
   "id": "d3c1f7b6",
   "metadata": {
    "ExecuteTime": {
     "end_time": "2023-07-03T16:33:24.269513Z",
     "start_time": "2023-07-03T16:33:24.257431Z"
    },
    "hidden": true
   },
   "outputs": [],
   "source": [
    "df10 = df3.copy()"
   ]
  },
  {
   "cell_type": "code",
   "execution_count": 72,
   "id": "4f8db885",
   "metadata": {
    "ExecuteTime": {
     "end_time": "2023-07-03T16:33:24.285048Z",
     "start_time": "2023-07-03T16:33:24.271601Z"
    },
    "hidden": true
   },
   "outputs": [],
   "source": [
    "df10['potencial'] = df10['potencial'].apply(lambda x: 0 if x == 'Baixo' else 1 if x == 'Médio' else 2)"
   ]
  },
  {
   "cell_type": "code",
   "execution_count": 73,
   "id": "2753acea",
   "metadata": {
    "ExecuteTime": {
     "end_time": "2023-07-03T16:33:24.300775Z",
     "start_time": "2023-07-03T16:33:24.287063Z"
    },
    "hidden": true
   },
   "outputs": [],
   "source": [
    "X_train = df10.drop(['nome','potencial'], axis=1).copy()\n",
    "y_train = df10['potencial'].copy()\n",
    "X_train_class, X_val_class, y_train_class, y_val_class = ms.train_test_split(X_train, y_train, test_size=0.2, random_state=42)"
   ]
  },
  {
   "cell_type": "markdown",
   "id": "554ab3e7",
   "metadata": {
    "hidden": true
   },
   "source": [
    "## 10.1 RandomForestClassifier"
   ]
  },
  {
   "cell_type": "code",
   "execution_count": 74,
   "id": "22d25be9",
   "metadata": {
    "ExecuteTime": {
     "end_time": "2023-07-03T16:33:24.486666Z",
     "start_time": "2023-07-03T16:33:24.302822Z"
    },
    "hidden": true
   },
   "outputs": [],
   "source": [
    "model_rf_class = RandomForestClassifier(n_jobs=-1, random_state=42)\n",
    "\n",
    "model_rf_class.fit(X_train_class, y_train_class)\n",
    "\n",
    "yhat_rf_class = model_rf_class.predict(X_val_class)"
   ]
  },
  {
   "cell_type": "code",
   "execution_count": 75,
   "id": "f3823946",
   "metadata": {
    "ExecuteTime": {
     "end_time": "2023-07-03T16:33:24.502252Z",
     "start_time": "2023-07-03T16:33:24.488894Z"
    },
    "hidden": true
   },
   "outputs": [],
   "source": [
    "metrics_rf = classification_metrics(RandomForestClassifier, y_val_class, yhat_rf_class)"
   ]
  },
  {
   "cell_type": "markdown",
   "id": "7e08c88d",
   "metadata": {
    "hidden": true
   },
   "source": [
    "## 10.2 XGBoost"
   ]
  },
  {
   "cell_type": "code",
   "execution_count": 76,
   "id": "a3483563",
   "metadata": {
    "ExecuteTime": {
     "end_time": "2023-07-03T16:33:24.565257Z",
     "start_time": "2023-07-03T16:33:24.503253Z"
    },
    "hidden": true
   },
   "outputs": [],
   "source": [
    "model_xgb_class = XGBClassifier(random_state=42)\n",
    "\n",
    "model_xgb_class.fit(X_train_class, y_train_class)\n",
    "\n",
    "yhat_xgb_class = model_xgb_class.predict(X_val_class)"
   ]
  },
  {
   "cell_type": "code",
   "execution_count": 77,
   "id": "22b0f3a1",
   "metadata": {
    "ExecuteTime": {
     "end_time": "2023-07-03T16:33:24.596823Z",
     "start_time": "2023-07-03T16:33:24.566258Z"
    },
    "hidden": true
   },
   "outputs": [],
   "source": [
    "metrics_xgb = classification_metrics(XGBClassifier, y_val_class, yhat_xgb_class)"
   ]
  },
  {
   "cell_type": "markdown",
   "id": "8962cee3",
   "metadata": {
    "hidden": true
   },
   "source": [
    "## 10.3 LGBM"
   ]
  },
  {
   "cell_type": "code",
   "execution_count": 78,
   "id": "3f623213",
   "metadata": {
    "ExecuteTime": {
     "end_time": "2023-07-03T16:33:24.643248Z",
     "start_time": "2023-07-03T16:33:24.598825Z"
    },
    "hidden": true
   },
   "outputs": [],
   "source": [
    "model_lgb_class = LGBMClassifier(random_state=42)\n",
    "\n",
    "model_lgb_class.fit(X_train_class, y_train_class)\n",
    "\n",
    "yhat_lgb_class = model_lgb_class.predict(X_val_class)"
   ]
  },
  {
   "cell_type": "code",
   "execution_count": 79,
   "id": "78f26d28",
   "metadata": {
    "ExecuteTime": {
     "end_time": "2023-07-03T16:33:24.659772Z",
     "start_time": "2023-07-03T16:33:24.644749Z"
    },
    "hidden": true
   },
   "outputs": [],
   "source": [
    "metrics_lgb = classification_metrics(LGBMClassifier, y_val_class, yhat_lgb_class)"
   ]
  },
  {
   "cell_type": "markdown",
   "id": "a328d0d9",
   "metadata": {
    "hidden": true
   },
   "source": [
    "## 10.4 Catboost"
   ]
  },
  {
   "cell_type": "code",
   "execution_count": 80,
   "id": "c0d3d098",
   "metadata": {
    "ExecuteTime": {
     "end_time": "2023-07-03T16:33:26.297679Z",
     "start_time": "2023-07-03T16:33:24.660800Z"
    },
    "hidden": true
   },
   "outputs": [],
   "source": [
    "model_cat_class = CatBoostClassifier(verbose=False, random_state=42)\n",
    "\n",
    "model_cat_class.fit(X_train_class, y_train_class)\n",
    "\n",
    "yhat_cat_class = model_cat_class.predict(X_val_class)"
   ]
  },
  {
   "cell_type": "code",
   "execution_count": 81,
   "id": "19f140e4",
   "metadata": {
    "ExecuteTime": {
     "end_time": "2023-07-03T16:33:26.313320Z",
     "start_time": "2023-07-03T16:33:26.298680Z"
    },
    "hidden": true
   },
   "outputs": [],
   "source": [
    "metrics_cat = classification_metrics(CatBoostClassifier, y_val_class, yhat_cat_class)"
   ]
  },
  {
   "cell_type": "markdown",
   "id": "155030bd",
   "metadata": {
    "hidden": true
   },
   "source": [
    "## 10.5 Compare Models"
   ]
  },
  {
   "cell_type": "code",
   "execution_count": 82,
   "id": "b1ab872f",
   "metadata": {
    "ExecuteTime": {
     "end_time": "2023-07-03T16:33:26.328094Z",
     "start_time": "2023-07-03T16:33:26.314353Z"
    },
    "hidden": true
   },
   "outputs": [
    {
     "data": {
      "text/html": [
       "<div>\n",
       "<style scoped>\n",
       "    .dataframe tbody tr th:only-of-type {\n",
       "        vertical-align: middle;\n",
       "    }\n",
       "\n",
       "    .dataframe tbody tr th {\n",
       "        vertical-align: top;\n",
       "    }\n",
       "\n",
       "    .dataframe thead th {\n",
       "        text-align: right;\n",
       "    }\n",
       "</style>\n",
       "<table border=\"1\" class=\"dataframe\">\n",
       "  <thead>\n",
       "    <tr style=\"text-align: right;\">\n",
       "      <th></th>\n",
       "      <th>Modelo</th>\n",
       "      <th>Accuracy</th>\n",
       "      <th>Precision (micro)</th>\n",
       "      <th>Recall (micro)</th>\n",
       "      <th>F1 Score (micro)</th>\n",
       "      <th>Precision (macro)</th>\n",
       "      <th>Recall (macro)</th>\n",
       "      <th>F1 Score (macro)</th>\n",
       "    </tr>\n",
       "  </thead>\n",
       "  <tbody>\n",
       "    <tr>\n",
       "      <th>0</th>\n",
       "      <td>LGBMClassifier</td>\n",
       "      <td>0.96875</td>\n",
       "      <td>0.96875</td>\n",
       "      <td>0.96875</td>\n",
       "      <td>0.96875</td>\n",
       "      <td>0.966667</td>\n",
       "      <td>0.972222</td>\n",
       "      <td>0.967963</td>\n",
       "    </tr>\n",
       "    <tr>\n",
       "      <th>0</th>\n",
       "      <td>XGBClassifier</td>\n",
       "      <td>0.93750</td>\n",
       "      <td>0.93750</td>\n",
       "      <td>0.93750</td>\n",
       "      <td>0.93750</td>\n",
       "      <td>0.939394</td>\n",
       "      <td>0.944444</td>\n",
       "      <td>0.936364</td>\n",
       "    </tr>\n",
       "    <tr>\n",
       "      <th>0</th>\n",
       "      <td>CatBoostClassifier</td>\n",
       "      <td>0.93750</td>\n",
       "      <td>0.93750</td>\n",
       "      <td>0.93750</td>\n",
       "      <td>0.93750</td>\n",
       "      <td>0.935185</td>\n",
       "      <td>0.935185</td>\n",
       "      <td>0.935185</td>\n",
       "    </tr>\n",
       "    <tr>\n",
       "      <th>0</th>\n",
       "      <td>RandomForestClassifier</td>\n",
       "      <td>0.93750</td>\n",
       "      <td>0.93750</td>\n",
       "      <td>0.93750</td>\n",
       "      <td>0.93750</td>\n",
       "      <td>0.935185</td>\n",
       "      <td>0.935185</td>\n",
       "      <td>0.933977</td>\n",
       "    </tr>\n",
       "  </tbody>\n",
       "</table>\n",
       "</div>"
      ],
      "text/plain": [
       "                   Modelo  Accuracy  Precision (micro)  Recall (micro)  \\\n",
       "0          LGBMClassifier   0.96875            0.96875         0.96875   \n",
       "0           XGBClassifier   0.93750            0.93750         0.93750   \n",
       "0      CatBoostClassifier   0.93750            0.93750         0.93750   \n",
       "0  RandomForestClassifier   0.93750            0.93750         0.93750   \n",
       "\n",
       "   F1 Score (micro)  Precision (macro)  Recall (macro)  F1 Score (macro)  \n",
       "0           0.96875           0.966667        0.972222          0.967963  \n",
       "0           0.93750           0.939394        0.944444          0.936364  \n",
       "0           0.93750           0.935185        0.935185          0.935185  \n",
       "0           0.93750           0.935185        0.935185          0.933977  "
      ]
     },
     "execution_count": 82,
     "metadata": {},
     "output_type": "execute_result"
    }
   ],
   "source": [
    "compare_class = pd.concat([metrics_rf, metrics_xgb, metrics_lgb, metrics_cat])\n",
    "compare_class.sort_values(by='F1 Score (macro)', ascending=False)"
   ]
  },
  {
   "cell_type": "markdown",
   "id": "a1e7af47",
   "metadata": {},
   "source": [
    "# 11 Model - LGBM"
   ]
  },
  {
   "cell_type": "code",
   "execution_count": 83,
   "id": "3bc1ec2c",
   "metadata": {
    "ExecuteTime": {
     "end_time": "2023-07-03T16:33:26.343656Z",
     "start_time": "2023-07-03T16:33:26.329599Z"
    }
   },
   "outputs": [],
   "source": [
    "X_test_class = X_test_reg.drop(['codigo', 'nome','cidade','estado','potencial'], axis=1)"
   ]
  },
  {
   "cell_type": "code",
   "execution_count": 84,
   "id": "a987827c",
   "metadata": {
    "ExecuteTime": {
     "end_time": "2023-07-03T16:33:26.358833Z",
     "start_time": "2023-07-03T16:33:26.345161Z"
    }
   },
   "outputs": [],
   "source": [
    "X_test_class = rename_columns(X_test_class)\n",
    "X_test_class['renda_media'] = X_test_class['renda_media'].replace('-', np.nan)\n",
    "X_test_class['renda_media'] = X_test_class['renda_media'].astype(float)\n",
    "X_test_class['renda_media'] = X_test_class['renda_media'].fillna(X_test_class['renda_media'].mean())"
   ]
  },
  {
   "cell_type": "code",
   "execution_count": 85,
   "id": "f5f8571e",
   "metadata": {
    "ExecuteTime": {
     "end_time": "2023-07-03T16:33:26.374882Z",
     "start_time": "2023-07-03T16:33:26.360340Z"
    }
   },
   "outputs": [],
   "source": [
    "#predict\n",
    "yhat_lgb_class_final = model_lgb_class.predict(X_test_class)"
   ]
  },
  {
   "cell_type": "code",
   "execution_count": 86,
   "id": "fb2735a7",
   "metadata": {
    "ExecuteTime": {
     "end_time": "2023-07-03T16:33:26.390927Z",
     "start_time": "2023-07-03T16:33:26.376885Z"
    }
   },
   "outputs": [
    {
     "data": {
      "text/plain": [
       "array([2, 2, 1, 2, 2, 2, 2, 2, 2, 2, 1, 2, 0, 2, 0, 1, 2, 0, 2, 2, 1, 2,\n",
       "       2, 0, 2, 0, 2, 1, 2, 0, 2, 2, 2, 1, 1, 2, 2, 2, 0, 0, 2, 0, 1, 2,\n",
       "       2, 0, 0, 1, 1, 1, 2, 2, 1, 2, 2, 2, 1, 1, 1, 1, 1, 2, 2, 1, 0, 1,\n",
       "       2, 0, 0, 0, 1, 0, 0, 1, 0, 1, 1, 1, 2, 0, 0, 2, 2, 2, 1, 1, 1, 2,\n",
       "       0, 1, 2, 1, 2, 1, 1, 1, 2, 2, 0, 1, 2, 2, 2, 1, 2, 1, 2, 2, 1, 1,\n",
       "       2, 1, 2, 1, 1, 1, 2, 2, 1, 1, 0, 2, 1, 2, 2, 1, 1, 0, 2, 1, 2, 1,\n",
       "       1, 1, 0, 2, 2, 2, 1, 1, 1, 2, 0, 2, 1, 2, 1, 2, 0, 1, 1, 2, 1, 0,\n",
       "       2, 2, 1, 2, 2, 2, 2, 2, 2, 2, 2, 0, 1, 1, 2, 1, 2, 2, 2, 1, 1, 1,\n",
       "       1, 2, 1, 2, 2, 2, 0, 0, 0, 0, 1, 1, 0, 2, 1, 1, 2, 1, 2, 1, 1, 1,\n",
       "       2, 2, 1, 0, 2, 2, 2, 2, 2, 2, 1, 1, 0, 2, 1, 1, 1, 2, 0, 0, 2, 1,\n",
       "       0, 1, 2, 2, 2, 2, 1, 1, 0, 1, 2, 2, 2, 1, 0, 2, 0, 2, 2, 1, 2, 2,\n",
       "       2, 2, 2, 0, 2, 2, 0, 2, 2, 2, 2, 0, 2, 2, 1, 1, 1, 2, 2, 2, 0, 2,\n",
       "       2, 2, 2, 0, 2, 2, 1, 1, 2, 2, 1, 2, 2, 2, 2, 1, 2, 2, 1, 2, 0, 2,\n",
       "       1, 1, 2, 1, 1, 2, 2, 1, 2, 0], dtype=int64)"
      ]
     },
     "execution_count": 86,
     "metadata": {},
     "output_type": "execute_result"
    }
   ],
   "source": [
    "yhat_lgb_class_final"
   ]
  },
  {
   "cell_type": "code",
   "execution_count": 87,
   "id": "ef8e7a3c",
   "metadata": {
    "ExecuteTime": {
     "end_time": "2023-07-03T16:33:26.406962Z",
     "start_time": "2023-07-03T16:33:26.392929Z"
    }
   },
   "outputs": [],
   "source": [
    "X_test_class = X_test_reg.copy()\n",
    "X_test_class['potencial'] = yhat_lgb_class_final"
   ]
  },
  {
   "cell_type": "code",
   "execution_count": 88,
   "id": "c45687cd",
   "metadata": {
    "ExecuteTime": {
     "end_time": "2023-07-03T16:33:26.438514Z",
     "start_time": "2023-07-03T16:33:26.408964Z"
    }
   },
   "outputs": [
    {
     "data": {
      "text/html": [
       "<div>\n",
       "<style scoped>\n",
       "    .dataframe tbody tr th:only-of-type {\n",
       "        vertical-align: middle;\n",
       "    }\n",
       "\n",
       "    .dataframe tbody tr th {\n",
       "        vertical-align: top;\n",
       "    }\n",
       "\n",
       "    .dataframe thead th {\n",
       "        text-align: right;\n",
       "    }\n",
       "</style>\n",
       "<table border=\"1\" class=\"dataframe\">\n",
       "  <thead>\n",
       "    <tr style=\"text-align: right;\">\n",
       "      <th></th>\n",
       "      <th>codigo</th>\n",
       "      <th>nome</th>\n",
       "      <th>cidade</th>\n",
       "      <th>estado</th>\n",
       "      <th>população</th>\n",
       "      <th>pop_ate9</th>\n",
       "      <th>pop_de10a14</th>\n",
       "      <th>pop_de15a19</th>\n",
       "      <th>pop_de20a24</th>\n",
       "      <th>pop_de25a34</th>\n",
       "      <th>...</th>\n",
       "      <th>domicilios_a2</th>\n",
       "      <th>domicilios_b1</th>\n",
       "      <th>domicilios_b2</th>\n",
       "      <th>domicilios_c1</th>\n",
       "      <th>domicilios_c2</th>\n",
       "      <th>domicilios_d</th>\n",
       "      <th>domicilios_e</th>\n",
       "      <th>renda_media</th>\n",
       "      <th>faturamento</th>\n",
       "      <th>potencial</th>\n",
       "    </tr>\n",
       "  </thead>\n",
       "  <tbody>\n",
       "    <tr>\n",
       "      <th>160</th>\n",
       "      <td>355030251</td>\n",
       "      <td>A. E. Carvalho</td>\n",
       "      <td>São Paulo</td>\n",
       "      <td>SP</td>\n",
       "      <td>94034</td>\n",
       "      <td>12668</td>\n",
       "      <td>6853</td>\n",
       "      <td>9836</td>\n",
       "      <td>7487</td>\n",
       "      <td>14535</td>\n",
       "      <td>...</td>\n",
       "      <td>253</td>\n",
       "      <td>2197</td>\n",
       "      <td>4368</td>\n",
       "      <td>6681</td>\n",
       "      <td>7011</td>\n",
       "      <td>2247</td>\n",
       "      <td>5670</td>\n",
       "      <td>1501.0</td>\n",
       "      <td>2.402675e+05</td>\n",
       "      <td>2</td>\n",
       "    </tr>\n",
       "    <tr>\n",
       "      <th>161</th>\n",
       "      <td>35503020</td>\n",
       "      <td>Aclimação</td>\n",
       "      <td>São Paulo</td>\n",
       "      <td>SP</td>\n",
       "      <td>32791</td>\n",
       "      <td>2297</td>\n",
       "      <td>1017</td>\n",
       "      <td>2096</td>\n",
       "      <td>2197</td>\n",
       "      <td>5341</td>\n",
       "      <td>...</td>\n",
       "      <td>1734</td>\n",
       "      <td>3704</td>\n",
       "      <td>2351</td>\n",
       "      <td>1946</td>\n",
       "      <td>827</td>\n",
       "      <td>291</td>\n",
       "      <td>1617</td>\n",
       "      <td>5920.0</td>\n",
       "      <td>1.525346e+06</td>\n",
       "      <td>2</td>\n",
       "    </tr>\n",
       "    <tr>\n",
       "      <th>162</th>\n",
       "      <td>355030285</td>\n",
       "      <td>Adventista</td>\n",
       "      <td>São Paulo</td>\n",
       "      <td>SP</td>\n",
       "      <td>104193</td>\n",
       "      <td>15070</td>\n",
       "      <td>7343</td>\n",
       "      <td>10631</td>\n",
       "      <td>8657</td>\n",
       "      <td>17749</td>\n",
       "      <td>...</td>\n",
       "      <td>0</td>\n",
       "      <td>1423</td>\n",
       "      <td>4875</td>\n",
       "      <td>8595</td>\n",
       "      <td>10082</td>\n",
       "      <td>3111</td>\n",
       "      <td>5776</td>\n",
       "      <td>1284.0</td>\n",
       "      <td>1.860776e+05</td>\n",
       "      <td>1</td>\n",
       "    </tr>\n",
       "    <tr>\n",
       "      <th>163</th>\n",
       "      <td>35503088</td>\n",
       "      <td>Água Branca</td>\n",
       "      <td>São Paulo</td>\n",
       "      <td>SP</td>\n",
       "      <td>12721</td>\n",
       "      <td>953</td>\n",
       "      <td>343</td>\n",
       "      <td>627</td>\n",
       "      <td>819</td>\n",
       "      <td>2142</td>\n",
       "      <td>...</td>\n",
       "      <td>667</td>\n",
       "      <td>1558</td>\n",
       "      <td>1032</td>\n",
       "      <td>915</td>\n",
       "      <td>361</td>\n",
       "      <td>84</td>\n",
       "      <td>404</td>\n",
       "      <td>6278.0</td>\n",
       "      <td>1.267278e+06</td>\n",
       "      <td>2</td>\n",
       "    </tr>\n",
       "    <tr>\n",
       "      <th>164</th>\n",
       "      <td>35503066</td>\n",
       "      <td>Água Funda</td>\n",
       "      <td>São Paulo</td>\n",
       "      <td>SP</td>\n",
       "      <td>48417</td>\n",
       "      <td>5078</td>\n",
       "      <td>2396</td>\n",
       "      <td>4018</td>\n",
       "      <td>3571</td>\n",
       "      <td>7388</td>\n",
       "      <td>...</td>\n",
       "      <td>303</td>\n",
       "      <td>1794</td>\n",
       "      <td>2986</td>\n",
       "      <td>4489</td>\n",
       "      <td>2836</td>\n",
       "      <td>1104</td>\n",
       "      <td>2553</td>\n",
       "      <td>1905.0</td>\n",
       "      <td>7.460072e+05</td>\n",
       "      <td>2</td>\n",
       "    </tr>\n",
       "    <tr>\n",
       "      <th>...</th>\n",
       "      <td>...</td>\n",
       "      <td>...</td>\n",
       "      <td>...</td>\n",
       "      <td>...</td>\n",
       "      <td>...</td>\n",
       "      <td>...</td>\n",
       "      <td>...</td>\n",
       "      <td>...</td>\n",
       "      <td>...</td>\n",
       "      <td>...</td>\n",
       "      <td>...</td>\n",
       "      <td>...</td>\n",
       "      <td>...</td>\n",
       "      <td>...</td>\n",
       "      <td>...</td>\n",
       "      <td>...</td>\n",
       "      <td>...</td>\n",
       "      <td>...</td>\n",
       "      <td>...</td>\n",
       "      <td>...</td>\n",
       "      <td>...</td>\n",
       "    </tr>\n",
       "    <tr>\n",
       "      <th>451</th>\n",
       "      <td>355030213</td>\n",
       "      <td>Vila Sônia</td>\n",
       "      <td>São Paulo</td>\n",
       "      <td>SP</td>\n",
       "      <td>34061</td>\n",
       "      <td>2908</td>\n",
       "      <td>1462</td>\n",
       "      <td>2253</td>\n",
       "      <td>2076</td>\n",
       "      <td>4579</td>\n",
       "      <td>...</td>\n",
       "      <td>1089</td>\n",
       "      <td>2866</td>\n",
       "      <td>2219</td>\n",
       "      <td>2216</td>\n",
       "      <td>1227</td>\n",
       "      <td>306</td>\n",
       "      <td>1098</td>\n",
       "      <td>5285.0</td>\n",
       "      <td>1.262652e+06</td>\n",
       "      <td>2</td>\n",
       "    </tr>\n",
       "    <tr>\n",
       "      <th>452</th>\n",
       "      <td>355030207</td>\n",
       "      <td>Vila Suzana</td>\n",
       "      <td>São Paulo</td>\n",
       "      <td>SP</td>\n",
       "      <td>35403</td>\n",
       "      <td>4127</td>\n",
       "      <td>1890</td>\n",
       "      <td>2678</td>\n",
       "      <td>2433</td>\n",
       "      <td>5855</td>\n",
       "      <td>...</td>\n",
       "      <td>1522</td>\n",
       "      <td>2458</td>\n",
       "      <td>1186</td>\n",
       "      <td>1166</td>\n",
       "      <td>918</td>\n",
       "      <td>209</td>\n",
       "      <td>3840</td>\n",
       "      <td>7418.0</td>\n",
       "      <td>1.467358e+06</td>\n",
       "      <td>2</td>\n",
       "    </tr>\n",
       "    <tr>\n",
       "      <th>453</th>\n",
       "      <td>355030162</td>\n",
       "      <td>Vila Terezinha</td>\n",
       "      <td>São Paulo</td>\n",
       "      <td>SP</td>\n",
       "      <td>122359</td>\n",
       "      <td>18304</td>\n",
       "      <td>9304</td>\n",
       "      <td>13258</td>\n",
       "      <td>9965</td>\n",
       "      <td>19248</td>\n",
       "      <td>...</td>\n",
       "      <td>0</td>\n",
       "      <td>1758</td>\n",
       "      <td>4517</td>\n",
       "      <td>9450</td>\n",
       "      <td>11473</td>\n",
       "      <td>3218</td>\n",
       "      <td>7540</td>\n",
       "      <td>1252.0</td>\n",
       "      <td>7.132221e+04</td>\n",
       "      <td>1</td>\n",
       "    </tr>\n",
       "    <tr>\n",
       "      <th>454</th>\n",
       "      <td>355030157</td>\n",
       "      <td>Vila Zatt</td>\n",
       "      <td>São Paulo</td>\n",
       "      <td>SP</td>\n",
       "      <td>125864</td>\n",
       "      <td>14670</td>\n",
       "      <td>7305</td>\n",
       "      <td>11225</td>\n",
       "      <td>9338</td>\n",
       "      <td>18841</td>\n",
       "      <td>...</td>\n",
       "      <td>872</td>\n",
       "      <td>5093</td>\n",
       "      <td>8063</td>\n",
       "      <td>10012</td>\n",
       "      <td>8082</td>\n",
       "      <td>2856</td>\n",
       "      <td>6853</td>\n",
       "      <td>1936.0</td>\n",
       "      <td>1.078105e+05</td>\n",
       "      <td>2</td>\n",
       "    </tr>\n",
       "    <tr>\n",
       "      <th>455</th>\n",
       "      <td>355030164</td>\n",
       "      <td>Vista Alegre</td>\n",
       "      <td>São Paulo</td>\n",
       "      <td>SP</td>\n",
       "      <td>106</td>\n",
       "      <td>23</td>\n",
       "      <td>7</td>\n",
       "      <td>15</td>\n",
       "      <td>11</td>\n",
       "      <td>15</td>\n",
       "      <td>...</td>\n",
       "      <td>0</td>\n",
       "      <td>0</td>\n",
       "      <td>6</td>\n",
       "      <td>9</td>\n",
       "      <td>8</td>\n",
       "      <td>2</td>\n",
       "      <td>4</td>\n",
       "      <td>1288.0</td>\n",
       "      <td>8.368932e+05</td>\n",
       "      <td>0</td>\n",
       "    </tr>\n",
       "  </tbody>\n",
       "</table>\n",
       "<p>296 rows × 24 columns</p>\n",
       "</div>"
      ],
      "text/plain": [
       "        codigo            nome     cidade estado  população  pop_ate9  \\\n",
       "160  355030251  A. E. Carvalho  São Paulo     SP      94034     12668   \n",
       "161   35503020       Aclimação  São Paulo     SP      32791      2297   \n",
       "162  355030285      Adventista  São Paulo     SP     104193     15070   \n",
       "163   35503088     Água Branca  São Paulo     SP      12721       953   \n",
       "164   35503066      Água Funda  São Paulo     SP      48417      5078   \n",
       "..         ...             ...        ...    ...        ...       ...   \n",
       "451  355030213      Vila Sônia  São Paulo     SP      34061      2908   \n",
       "452  355030207     Vila Suzana  São Paulo     SP      35403      4127   \n",
       "453  355030162  Vila Terezinha  São Paulo     SP     122359     18304   \n",
       "454  355030157       Vila Zatt  São Paulo     SP     125864     14670   \n",
       "455  355030164    Vista Alegre  São Paulo     SP        106        23   \n",
       "\n",
       "     pop_de10a14  pop_de15a19  pop_de20a24  pop_de25a34  ...  domicilios_a2  \\\n",
       "160         6853         9836         7487        14535  ...            253   \n",
       "161         1017         2096         2197         5341  ...           1734   \n",
       "162         7343        10631         8657        17749  ...              0   \n",
       "163          343          627          819         2142  ...            667   \n",
       "164         2396         4018         3571         7388  ...            303   \n",
       "..           ...          ...          ...          ...  ...            ...   \n",
       "451         1462         2253         2076         4579  ...           1089   \n",
       "452         1890         2678         2433         5855  ...           1522   \n",
       "453         9304        13258         9965        19248  ...              0   \n",
       "454         7305        11225         9338        18841  ...            872   \n",
       "455            7           15           11           15  ...              0   \n",
       "\n",
       "     domicilios_b1  domicilios_b2  domicilios_c1  domicilios_c2  domicilios_d  \\\n",
       "160           2197           4368           6681           7011          2247   \n",
       "161           3704           2351           1946            827           291   \n",
       "162           1423           4875           8595          10082          3111   \n",
       "163           1558           1032            915            361            84   \n",
       "164           1794           2986           4489           2836          1104   \n",
       "..             ...            ...            ...            ...           ...   \n",
       "451           2866           2219           2216           1227           306   \n",
       "452           2458           1186           1166            918           209   \n",
       "453           1758           4517           9450          11473          3218   \n",
       "454           5093           8063          10012           8082          2856   \n",
       "455              0              6              9              8             2   \n",
       "\n",
       "     domicilios_e  renda_media   faturamento  potencial  \n",
       "160          5670       1501.0  2.402675e+05          2  \n",
       "161          1617       5920.0  1.525346e+06          2  \n",
       "162          5776       1284.0  1.860776e+05          1  \n",
       "163           404       6278.0  1.267278e+06          2  \n",
       "164          2553       1905.0  7.460072e+05          2  \n",
       "..            ...          ...           ...        ...  \n",
       "451          1098       5285.0  1.262652e+06          2  \n",
       "452          3840       7418.0  1.467358e+06          2  \n",
       "453          7540       1252.0  7.132221e+04          1  \n",
       "454          6853       1936.0  1.078105e+05          2  \n",
       "455             4       1288.0  8.368932e+05          0  \n",
       "\n",
       "[296 rows x 24 columns]"
      ]
     },
     "execution_count": 88,
     "metadata": {},
     "output_type": "execute_result"
    }
   ],
   "source": [
    "X_test_class"
   ]
  },
  {
   "cell_type": "markdown",
   "id": "d287c4f7",
   "metadata": {},
   "source": [
    "# 12.0 EMBEDDING"
   ]
  },
  {
   "cell_type": "code",
   "execution_count": 139,
   "id": "3388b467",
   "metadata": {
    "ExecuteTime": {
     "end_time": "2023-07-03T16:52:16.235539Z",
     "start_time": "2023-07-03T16:52:16.220987Z"
    }
   },
   "outputs": [],
   "source": [
    "X_train_embedding = X_test_class"
   ]
  },
  {
   "cell_type": "code",
   "execution_count": 141,
   "id": "4c21f183",
   "metadata": {
    "ExecuteTime": {
     "end_time": "2023-07-03T16:52:23.971851Z",
     "start_time": "2023-07-03T16:52:23.964558Z"
    }
   },
   "outputs": [],
   "source": [
    "X_train_emb_alvo = X_train_embedding.drop(['codigo','nome','cidade','estado'], axis=1)"
   ]
  },
  {
   "cell_type": "code",
   "execution_count": 142,
   "id": "213d22c0",
   "metadata": {
    "ExecuteTime": {
     "end_time": "2023-07-03T16:52:24.972209Z",
     "start_time": "2023-07-03T16:52:24.950702Z"
    }
   },
   "outputs": [
    {
     "data": {
      "text/html": [
       "<div>\n",
       "<style scoped>\n",
       "    .dataframe tbody tr th:only-of-type {\n",
       "        vertical-align: middle;\n",
       "    }\n",
       "\n",
       "    .dataframe tbody tr th {\n",
       "        vertical-align: top;\n",
       "    }\n",
       "\n",
       "    .dataframe thead th {\n",
       "        text-align: right;\n",
       "    }\n",
       "</style>\n",
       "<table border=\"1\" class=\"dataframe\">\n",
       "  <thead>\n",
       "    <tr style=\"text-align: right;\">\n",
       "      <th></th>\n",
       "      <th>população</th>\n",
       "      <th>pop_ate9</th>\n",
       "      <th>pop_de10a14</th>\n",
       "      <th>pop_de15a19</th>\n",
       "      <th>pop_de20a24</th>\n",
       "      <th>pop_de25a34</th>\n",
       "      <th>pop_de35a49</th>\n",
       "      <th>pop_de50a59</th>\n",
       "      <th>pop_mais_de60</th>\n",
       "      <th>domicilios_a1</th>\n",
       "      <th>domicilios_a2</th>\n",
       "      <th>domicilios_b1</th>\n",
       "      <th>domicilios_b2</th>\n",
       "      <th>domicilios_c1</th>\n",
       "      <th>domicilios_c2</th>\n",
       "      <th>domicilios_d</th>\n",
       "      <th>domicilios_e</th>\n",
       "      <th>renda_media</th>\n",
       "      <th>faturamento</th>\n",
       "      <th>potencial</th>\n",
       "    </tr>\n",
       "  </thead>\n",
       "  <tbody>\n",
       "    <tr>\n",
       "      <th>160</th>\n",
       "      <td>94034</td>\n",
       "      <td>12668</td>\n",
       "      <td>6853</td>\n",
       "      <td>9836</td>\n",
       "      <td>7487</td>\n",
       "      <td>14535</td>\n",
       "      <td>21549</td>\n",
       "      <td>10598</td>\n",
       "      <td>10508</td>\n",
       "      <td>0</td>\n",
       "      <td>253</td>\n",
       "      <td>2197</td>\n",
       "      <td>4368</td>\n",
       "      <td>6681</td>\n",
       "      <td>7011</td>\n",
       "      <td>2247</td>\n",
       "      <td>5670</td>\n",
       "      <td>1501.0</td>\n",
       "      <td>2.402675e+05</td>\n",
       "      <td>2</td>\n",
       "    </tr>\n",
       "    <tr>\n",
       "      <th>161</th>\n",
       "      <td>32791</td>\n",
       "      <td>2297</td>\n",
       "      <td>1017</td>\n",
       "      <td>2096</td>\n",
       "      <td>2197</td>\n",
       "      <td>5341</td>\n",
       "      <td>7281</td>\n",
       "      <td>4917</td>\n",
       "      <td>7645</td>\n",
       "      <td>1413</td>\n",
       "      <td>1734</td>\n",
       "      <td>3704</td>\n",
       "      <td>2351</td>\n",
       "      <td>1946</td>\n",
       "      <td>827</td>\n",
       "      <td>291</td>\n",
       "      <td>1617</td>\n",
       "      <td>5920.0</td>\n",
       "      <td>1.525346e+06</td>\n",
       "      <td>2</td>\n",
       "    </tr>\n",
       "    <tr>\n",
       "      <th>162</th>\n",
       "      <td>104193</td>\n",
       "      <td>15070</td>\n",
       "      <td>7343</td>\n",
       "      <td>10631</td>\n",
       "      <td>8657</td>\n",
       "      <td>17749</td>\n",
       "      <td>23364</td>\n",
       "      <td>11567</td>\n",
       "      <td>9812</td>\n",
       "      <td>0</td>\n",
       "      <td>0</td>\n",
       "      <td>1423</td>\n",
       "      <td>4875</td>\n",
       "      <td>8595</td>\n",
       "      <td>10082</td>\n",
       "      <td>3111</td>\n",
       "      <td>5776</td>\n",
       "      <td>1284.0</td>\n",
       "      <td>1.860776e+05</td>\n",
       "      <td>1</td>\n",
       "    </tr>\n",
       "    <tr>\n",
       "      <th>163</th>\n",
       "      <td>12721</td>\n",
       "      <td>953</td>\n",
       "      <td>343</td>\n",
       "      <td>627</td>\n",
       "      <td>819</td>\n",
       "      <td>2142</td>\n",
       "      <td>2833</td>\n",
       "      <td>1790</td>\n",
       "      <td>3214</td>\n",
       "      <td>624</td>\n",
       "      <td>667</td>\n",
       "      <td>1558</td>\n",
       "      <td>1032</td>\n",
       "      <td>915</td>\n",
       "      <td>361</td>\n",
       "      <td>84</td>\n",
       "      <td>404</td>\n",
       "      <td>6278.0</td>\n",
       "      <td>1.267278e+06</td>\n",
       "      <td>2</td>\n",
       "    </tr>\n",
       "    <tr>\n",
       "      <th>164</th>\n",
       "      <td>48417</td>\n",
       "      <td>5078</td>\n",
       "      <td>2396</td>\n",
       "      <td>4018</td>\n",
       "      <td>3571</td>\n",
       "      <td>7388</td>\n",
       "      <td>10751</td>\n",
       "      <td>6648</td>\n",
       "      <td>8567</td>\n",
       "      <td>0</td>\n",
       "      <td>303</td>\n",
       "      <td>1794</td>\n",
       "      <td>2986</td>\n",
       "      <td>4489</td>\n",
       "      <td>2836</td>\n",
       "      <td>1104</td>\n",
       "      <td>2553</td>\n",
       "      <td>1905.0</td>\n",
       "      <td>7.460072e+05</td>\n",
       "      <td>2</td>\n",
       "    </tr>\n",
       "    <tr>\n",
       "      <th>...</th>\n",
       "      <td>...</td>\n",
       "      <td>...</td>\n",
       "      <td>...</td>\n",
       "      <td>...</td>\n",
       "      <td>...</td>\n",
       "      <td>...</td>\n",
       "      <td>...</td>\n",
       "      <td>...</td>\n",
       "      <td>...</td>\n",
       "      <td>...</td>\n",
       "      <td>...</td>\n",
       "      <td>...</td>\n",
       "      <td>...</td>\n",
       "      <td>...</td>\n",
       "      <td>...</td>\n",
       "      <td>...</td>\n",
       "      <td>...</td>\n",
       "      <td>...</td>\n",
       "      <td>...</td>\n",
       "      <td>...</td>\n",
       "    </tr>\n",
       "    <tr>\n",
       "      <th>451</th>\n",
       "      <td>34061</td>\n",
       "      <td>2908</td>\n",
       "      <td>1462</td>\n",
       "      <td>2253</td>\n",
       "      <td>2076</td>\n",
       "      <td>4579</td>\n",
       "      <td>7557</td>\n",
       "      <td>5227</td>\n",
       "      <td>7999</td>\n",
       "      <td>942</td>\n",
       "      <td>1089</td>\n",
       "      <td>2866</td>\n",
       "      <td>2219</td>\n",
       "      <td>2216</td>\n",
       "      <td>1227</td>\n",
       "      <td>306</td>\n",
       "      <td>1098</td>\n",
       "      <td>5285.0</td>\n",
       "      <td>1.262652e+06</td>\n",
       "      <td>2</td>\n",
       "    </tr>\n",
       "    <tr>\n",
       "      <th>452</th>\n",
       "      <td>35403</td>\n",
       "      <td>4127</td>\n",
       "      <td>1890</td>\n",
       "      <td>2678</td>\n",
       "      <td>2433</td>\n",
       "      <td>5855</td>\n",
       "      <td>9107</td>\n",
       "      <td>4608</td>\n",
       "      <td>4705</td>\n",
       "      <td>1726</td>\n",
       "      <td>1522</td>\n",
       "      <td>2458</td>\n",
       "      <td>1186</td>\n",
       "      <td>1166</td>\n",
       "      <td>918</td>\n",
       "      <td>209</td>\n",
       "      <td>3840</td>\n",
       "      <td>7418.0</td>\n",
       "      <td>1.467358e+06</td>\n",
       "      <td>2</td>\n",
       "    </tr>\n",
       "    <tr>\n",
       "      <th>453</th>\n",
       "      <td>122359</td>\n",
       "      <td>18304</td>\n",
       "      <td>9304</td>\n",
       "      <td>13258</td>\n",
       "      <td>9965</td>\n",
       "      <td>19248</td>\n",
       "      <td>26592</td>\n",
       "      <td>12579</td>\n",
       "      <td>13109</td>\n",
       "      <td>0</td>\n",
       "      <td>0</td>\n",
       "      <td>1758</td>\n",
       "      <td>4517</td>\n",
       "      <td>9450</td>\n",
       "      <td>11473</td>\n",
       "      <td>3218</td>\n",
       "      <td>7540</td>\n",
       "      <td>1252.0</td>\n",
       "      <td>7.132221e+04</td>\n",
       "      <td>1</td>\n",
       "    </tr>\n",
       "    <tr>\n",
       "      <th>454</th>\n",
       "      <td>125864</td>\n",
       "      <td>14670</td>\n",
       "      <td>7305</td>\n",
       "      <td>11225</td>\n",
       "      <td>9338</td>\n",
       "      <td>18841</td>\n",
       "      <td>28500</td>\n",
       "      <td>16700</td>\n",
       "      <td>19285</td>\n",
       "      <td>8</td>\n",
       "      <td>872</td>\n",
       "      <td>5093</td>\n",
       "      <td>8063</td>\n",
       "      <td>10012</td>\n",
       "      <td>8082</td>\n",
       "      <td>2856</td>\n",
       "      <td>6853</td>\n",
       "      <td>1936.0</td>\n",
       "      <td>1.078105e+05</td>\n",
       "      <td>2</td>\n",
       "    </tr>\n",
       "    <tr>\n",
       "      <th>455</th>\n",
       "      <td>106</td>\n",
       "      <td>23</td>\n",
       "      <td>7</td>\n",
       "      <td>15</td>\n",
       "      <td>11</td>\n",
       "      <td>15</td>\n",
       "      <td>26</td>\n",
       "      <td>4</td>\n",
       "      <td>5</td>\n",
       "      <td>0</td>\n",
       "      <td>0</td>\n",
       "      <td>0</td>\n",
       "      <td>6</td>\n",
       "      <td>9</td>\n",
       "      <td>8</td>\n",
       "      <td>2</td>\n",
       "      <td>4</td>\n",
       "      <td>1288.0</td>\n",
       "      <td>8.368932e+05</td>\n",
       "      <td>0</td>\n",
       "    </tr>\n",
       "  </tbody>\n",
       "</table>\n",
       "<p>296 rows × 20 columns</p>\n",
       "</div>"
      ],
      "text/plain": [
       "     população  pop_ate9  pop_de10a14  pop_de15a19  pop_de20a24  pop_de25a34  \\\n",
       "160      94034     12668         6853         9836         7487        14535   \n",
       "161      32791      2297         1017         2096         2197         5341   \n",
       "162     104193     15070         7343        10631         8657        17749   \n",
       "163      12721       953          343          627          819         2142   \n",
       "164      48417      5078         2396         4018         3571         7388   \n",
       "..         ...       ...          ...          ...          ...          ...   \n",
       "451      34061      2908         1462         2253         2076         4579   \n",
       "452      35403      4127         1890         2678         2433         5855   \n",
       "453     122359     18304         9304        13258         9965        19248   \n",
       "454     125864     14670         7305        11225         9338        18841   \n",
       "455        106        23            7           15           11           15   \n",
       "\n",
       "     pop_de35a49  pop_de50a59  pop_mais_de60  domicilios_a1  domicilios_a2  \\\n",
       "160        21549        10598          10508              0            253   \n",
       "161         7281         4917           7645           1413           1734   \n",
       "162        23364        11567           9812              0              0   \n",
       "163         2833         1790           3214            624            667   \n",
       "164        10751         6648           8567              0            303   \n",
       "..           ...          ...            ...            ...            ...   \n",
       "451         7557         5227           7999            942           1089   \n",
       "452         9107         4608           4705           1726           1522   \n",
       "453        26592        12579          13109              0              0   \n",
       "454        28500        16700          19285              8            872   \n",
       "455           26            4              5              0              0   \n",
       "\n",
       "     domicilios_b1  domicilios_b2  domicilios_c1  domicilios_c2  domicilios_d  \\\n",
       "160           2197           4368           6681           7011          2247   \n",
       "161           3704           2351           1946            827           291   \n",
       "162           1423           4875           8595          10082          3111   \n",
       "163           1558           1032            915            361            84   \n",
       "164           1794           2986           4489           2836          1104   \n",
       "..             ...            ...            ...            ...           ...   \n",
       "451           2866           2219           2216           1227           306   \n",
       "452           2458           1186           1166            918           209   \n",
       "453           1758           4517           9450          11473          3218   \n",
       "454           5093           8063          10012           8082          2856   \n",
       "455              0              6              9              8             2   \n",
       "\n",
       "     domicilios_e  renda_media   faturamento  potencial  \n",
       "160          5670       1501.0  2.402675e+05          2  \n",
       "161          1617       5920.0  1.525346e+06          2  \n",
       "162          5776       1284.0  1.860776e+05          1  \n",
       "163           404       6278.0  1.267278e+06          2  \n",
       "164          2553       1905.0  7.460072e+05          2  \n",
       "..            ...          ...           ...        ...  \n",
       "451          1098       5285.0  1.262652e+06          2  \n",
       "452          3840       7418.0  1.467358e+06          2  \n",
       "453          7540       1252.0  7.132221e+04          1  \n",
       "454          6853       1936.0  1.078105e+05          2  \n",
       "455             4       1288.0  8.368932e+05          0  \n",
       "\n",
       "[296 rows x 20 columns]"
      ]
     },
     "execution_count": 142,
     "metadata": {},
     "output_type": "execute_result"
    }
   ],
   "source": [
    "X_train_emb_alvo"
   ]
  },
  {
   "cell_type": "markdown",
   "id": "8c5887cb",
   "metadata": {},
   "source": [
    "## PCA"
   ]
  },
  {
   "cell_type": "code",
   "execution_count": 155,
   "id": "1e1e2f47",
   "metadata": {
    "ExecuteTime": {
     "end_time": "2023-07-03T16:54:29.753123Z",
     "start_time": "2023-07-03T16:54:29.748659Z"
    }
   },
   "outputs": [],
   "source": [
    "X = X_train_emb_alvo.copy()"
   ]
  },
  {
   "cell_type": "code",
   "execution_count": 157,
   "id": "8eba5837",
   "metadata": {
    "ExecuteTime": {
     "end_time": "2023-07-03T16:56:13.975712Z",
     "start_time": "2023-07-03T16:56:13.954763Z"
    }
   },
   "outputs": [],
   "source": [
    "#Transform\n",
    "mms = pp.MinMaxScaler()\n",
    "transf_list = X.columns\n",
    "\n",
    "for i in transf_list:\n",
    "    X[i] = mms.fit_transform(X[i].values.reshape(-1,1)) "
   ]
  },
  {
   "cell_type": "code",
   "execution_count": 160,
   "id": "81c1bc3d",
   "metadata": {
    "ExecuteTime": {
     "end_time": "2023-07-03T16:59:04.831445Z",
     "start_time": "2023-07-03T16:59:04.678042Z"
    }
   },
   "outputs": [
    {
     "data": {
      "image/png": "[encoded data removed]",
      "text/plain": [
       "<Figure size 800x550 with 1 Axes>"
      ]
     },
     "metadata": {},
     "output_type": "display_data"
    }
   ],
   "source": [
    "pca = PCA(n_components=X.shape[1])\n",
    "\n",
    "principal_components = pca.fit_transform(X)\n",
    "\n",
    "features = range(pca.n_components_)\n",
    "\n",
    "plt.bar(features, pca.explained_variance_ratio_, color='black')\n",
    "\n",
    "df_pca = pd.DataFrame(principal_components)"
   ]
  },
  {
   "cell_type": "code",
   "execution_count": 164,
   "id": "ef67eb16",
   "metadata": {
    "ExecuteTime": {
     "end_time": "2023-07-03T17:17:24.308769Z",
     "start_time": "2023-07-03T17:17:24.154302Z"
    }
   },
   "outputs": [
    {
     "data": {
      "text/plain": [
       "<Axes: xlabel='0', ylabel='1'>"
      ]
     },
     "execution_count": 164,
     "metadata": {},
     "output_type": "execute_result"
    },
    {
     "data": {
      "image/png": "[encoded data removed]",
      "text/plain": [
       "<Figure size 800x550 with 1 Axes>"
      ]
     },
     "metadata": {},
     "output_type": "display_data"
    }
   ],
   "source": [
    "sns.scatterplot(x=0, y=1, data=df_pca)"
   ]
  },
  {
   "cell_type": "markdown",
   "id": "aa999553",
   "metadata": {},
   "source": [
    "## UMAP"
   ]
  },
  {
   "cell_type": "code",
   "execution_count": 165,
   "id": "e57b960a",
   "metadata": {
    "ExecuteTime": {
     "end_time": "2023-07-03T17:17:53.909437Z",
     "start_time": "2023-07-03T17:17:52.773248Z"
    }
   },
   "outputs": [
    {
     "data": {
      "text/plain": [
       "<Axes: xlabel='embedding_x', ylabel='embedding_y'>"
      ]
     },
     "execution_count": 165,
     "metadata": {},
     "output_type": "execute_result"
    },
    {
     "data": {
      "image/png": "[encoded data removed]",
      "text/plain": [
       "<Figure size 800x550 with 1 Axes>"
      ]
     },
     "metadata": {},
     "output_type": "display_data"
    }
   ],
   "source": [
    "reducer = umap.UMAP(random_state=42, n_neighbors=15, min_dist=0.1)\n",
    "embedding = reducer.fit_transform(X)\n",
    "\n",
    "#embedding\n",
    "df_umap = pd.DataFrame()\n",
    "df_umap['embedding_x'] = embedding[:,0]\n",
    "df_umap['embedding_y'] = embedding[:,1]\n",
    "\n",
    "#plot UMAP\n",
    "sns.scatterplot(x='embedding_x', \n",
    "                y='embedding_y',\n",
    "                data=df_umap)"
   ]
  },
  {
   "cell_type": "markdown",
   "id": "9579fece",
   "metadata": {},
   "source": [
    "## t-SNE"
   ]
  },
  {
   "cell_type": "code",
   "execution_count": 168,
   "id": "e280f7ae",
   "metadata": {
    "ExecuteTime": {
     "end_time": "2023-07-03T17:18:59.614431Z",
     "start_time": "2023-07-03T17:18:58.984938Z"
    }
   },
   "outputs": [
    {
     "data": {
      "text/plain": [
       "<Axes: xlabel='embedding_x', ylabel='embedding_y'>"
      ]
     },
     "execution_count": 168,
     "metadata": {},
     "output_type": "execute_result"
    },
    {
     "data": {
      "image/png": "[encoded data removed]",
      "text/plain": [
       "<Figure size 800x550 with 1 Axes>"
      ]
     },
     "metadata": {},
     "output_type": "display_data"
    }
   ],
   "source": [
    "reducer = TSNE(n_components=2, random_state=42, n_jobs=-1)\n",
    "embedding = reducer.fit_transform(X)\n",
    "\n",
    "#embedding\n",
    "df_tsne = pd.DataFrame()\n",
    "df_tsne['embedding_x'] = embedding[:,0]\n",
    "df_tsne['embedding_y'] = embedding[:,1]\n",
    "\n",
    "#plot UMAP\n",
    "sns.scatterplot(x='embedding_x', \n",
    "                y='embedding_y',\n",
    "                data=df_tsne)"
   ]
  },
  {
   "cell_type": "markdown",
   "id": "48e18b83",
   "metadata": {},
   "source": [
    "## Tree-Embedding"
   ]
  },
  {
   "cell_type": "code",
   "execution_count": 169,
   "id": "4d94838e",
   "metadata": {
    "ExecuteTime": {
     "end_time": "2023-07-03T17:20:36.972042Z",
     "start_time": "2023-07-03T17:20:36.967036Z"
    }
   },
   "outputs": [],
   "source": [
    "X = X_train_emb_alvo.drop('faturamento', axis=1).copy()\n",
    "y= X_train_emb_alvo['faturamento'].copy()"
   ]
  },
  {
   "cell_type": "code",
   "execution_count": 171,
   "id": "65862b73",
   "metadata": {
    "ExecuteTime": {
     "end_time": "2023-07-03T17:20:44.179529Z",
     "start_time": "2023-07-03T17:20:43.751085Z"
    }
   },
   "outputs": [
    {
     "data": {
      "text/html": [
       "<style>#sk-container-id-2 {color: black;}#sk-container-id-2 pre{padding: 0;}#sk-container-id-2 div.sk-toggleable {background-color: white;}#sk-container-id-2 label.sk-toggleable__label {cursor: pointer;display: block;width: 100%;margin-bottom: 0;padding: 0.3em;box-sizing: border-box;text-align: center;}#sk-container-id-2 label.sk-toggleable__label-arrow:before {content: \"▸\";float: left;margin-right: 0.25em;color: #696969;}#sk-container-id-2 label.sk-toggleable__label-arrow:hover:before {color: black;}#sk-container-id-2 div.sk-estimator:hover label.sk-toggleable__label-arrow:before {color: black;}#sk-container-id-2 div.sk-toggleable__content {max-height: 0;max-width: 0;overflow: hidden;text-align: left;background-color: #f0f8ff;}#sk-container-id-2 div.sk-toggleable__content pre {margin: 0.2em;color: black;border-radius: 0.25em;background-color: #f0f8ff;}#sk-container-id-2 input.sk-toggleable__control:checked~div.sk-toggleable__content {max-height: 200px;max-width: 100%;overflow: auto;}#sk-container-id-2 input.sk-toggleable__control:checked~label.sk-toggleable__label-arrow:before {content: \"▾\";}#sk-container-id-2 div.sk-estimator input.sk-toggleable__control:checked~label.sk-toggleable__label {background-color: #d4ebff;}#sk-container-id-2 div.sk-label input.sk-toggleable__control:checked~label.sk-toggleable__label {background-color: #d4ebff;}#sk-container-id-2 input.sk-hidden--visually {border: 0;clip: rect(1px 1px 1px 1px);clip: rect(1px, 1px, 1px, 1px);height: 1px;margin: -1px;overflow: hidden;padding: 0;position: absolute;width: 1px;}#sk-container-id-2 div.sk-estimator {font-family: monospace;background-color: #f0f8ff;border: 1px dotted black;border-radius: 0.25em;box-sizing: border-box;margin-bottom: 0.5em;}#sk-container-id-2 div.sk-estimator:hover {background-color: #d4ebff;}#sk-container-id-2 div.sk-parallel-item::after {content: \"\";width: 100%;border-bottom: 1px solid gray;flex-grow: 1;}#sk-container-id-2 div.sk-label:hover label.sk-toggleable__label {background-color: #d4ebff;}#sk-container-id-2 div.sk-serial::before {content: \"\";position: absolute;border-left: 1px solid gray;box-sizing: border-box;top: 0;bottom: 0;left: 50%;z-index: 0;}#sk-container-id-2 div.sk-serial {display: flex;flex-direction: column;align-items: center;background-color: white;padding-right: 0.2em;padding-left: 0.2em;position: relative;}#sk-container-id-2 div.sk-item {position: relative;z-index: 1;}#sk-container-id-2 div.sk-parallel {display: flex;align-items: stretch;justify-content: center;background-color: white;position: relative;}#sk-container-id-2 div.sk-item::before, #sk-container-id-2 div.sk-parallel-item::before {content: \"\";position: absolute;border-left: 1px solid gray;box-sizing: border-box;top: 0;bottom: 0;left: 50%;z-index: -1;}#sk-container-id-2 div.sk-parallel-item {display: flex;flex-direction: column;z-index: 1;position: relative;background-color: white;}#sk-container-id-2 div.sk-parallel-item:first-child::after {align-self: flex-end;width: 50%;}#sk-container-id-2 div.sk-parallel-item:last-child::after {align-self: flex-start;width: 50%;}#sk-container-id-2 div.sk-parallel-item:only-child::after {width: 0;}#sk-container-id-2 div.sk-dashed-wrapped {border: 1px dashed gray;margin: 0 0.4em 0.5em 0.4em;box-sizing: border-box;padding-bottom: 0.4em;background-color: white;}#sk-container-id-2 div.sk-label label {font-family: monospace;font-weight: bold;display: inline-block;line-height: 1.2em;}#sk-container-id-2 div.sk-label-container {text-align: center;}#sk-container-id-2 div.sk-container {/* jupyter's `normalize.less` sets `[hidden] { display: none; }` but bootstrap.min.css set `[hidden] { display: none !important; }` so we also need the `!important` here to be able to override the default hidden behavior on the sphinx rendered scikit-learn.org. See: https://github.com/scikit-learn/scikit-learn/issues/21755 */display: inline-block !important;position: relative;}#sk-container-id-2 div.sk-text-repr-fallback {display: none;}</style><div id=\"sk-container-id-2\" class=\"sk-top-container\"><div class=\"sk-text-repr-fallback\"><pre>RandomForestRegressor(random_state=42)</pre><b>In a Jupyter environment, please rerun this cell to show the HTML representation or trust the notebook. <br />On GitHub, the HTML representation is unable to render, please try loading this page with nbviewer.org.</b></div><div class=\"sk-container\" hidden><div class=\"sk-item\"><div class=\"sk-estimator sk-toggleable\"><input class=\"sk-toggleable__control sk-hidden--visually\" id=\"sk-estimator-id-2\" type=\"checkbox\" checked><label for=\"sk-estimator-id-2\" class=\"sk-toggleable__label sk-toggleable__label-arrow\">RandomForestRegressor</label><div class=\"sk-toggleable__content\"><pre>RandomForestRegressor(random_state=42)</pre></div></div></div></div></div>"
      ],
      "text/plain": [
       "RandomForestRegressor(random_state=42)"
      ]
     },
     "execution_count": 171,
     "metadata": {},
     "output_type": "execute_result"
    }
   ],
   "source": [
    "#model definition\n",
    "rf = RandomForestRegressor(random_state=42, n_estimators=100, criterion='squared_error')\n",
    "\n",
    "rf.fit(X, y)"
   ]
  },
  {
   "cell_type": "code",
   "execution_count": 172,
   "id": "d740acc4",
   "metadata": {
    "ExecuteTime": {
     "end_time": "2023-07-03T17:20:48.126511Z",
     "start_time": "2023-07-03T17:20:48.113997Z"
    }
   },
   "outputs": [],
   "source": [
    "#create leafs\n",
    "df_leafs = pd.DataFrame(rf.apply(X))"
   ]
  },
  {
   "cell_type": "code",
   "execution_count": 199,
   "id": "b4df20c7",
   "metadata": {
    "ExecuteTime": {
     "end_time": "2023-07-03T17:32:52.479025Z",
     "start_time": "2023-07-03T17:32:51.054886Z"
    }
   },
   "outputs": [
    {
     "data": {
      "text/plain": [
       "<Axes: xlabel='embedding_x', ylabel='embedding_y'>"
      ]
     },
     "execution_count": 199,
     "metadata": {},
     "output_type": "execute_result"
    },
    {
     "data": {
      "image/png": "[encoded data removed]",
      "text/plain": [
       "<Figure size 800x550 with 1 Axes>"
      ]
     },
     "metadata": {},
     "output_type": "display_data"
    }
   ],
   "source": [
    "reducer = umap.UMAP(random_state=42, n_neighbors=120, min_dist=0.02)\n",
    "embedding = reducer.fit_transform(df_leafs)\n",
    "\n",
    "#embedding\n",
    "df_tree = pd.DataFrame()\n",
    "df_tree['embedding_x'] = embedding[:,0]\n",
    "df_tree['embedding_y'] = embedding[:,1]\n",
    "\n",
    "#plot UMAP\n",
    "sns.scatterplot(x='embedding_x', \n",
    "                y='embedding_y',\n",
    "                data=df_tree)"
   ]
  },
  {
   "cell_type": "markdown",
   "id": "c688bfed",
   "metadata": {},
   "source": [
    "## 12.1 Find Clusters"
   ]
  },
  {
   "cell_type": "code",
   "execution_count": 200,
   "id": "2df36634",
   "metadata": {
    "ExecuteTime": {
     "end_time": "2023-07-03T17:33:09.447961Z",
     "start_time": "2023-07-03T17:33:09.433590Z"
    }
   },
   "outputs": [],
   "source": [
    "df12 = df_tree.copy()"
   ]
  },
  {
   "cell_type": "code",
   "execution_count": 201,
   "id": "dc277897",
   "metadata": {
    "ExecuteTime": {
     "end_time": "2023-07-03T17:33:10.137978Z",
     "start_time": "2023-07-03T17:33:10.126939Z"
    }
   },
   "outputs": [],
   "source": [
    "clusters = np.arange(2,15,1)"
   ]
  },
  {
   "cell_type": "code",
   "execution_count": 202,
   "id": "a86b7acf",
   "metadata": {
    "ExecuteTime": {
     "end_time": "2023-07-03T17:33:10.402954Z",
     "start_time": "2023-07-03T17:33:10.398909Z"
    }
   },
   "outputs": [
    {
     "data": {
      "text/plain": [
       "array([ 2,  3,  4,  5,  6,  7,  8,  9, 10, 11, 12, 13, 14])"
      ]
     },
     "execution_count": 202,
     "metadata": {},
     "output_type": "execute_result"
    }
   ],
   "source": [
    "clusters"
   ]
  },
  {
   "cell_type": "code",
   "execution_count": 203,
   "id": "9c4a6ee2",
   "metadata": {
    "ExecuteTime": {
     "end_time": "2023-07-03T17:33:11.391782Z",
     "start_time": "2023-07-03T17:33:10.870177Z"
    }
   },
   "outputs": [
    {
     "data": {
      "text/plain": [
       "Text(0.5, 1.0, 'WSS vs K')"
      ]
     },
     "execution_count": 203,
     "metadata": {},
     "output_type": "execute_result"
    },
    {
     "data": {
      "image/png": "[encoded data removed]",
      "text/plain": [
       "<Figure size 800x550 with 1 Axes>"
      ]
     },
     "metadata": {},
     "output_type": "display_data"
    }
   ],
   "source": [
    "#WSS\n",
    "wss = []\n",
    "\n",
    "for k in clusters: \n",
    "    kmeans = KMeans(n_clusters=k, init='k-means++')\n",
    "\n",
    "    kmeans.fit(df12)\n",
    "    \n",
    "    wss.append(kmeans.inertia_)\n",
    "    \n",
    "#elbow method\n",
    "plt.plot(clusters, wss, linestyle='--', marker='o', color='b')\n",
    "plt.xlabel('K')\n",
    "plt.ylabel('WSS')\n",
    "plt.title('WSS vs K')"
   ]
  },
  {
   "cell_type": "code",
   "execution_count": 204,
   "id": "8bb3ffd5",
   "metadata": {
    "ExecuteTime": {
     "end_time": "2023-07-03T17:33:12.972168Z",
     "start_time": "2023-07-03T17:33:11.393966Z"
    }
   },
   "outputs": [
    {
     "data": {
      "image/png": "[encoded data removed]",
      "text/plain": [
       "<Figure size 2000x2000 with 6 Axes>"
      ]
     },
     "metadata": {},
     "output_type": "display_data"
    }
   ],
   "source": [
    "#SIlhouette\n",
    "clusters = np.arange(2,8,1)\n",
    "fig, ax = plt.subplots(3,2, figsize=(20,20))\n",
    "\n",
    "for k in clusters:\n",
    "    kmeans = KMeans(n_clusters=k, init='k-means++', n_init=50, max_iter=300, random_state=42)\n",
    "    q, mod = divmod(k,2)\n",
    "    \n",
    "    visualizer = SilhouetteVisualizer(kmeans, color='yellowbrick', ax=ax[q-1][mod])\n",
    "    visualizer.fit(df12)\n",
    "    visualizer.finalize()"
   ]
  },
  {
   "cell_type": "markdown",
   "id": "3e0311f7",
   "metadata": {},
   "source": [
    "# 13 MODEL TRAINING"
   ]
  },
  {
   "cell_type": "code",
   "execution_count": 189,
   "id": "05806001",
   "metadata": {
    "ExecuteTime": {
     "end_time": "2023-07-03T17:27:05.938786Z",
     "start_time": "2023-07-03T17:27:05.818209Z"
    }
   },
   "outputs": [],
   "source": [
    "#kMEANS\n",
    "k=4\n",
    "\n",
    "kmeans = KMeans(n_clusters=k, init='k-means++', n_init=50, max_iter=300, random_state=42)\n",
    "\n",
    "kmeans.fit(df12)\n",
    "\n",
    "labels = kmeans.labels_"
   ]
  },
  {
   "cell_type": "code",
   "execution_count": 198,
   "id": "a601289f",
   "metadata": {
    "ExecuteTime": {
     "end_time": "2023-07-03T17:32:16.453406Z",
     "start_time": "2023-07-03T17:32:16.434922Z"
    }
   },
   "outputs": [
    {
     "name": "stdout",
     "output_type": "stream",
     "text": [
      "WSS Score: 574.696\n",
      "SS Score: 0.837\n"
     ]
    }
   ],
   "source": [
    "\n",
    "#WSS\n",
    "print(f'WSS Score: {kmeans.inertia_:.3f}')\n",
    "\n",
    "print(f'SS Score: {mt.silhouette_score(df12, labels):.3f}')"
   ]
  },
  {
   "cell_type": "code",
   "execution_count": 209,
   "id": "cde85ed2",
   "metadata": {
    "ExecuteTime": {
     "end_time": "2023-07-03T17:35:11.342473Z",
     "start_time": "2023-07-03T17:35:11.330673Z"
    }
   },
   "outputs": [],
   "source": [
    "df13 = df12.copy()\n",
    "df13['clusters'] = labels"
   ]
  },
  {
   "cell_type": "code",
   "execution_count": 210,
   "id": "596fd584",
   "metadata": {
    "ExecuteTime": {
     "end_time": "2023-07-03T17:35:15.232018Z",
     "start_time": "2023-07-03T17:35:14.989120Z"
    }
   },
   "outputs": [
    {
     "data": {
      "text/plain": [
       "<Axes: xlabel='embedding_x', ylabel='embedding_y'>"
      ]
     },
     "execution_count": 210,
     "metadata": {},
     "output_type": "execute_result"
    },
    {
     "data": {
      "image/png": "[encoded data removed]",
      "text/plain": [
       "<Figure size 800x550 with 1 Axes>"
      ]
     },
     "metadata": {},
     "output_type": "display_data"
    }
   ],
   "source": [
    "sns.scatterplot(data=df13, x=\"embedding_x\", y=\"embedding_y\", hue=\"clusters\", palette=\"deep\")"
   ]
  },
  {
   "cell_type": "markdown",
   "id": "2b7862e0",
   "metadata": {},
   "source": [
    "## 15.0 RESULTS"
   ]
  },
  {
   "cell_type": "code",
   "execution_count": 215,
   "id": "c30aad23",
   "metadata": {
    "ExecuteTime": {
     "end_time": "2023-07-03T17:37:32.082453Z",
     "start_time": "2023-07-03T17:37:32.068678Z"
    }
   },
   "outputs": [],
   "source": [
    "df14 = X_test_class.copy()\n",
    "df14['clusters'] = labels"
   ]
  },
  {
   "cell_type": "code",
   "execution_count": 216,
   "id": "1a3abd1a",
   "metadata": {
    "ExecuteTime": {
     "end_time": "2023-07-03T17:37:33.318295Z",
     "start_time": "2023-07-03T17:37:33.300659Z"
    }
   },
   "outputs": [
    {
     "data": {
      "text/html": [
       "<div>\n",
       "<style scoped>\n",
       "    .dataframe tbody tr th:only-of-type {\n",
       "        vertical-align: middle;\n",
       "    }\n",
       "\n",
       "    .dataframe tbody tr th {\n",
       "        vertical-align: top;\n",
       "    }\n",
       "\n",
       "    .dataframe thead th {\n",
       "        text-align: right;\n",
       "    }\n",
       "</style>\n",
       "<table border=\"1\" class=\"dataframe\">\n",
       "  <thead>\n",
       "    <tr style=\"text-align: right;\">\n",
       "      <th></th>\n",
       "      <th>codigo</th>\n",
       "      <th>nome</th>\n",
       "      <th>cidade</th>\n",
       "      <th>estado</th>\n",
       "      <th>população</th>\n",
       "      <th>pop_ate9</th>\n",
       "      <th>pop_de10a14</th>\n",
       "      <th>pop_de15a19</th>\n",
       "      <th>pop_de20a24</th>\n",
       "      <th>pop_de25a34</th>\n",
       "      <th>...</th>\n",
       "      <th>domicilios_b1</th>\n",
       "      <th>domicilios_b2</th>\n",
       "      <th>domicilios_c1</th>\n",
       "      <th>domicilios_c2</th>\n",
       "      <th>domicilios_d</th>\n",
       "      <th>domicilios_e</th>\n",
       "      <th>renda_media</th>\n",
       "      <th>faturamento</th>\n",
       "      <th>potencial</th>\n",
       "      <th>clusters</th>\n",
       "    </tr>\n",
       "  </thead>\n",
       "  <tbody>\n",
       "    <tr>\n",
       "      <th>160</th>\n",
       "      <td>355030251</td>\n",
       "      <td>A. E. Carvalho</td>\n",
       "      <td>São Paulo</td>\n",
       "      <td>SP</td>\n",
       "      <td>94034</td>\n",
       "      <td>12668</td>\n",
       "      <td>6853</td>\n",
       "      <td>9836</td>\n",
       "      <td>7487</td>\n",
       "      <td>14535</td>\n",
       "      <td>...</td>\n",
       "      <td>2197</td>\n",
       "      <td>4368</td>\n",
       "      <td>6681</td>\n",
       "      <td>7011</td>\n",
       "      <td>2247</td>\n",
       "      <td>5670</td>\n",
       "      <td>1501.0</td>\n",
       "      <td>2.402675e+05</td>\n",
       "      <td>2</td>\n",
       "      <td>0</td>\n",
       "    </tr>\n",
       "    <tr>\n",
       "      <th>161</th>\n",
       "      <td>35503020</td>\n",
       "      <td>Aclimação</td>\n",
       "      <td>São Paulo</td>\n",
       "      <td>SP</td>\n",
       "      <td>32791</td>\n",
       "      <td>2297</td>\n",
       "      <td>1017</td>\n",
       "      <td>2096</td>\n",
       "      <td>2197</td>\n",
       "      <td>5341</td>\n",
       "      <td>...</td>\n",
       "      <td>3704</td>\n",
       "      <td>2351</td>\n",
       "      <td>1946</td>\n",
       "      <td>827</td>\n",
       "      <td>291</td>\n",
       "      <td>1617</td>\n",
       "      <td>5920.0</td>\n",
       "      <td>1.525346e+06</td>\n",
       "      <td>2</td>\n",
       "      <td>2</td>\n",
       "    </tr>\n",
       "    <tr>\n",
       "      <th>162</th>\n",
       "      <td>355030285</td>\n",
       "      <td>Adventista</td>\n",
       "      <td>São Paulo</td>\n",
       "      <td>SP</td>\n",
       "      <td>104193</td>\n",
       "      <td>15070</td>\n",
       "      <td>7343</td>\n",
       "      <td>10631</td>\n",
       "      <td>8657</td>\n",
       "      <td>17749</td>\n",
       "      <td>...</td>\n",
       "      <td>1423</td>\n",
       "      <td>4875</td>\n",
       "      <td>8595</td>\n",
       "      <td>10082</td>\n",
       "      <td>3111</td>\n",
       "      <td>5776</td>\n",
       "      <td>1284.0</td>\n",
       "      <td>1.860776e+05</td>\n",
       "      <td>1</td>\n",
       "      <td>0</td>\n",
       "    </tr>\n",
       "    <tr>\n",
       "      <th>163</th>\n",
       "      <td>35503088</td>\n",
       "      <td>Água Branca</td>\n",
       "      <td>São Paulo</td>\n",
       "      <td>SP</td>\n",
       "      <td>12721</td>\n",
       "      <td>953</td>\n",
       "      <td>343</td>\n",
       "      <td>627</td>\n",
       "      <td>819</td>\n",
       "      <td>2142</td>\n",
       "      <td>...</td>\n",
       "      <td>1558</td>\n",
       "      <td>1032</td>\n",
       "      <td>915</td>\n",
       "      <td>361</td>\n",
       "      <td>84</td>\n",
       "      <td>404</td>\n",
       "      <td>6278.0</td>\n",
       "      <td>1.267278e+06</td>\n",
       "      <td>2</td>\n",
       "      <td>2</td>\n",
       "    </tr>\n",
       "    <tr>\n",
       "      <th>164</th>\n",
       "      <td>35503066</td>\n",
       "      <td>Água Funda</td>\n",
       "      <td>São Paulo</td>\n",
       "      <td>SP</td>\n",
       "      <td>48417</td>\n",
       "      <td>5078</td>\n",
       "      <td>2396</td>\n",
       "      <td>4018</td>\n",
       "      <td>3571</td>\n",
       "      <td>7388</td>\n",
       "      <td>...</td>\n",
       "      <td>1794</td>\n",
       "      <td>2986</td>\n",
       "      <td>4489</td>\n",
       "      <td>2836</td>\n",
       "      <td>1104</td>\n",
       "      <td>2553</td>\n",
       "      <td>1905.0</td>\n",
       "      <td>7.460072e+05</td>\n",
       "      <td>2</td>\n",
       "      <td>3</td>\n",
       "    </tr>\n",
       "    <tr>\n",
       "      <th>...</th>\n",
       "      <td>...</td>\n",
       "      <td>...</td>\n",
       "      <td>...</td>\n",
       "      <td>...</td>\n",
       "      <td>...</td>\n",
       "      <td>...</td>\n",
       "      <td>...</td>\n",
       "      <td>...</td>\n",
       "      <td>...</td>\n",
       "      <td>...</td>\n",
       "      <td>...</td>\n",
       "      <td>...</td>\n",
       "      <td>...</td>\n",
       "      <td>...</td>\n",
       "      <td>...</td>\n",
       "      <td>...</td>\n",
       "      <td>...</td>\n",
       "      <td>...</td>\n",
       "      <td>...</td>\n",
       "      <td>...</td>\n",
       "      <td>...</td>\n",
       "    </tr>\n",
       "    <tr>\n",
       "      <th>451</th>\n",
       "      <td>355030213</td>\n",
       "      <td>Vila Sônia</td>\n",
       "      <td>São Paulo</td>\n",
       "      <td>SP</td>\n",
       "      <td>34061</td>\n",
       "      <td>2908</td>\n",
       "      <td>1462</td>\n",
       "      <td>2253</td>\n",
       "      <td>2076</td>\n",
       "      <td>4579</td>\n",
       "      <td>...</td>\n",
       "      <td>2866</td>\n",
       "      <td>2219</td>\n",
       "      <td>2216</td>\n",
       "      <td>1227</td>\n",
       "      <td>306</td>\n",
       "      <td>1098</td>\n",
       "      <td>5285.0</td>\n",
       "      <td>1.262652e+06</td>\n",
       "      <td>2</td>\n",
       "      <td>2</td>\n",
       "    </tr>\n",
       "    <tr>\n",
       "      <th>452</th>\n",
       "      <td>355030207</td>\n",
       "      <td>Vila Suzana</td>\n",
       "      <td>São Paulo</td>\n",
       "      <td>SP</td>\n",
       "      <td>35403</td>\n",
       "      <td>4127</td>\n",
       "      <td>1890</td>\n",
       "      <td>2678</td>\n",
       "      <td>2433</td>\n",
       "      <td>5855</td>\n",
       "      <td>...</td>\n",
       "      <td>2458</td>\n",
       "      <td>1186</td>\n",
       "      <td>1166</td>\n",
       "      <td>918</td>\n",
       "      <td>209</td>\n",
       "      <td>3840</td>\n",
       "      <td>7418.0</td>\n",
       "      <td>1.467358e+06</td>\n",
       "      <td>2</td>\n",
       "      <td>2</td>\n",
       "    </tr>\n",
       "    <tr>\n",
       "      <th>453</th>\n",
       "      <td>355030162</td>\n",
       "      <td>Vila Terezinha</td>\n",
       "      <td>São Paulo</td>\n",
       "      <td>SP</td>\n",
       "      <td>122359</td>\n",
       "      <td>18304</td>\n",
       "      <td>9304</td>\n",
       "      <td>13258</td>\n",
       "      <td>9965</td>\n",
       "      <td>19248</td>\n",
       "      <td>...</td>\n",
       "      <td>1758</td>\n",
       "      <td>4517</td>\n",
       "      <td>9450</td>\n",
       "      <td>11473</td>\n",
       "      <td>3218</td>\n",
       "      <td>7540</td>\n",
       "      <td>1252.0</td>\n",
       "      <td>7.132221e+04</td>\n",
       "      <td>1</td>\n",
       "      <td>0</td>\n",
       "    </tr>\n",
       "    <tr>\n",
       "      <th>454</th>\n",
       "      <td>355030157</td>\n",
       "      <td>Vila Zatt</td>\n",
       "      <td>São Paulo</td>\n",
       "      <td>SP</td>\n",
       "      <td>125864</td>\n",
       "      <td>14670</td>\n",
       "      <td>7305</td>\n",
       "      <td>11225</td>\n",
       "      <td>9338</td>\n",
       "      <td>18841</td>\n",
       "      <td>...</td>\n",
       "      <td>5093</td>\n",
       "      <td>8063</td>\n",
       "      <td>10012</td>\n",
       "      <td>8082</td>\n",
       "      <td>2856</td>\n",
       "      <td>6853</td>\n",
       "      <td>1936.0</td>\n",
       "      <td>1.078105e+05</td>\n",
       "      <td>2</td>\n",
       "      <td>0</td>\n",
       "    </tr>\n",
       "    <tr>\n",
       "      <th>455</th>\n",
       "      <td>355030164</td>\n",
       "      <td>Vista Alegre</td>\n",
       "      <td>São Paulo</td>\n",
       "      <td>SP</td>\n",
       "      <td>106</td>\n",
       "      <td>23</td>\n",
       "      <td>7</td>\n",
       "      <td>15</td>\n",
       "      <td>11</td>\n",
       "      <td>15</td>\n",
       "      <td>...</td>\n",
       "      <td>0</td>\n",
       "      <td>6</td>\n",
       "      <td>9</td>\n",
       "      <td>8</td>\n",
       "      <td>2</td>\n",
       "      <td>4</td>\n",
       "      <td>1288.0</td>\n",
       "      <td>8.368932e+05</td>\n",
       "      <td>0</td>\n",
       "      <td>3</td>\n",
       "    </tr>\n",
       "  </tbody>\n",
       "</table>\n",
       "<p>296 rows × 25 columns</p>\n",
       "</div>"
      ],
      "text/plain": [
       "        codigo            nome     cidade estado  população  pop_ate9  \\\n",
       "160  355030251  A. E. Carvalho  São Paulo     SP      94034     12668   \n",
       "161   35503020       Aclimação  São Paulo     SP      32791      2297   \n",
       "162  355030285      Adventista  São Paulo     SP     104193     15070   \n",
       "163   35503088     Água Branca  São Paulo     SP      12721       953   \n",
       "164   35503066      Água Funda  São Paulo     SP      48417      5078   \n",
       "..         ...             ...        ...    ...        ...       ...   \n",
       "451  355030213      Vila Sônia  São Paulo     SP      34061      2908   \n",
       "452  355030207     Vila Suzana  São Paulo     SP      35403      4127   \n",
       "453  355030162  Vila Terezinha  São Paulo     SP     122359     18304   \n",
       "454  355030157       Vila Zatt  São Paulo     SP     125864     14670   \n",
       "455  355030164    Vista Alegre  São Paulo     SP        106        23   \n",
       "\n",
       "     pop_de10a14  pop_de15a19  pop_de20a24  pop_de25a34  ...  domicilios_b1  \\\n",
       "160         6853         9836         7487        14535  ...           2197   \n",
       "161         1017         2096         2197         5341  ...           3704   \n",
       "162         7343        10631         8657        17749  ...           1423   \n",
       "163          343          627          819         2142  ...           1558   \n",
       "164         2396         4018         3571         7388  ...           1794   \n",
       "..           ...          ...          ...          ...  ...            ...   \n",
       "451         1462         2253         2076         4579  ...           2866   \n",
       "452         1890         2678         2433         5855  ...           2458   \n",
       "453         9304        13258         9965        19248  ...           1758   \n",
       "454         7305        11225         9338        18841  ...           5093   \n",
       "455            7           15           11           15  ...              0   \n",
       "\n",
       "     domicilios_b2  domicilios_c1  domicilios_c2  domicilios_d  domicilios_e  \\\n",
       "160           4368           6681           7011          2247          5670   \n",
       "161           2351           1946            827           291          1617   \n",
       "162           4875           8595          10082          3111          5776   \n",
       "163           1032            915            361            84           404   \n",
       "164           2986           4489           2836          1104          2553   \n",
       "..             ...            ...            ...           ...           ...   \n",
       "451           2219           2216           1227           306          1098   \n",
       "452           1186           1166            918           209          3840   \n",
       "453           4517           9450          11473          3218          7540   \n",
       "454           8063          10012           8082          2856          6853   \n",
       "455              6              9              8             2             4   \n",
       "\n",
       "     renda_media   faturamento  potencial  clusters  \n",
       "160       1501.0  2.402675e+05          2         0  \n",
       "161       5920.0  1.525346e+06          2         2  \n",
       "162       1284.0  1.860776e+05          1         0  \n",
       "163       6278.0  1.267278e+06          2         2  \n",
       "164       1905.0  7.460072e+05          2         3  \n",
       "..           ...           ...        ...       ...  \n",
       "451       5285.0  1.262652e+06          2         2  \n",
       "452       7418.0  1.467358e+06          2         2  \n",
       "453       1252.0  7.132221e+04          1         0  \n",
       "454       1936.0  1.078105e+05          2         0  \n",
       "455       1288.0  8.368932e+05          0         3  \n",
       "\n",
       "[296 rows x 25 columns]"
      ]
     },
     "execution_count": 216,
     "metadata": {},
     "output_type": "execute_result"
    }
   ],
   "source": [
    "df14"
   ]
  },
  {
   "cell_type": "code",
   "execution_count": 217,
   "id": "c8ac9146",
   "metadata": {
    "ExecuteTime": {
     "end_time": "2023-07-03T17:37:39.019969Z",
     "start_time": "2023-07-03T17:37:39.005426Z"
    }
   },
   "outputs": [
    {
     "data": {
      "text/plain": [
       "Index(['codigo', 'nome', 'cidade', 'estado', 'população', 'pop_ate9',\n",
       "       'pop_de10a14', 'pop_de15a19', 'pop_de20a24', 'pop_de25a34',\n",
       "       'pop_de35a49', 'pop_de50a59', 'pop_mais_de60', 'domicilios_a1',\n",
       "       'domicilios_a2', 'domicilios_b1', 'domicilios_b2', 'domicilios_c1',\n",
       "       'domicilios_c2', 'domicilios_d', 'domicilios_e', 'renda_media',\n",
       "       'faturamento', 'potencial', 'clusters'],\n",
       "      dtype='object')"
      ]
     },
     "execution_count": 217,
     "metadata": {},
     "output_type": "execute_result"
    }
   ],
   "source": [
    "df14.columns"
   ]
  },
  {
   "cell_type": "code",
   "execution_count": 218,
   "id": "64920c2c",
   "metadata": {
    "ExecuteTime": {
     "end_time": "2023-07-03T17:37:39.314610Z",
     "start_time": "2023-07-03T17:37:39.298356Z"
    }
   },
   "outputs": [],
   "source": [
    "df_renda = df14.loc[:,['clusters','renda_media',]].groupby('clusters').mean().reset_index()\n",
    "\n",
    "df_idade1 = df14.loc[:,['clusters','pop_de25a34',]].groupby('clusters').mean().reset_index()\n",
    "\n",
    "df_idade2 = df14.loc[:,['clusters','pop_de35a49',]].groupby('clusters').mean().reset_index()\n",
    "\n",
    "df_fat = df14.loc[:,['clusters','faturamento']].groupby('clusters').mean().reset_index()\n",
    "\n",
    "df_resume = (pd.merge(df_renda, df_idade1, on='clusters', how='left')\n",
    "              .merge(df_idade2, on='clusters', how='left')\n",
    "              .merge(df_fat, on='clusters', how='left'))"
   ]
  },
  {
   "cell_type": "code",
   "execution_count": 219,
   "id": "3c356a79",
   "metadata": {
    "ExecuteTime": {
     "end_time": "2023-07-03T17:37:39.857633Z",
     "start_time": "2023-07-03T17:37:39.846892Z"
    }
   },
   "outputs": [
    {
     "data": {
      "text/html": [
       "<div>\n",
       "<style scoped>\n",
       "    .dataframe tbody tr th:only-of-type {\n",
       "        vertical-align: middle;\n",
       "    }\n",
       "\n",
       "    .dataframe tbody tr th {\n",
       "        vertical-align: top;\n",
       "    }\n",
       "\n",
       "    .dataframe thead th {\n",
       "        text-align: right;\n",
       "    }\n",
       "</style>\n",
       "<table border=\"1\" class=\"dataframe\">\n",
       "  <thead>\n",
       "    <tr style=\"text-align: right;\">\n",
       "      <th></th>\n",
       "      <th>clusters</th>\n",
       "      <th>renda_media</th>\n",
       "      <th>pop_de25a34</th>\n",
       "      <th>pop_de35a49</th>\n",
       "      <th>faturamento</th>\n",
       "    </tr>\n",
       "  </thead>\n",
       "  <tbody>\n",
       "    <tr>\n",
       "      <th>0</th>\n",
       "      <td>0</td>\n",
       "      <td>1372.370968</td>\n",
       "      <td>14716.064516</td>\n",
       "      <td>20404.435484</td>\n",
       "      <td>2.639761e+05</td>\n",
       "    </tr>\n",
       "    <tr>\n",
       "      <th>1</th>\n",
       "      <td>1</td>\n",
       "      <td>4390.906795</td>\n",
       "      <td>3210.036364</td>\n",
       "      <td>4514.563636</td>\n",
       "      <td>1.015218e+06</td>\n",
       "    </tr>\n",
       "    <tr>\n",
       "      <th>2</th>\n",
       "      <td>2</td>\n",
       "      <td>8427.903614</td>\n",
       "      <td>4082.108434</td>\n",
       "      <td>6069.734940</td>\n",
       "      <td>1.405266e+06</td>\n",
       "    </tr>\n",
       "    <tr>\n",
       "      <th>3</th>\n",
       "      <td>3</td>\n",
       "      <td>1810.104167</td>\n",
       "      <td>4985.687500</td>\n",
       "      <td>7162.354167</td>\n",
       "      <td>7.999047e+05</td>\n",
       "    </tr>\n",
       "  </tbody>\n",
       "</table>\n",
       "</div>"
      ],
      "text/plain": [
       "   clusters  renda_media   pop_de25a34   pop_de35a49   faturamento\n",
       "0         0  1372.370968  14716.064516  20404.435484  2.639761e+05\n",
       "1         1  4390.906795   3210.036364   4514.563636  1.015218e+06\n",
       "2         2  8427.903614   4082.108434   6069.734940  1.405266e+06\n",
       "3         3  1810.104167   4985.687500   7162.354167  7.999047e+05"
      ]
     },
     "execution_count": 219,
     "metadata": {},
     "output_type": "execute_result"
    }
   ],
   "source": [
    "df_resume"
   ]
  },
  {
   "cell_type": "code",
   "execution_count": 220,
   "id": "b7e7c0c4",
   "metadata": {
    "ExecuteTime": {
     "end_time": "2023-07-03T17:38:07.123124Z",
     "start_time": "2023-07-03T17:38:07.103872Z"
    }
   },
   "outputs": [
    {
     "data": {
      "text/html": [
       "<div>\n",
       "<style scoped>\n",
       "    .dataframe tbody tr th:only-of-type {\n",
       "        vertical-align: middle;\n",
       "    }\n",
       "\n",
       "    .dataframe tbody tr th {\n",
       "        vertical-align: top;\n",
       "    }\n",
       "\n",
       "    .dataframe thead th {\n",
       "        text-align: right;\n",
       "    }\n",
       "</style>\n",
       "<table border=\"1\" class=\"dataframe\">\n",
       "  <thead>\n",
       "    <tr style=\"text-align: right;\">\n",
       "      <th></th>\n",
       "      <th>nome</th>\n",
       "      <th>potencial</th>\n",
       "    </tr>\n",
       "  </thead>\n",
       "  <tbody>\n",
       "    <tr>\n",
       "      <th>161</th>\n",
       "      <td>Aclimação</td>\n",
       "      <td>2</td>\n",
       "    </tr>\n",
       "    <tr>\n",
       "      <th>163</th>\n",
       "      <td>Água Branca</td>\n",
       "      <td>2</td>\n",
       "    </tr>\n",
       "    <tr>\n",
       "      <th>165</th>\n",
       "      <td>Água Rasa</td>\n",
       "      <td>2</td>\n",
       "    </tr>\n",
       "    <tr>\n",
       "      <th>167</th>\n",
       "      <td>Alfredo Pujol</td>\n",
       "      <td>2</td>\n",
       "    </tr>\n",
       "    <tr>\n",
       "      <th>168</th>\n",
       "      <td>Alto Da Lapa</td>\n",
       "      <td>2</td>\n",
       "    </tr>\n",
       "    <tr>\n",
       "      <th>...</th>\n",
       "      <td>...</td>\n",
       "      <td>...</td>\n",
       "    </tr>\n",
       "    <tr>\n",
       "      <th>443</th>\n",
       "      <td>Vila Olímpia</td>\n",
       "      <td>2</td>\n",
       "    </tr>\n",
       "    <tr>\n",
       "      <th>445</th>\n",
       "      <td>Vila Prudente</td>\n",
       "      <td>2</td>\n",
       "    </tr>\n",
       "    <tr>\n",
       "      <th>448</th>\n",
       "      <td>Vila Santa Catarina</td>\n",
       "      <td>2</td>\n",
       "    </tr>\n",
       "    <tr>\n",
       "      <th>451</th>\n",
       "      <td>Vila Sônia</td>\n",
       "      <td>2</td>\n",
       "    </tr>\n",
       "    <tr>\n",
       "      <th>452</th>\n",
       "      <td>Vila Suzana</td>\n",
       "      <td>2</td>\n",
       "    </tr>\n",
       "  </tbody>\n",
       "</table>\n",
       "<p>83 rows × 2 columns</p>\n",
       "</div>"
      ],
      "text/plain": [
       "                    nome  potencial\n",
       "161            Aclimação          2\n",
       "163          Água Branca          2\n",
       "165            Água Rasa          2\n",
       "167        Alfredo Pujol          2\n",
       "168         Alto Da Lapa          2\n",
       "..                   ...        ...\n",
       "443         Vila Olímpia          2\n",
       "445        Vila Prudente          2\n",
       "448  Vila Santa Catarina          2\n",
       "451           Vila Sônia          2\n",
       "452          Vila Suzana          2\n",
       "\n",
       "[83 rows x 2 columns]"
      ]
     },
     "execution_count": 220,
     "metadata": {},
     "output_type": "execute_result"
    }
   ],
   "source": [
    "df14.loc[df14['clusters'] == 2,['nome','potencial']]"
   ]
  },
  {
   "cell_type": "code",
   "execution_count": null,
   "id": "a7264dc3",
   "metadata": {},
   "outputs": [],
   "source": []
  },
  {
   "cell_type": "code",
   "execution_count": null,
   "id": "a6db3b20",
   "metadata": {},
   "outputs": [],
   "source": []
  }
 ],
 "metadata": {
  "kernelspec": {
   "display_name": "Python 3 (ipykernel)",
   "language": "python",
   "name": "python3"
  },
  "language_info": {
   "codemirror_mode": {
    "name": "ipython",
    "version": 3
   },
   "file_extension": ".py",
   "mimetype": "text/x-python",
   "name": "python",
   "nbconvert_exporter": "python",
   "pygments_lexer": "ipython3",
   "version": "3.10.11"
  }
 },
 "nbformat": 4,
 "nbformat_minor": 5
}
